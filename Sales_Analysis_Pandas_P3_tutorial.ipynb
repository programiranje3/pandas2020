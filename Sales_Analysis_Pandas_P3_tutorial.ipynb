{
 "cells": [
  {
   "cell_type": "markdown",
   "metadata": {},
   "source": [
    "# Introduction to Pandas\n",
    "\n",
    "This tutorial is partially based on the [\"Solving real world data science tasks with Python Pandas!\"](https://github.com/KeithGalli/Pandas-Data-Science-Tasks) tutorial, by Keith Galli.\n",
    "\n",
    "The [Sales dataset](https://github.com/KeithGalli/Pandas-Data-Science-Tasks/tree/master/SalesAnalysis/Sales_Data) used in this tutorial comes from the aforementioned Keith's tutorial."
   ]
  },
  {
   "cell_type": "markdown",
   "metadata": {},
   "source": [
    "## Import necessary libraries"
   ]
  },
  {
   "cell_type": "code",
   "execution_count": 1,
   "metadata": {},
   "outputs": [],
   "source": [
    "import pandas as pd\n",
    "import matplotlib.pyplot as plt\n",
    "\n",
    "from pathlib import Path"
   ]
  },
  {
   "cell_type": "markdown",
   "metadata": {},
   "source": [
    "## Load and explore sales data for one month "
   ]
  },
  {
   "cell_type": "markdown",
   "metadata": {},
   "source": [
    "### Load sales data from a csv file\n",
    "\n",
    "The data is stored in the 'sales_data' directory, within the 'data' directory. We'll start by creating a function for accessing the sales data directory."
   ]
  },
  {
   "cell_type": "code",
   "execution_count": 2,
   "metadata": {},
   "outputs": [],
   "source": [
    "def get_data_dir():\n",
    "    data_dir = Path.cwd() / \"data\" / \"sales_data\"\n",
    "    if not data_dir.exists(): data_dir.mkdir()\n",
    "    return data_dir"
   ]
  },
  {
   "cell_type": "code",
   "execution_count": 3,
   "metadata": {},
   "outputs": [
    {
     "name": "stdout",
     "output_type": "stream",
     "text": [
      "/Users/Jelena/Learning/Pandas/P3 tutorial/data/sales_data\n"
     ]
    }
   ],
   "source": [
    "print(get_data_dir())"
   ]
  },
  {
   "cell_type": "code",
   "execution_count": 4,
   "metadata": {},
   "outputs": [
    {
     "data": {
      "text/html": [
       "<div>\n",
       "<style scoped>\n",
       "    .dataframe tbody tr th:only-of-type {\n",
       "        vertical-align: middle;\n",
       "    }\n",
       "\n",
       "    .dataframe tbody tr th {\n",
       "        vertical-align: top;\n",
       "    }\n",
       "\n",
       "    .dataframe thead th {\n",
       "        text-align: right;\n",
       "    }\n",
       "</style>\n",
       "<table border=\"1\" class=\"dataframe\">\n",
       "  <thead>\n",
       "    <tr style=\"text-align: right;\">\n",
       "      <th></th>\n",
       "      <th>Order ID</th>\n",
       "      <th>Product</th>\n",
       "      <th>Quantity Ordered</th>\n",
       "      <th>Price Each</th>\n",
       "      <th>Order Date</th>\n",
       "      <th>Purchase Address</th>\n",
       "    </tr>\n",
       "  </thead>\n",
       "  <tbody>\n",
       "    <tr>\n",
       "      <th>0</th>\n",
       "      <td>141234</td>\n",
       "      <td>iPhone</td>\n",
       "      <td>1</td>\n",
       "      <td>700</td>\n",
       "      <td>01/22/19 21:25</td>\n",
       "      <td>944 Walnut St, Boston, MA 02215</td>\n",
       "    </tr>\n",
       "    <tr>\n",
       "      <th>1</th>\n",
       "      <td>141235</td>\n",
       "      <td>Lightning Charging Cable</td>\n",
       "      <td>1</td>\n",
       "      <td>14.95</td>\n",
       "      <td>01/28/19 14:15</td>\n",
       "      <td>185 Maple St, Portland, OR 97035</td>\n",
       "    </tr>\n",
       "    <tr>\n",
       "      <th>2</th>\n",
       "      <td>141236</td>\n",
       "      <td>Wired Headphones</td>\n",
       "      <td>2</td>\n",
       "      <td>11.99</td>\n",
       "      <td>01/17/19 13:33</td>\n",
       "      <td>538 Adams St, San Francisco, CA 94016</td>\n",
       "    </tr>\n",
       "    <tr>\n",
       "      <th>3</th>\n",
       "      <td>141237</td>\n",
       "      <td>27in FHD Monitor</td>\n",
       "      <td>1</td>\n",
       "      <td>149.99</td>\n",
       "      <td>01/05/19 20:33</td>\n",
       "      <td>738 10th St, Los Angeles, CA 90001</td>\n",
       "    </tr>\n",
       "    <tr>\n",
       "      <th>4</th>\n",
       "      <td>141238</td>\n",
       "      <td>Wired Headphones</td>\n",
       "      <td>1</td>\n",
       "      <td>11.99</td>\n",
       "      <td>01/25/19 11:59</td>\n",
       "      <td>387 10th St, Austin, TX 73301</td>\n",
       "    </tr>\n",
       "  </tbody>\n",
       "</table>\n",
       "</div>"
      ],
      "text/plain": [
       "  Order ID                   Product Quantity Ordered Price Each  \\\n",
       "0   141234                    iPhone                1        700   \n",
       "1   141235  Lightning Charging Cable                1      14.95   \n",
       "2   141236          Wired Headphones                2      11.99   \n",
       "3   141237          27in FHD Monitor                1     149.99   \n",
       "4   141238          Wired Headphones                1      11.99   \n",
       "\n",
       "       Order Date                       Purchase Address  \n",
       "0  01/22/19 21:25        944 Walnut St, Boston, MA 02215  \n",
       "1  01/28/19 14:15       185 Maple St, Portland, OR 97035  \n",
       "2  01/17/19 13:33  538 Adams St, San Francisco, CA 94016  \n",
       "3  01/05/19 20:33     738 10th St, Los Angeles, CA 90001  \n",
       "4  01/25/19 11:59          387 10th St, Austin, TX 73301  "
      ]
     },
     "execution_count": 4,
     "metadata": {},
     "output_type": "execute_result"
    }
   ],
   "source": [
    "jan_sales = pd.read_csv(get_data_dir() / 'Sales_January_2019.csv')\n",
    "jan_sales.head()"
   ]
  },
  {
   "cell_type": "markdown",
   "metadata": {},
   "source": [
    "### Explore the loaded data"
   ]
  },
  {
   "cell_type": "markdown",
   "metadata": {},
   "source": [
    "First, get the size of the dataframe (df), that is, the number of rows and columns"
   ]
  },
  {
   "cell_type": "code",
   "execution_count": 5,
   "metadata": {},
   "outputs": [
    {
     "data": {
      "text/plain": [
       "(9723, 6)"
      ]
     },
     "execution_count": 5,
     "metadata": {},
     "output_type": "execute_result"
    }
   ],
   "source": [
    "jan_sales.shape"
   ]
  },
  {
   "cell_type": "markdown",
   "metadata": {},
   "source": [
    "Access columns' names"
   ]
  },
  {
   "cell_type": "code",
   "execution_count": 6,
   "metadata": {},
   "outputs": [
    {
     "data": {
      "text/plain": [
       "array(['Order ID', 'Product', 'Quantity Ordered', 'Price Each',\n",
       "       'Order Date', 'Purchase Address'], dtype=object)"
      ]
     },
     "execution_count": 6,
     "metadata": {},
     "output_type": "execute_result"
    }
   ],
   "source": [
    "jan_sales.columns.values"
   ]
  },
  {
   "cell_type": "markdown",
   "metadata": {},
   "source": [
    "Examine the columns' data types"
   ]
  },
  {
   "cell_type": "code",
   "execution_count": 7,
   "metadata": {},
   "outputs": [
    {
     "data": {
      "text/plain": [
       "Order ID            object\n",
       "Product             object\n",
       "Quantity Ordered    object\n",
       "Price Each          object\n",
       "Order Date          object\n",
       "Purchase Address    object\n",
       "dtype: object"
      ]
     },
     "execution_count": 7,
     "metadata": {},
     "output_type": "execute_result"
    }
   ],
   "source": [
    "jan_sales.dtypes"
   ]
  },
  {
   "cell_type": "markdown",
   "metadata": {},
   "source": [
    "Get a complete set of information about the df"
   ]
  },
  {
   "cell_type": "code",
   "execution_count": 8,
   "metadata": {},
   "outputs": [
    {
     "name": "stdout",
     "output_type": "stream",
     "text": [
      "<class 'pandas.core.frame.DataFrame'>\n",
      "RangeIndex: 9723 entries, 0 to 9722\n",
      "Data columns (total 6 columns):\n",
      " #   Column            Non-Null Count  Dtype \n",
      "---  ------            --------------  ----- \n",
      " 0   Order ID          9697 non-null   object\n",
      " 1   Product           9697 non-null   object\n",
      " 2   Quantity Ordered  9697 non-null   object\n",
      " 3   Price Each        9697 non-null   object\n",
      " 4   Order Date        9697 non-null   object\n",
      " 5   Purchase Address  9697 non-null   object\n",
      "dtypes: object(6)\n",
      "memory usage: 455.9+ KB\n"
     ]
    }
   ],
   "source": [
    "jan_sales.info()"
   ]
  },
  {
   "cell_type": "markdown",
   "metadata": {},
   "source": [
    "### Examine the missing values\n",
    "\n",
    "Note the use of the `isna()` method"
   ]
  },
  {
   "cell_type": "code",
   "execution_count": 9,
   "metadata": {},
   "outputs": [
    {
     "data": {
      "text/plain": [
       "Order ID            26\n",
       "Product             26\n",
       "Quantity Ordered    26\n",
       "Price Each          26\n",
       "Order Date          26\n",
       "Purchase Address    26\n",
       "dtype: int64"
      ]
     },
     "execution_count": 9,
     "metadata": {},
     "output_type": "execute_result"
    }
   ],
   "source": [
    "jan_sales.isna().sum()"
   ]
  },
  {
   "cell_type": "markdown",
   "metadata": {},
   "source": [
    "#### Remove rows with all missing values\n",
    "\n",
    "Note the use of the `dropna()` method"
   ]
  },
  {
   "cell_type": "code",
   "execution_count": 10,
   "metadata": {},
   "outputs": [],
   "source": [
    "jan_sales.dropna(how='all', inplace=True)"
   ]
  },
  {
   "cell_type": "code",
   "execution_count": 11,
   "metadata": {},
   "outputs": [
    {
     "data": {
      "text/plain": [
       "0"
      ]
     },
     "execution_count": 11,
     "metadata": {},
     "output_type": "execute_result"
    }
   ],
   "source": [
    "jan_sales.isna().sum().sum()"
   ]
  },
  {
   "cell_type": "markdown",
   "metadata": {},
   "source": [
    "### Subset the data frame or select particular rows / columns\n",
    "\n",
    "This can be done in different ways; the recommended practice is to use Dataframe methods `loc` or `iloc`.\n",
    "\n",
    "When doing the selection based on the ordinal number of rows and columns, `iloc` should be used.\n",
    "\n",
    "When the selection is to be based on a condition to be evaluated against rows and / or columns are to be selected based on their names, `loc` should be used. "
   ]
  },
  {
   "cell_type": "markdown",
   "metadata": {},
   "source": [
    "**Example 1**: select first 3 columns and first 6 rows"
   ]
  },
  {
   "cell_type": "code",
   "execution_count": 12,
   "metadata": {},
   "outputs": [
    {
     "data": {
      "text/html": [
       "<div>\n",
       "<style scoped>\n",
       "    .dataframe tbody tr th:only-of-type {\n",
       "        vertical-align: middle;\n",
       "    }\n",
       "\n",
       "    .dataframe tbody tr th {\n",
       "        vertical-align: top;\n",
       "    }\n",
       "\n",
       "    .dataframe thead th {\n",
       "        text-align: right;\n",
       "    }\n",
       "</style>\n",
       "<table border=\"1\" class=\"dataframe\">\n",
       "  <thead>\n",
       "    <tr style=\"text-align: right;\">\n",
       "      <th></th>\n",
       "      <th>Order ID</th>\n",
       "      <th>Product</th>\n",
       "      <th>Quantity Ordered</th>\n",
       "    </tr>\n",
       "  </thead>\n",
       "  <tbody>\n",
       "    <tr>\n",
       "      <th>0</th>\n",
       "      <td>141234</td>\n",
       "      <td>iPhone</td>\n",
       "      <td>1</td>\n",
       "    </tr>\n",
       "    <tr>\n",
       "      <th>1</th>\n",
       "      <td>141235</td>\n",
       "      <td>Lightning Charging Cable</td>\n",
       "      <td>1</td>\n",
       "    </tr>\n",
       "    <tr>\n",
       "      <th>2</th>\n",
       "      <td>141236</td>\n",
       "      <td>Wired Headphones</td>\n",
       "      <td>2</td>\n",
       "    </tr>\n",
       "    <tr>\n",
       "      <th>3</th>\n",
       "      <td>141237</td>\n",
       "      <td>27in FHD Monitor</td>\n",
       "      <td>1</td>\n",
       "    </tr>\n",
       "    <tr>\n",
       "      <th>4</th>\n",
       "      <td>141238</td>\n",
       "      <td>Wired Headphones</td>\n",
       "      <td>1</td>\n",
       "    </tr>\n",
       "    <tr>\n",
       "      <th>5</th>\n",
       "      <td>141239</td>\n",
       "      <td>AAA Batteries (4-pack)</td>\n",
       "      <td>1</td>\n",
       "    </tr>\n",
       "  </tbody>\n",
       "</table>\n",
       "</div>"
      ],
      "text/plain": [
       "  Order ID                   Product Quantity Ordered\n",
       "0   141234                    iPhone                1\n",
       "1   141235  Lightning Charging Cable                1\n",
       "2   141236          Wired Headphones                2\n",
       "3   141237          27in FHD Monitor                1\n",
       "4   141238          Wired Headphones                1\n",
       "5   141239    AAA Batteries (4-pack)                1"
      ]
     },
     "execution_count": 12,
     "metadata": {},
     "output_type": "execute_result"
    }
   ],
   "source": [
    "jan_sales.iloc[:6, :3]"
   ]
  },
  {
   "cell_type": "markdown",
   "metadata": {},
   "source": [
    "**Example 2**: select the last 5 rows and 1st, 2nd and 5th column"
   ]
  },
  {
   "cell_type": "code",
   "execution_count": 13,
   "metadata": {},
   "outputs": [
    {
     "data": {
      "text/html": [
       "<div>\n",
       "<style scoped>\n",
       "    .dataframe tbody tr th:only-of-type {\n",
       "        vertical-align: middle;\n",
       "    }\n",
       "\n",
       "    .dataframe tbody tr th {\n",
       "        vertical-align: top;\n",
       "    }\n",
       "\n",
       "    .dataframe thead th {\n",
       "        text-align: right;\n",
       "    }\n",
       "</style>\n",
       "<table border=\"1\" class=\"dataframe\">\n",
       "  <thead>\n",
       "    <tr style=\"text-align: right;\">\n",
       "      <th></th>\n",
       "      <th>Order ID</th>\n",
       "      <th>Product</th>\n",
       "      <th>Order Date</th>\n",
       "    </tr>\n",
       "  </thead>\n",
       "  <tbody>\n",
       "    <tr>\n",
       "      <th>9718</th>\n",
       "      <td>150497</td>\n",
       "      <td>20in Monitor</td>\n",
       "      <td>01/26/19 19:09</td>\n",
       "    </tr>\n",
       "    <tr>\n",
       "      <th>9719</th>\n",
       "      <td>150498</td>\n",
       "      <td>27in FHD Monitor</td>\n",
       "      <td>01/10/19 22:58</td>\n",
       "    </tr>\n",
       "    <tr>\n",
       "      <th>9720</th>\n",
       "      <td>150499</td>\n",
       "      <td>ThinkPad Laptop</td>\n",
       "      <td>01/21/19 14:31</td>\n",
       "    </tr>\n",
       "    <tr>\n",
       "      <th>9721</th>\n",
       "      <td>150500</td>\n",
       "      <td>AAA Batteries (4-pack)</td>\n",
       "      <td>01/15/19 14:21</td>\n",
       "    </tr>\n",
       "    <tr>\n",
       "      <th>9722</th>\n",
       "      <td>150501</td>\n",
       "      <td>Google Phone</td>\n",
       "      <td>01/13/19 16:43</td>\n",
       "    </tr>\n",
       "  </tbody>\n",
       "</table>\n",
       "</div>"
      ],
      "text/plain": [
       "     Order ID                 Product      Order Date\n",
       "9718   150497            20in Monitor  01/26/19 19:09\n",
       "9719   150498        27in FHD Monitor  01/10/19 22:58\n",
       "9720   150499         ThinkPad Laptop  01/21/19 14:31\n",
       "9721   150500  AAA Batteries (4-pack)  01/15/19 14:21\n",
       "9722   150501            Google Phone  01/13/19 16:43"
      ]
     },
     "execution_count": 13,
     "metadata": {},
     "output_type": "execute_result"
    }
   ],
   "source": [
    "jan_sales.iloc[-5:, [0,1,4]]"
   ]
  },
  {
   "cell_type": "markdown",
   "metadata": {},
   "source": [
    "**Example 3**: Select Order ID, Order Date, and Purchase Address for orders coming from Boston\n",
    "\n",
    "Note the use of `str` to get the string value out of a pandas Series (the Purchase Address column), so that we can call any string method on it"
   ]
  },
  {
   "cell_type": "code",
   "execution_count": 14,
   "metadata": {},
   "outputs": [
    {
     "data": {
      "text/html": [
       "<div>\n",
       "<style scoped>\n",
       "    .dataframe tbody tr th:only-of-type {\n",
       "        vertical-align: middle;\n",
       "    }\n",
       "\n",
       "    .dataframe tbody tr th {\n",
       "        vertical-align: top;\n",
       "    }\n",
       "\n",
       "    .dataframe thead th {\n",
       "        text-align: right;\n",
       "    }\n",
       "</style>\n",
       "<table border=\"1\" class=\"dataframe\">\n",
       "  <thead>\n",
       "    <tr style=\"text-align: right;\">\n",
       "      <th></th>\n",
       "      <th>Order ID</th>\n",
       "      <th>Order Date</th>\n",
       "      <th>Purchase Address</th>\n",
       "    </tr>\n",
       "  </thead>\n",
       "  <tbody>\n",
       "    <tr>\n",
       "      <th>0</th>\n",
       "      <td>141234</td>\n",
       "      <td>01/22/19 21:25</td>\n",
       "      <td>944 Walnut St, Boston, MA 02215</td>\n",
       "    </tr>\n",
       "    <tr>\n",
       "      <th>17</th>\n",
       "      <td>141251</td>\n",
       "      <td>01/24/19 08:13</td>\n",
       "      <td>414 Walnut St, Boston, MA 02215</td>\n",
       "    </tr>\n",
       "    <tr>\n",
       "      <th>29</th>\n",
       "      <td>141263</td>\n",
       "      <td>01/11/19 23:33</td>\n",
       "      <td>640 Spruce St, Boston, MA 02215</td>\n",
       "    </tr>\n",
       "    <tr>\n",
       "      <th>31</th>\n",
       "      <td>141265</td>\n",
       "      <td>01/01/19 16:52</td>\n",
       "      <td>853 Ridge St, Boston, MA 02215</td>\n",
       "    </tr>\n",
       "    <tr>\n",
       "      <th>37</th>\n",
       "      <td>141271</td>\n",
       "      <td>01/30/19 10:51</td>\n",
       "      <td>90 13th St, Boston, MA 02215</td>\n",
       "    </tr>\n",
       "    <tr>\n",
       "      <th>...</th>\n",
       "      <td>...</td>\n",
       "      <td>...</td>\n",
       "      <td>...</td>\n",
       "    </tr>\n",
       "    <tr>\n",
       "      <th>9627</th>\n",
       "      <td>150409</td>\n",
       "      <td>01/10/19 02:38</td>\n",
       "      <td>410 Forest St, Boston, MA 02215</td>\n",
       "    </tr>\n",
       "    <tr>\n",
       "      <th>9660</th>\n",
       "      <td>150440</td>\n",
       "      <td>01/10/19 19:19</td>\n",
       "      <td>82 Johnson St, Boston, MA 02215</td>\n",
       "    </tr>\n",
       "    <tr>\n",
       "      <th>9666</th>\n",
       "      <td>150445</td>\n",
       "      <td>01/11/19 13:56</td>\n",
       "      <td>147 Lincoln St, Boston, MA 02215</td>\n",
       "    </tr>\n",
       "    <tr>\n",
       "      <th>9694</th>\n",
       "      <td>150473</td>\n",
       "      <td>01/10/19 09:09</td>\n",
       "      <td>148 Hickory St, Boston, MA 02215</td>\n",
       "    </tr>\n",
       "    <tr>\n",
       "      <th>9722</th>\n",
       "      <td>150501</td>\n",
       "      <td>01/13/19 16:43</td>\n",
       "      <td>428 Cedar St, Boston, MA 02215</td>\n",
       "    </tr>\n",
       "  </tbody>\n",
       "</table>\n",
       "<p>1048 rows × 3 columns</p>\n",
       "</div>"
      ],
      "text/plain": [
       "     Order ID      Order Date                  Purchase Address\n",
       "0      141234  01/22/19 21:25   944 Walnut St, Boston, MA 02215\n",
       "17     141251  01/24/19 08:13   414 Walnut St, Boston, MA 02215\n",
       "29     141263  01/11/19 23:33   640 Spruce St, Boston, MA 02215\n",
       "31     141265  01/01/19 16:52    853 Ridge St, Boston, MA 02215\n",
       "37     141271  01/30/19 10:51      90 13th St, Boston, MA 02215\n",
       "...       ...             ...                               ...\n",
       "9627   150409  01/10/19 02:38   410 Forest St, Boston, MA 02215\n",
       "9660   150440  01/10/19 19:19   82 Johnson St, Boston, MA 02215\n",
       "9666   150445  01/11/19 13:56  147 Lincoln St, Boston, MA 02215\n",
       "9694   150473  01/10/19 09:09  148 Hickory St, Boston, MA 02215\n",
       "9722   150501  01/13/19 16:43    428 Cedar St, Boston, MA 02215\n",
       "\n",
       "[1048 rows x 3 columns]"
      ]
     },
     "execution_count": 14,
     "metadata": {},
     "output_type": "execute_result"
    }
   ],
   "source": [
    "jan_sales.loc[jan_sales['Purchase Address'].str.contains('Boston'), ['Order ID', 'Order Date', 'Purchase Address']]"
   ]
  },
  {
   "cell_type": "markdown",
   "metadata": {},
   "source": [
    "**Example 4**: Select Order ID, Product and Price Each for orders where the ordered quantity is at least 3\n",
    "\n",
    "Note that even though the Quantity Ordered column stores numeric information, its values are encoded as strings: "
   ]
  },
  {
   "cell_type": "code",
   "execution_count": 15,
   "metadata": {},
   "outputs": [
    {
     "data": {
      "text/plain": [
       "str"
      ]
     },
     "execution_count": 15,
     "metadata": {},
     "output_type": "execute_result"
    }
   ],
   "source": [
    "type(jan_sales['Quantity Ordered'][0])"
   ]
  },
  {
   "cell_type": "markdown",
   "metadata": {},
   "source": [
    "So, we first need to transform the Quantity Ordered column to numeric type. <br>To that end, we use `pd.to_numeric()` function:"
   ]
  },
  {
   "cell_type": "code",
   "execution_count": 16,
   "metadata": {},
   "outputs": [],
   "source": [
    "jan_sales['Quantity Ordered'] = pd.to_numeric(jan_sales['Quantity Ordered'], errors='coerce')"
   ]
  },
  {
   "cell_type": "markdown",
   "metadata": {},
   "source": [
    "Now, we can do the intended selection:"
   ]
  },
  {
   "cell_type": "code",
   "execution_count": 17,
   "metadata": {},
   "outputs": [
    {
     "data": {
      "text/html": [
       "<div>\n",
       "<style scoped>\n",
       "    .dataframe tbody tr th:only-of-type {\n",
       "        vertical-align: middle;\n",
       "    }\n",
       "\n",
       "    .dataframe tbody tr th {\n",
       "        vertical-align: top;\n",
       "    }\n",
       "\n",
       "    .dataframe thead th {\n",
       "        text-align: right;\n",
       "    }\n",
       "</style>\n",
       "<table border=\"1\" class=\"dataframe\">\n",
       "  <thead>\n",
       "    <tr style=\"text-align: right;\">\n",
       "      <th></th>\n",
       "      <th>Order ID</th>\n",
       "      <th>Price Each</th>\n",
       "      <th>Product</th>\n",
       "    </tr>\n",
       "  </thead>\n",
       "  <tbody>\n",
       "    <tr>\n",
       "      <th>12</th>\n",
       "      <td>141246</td>\n",
       "      <td>2.99</td>\n",
       "      <td>AAA Batteries (4-pack)</td>\n",
       "    </tr>\n",
       "    <tr>\n",
       "      <th>52</th>\n",
       "      <td>141285</td>\n",
       "      <td>2.99</td>\n",
       "      <td>AAA Batteries (4-pack)</td>\n",
       "    </tr>\n",
       "    <tr>\n",
       "      <th>58</th>\n",
       "      <td>141290</td>\n",
       "      <td>3.84</td>\n",
       "      <td>AA Batteries (4-pack)</td>\n",
       "    </tr>\n",
       "    <tr>\n",
       "      <th>73</th>\n",
       "      <td>141305</td>\n",
       "      <td>2.99</td>\n",
       "      <td>AAA Batteries (4-pack)</td>\n",
       "    </tr>\n",
       "    <tr>\n",
       "      <th>84</th>\n",
       "      <td>141316</td>\n",
       "      <td>2.99</td>\n",
       "      <td>AAA Batteries (4-pack)</td>\n",
       "    </tr>\n",
       "    <tr>\n",
       "      <th>...</th>\n",
       "      <td>...</td>\n",
       "      <td>...</td>\n",
       "      <td>...</td>\n",
       "    </tr>\n",
       "    <tr>\n",
       "      <th>9513</th>\n",
       "      <td>150299</td>\n",
       "      <td>3.84</td>\n",
       "      <td>AA Batteries (4-pack)</td>\n",
       "    </tr>\n",
       "    <tr>\n",
       "      <th>9590</th>\n",
       "      <td>150372</td>\n",
       "      <td>2.99</td>\n",
       "      <td>AAA Batteries (4-pack)</td>\n",
       "    </tr>\n",
       "    <tr>\n",
       "      <th>9636</th>\n",
       "      <td>150417</td>\n",
       "      <td>11.99</td>\n",
       "      <td>Wired Headphones</td>\n",
       "    </tr>\n",
       "    <tr>\n",
       "      <th>9659</th>\n",
       "      <td>150439</td>\n",
       "      <td>11.99</td>\n",
       "      <td>Wired Headphones</td>\n",
       "    </tr>\n",
       "    <tr>\n",
       "      <th>9700</th>\n",
       "      <td>150479</td>\n",
       "      <td>3.84</td>\n",
       "      <td>AA Batteries (4-pack)</td>\n",
       "    </tr>\n",
       "  </tbody>\n",
       "</table>\n",
       "<p>216 rows × 3 columns</p>\n",
       "</div>"
      ],
      "text/plain": [
       "     Order ID Price Each                 Product\n",
       "12     141246       2.99  AAA Batteries (4-pack)\n",
       "52     141285       2.99  AAA Batteries (4-pack)\n",
       "58     141290       3.84   AA Batteries (4-pack)\n",
       "73     141305       2.99  AAA Batteries (4-pack)\n",
       "84     141316       2.99  AAA Batteries (4-pack)\n",
       "...       ...        ...                     ...\n",
       "9513   150299       3.84   AA Batteries (4-pack)\n",
       "9590   150372       2.99  AAA Batteries (4-pack)\n",
       "9636   150417      11.99        Wired Headphones\n",
       "9659   150439      11.99        Wired Headphones\n",
       "9700   150479       3.84   AA Batteries (4-pack)\n",
       "\n",
       "[216 rows x 3 columns]"
      ]
     },
     "execution_count": 17,
     "metadata": {},
     "output_type": "execute_result"
    }
   ],
   "source": [
    "jan_sales.loc[jan_sales['Quantity Ordered'] >= 3, ['Order ID', 'Price Each', 'Product']]"
   ]
  },
  {
   "cell_type": "markdown",
   "metadata": {},
   "source": [
    "## Load sales data for all months in 2019 and merge them into one data set"
   ]
  },
  {
   "cell_type": "markdown",
   "metadata": {},
   "source": [
    "We need to load the sales data from all csv files (one for each month) available in the sales data directory. \n",
    "\n",
    "Let's first see how to take only .csv files from a given directory:"
   ]
  },
  {
   "cell_type": "code",
   "execution_count": 25,
   "metadata": {},
   "outputs": [
    {
     "name": "stdout",
     "output_type": "stream",
     "text": [
      "/Users/Jelena/Learning/Pandas/P3 tutorial/data/sales_data/Sales_December_2019.csv\n",
      "/Users/Jelena/Learning/Pandas/P3 tutorial/data/sales_data/Sales_April_2019.csv\n",
      "/Users/Jelena/Learning/Pandas/P3 tutorial/data/sales_data/Sales_February_2019.csv\n",
      "/Users/Jelena/Learning/Pandas/P3 tutorial/data/sales_data/Sales_March_2019.csv\n",
      "/Users/Jelena/Learning/Pandas/P3 tutorial/data/sales_data/Sales_August_2019.csv\n",
      "/Users/Jelena/Learning/Pandas/P3 tutorial/data/sales_data/Sales_May_2019.csv\n",
      "/Users/Jelena/Learning/Pandas/P3 tutorial/data/sales_data/Sales_November_2019.csv\n",
      "/Users/Jelena/Learning/Pandas/P3 tutorial/data/sales_data/Sales_October_2019.csv\n",
      "/Users/Jelena/Learning/Pandas/P3 tutorial/data/sales_data/Sales_January_2019.csv\n",
      "/Users/Jelena/Learning/Pandas/P3 tutorial/data/sales_data/Sales_September_2019.csv\n",
      "/Users/Jelena/Learning/Pandas/P3 tutorial/data/sales_data/Sales_July_2019.csv\n",
      "/Users/Jelena/Learning/Pandas/P3 tutorial/data/sales_data/Sales_June_2019.csv\n"
     ]
    }
   ],
   "source": [
    "# the glob() f. finds all the pathnames matching a specified pattern\n",
    "for f in get_data_dir().glob('*.csv'):\n",
    "    print(f)"
   ]
  },
  {
   "cell_type": "markdown",
   "metadata": {},
   "source": [
    "We'll now take each csv file in turn, load the data from it and add the loaded data into a common DataFrame that stores sales data for the whole year.\n",
    "\n",
    "To merge two DataFrames, we'll use `pd.concat` function"
   ]
  },
  {
   "cell_type": "code",
   "execution_count": 26,
   "metadata": {},
   "outputs": [
    {
     "data": {
      "text/html": [
       "<div>\n",
       "<style scoped>\n",
       "    .dataframe tbody tr th:only-of-type {\n",
       "        vertical-align: middle;\n",
       "    }\n",
       "\n",
       "    .dataframe tbody tr th {\n",
       "        vertical-align: top;\n",
       "    }\n",
       "\n",
       "    .dataframe thead th {\n",
       "        text-align: right;\n",
       "    }\n",
       "</style>\n",
       "<table border=\"1\" class=\"dataframe\">\n",
       "  <thead>\n",
       "    <tr style=\"text-align: right;\">\n",
       "      <th></th>\n",
       "      <th>Order ID</th>\n",
       "      <th>Product</th>\n",
       "      <th>Quantity Ordered</th>\n",
       "      <th>Price Each</th>\n",
       "      <th>Order Date</th>\n",
       "      <th>Purchase Address</th>\n",
       "    </tr>\n",
       "  </thead>\n",
       "  <tbody>\n",
       "    <tr>\n",
       "      <th>0</th>\n",
       "      <td>295665</td>\n",
       "      <td>Macbook Pro Laptop</td>\n",
       "      <td>1</td>\n",
       "      <td>1700</td>\n",
       "      <td>12/30/19 00:01</td>\n",
       "      <td>136 Church St, New York City, NY 10001</td>\n",
       "    </tr>\n",
       "    <tr>\n",
       "      <th>1</th>\n",
       "      <td>295666</td>\n",
       "      <td>LG Washing Machine</td>\n",
       "      <td>1</td>\n",
       "      <td>600.0</td>\n",
       "      <td>12/29/19 07:03</td>\n",
       "      <td>562 2nd St, New York City, NY 10001</td>\n",
       "    </tr>\n",
       "    <tr>\n",
       "      <th>2</th>\n",
       "      <td>295667</td>\n",
       "      <td>USB-C Charging Cable</td>\n",
       "      <td>1</td>\n",
       "      <td>11.95</td>\n",
       "      <td>12/12/19 18:21</td>\n",
       "      <td>277 Main St, New York City, NY 10001</td>\n",
       "    </tr>\n",
       "    <tr>\n",
       "      <th>3</th>\n",
       "      <td>295668</td>\n",
       "      <td>27in FHD Monitor</td>\n",
       "      <td>1</td>\n",
       "      <td>149.99</td>\n",
       "      <td>12/22/19 15:13</td>\n",
       "      <td>410 6th St, San Francisco, CA 94016</td>\n",
       "    </tr>\n",
       "    <tr>\n",
       "      <th>4</th>\n",
       "      <td>295669</td>\n",
       "      <td>USB-C Charging Cable</td>\n",
       "      <td>1</td>\n",
       "      <td>11.95</td>\n",
       "      <td>12/18/19 12:38</td>\n",
       "      <td>43 Hill St, Atlanta, GA 30301</td>\n",
       "    </tr>\n",
       "  </tbody>\n",
       "</table>\n",
       "</div>"
      ],
      "text/plain": [
       "  Order ID               Product Quantity Ordered Price Each      Order Date  \\\n",
       "0   295665    Macbook Pro Laptop                1       1700  12/30/19 00:01   \n",
       "1   295666    LG Washing Machine                1      600.0  12/29/19 07:03   \n",
       "2   295667  USB-C Charging Cable                1      11.95  12/12/19 18:21   \n",
       "3   295668      27in FHD Monitor                1     149.99  12/22/19 15:13   \n",
       "4   295669  USB-C Charging Cable                1      11.95  12/18/19 12:38   \n",
       "\n",
       "                         Purchase Address  \n",
       "0  136 Church St, New York City, NY 10001  \n",
       "1     562 2nd St, New York City, NY 10001  \n",
       "2    277 Main St, New York City, NY 10001  \n",
       "3     410 6th St, San Francisco, CA 94016  \n",
       "4           43 Hill St, Atlanta, GA 30301  "
      ]
     },
     "execution_count": 26,
     "metadata": {},
     "output_type": "execute_result"
    }
   ],
   "source": [
    "all_sales = pd.DataFrame()\n",
    "\n",
    "for sales_file in get_data_dir().glob('*.csv'):\n",
    "    sales_data = pd.read_csv(sales_file)\n",
    "    all_sales = pd.concat([all_sales, sales_data])\n",
    "\n",
    "all_sales.head()"
   ]
  },
  {
   "cell_type": "code",
   "execution_count": 27,
   "metadata": {},
   "outputs": [
    {
     "data": {
      "text/plain": [
       "(186850, 6)"
      ]
     },
     "execution_count": 27,
     "metadata": {},
     "output_type": "execute_result"
    }
   ],
   "source": [
    "all_sales.shape"
   ]
  },
  {
   "cell_type": "code",
   "execution_count": 28,
   "metadata": {},
   "outputs": [
    {
     "name": "stdout",
     "output_type": "stream",
     "text": [
      "<class 'pandas.core.frame.DataFrame'>\n",
      "Int64Index: 186850 entries, 0 to 13621\n",
      "Data columns (total 6 columns):\n",
      " #   Column            Non-Null Count   Dtype \n",
      "---  ------            --------------   ----- \n",
      " 0   Order ID          186305 non-null  object\n",
      " 1   Product           186305 non-null  object\n",
      " 2   Quantity Ordered  186305 non-null  object\n",
      " 3   Price Each        186305 non-null  object\n",
      " 4   Order Date        186305 non-null  object\n",
      " 5   Purchase Address  186305 non-null  object\n",
      "dtypes: object(6)\n",
      "memory usage: 10.0+ MB\n"
     ]
    }
   ],
   "source": [
    "all_sales.info()"
   ]
  },
  {
   "cell_type": "markdown",
   "metadata": {},
   "source": [
    "Note the difference between the number of entries and the index values. It seems that some files have overlaping indexes. To fix this, we need to reset the index of the merged data frame."
   ]
  },
  {
   "cell_type": "code",
   "execution_count": 29,
   "metadata": {},
   "outputs": [],
   "source": [
    "all_sales.reset_index(drop=True, inplace=True)"
   ]
  },
  {
   "cell_type": "code",
   "execution_count": 30,
   "metadata": {},
   "outputs": [
    {
     "name": "stdout",
     "output_type": "stream",
     "text": [
      "<class 'pandas.core.frame.DataFrame'>\n",
      "RangeIndex: 186850 entries, 0 to 186849\n",
      "Data columns (total 6 columns):\n",
      " #   Column            Non-Null Count   Dtype \n",
      "---  ------            --------------   ----- \n",
      " 0   Order ID          186305 non-null  object\n",
      " 1   Product           186305 non-null  object\n",
      " 2   Quantity Ordered  186305 non-null  object\n",
      " 3   Price Each        186305 non-null  object\n",
      " 4   Order Date        186305 non-null  object\n",
      " 5   Purchase Address  186305 non-null  object\n",
      "dtypes: object(6)\n",
      "memory usage: 8.6+ MB\n"
     ]
    }
   ],
   "source": [
    "all_sales.info()"
   ]
  },
  {
   "cell_type": "markdown",
   "metadata": {},
   "source": [
    "Write the merged data to a file, in case we need to get back to it"
   ]
  },
  {
   "cell_type": "code",
   "execution_count": 32,
   "metadata": {},
   "outputs": [],
   "source": [
    "all_sales.to_csv(Path.cwd() / 'data' / 'all_sales_data.csv', index=False)"
   ]
  },
  {
   "cell_type": "markdown",
   "metadata": {},
   "source": [
    "## Explore the merged sales data "
   ]
  },
  {
   "cell_type": "markdown",
   "metadata": {},
   "source": [
    "Rename the DataFrame, to reduce the typing: "
   ]
  },
  {
   "cell_type": "code",
   "execution_count": 34,
   "metadata": {},
   "outputs": [],
   "source": [
    "sales = all_sales"
   ]
  },
  {
   "cell_type": "markdown",
   "metadata": {},
   "source": [
    "Note that we are just giving a new name to the same object, that is, we are not creating a new DataFrame object with this statement. "
   ]
  },
  {
   "cell_type": "code",
   "execution_count": 35,
   "metadata": {},
   "outputs": [
    {
     "data": {
      "text/plain": [
       "True"
      ]
     },
     "execution_count": 35,
     "metadata": {},
     "output_type": "execute_result"
    }
   ],
   "source": [
    "sales is all_sales "
   ]
  },
  {
   "cell_type": "markdown",
   "metadata": {},
   "source": [
    "To create a new DataFrame object, we would need to do, for example, the following:"
   ]
  },
  {
   "cell_type": "code",
   "execution_count": 36,
   "metadata": {},
   "outputs": [
    {
     "data": {
      "text/plain": [
       "False"
      ]
     },
     "execution_count": 36,
     "metadata": {},
     "output_type": "execute_result"
    }
   ],
   "source": [
    "tmp = all_sales.copy()\n",
    "tmp is all_sales"
   ]
  },
  {
   "cell_type": "code",
   "execution_count": 37,
   "metadata": {},
   "outputs": [],
   "source": [
    "del tmp"
   ]
  },
  {
   "cell_type": "markdown",
   "metadata": {},
   "source": [
    "Let's take a look at the data..."
   ]
  },
  {
   "cell_type": "code",
   "execution_count": 38,
   "metadata": {},
   "outputs": [
    {
     "data": {
      "text/html": [
       "<div>\n",
       "<style scoped>\n",
       "    .dataframe tbody tr th:only-of-type {\n",
       "        vertical-align: middle;\n",
       "    }\n",
       "\n",
       "    .dataframe tbody tr th {\n",
       "        vertical-align: top;\n",
       "    }\n",
       "\n",
       "    .dataframe thead th {\n",
       "        text-align: right;\n",
       "    }\n",
       "</style>\n",
       "<table border=\"1\" class=\"dataframe\">\n",
       "  <thead>\n",
       "    <tr style=\"text-align: right;\">\n",
       "      <th></th>\n",
       "      <th>Order ID</th>\n",
       "      <th>Product</th>\n",
       "      <th>Quantity Ordered</th>\n",
       "      <th>Price Each</th>\n",
       "      <th>Order Date</th>\n",
       "      <th>Purchase Address</th>\n",
       "    </tr>\n",
       "  </thead>\n",
       "  <tbody>\n",
       "    <tr>\n",
       "      <th>0</th>\n",
       "      <td>295665</td>\n",
       "      <td>Macbook Pro Laptop</td>\n",
       "      <td>1</td>\n",
       "      <td>1700</td>\n",
       "      <td>12/30/19 00:01</td>\n",
       "      <td>136 Church St, New York City, NY 10001</td>\n",
       "    </tr>\n",
       "    <tr>\n",
       "      <th>1</th>\n",
       "      <td>295666</td>\n",
       "      <td>LG Washing Machine</td>\n",
       "      <td>1</td>\n",
       "      <td>600.0</td>\n",
       "      <td>12/29/19 07:03</td>\n",
       "      <td>562 2nd St, New York City, NY 10001</td>\n",
       "    </tr>\n",
       "    <tr>\n",
       "      <th>2</th>\n",
       "      <td>295667</td>\n",
       "      <td>USB-C Charging Cable</td>\n",
       "      <td>1</td>\n",
       "      <td>11.95</td>\n",
       "      <td>12/12/19 18:21</td>\n",
       "      <td>277 Main St, New York City, NY 10001</td>\n",
       "    </tr>\n",
       "    <tr>\n",
       "      <th>3</th>\n",
       "      <td>295668</td>\n",
       "      <td>27in FHD Monitor</td>\n",
       "      <td>1</td>\n",
       "      <td>149.99</td>\n",
       "      <td>12/22/19 15:13</td>\n",
       "      <td>410 6th St, San Francisco, CA 94016</td>\n",
       "    </tr>\n",
       "    <tr>\n",
       "      <th>4</th>\n",
       "      <td>295669</td>\n",
       "      <td>USB-C Charging Cable</td>\n",
       "      <td>1</td>\n",
       "      <td>11.95</td>\n",
       "      <td>12/18/19 12:38</td>\n",
       "      <td>43 Hill St, Atlanta, GA 30301</td>\n",
       "    </tr>\n",
       "  </tbody>\n",
       "</table>\n",
       "</div>"
      ],
      "text/plain": [
       "  Order ID               Product Quantity Ordered Price Each      Order Date  \\\n",
       "0   295665    Macbook Pro Laptop                1       1700  12/30/19 00:01   \n",
       "1   295666    LG Washing Machine                1      600.0  12/29/19 07:03   \n",
       "2   295667  USB-C Charging Cable                1      11.95  12/12/19 18:21   \n",
       "3   295668      27in FHD Monitor                1     149.99  12/22/19 15:13   \n",
       "4   295669  USB-C Charging Cable                1      11.95  12/18/19 12:38   \n",
       "\n",
       "                         Purchase Address  \n",
       "0  136 Church St, New York City, NY 10001  \n",
       "1     562 2nd St, New York City, NY 10001  \n",
       "2    277 Main St, New York City, NY 10001  \n",
       "3     410 6th St, San Francisco, CA 94016  \n",
       "4           43 Hill St, Atlanta, GA 30301  "
      ]
     },
     "execution_count": 38,
     "metadata": {},
     "output_type": "execute_result"
    }
   ],
   "source": [
    "sales.head()"
   ]
  },
  {
   "cell_type": "code",
   "execution_count": 39,
   "metadata": {},
   "outputs": [
    {
     "name": "stdout",
     "output_type": "stream",
     "text": [
      "<class 'pandas.core.frame.DataFrame'>\n",
      "RangeIndex: 186850 entries, 0 to 186849\n",
      "Data columns (total 6 columns):\n",
      " #   Column            Non-Null Count   Dtype \n",
      "---  ------            --------------   ----- \n",
      " 0   Order ID          186305 non-null  object\n",
      " 1   Product           186305 non-null  object\n",
      " 2   Quantity Ordered  186305 non-null  object\n",
      " 3   Price Each        186305 non-null  object\n",
      " 4   Order Date        186305 non-null  object\n",
      " 5   Purchase Address  186305 non-null  object\n",
      "dtypes: object(6)\n",
      "memory usage: 8.6+ MB\n"
     ]
    }
   ],
   "source": [
    "sales.info()"
   ]
  },
  {
   "cell_type": "markdown",
   "metadata": {},
   "source": [
    "Note that all the data are stored as object (string) values. We will need to change that for the Quantity Ordered, Price Each and Order Date columns. But before that, we will handle missing values.\n",
    "\n",
    "### Remove observations with all missing values"
   ]
  },
  {
   "cell_type": "markdown",
   "metadata": {},
   "source": [
    "Let's first check for the presence of missing values across columns"
   ]
  },
  {
   "cell_type": "code",
   "execution_count": 40,
   "metadata": {},
   "outputs": [
    {
     "data": {
      "text/plain": [
       "Order ID            545\n",
       "Product             545\n",
       "Quantity Ordered    545\n",
       "Price Each          545\n",
       "Order Date          545\n",
       "Purchase Address    545\n",
       "dtype: int64"
      ]
     },
     "execution_count": 40,
     "metadata": {},
     "output_type": "execute_result"
    }
   ],
   "source": [
    "sales.isna().sum()"
   ]
  },
  {
   "cell_type": "markdown",
   "metadata": {},
   "source": [
    "It seems that entire rows of data are missing, that is, we have observations with all missing values. <br>Let's check that:"
   ]
  },
  {
   "cell_type": "code",
   "execution_count": 45,
   "metadata": {},
   "outputs": [
    {
     "data": {
      "text/html": [
       "<div>\n",
       "<style scoped>\n",
       "    .dataframe tbody tr th:only-of-type {\n",
       "        vertical-align: middle;\n",
       "    }\n",
       "\n",
       "    .dataframe tbody tr th {\n",
       "        vertical-align: top;\n",
       "    }\n",
       "\n",
       "    .dataframe thead th {\n",
       "        text-align: right;\n",
       "    }\n",
       "</style>\n",
       "<table border=\"1\" class=\"dataframe\">\n",
       "  <thead>\n",
       "    <tr style=\"text-align: right;\">\n",
       "      <th></th>\n",
       "      <th>Order ID</th>\n",
       "      <th>Product</th>\n",
       "      <th>Quantity Ordered</th>\n",
       "      <th>Price Each</th>\n",
       "      <th>Order Date</th>\n",
       "      <th>Purchase Address</th>\n",
       "    </tr>\n",
       "  </thead>\n",
       "  <tbody>\n",
       "    <tr>\n",
       "      <th>67099</th>\n",
       "      <td>NaN</td>\n",
       "      <td>NaN</td>\n",
       "      <td>NaN</td>\n",
       "      <td>NaN</td>\n",
       "      <td>NaN</td>\n",
       "      <td>NaN</td>\n",
       "    </tr>\n",
       "    <tr>\n",
       "      <th>116171</th>\n",
       "      <td>NaN</td>\n",
       "      <td>NaN</td>\n",
       "      <td>NaN</td>\n",
       "      <td>NaN</td>\n",
       "      <td>NaN</td>\n",
       "      <td>NaN</td>\n",
       "    </tr>\n",
       "    <tr>\n",
       "      <th>117351</th>\n",
       "      <td>NaN</td>\n",
       "      <td>NaN</td>\n",
       "      <td>NaN</td>\n",
       "      <td>NaN</td>\n",
       "      <td>NaN</td>\n",
       "      <td>NaN</td>\n",
       "    </tr>\n",
       "    <tr>\n",
       "      <th>27109</th>\n",
       "      <td>NaN</td>\n",
       "      <td>NaN</td>\n",
       "      <td>NaN</td>\n",
       "      <td>NaN</td>\n",
       "      <td>NaN</td>\n",
       "      <td>NaN</td>\n",
       "    </tr>\n",
       "    <tr>\n",
       "      <th>138112</th>\n",
       "      <td>NaN</td>\n",
       "      <td>NaN</td>\n",
       "      <td>NaN</td>\n",
       "      <td>NaN</td>\n",
       "      <td>NaN</td>\n",
       "      <td>NaN</td>\n",
       "    </tr>\n",
       "    <tr>\n",
       "      <th>35369</th>\n",
       "      <td>NaN</td>\n",
       "      <td>NaN</td>\n",
       "      <td>NaN</td>\n",
       "      <td>NaN</td>\n",
       "      <td>NaN</td>\n",
       "      <td>NaN</td>\n",
       "    </tr>\n",
       "    <tr>\n",
       "      <th>179446</th>\n",
       "      <td>NaN</td>\n",
       "      <td>NaN</td>\n",
       "      <td>NaN</td>\n",
       "      <td>NaN</td>\n",
       "      <td>NaN</td>\n",
       "      <td>NaN</td>\n",
       "    </tr>\n",
       "    <tr>\n",
       "      <th>680</th>\n",
       "      <td>NaN</td>\n",
       "      <td>NaN</td>\n",
       "      <td>NaN</td>\n",
       "      <td>NaN</td>\n",
       "      <td>NaN</td>\n",
       "      <td>NaN</td>\n",
       "    </tr>\n",
       "    <tr>\n",
       "      <th>148554</th>\n",
       "      <td>NaN</td>\n",
       "      <td>NaN</td>\n",
       "      <td>NaN</td>\n",
       "      <td>NaN</td>\n",
       "      <td>NaN</td>\n",
       "      <td>NaN</td>\n",
       "    </tr>\n",
       "    <tr>\n",
       "      <th>7045</th>\n",
       "      <td>NaN</td>\n",
       "      <td>NaN</td>\n",
       "      <td>NaN</td>\n",
       "      <td>NaN</td>\n",
       "      <td>NaN</td>\n",
       "      <td>NaN</td>\n",
       "    </tr>\n",
       "  </tbody>\n",
       "</table>\n",
       "</div>"
      ],
      "text/plain": [
       "       Order ID Product Quantity Ordered Price Each Order Date  \\\n",
       "67099       NaN     NaN              NaN        NaN        NaN   \n",
       "116171      NaN     NaN              NaN        NaN        NaN   \n",
       "117351      NaN     NaN              NaN        NaN        NaN   \n",
       "27109       NaN     NaN              NaN        NaN        NaN   \n",
       "138112      NaN     NaN              NaN        NaN        NaN   \n",
       "35369       NaN     NaN              NaN        NaN        NaN   \n",
       "179446      NaN     NaN              NaN        NaN        NaN   \n",
       "680         NaN     NaN              NaN        NaN        NaN   \n",
       "148554      NaN     NaN              NaN        NaN        NaN   \n",
       "7045        NaN     NaN              NaN        NaN        NaN   \n",
       "\n",
       "       Purchase Address  \n",
       "67099               NaN  \n",
       "116171              NaN  \n",
       "117351              NaN  \n",
       "27109               NaN  \n",
       "138112              NaN  \n",
       "35369               NaN  \n",
       "179446              NaN  \n",
       "680                 NaN  \n",
       "148554              NaN  \n",
       "7045                NaN  "
      ]
     },
     "execution_count": 45,
     "metadata": {},
     "output_type": "execute_result"
    }
   ],
   "source": [
    "sales.loc[sales.Product.isna()].sample(10)"
   ]
  },
  {
   "cell_type": "markdown",
   "metadata": {},
   "source": [
    "Remove observations with all missing values"
   ]
  },
  {
   "cell_type": "code",
   "execution_count": null,
   "metadata": {},
   "outputs": [],
   "source": [
    "sales.dropna(how='all', inplace=True)"
   ]
  },
  {
   "cell_type": "code",
   "execution_count": null,
   "metadata": {},
   "outputs": [],
   "source": [
    "sales.isna().sum().sum()"
   ]
  },
  {
   "cell_type": "markdown",
   "metadata": {},
   "source": [
    "### Convert Quantity Ordered and Price Each to numeric values, and Order Date into datetime type\n",
    "\n",
    "A useful reference for this type of conversion:\n",
    "https://stackoverflow.com/questions/15891038/change-column-type-in-pandas"
   ]
  },
  {
   "cell_type": "code",
   "execution_count": 46,
   "metadata": {},
   "outputs": [
    {
     "data": {
      "text/plain": [
       "Order ID            object\n",
       "Product             object\n",
       "Quantity Ordered    object\n",
       "Price Each          object\n",
       "Order Date          object\n",
       "Purchase Address    object\n",
       "dtype: object"
      ]
     },
     "execution_count": 46,
     "metadata": {},
     "output_type": "execute_result"
    }
   ],
   "source": [
    "sales.dtypes"
   ]
  },
  {
   "cell_type": "markdown",
   "metadata": {},
   "source": [
    "To start, let's try to convert Quantity Ordered to a numeric column"
   ]
  },
  {
   "cell_type": "code",
   "execution_count": 47,
   "metadata": {},
   "outputs": [
    {
     "name": "stdout",
     "output_type": "stream",
     "text": [
      "Unable to parse string \"Quantity Ordered\" at position 254\n"
     ]
    }
   ],
   "source": [
    "try:\n",
    "    pd.to_numeric(sales['Quantity Ordered']).dtype\n",
    "except ValueError as err:\n",
    "    print(err)"
   ]
  },
  {
   "cell_type": "code",
   "execution_count": 48,
   "metadata": {},
   "outputs": [
    {
     "data": {
      "text/plain": [
       "Order ID                    Order ID\n",
       "Product                      Product\n",
       "Quantity Ordered    Quantity Ordered\n",
       "Price Each                Price Each\n",
       "Order Date                Order Date\n",
       "Purchase Address    Purchase Address\n",
       "Name: 254, dtype: object"
      ]
     },
     "execution_count": 48,
     "metadata": {},
     "output_type": "execute_result"
    }
   ],
   "source": [
    "sales.iloc[254, :]"
   ]
  },
  {
   "cell_type": "markdown",
   "metadata": {},
   "source": [
    "This looks like some erroneous data that we do not need. So, we will do the conversion (to numeric type) and, along the way, replace such erronous data with NaN  "
   ]
  },
  {
   "cell_type": "code",
   "execution_count": 49,
   "metadata": {},
   "outputs": [],
   "source": [
    "sales['Quantity Ordered'] = pd.to_numeric(sales['Quantity Ordered'], errors='coerce')"
   ]
  },
  {
   "cell_type": "code",
   "execution_count": 50,
   "metadata": {},
   "outputs": [
    {
     "data": {
      "text/plain": [
       "count    185950.000000\n",
       "mean          1.124383\n",
       "std           0.442793\n",
       "min           1.000000\n",
       "25%           1.000000\n",
       "50%           1.000000\n",
       "75%           1.000000\n",
       "max           9.000000\n",
       "Name: Quantity Ordered, dtype: float64"
      ]
     },
     "execution_count": 50,
     "metadata": {},
     "output_type": "execute_result"
    }
   ],
   "source": [
    "sales['Quantity Ordered'].describe()"
   ]
  },
  {
   "cell_type": "code",
   "execution_count": 52,
   "metadata": {},
   "outputs": [
    {
     "data": {
      "text/plain": [
       "0.004816697886004816"
      ]
     },
     "execution_count": 52,
     "metadata": {},
     "output_type": "execute_result"
    }
   ],
   "source": [
    "# sales['Quantity Ordered'].isna().sum()\n",
    "sales['Quantity Ordered'].isna().mean()"
   ]
  },
  {
   "cell_type": "markdown",
   "metadata": {},
   "source": [
    "Do the same for the Price Each column"
   ]
  },
  {
   "cell_type": "code",
   "execution_count": 53,
   "metadata": {},
   "outputs": [
    {
     "name": "stdout",
     "output_type": "stream",
     "text": [
      "Unable to parse string \"Price Each\" at position 254\n"
     ]
    }
   ],
   "source": [
    "try:\n",
    "    sales['Price Each'] = pd.to_numeric(sales['Price Each'])\n",
    "except ValueError as err:\n",
    "    print(err)"
   ]
  },
  {
   "cell_type": "code",
   "execution_count": 54,
   "metadata": {},
   "outputs": [],
   "source": [
    "sales['Price Each'] = pd.to_numeric(sales['Price Each'], errors='coerce')"
   ]
  },
  {
   "cell_type": "code",
   "execution_count": 56,
   "metadata": {},
   "outputs": [
    {
     "data": {
      "text/plain": [
       "count    185950.000000\n",
       "mean        184.399735\n",
       "std         332.731330\n",
       "min           2.990000\n",
       "25%          11.950000\n",
       "50%          14.950000\n",
       "75%         150.000000\n",
       "max        1700.000000\n",
       "Name: Price Each, dtype: float64"
      ]
     },
     "execution_count": 56,
     "metadata": {},
     "output_type": "execute_result"
    }
   ],
   "source": [
    "sales['Price Each'].describeribe()"
   ]
  },
  {
   "cell_type": "code",
   "execution_count": 55,
   "metadata": {},
   "outputs": [
    {
     "data": {
      "text/plain": [
       "900"
      ]
     },
     "execution_count": 55,
     "metadata": {},
     "output_type": "execute_result"
    }
   ],
   "source": [
    "sales['Price Each'].isna().sum()"
   ]
  },
  {
   "cell_type": "markdown",
   "metadata": {},
   "source": [
    "Drop rows where ordered quantity and price are unavailable (NaN)"
   ]
  },
  {
   "cell_type": "code",
   "execution_count": 57,
   "metadata": {},
   "outputs": [],
   "source": [
    "sales.dropna(how='any', inplace=True)"
   ]
  },
  {
   "cell_type": "code",
   "execution_count": 58,
   "metadata": {},
   "outputs": [
    {
     "data": {
      "text/plain": [
       "0"
      ]
     },
     "execution_count": 58,
     "metadata": {},
     "output_type": "execute_result"
    }
   ],
   "source": [
    "sales.isna().sum().sum()"
   ]
  },
  {
   "cell_type": "markdown",
   "metadata": {},
   "source": [
    "Check the size of the dataset after the removal of rows with missing values"
   ]
  },
  {
   "cell_type": "code",
   "execution_count": 59,
   "metadata": {},
   "outputs": [
    {
     "data": {
      "text/plain": [
       "(185950, 6)"
      ]
     },
     "execution_count": 59,
     "metadata": {},
     "output_type": "execute_result"
    }
   ],
   "source": [
    "sales.shape"
   ]
  },
  {
   "cell_type": "markdown",
   "metadata": {},
   "source": [
    "Finally, transform the Order Date to datetime type"
   ]
  },
  {
   "cell_type": "code",
   "execution_count": 60,
   "metadata": {},
   "outputs": [],
   "source": [
    "try:\n",
    "    sales['Order Date'] =  pd.to_datetime(sales['Order Date'])\n",
    "except ValueError as err:\n",
    "    print(err)"
   ]
  },
  {
   "cell_type": "markdown",
   "metadata": {},
   "source": [
    "It seems that this transformation went well. <br>\n",
    "Let's check the data types"
   ]
  },
  {
   "cell_type": "code",
   "execution_count": 61,
   "metadata": {},
   "outputs": [
    {
     "data": {
      "text/plain": [
       "Order ID                    object\n",
       "Product                     object\n",
       "Quantity Ordered           float64\n",
       "Price Each                 float64\n",
       "Order Date          datetime64[ns]\n",
       "Purchase Address            object\n",
       "dtype: object"
      ]
     },
     "execution_count": 61,
     "metadata": {},
     "output_type": "execute_result"
    }
   ],
   "source": [
    "sales.dtypes"
   ]
  },
  {
   "cell_type": "markdown",
   "metadata": {},
   "source": [
    "### Add Purchase City column\n",
    "\n",
    "Let's see how we can create a new column out of an existing one.\n",
    "\n",
    "Since we may be interested in comparing sales across cities, we will add a column with the name of the city where the order was made. The city name should be followed by the state label, given in brackets (e.g. 'Atlanta (GA)'), to disambigute cities with common names.   "
   ]
  },
  {
   "cell_type": "code",
   "execution_count": 62,
   "metadata": {},
   "outputs": [
    {
     "data": {
      "text/plain": [
       "0    136 Church St, New York City, NY 10001\n",
       "1       562 2nd St, New York City, NY 10001\n",
       "2      277 Main St, New York City, NY 10001\n",
       "3       410 6th St, San Francisco, CA 94016\n",
       "4             43 Hill St, Atlanta, GA 30301\n",
       "Name: Purchase Address, dtype: object"
      ]
     },
     "execution_count": 62,
     "metadata": {},
     "output_type": "execute_result"
    }
   ],
   "source": [
    "sales['Purchase Address'].head()"
   ]
  },
  {
   "cell_type": "markdown",
   "metadata": {},
   "source": [
    "We will start by creating a function that can extract the city (and state label) from the Purchase Address column. "
   ]
  },
  {
   "cell_type": "code",
   "execution_count": 63,
   "metadata": {},
   "outputs": [],
   "source": [
    "def get_city(address):\n",
    "    street, city, state = address.split(',')\n",
    "    st_label, st_zip = state.lstrip().split()\n",
    "    return f\"{city.lstrip()} ({st_label})\""
   ]
  },
  {
   "cell_type": "markdown",
   "metadata": {},
   "source": [
    "Next, we will *apply* the `get_city` function to each value of the Purchase Address series."
   ]
  },
  {
   "cell_type": "code",
   "execution_count": 64,
   "metadata": {},
   "outputs": [
    {
     "data": {
      "text/plain": [
       "53648           Atlanta (GA)\n",
       "101592    San Francisco (CA)\n",
       "135938         Portland (OR)\n",
       "146717           Boston (MA)\n",
       "798         Los Angeles (CA)\n",
       "93094           Atlanta (GA)\n",
       "40040            Austin (TX)\n",
       "36215           Atlanta (GA)\n",
       "90134            Austin (TX)\n",
       "46410           Atlanta (GA)\n",
       "Name: Purchase Address, dtype: object"
      ]
     },
     "execution_count": 64,
     "metadata": {},
     "output_type": "execute_result"
    }
   ],
   "source": [
    "sales['Purchase Address'].sample(10).apply(get_city)"
   ]
  },
  {
   "cell_type": "code",
   "execution_count": 65,
   "metadata": {},
   "outputs": [],
   "source": [
    "sales['Purchase City'] = sales['Purchase Address'].apply(get_city)"
   ]
  },
  {
   "cell_type": "code",
   "execution_count": 66,
   "metadata": {},
   "outputs": [
    {
     "data": {
      "text/html": [
       "<div>\n",
       "<style scoped>\n",
       "    .dataframe tbody tr th:only-of-type {\n",
       "        vertical-align: middle;\n",
       "    }\n",
       "\n",
       "    .dataframe tbody tr th {\n",
       "        vertical-align: top;\n",
       "    }\n",
       "\n",
       "    .dataframe thead th {\n",
       "        text-align: right;\n",
       "    }\n",
       "</style>\n",
       "<table border=\"1\" class=\"dataframe\">\n",
       "  <thead>\n",
       "    <tr style=\"text-align: right;\">\n",
       "      <th></th>\n",
       "      <th>Order ID</th>\n",
       "      <th>Product</th>\n",
       "      <th>Quantity Ordered</th>\n",
       "      <th>Price Each</th>\n",
       "      <th>Order Date</th>\n",
       "      <th>Purchase Address</th>\n",
       "      <th>Purchase City</th>\n",
       "    </tr>\n",
       "  </thead>\n",
       "  <tbody>\n",
       "    <tr>\n",
       "      <th>0</th>\n",
       "      <td>295665</td>\n",
       "      <td>Macbook Pro Laptop</td>\n",
       "      <td>1.0</td>\n",
       "      <td>1700.00</td>\n",
       "      <td>2019-12-30 00:01:00</td>\n",
       "      <td>136 Church St, New York City, NY 10001</td>\n",
       "      <td>New York City (NY)</td>\n",
       "    </tr>\n",
       "    <tr>\n",
       "      <th>1</th>\n",
       "      <td>295666</td>\n",
       "      <td>LG Washing Machine</td>\n",
       "      <td>1.0</td>\n",
       "      <td>600.00</td>\n",
       "      <td>2019-12-29 07:03:00</td>\n",
       "      <td>562 2nd St, New York City, NY 10001</td>\n",
       "      <td>New York City (NY)</td>\n",
       "    </tr>\n",
       "    <tr>\n",
       "      <th>2</th>\n",
       "      <td>295667</td>\n",
       "      <td>USB-C Charging Cable</td>\n",
       "      <td>1.0</td>\n",
       "      <td>11.95</td>\n",
       "      <td>2019-12-12 18:21:00</td>\n",
       "      <td>277 Main St, New York City, NY 10001</td>\n",
       "      <td>New York City (NY)</td>\n",
       "    </tr>\n",
       "    <tr>\n",
       "      <th>3</th>\n",
       "      <td>295668</td>\n",
       "      <td>27in FHD Monitor</td>\n",
       "      <td>1.0</td>\n",
       "      <td>149.99</td>\n",
       "      <td>2019-12-22 15:13:00</td>\n",
       "      <td>410 6th St, San Francisco, CA 94016</td>\n",
       "      <td>San Francisco (CA)</td>\n",
       "    </tr>\n",
       "    <tr>\n",
       "      <th>4</th>\n",
       "      <td>295669</td>\n",
       "      <td>USB-C Charging Cable</td>\n",
       "      <td>1.0</td>\n",
       "      <td>11.95</td>\n",
       "      <td>2019-12-18 12:38:00</td>\n",
       "      <td>43 Hill St, Atlanta, GA 30301</td>\n",
       "      <td>Atlanta (GA)</td>\n",
       "    </tr>\n",
       "  </tbody>\n",
       "</table>\n",
       "</div>"
      ],
      "text/plain": [
       "  Order ID               Product  Quantity Ordered  Price Each  \\\n",
       "0   295665    Macbook Pro Laptop               1.0     1700.00   \n",
       "1   295666    LG Washing Machine               1.0      600.00   \n",
       "2   295667  USB-C Charging Cable               1.0       11.95   \n",
       "3   295668      27in FHD Monitor               1.0      149.99   \n",
       "4   295669  USB-C Charging Cable               1.0       11.95   \n",
       "\n",
       "           Order Date                        Purchase Address  \\\n",
       "0 2019-12-30 00:01:00  136 Church St, New York City, NY 10001   \n",
       "1 2019-12-29 07:03:00     562 2nd St, New York City, NY 10001   \n",
       "2 2019-12-12 18:21:00    277 Main St, New York City, NY 10001   \n",
       "3 2019-12-22 15:13:00     410 6th St, San Francisco, CA 94016   \n",
       "4 2019-12-18 12:38:00           43 Hill St, Atlanta, GA 30301   \n",
       "\n",
       "        Purchase City  \n",
       "0  New York City (NY)  \n",
       "1  New York City (NY)  \n",
       "2  New York City (NY)  \n",
       "3  San Francisco (CA)  \n",
       "4        Atlanta (GA)  "
      ]
     },
     "execution_count": 66,
     "metadata": {},
     "output_type": "execute_result"
    }
   ],
   "source": [
    "sales.head()"
   ]
  },
  {
   "cell_type": "markdown",
   "metadata": {},
   "source": [
    "## Exploratory data analysis\n",
    "\n",
    "Let's now try to answer some questions by exploring the 2019 sales data"
   ]
  },
  {
   "cell_type": "markdown",
   "metadata": {},
   "source": [
    "### Task 1. What was the best month for sales? How much was earned that month?"
   ]
  },
  {
   "cell_type": "markdown",
   "metadata": {},
   "source": [
    "To answer this question, we need to:\n",
    "- compute total revenue per order\n",
    "- extract month from the Order Date, so that we can group orders on the montly basis\n",
    "- compute total revenue per month"
   ]
  },
  {
   "cell_type": "code",
   "execution_count": 67,
   "metadata": {},
   "outputs": [],
   "source": [
    "sales['Total price'] = sales['Quantity Ordered'] * sales['Price Each']"
   ]
  },
  {
   "cell_type": "markdown",
   "metadata": {},
   "source": [
    "Note that Order Date is a datetime Series. We use `dt` to get access to each value in the Series as a datetime object. <br>Having access to a particular order date as a datetime object, we can take any element of the order date and time through appropriate fields (year, month, day, etc.)"
   ]
  },
  {
   "cell_type": "code",
   "execution_count": 68,
   "metadata": {},
   "outputs": [],
   "source": [
    "sales['Order Month'] = sales['Order Date'].dt.month"
   ]
  },
  {
   "cell_type": "code",
   "execution_count": 69,
   "metadata": {},
   "outputs": [
    {
     "data": {
      "text/html": [
       "<div>\n",
       "<style scoped>\n",
       "    .dataframe tbody tr th:only-of-type {\n",
       "        vertical-align: middle;\n",
       "    }\n",
       "\n",
       "    .dataframe tbody tr th {\n",
       "        vertical-align: top;\n",
       "    }\n",
       "\n",
       "    .dataframe thead th {\n",
       "        text-align: right;\n",
       "    }\n",
       "</style>\n",
       "<table border=\"1\" class=\"dataframe\">\n",
       "  <thead>\n",
       "    <tr style=\"text-align: right;\">\n",
       "      <th></th>\n",
       "      <th>Order ID</th>\n",
       "      <th>Product</th>\n",
       "      <th>Quantity Ordered</th>\n",
       "      <th>Price Each</th>\n",
       "      <th>Order Date</th>\n",
       "      <th>Purchase Address</th>\n",
       "      <th>Purchase City</th>\n",
       "      <th>Total price</th>\n",
       "      <th>Order Month</th>\n",
       "    </tr>\n",
       "  </thead>\n",
       "  <tbody>\n",
       "    <tr>\n",
       "      <th>52417</th>\n",
       "      <td>159015</td>\n",
       "      <td>Macbook Pro Laptop</td>\n",
       "      <td>1.0</td>\n",
       "      <td>1700.00</td>\n",
       "      <td>2019-02-21 18:21:00</td>\n",
       "      <td>845 8th St, Atlanta, GA 30301</td>\n",
       "      <td>Atlanta (GA)</td>\n",
       "      <td>1700.00</td>\n",
       "      <td>2</td>\n",
       "    </tr>\n",
       "    <tr>\n",
       "      <th>55057</th>\n",
       "      <td>161552</td>\n",
       "      <td>Bose SoundSport Headphones</td>\n",
       "      <td>1.0</td>\n",
       "      <td>99.99</td>\n",
       "      <td>2019-02-13 13:46:00</td>\n",
       "      <td>414 Lincoln St, Dallas, TX 75001</td>\n",
       "      <td>Dallas (TX)</td>\n",
       "      <td>99.99</td>\n",
       "      <td>2</td>\n",
       "    </tr>\n",
       "    <tr>\n",
       "      <th>114993</th>\n",
       "      <td>293691</td>\n",
       "      <td>Wired Headphones</td>\n",
       "      <td>1.0</td>\n",
       "      <td>11.99</td>\n",
       "      <td>2019-11-16 22:12:00</td>\n",
       "      <td>851 Dogwood St, Los Angeles, CA 90001</td>\n",
       "      <td>Los Angeles (CA)</td>\n",
       "      <td>11.99</td>\n",
       "      <td>11</td>\n",
       "    </tr>\n",
       "    <tr>\n",
       "      <th>116687</th>\n",
       "      <td>295296</td>\n",
       "      <td>27in FHD Monitor</td>\n",
       "      <td>1.0</td>\n",
       "      <td>149.99</td>\n",
       "      <td>2019-11-21 10:01:00</td>\n",
       "      <td>663 5th St, New York City, NY 10001</td>\n",
       "      <td>New York City (NY)</td>\n",
       "      <td>149.99</td>\n",
       "      <td>11</td>\n",
       "    </tr>\n",
       "    <tr>\n",
       "      <th>115697</th>\n",
       "      <td>294360</td>\n",
       "      <td>Google Phone</td>\n",
       "      <td>1.0</td>\n",
       "      <td>600.00</td>\n",
       "      <td>2019-11-02 23:24:00</td>\n",
       "      <td>957 1st St, Atlanta, GA 30301</td>\n",
       "      <td>Atlanta (GA)</td>\n",
       "      <td>600.00</td>\n",
       "      <td>11</td>\n",
       "    </tr>\n",
       "  </tbody>\n",
       "</table>\n",
       "</div>"
      ],
      "text/plain": [
       "       Order ID                     Product  Quantity Ordered  Price Each  \\\n",
       "52417    159015          Macbook Pro Laptop               1.0     1700.00   \n",
       "55057    161552  Bose SoundSport Headphones               1.0       99.99   \n",
       "114993   293691            Wired Headphones               1.0       11.99   \n",
       "116687   295296            27in FHD Monitor               1.0      149.99   \n",
       "115697   294360                Google Phone               1.0      600.00   \n",
       "\n",
       "                Order Date                       Purchase Address  \\\n",
       "52417  2019-02-21 18:21:00          845 8th St, Atlanta, GA 30301   \n",
       "55057  2019-02-13 13:46:00       414 Lincoln St, Dallas, TX 75001   \n",
       "114993 2019-11-16 22:12:00  851 Dogwood St, Los Angeles, CA 90001   \n",
       "116687 2019-11-21 10:01:00    663 5th St, New York City, NY 10001   \n",
       "115697 2019-11-02 23:24:00          957 1st St, Atlanta, GA 30301   \n",
       "\n",
       "             Purchase City  Total price  Order Month  \n",
       "52417         Atlanta (GA)      1700.00            2  \n",
       "55057          Dallas (TX)        99.99            2  \n",
       "114993    Los Angeles (CA)        11.99           11  \n",
       "116687  New York City (NY)       149.99           11  \n",
       "115697        Atlanta (GA)       600.00           11  "
      ]
     },
     "execution_count": 69,
     "metadata": {},
     "output_type": "execute_result"
    }
   ],
   "source": [
    "sales.sample(5)"
   ]
  },
  {
   "cell_type": "code",
   "execution_count": 74,
   "metadata": {},
   "outputs": [
    {
     "data": {
      "text/plain": [
       "Order Month\n",
       "1     1.822257e+06\n",
       "2     2.202022e+06\n",
       "3     2.807100e+06\n",
       "4     3.390670e+06\n",
       "5     3.152607e+06\n",
       "6     2.577802e+06\n",
       "7     2.647776e+06\n",
       "8     2.244468e+06\n",
       "9     2.097560e+06\n",
       "10    3.736727e+06\n",
       "11    3.199603e+06\n",
       "12    4.613443e+06\n",
       "Name: Total price, dtype: float64"
      ]
     },
     "execution_count": 74,
     "metadata": {},
     "output_type": "execute_result"
    }
   ],
   "source": [
    "sales.groupby('Order Month').sum()['Total price']"
   ]
  },
  {
   "cell_type": "code",
   "execution_count": 75,
   "metadata": {},
   "outputs": [
    {
     "data": {
      "text/plain": [
       "Order Month\n",
       "12    4.613443e+06\n",
       "10    3.736727e+06\n",
       "4     3.390670e+06\n",
       "11    3.199603e+06\n",
       "5     3.152607e+06\n",
       "3     2.807100e+06\n",
       "7     2.647776e+06\n",
       "6     2.577802e+06\n",
       "8     2.244468e+06\n",
       "2     2.202022e+06\n",
       "9     2.097560e+06\n",
       "1     1.822257e+06\n",
       "Name: Total price, dtype: float64"
      ]
     },
     "execution_count": 75,
     "metadata": {},
     "output_type": "execute_result"
    }
   ],
   "source": [
    "total_montly_sales = sales.groupby('Order Month').sum()['Total price']\n",
    "total_montly_sales.sort_values(ascending=False)"
   ]
  },
  {
   "cell_type": "markdown",
   "metadata": {},
   "source": [
    "We can see that the last month, December, had the highest revenue and that it was ~4.6M USD.\n",
    "\n",
    "We can also examine monthly revenues on a chart, as visual representation of data often facilitate the comprehension of trends potentially present in the data"
   ]
  },
  {
   "cell_type": "code",
   "execution_count": 78,
   "metadata": {},
   "outputs": [
    {
     "data": {
      "image/png": "[encoded data removed]",
      "text/plain": [
       "<Figure size 576x432 with 1 Axes>"
      ]
     },
     "metadata": {
      "needs_background": "light"
     },
     "output_type": "display_data"
    }
   ],
   "source": [
    "plt.figure(figsize=(8,6))\n",
    "plt.bar(total_montly_sales.index, total_montly_sales.values)\n",
    "plt.xticks(range(1,13))\n",
    "plt.xlabel(\"Months\")\n",
    "plt.ylabel(\"Revenue in Million USD\")\n",
    "plt.title('Monthly sales revenue', fontdict={'fontsize':14})\n",
    "plt.show()"
   ]
  },
  {
   "cell_type": "markdown",
   "metadata": {},
   "source": [
    "### Task 2. What city ordered the largest quantity of products?"
   ]
  },
  {
   "cell_type": "markdown",
   "metadata": {},
   "source": [
    "This time we will group orders based on the city - recall that we have created Purchase City column out of the Purchase Address column"
   ]
  },
  {
   "cell_type": "code",
   "execution_count": 79,
   "metadata": {},
   "outputs": [],
   "source": [
    "products_per_city = sales.groupby('Purchase City').sum()['Quantity Ordered']"
   ]
  },
  {
   "cell_type": "code",
   "execution_count": 80,
   "metadata": {},
   "outputs": [
    {
     "data": {
      "text/plain": [
       "Purchase City\n",
       "San Francisco (CA)    50239.0\n",
       "Los Angeles (CA)      33289.0\n",
       "New York City (NY)    27932.0\n",
       "Boston (MA)           22528.0\n",
       "Dallas (TX)           16730.0\n",
       "Atlanta (GA)          16602.0\n",
       "Seattle (WA)          16553.0\n",
       "Portland (OR)         11303.0\n",
       "Austin (TX)           11153.0\n",
       "Portland (ME)          2750.0\n",
       "Name: Quantity Ordered, dtype: float64"
      ]
     },
     "execution_count": 80,
     "metadata": {},
     "output_type": "execute_result"
    }
   ],
   "source": [
    "products_per_city.sort_values(ascending=False)"
   ]
  },
  {
   "cell_type": "code",
   "execution_count": 82,
   "metadata": {},
   "outputs": [
    {
     "data": {
      "image/png": "[encoded data removed]",
      "text/plain": [
       "<Figure size 432x288 with 1 Axes>"
      ]
     },
     "metadata": {
      "needs_background": "light"
     },
     "output_type": "display_data"
    }
   ],
   "source": [
    "plt.bar(products_per_city.index, products_per_city.values)\n",
    "plt.ylabel('Ordered quantity')\n",
    "plt.title('Quantity of products sold across cities')\n",
    "plt.xticks(rotation='vertical', size=9)\n",
    "plt.show()"
   ]
  },
  {
   "cell_type": "markdown",
   "metadata": {},
   "source": [
    "### Task 3. When, during a day, customers are most likely to make orders?"
   ]
  },
  {
   "cell_type": "markdown",
   "metadata": {},
   "source": [
    "To answer this one, we can extract the hour from the Order Date and examine the distribution of orders across the 24 hours of a day"
   ]
  },
  {
   "cell_type": "code",
   "execution_count": 83,
   "metadata": {},
   "outputs": [],
   "source": [
    "sales['Order Hour'] = sales['Order Date'].dt.hour"
   ]
  },
  {
   "cell_type": "code",
   "execution_count": 84,
   "metadata": {},
   "outputs": [
    {
     "data": {
      "text/html": [
       "<div>\n",
       "<style scoped>\n",
       "    .dataframe tbody tr th:only-of-type {\n",
       "        vertical-align: middle;\n",
       "    }\n",
       "\n",
       "    .dataframe tbody tr th {\n",
       "        vertical-align: top;\n",
       "    }\n",
       "\n",
       "    .dataframe thead th {\n",
       "        text-align: right;\n",
       "    }\n",
       "</style>\n",
       "<table border=\"1\" class=\"dataframe\">\n",
       "  <thead>\n",
       "    <tr style=\"text-align: right;\">\n",
       "      <th></th>\n",
       "      <th>Order ID</th>\n",
       "      <th>Product</th>\n",
       "      <th>Quantity Ordered</th>\n",
       "      <th>Price Each</th>\n",
       "      <th>Order Date</th>\n",
       "      <th>Purchase Address</th>\n",
       "      <th>Purchase City</th>\n",
       "      <th>Total price</th>\n",
       "      <th>Order Month</th>\n",
       "      <th>Order Hour</th>\n",
       "    </tr>\n",
       "  </thead>\n",
       "  <tbody>\n",
       "    <tr>\n",
       "      <th>45426</th>\n",
       "      <td>152338</td>\n",
       "      <td>AA Batteries (4-pack)</td>\n",
       "      <td>1.0</td>\n",
       "      <td>3.84</td>\n",
       "      <td>2019-02-27 11:00:00</td>\n",
       "      <td>111 Jackson St, San Francisco, CA 94016</td>\n",
       "      <td>San Francisco (CA)</td>\n",
       "      <td>3.84</td>\n",
       "      <td>2</td>\n",
       "      <td>11</td>\n",
       "    </tr>\n",
       "    <tr>\n",
       "      <th>119462</th>\n",
       "      <td>261639</td>\n",
       "      <td>Wired Headphones</td>\n",
       "      <td>1.0</td>\n",
       "      <td>11.99</td>\n",
       "      <td>2019-10-13 21:19:00</td>\n",
       "      <td>494 Cedar St, Los Angeles, CA 90001</td>\n",
       "      <td>Los Angeles (CA)</td>\n",
       "      <td>11.99</td>\n",
       "      <td>10</td>\n",
       "      <td>21</td>\n",
       "    </tr>\n",
       "    <tr>\n",
       "      <th>28450</th>\n",
       "      <td>179751</td>\n",
       "      <td>Apple Airpods Headphones</td>\n",
       "      <td>1.0</td>\n",
       "      <td>150.00</td>\n",
       "      <td>2019-04-26 22:55:00</td>\n",
       "      <td>664 Main St, Los Angeles, CA 90001</td>\n",
       "      <td>Los Angeles (CA)</td>\n",
       "      <td>150.00</td>\n",
       "      <td>4</td>\n",
       "      <td>22</td>\n",
       "    </tr>\n",
       "    <tr>\n",
       "      <th>180978</th>\n",
       "      <td>217306</td>\n",
       "      <td>AAA Batteries (4-pack)</td>\n",
       "      <td>1.0</td>\n",
       "      <td>2.99</td>\n",
       "      <td>2019-06-05 19:42:00</td>\n",
       "      <td>316 River St, Atlanta, GA 30301</td>\n",
       "      <td>Atlanta (GA)</td>\n",
       "      <td>2.99</td>\n",
       "      <td>6</td>\n",
       "      <td>19</td>\n",
       "    </tr>\n",
       "    <tr>\n",
       "      <th>175951</th>\n",
       "      <td>212511</td>\n",
       "      <td>AA Batteries (4-pack)</td>\n",
       "      <td>1.0</td>\n",
       "      <td>3.84</td>\n",
       "      <td>2019-06-16 23:29:00</td>\n",
       "      <td>308 11th St, Los Angeles, CA 90001</td>\n",
       "      <td>Los Angeles (CA)</td>\n",
       "      <td>3.84</td>\n",
       "      <td>6</td>\n",
       "      <td>23</td>\n",
       "    </tr>\n",
       "  </tbody>\n",
       "</table>\n",
       "</div>"
      ],
      "text/plain": [
       "       Order ID                   Product  Quantity Ordered  Price Each  \\\n",
       "45426    152338     AA Batteries (4-pack)               1.0        3.84   \n",
       "119462   261639          Wired Headphones               1.0       11.99   \n",
       "28450    179751  Apple Airpods Headphones               1.0      150.00   \n",
       "180978   217306    AAA Batteries (4-pack)               1.0        2.99   \n",
       "175951   212511     AA Batteries (4-pack)               1.0        3.84   \n",
       "\n",
       "                Order Date                         Purchase Address  \\\n",
       "45426  2019-02-27 11:00:00  111 Jackson St, San Francisco, CA 94016   \n",
       "119462 2019-10-13 21:19:00      494 Cedar St, Los Angeles, CA 90001   \n",
       "28450  2019-04-26 22:55:00       664 Main St, Los Angeles, CA 90001   \n",
       "180978 2019-06-05 19:42:00          316 River St, Atlanta, GA 30301   \n",
       "175951 2019-06-16 23:29:00       308 11th St, Los Angeles, CA 90001   \n",
       "\n",
       "             Purchase City  Total price  Order Month  Order Hour  \n",
       "45426   San Francisco (CA)         3.84            2          11  \n",
       "119462    Los Angeles (CA)        11.99           10          21  \n",
       "28450     Los Angeles (CA)       150.00            4          22  \n",
       "180978        Atlanta (GA)         2.99            6          19  \n",
       "175951    Los Angeles (CA)         3.84            6          23  "
      ]
     },
     "execution_count": 84,
     "metadata": {},
     "output_type": "execute_result"
    }
   ],
   "source": [
    "sales.sample(5)"
   ]
  },
  {
   "cell_type": "code",
   "execution_count": 86,
   "metadata": {},
   "outputs": [],
   "source": [
    "orders_per_hour = sales.groupby('Order Hour').count()['Order ID']"
   ]
  },
  {
   "cell_type": "code",
   "execution_count": 88,
   "metadata": {},
   "outputs": [
    {
     "data": {
      "text/plain": [
       "Order Hour\n",
       "19    12905\n",
       "12    12587\n",
       "11    12411\n",
       "18    12280\n",
       "20    12228\n",
       "13    12129\n",
       "14    10984\n",
       "10    10944\n",
       "21    10921\n",
       "17    10899\n",
       "16    10384\n",
       "15    10175\n",
       "22     8822\n",
       "9      8748\n",
       "23     6275\n",
       "8      6256\n",
       "7      4011\n",
       "0      3910\n",
       "6      2482\n",
       "1      2350\n",
       "5      1321\n",
       "2      1243\n",
       "4       854\n",
       "3       831\n",
       "Name: Order ID, dtype: int64"
      ]
     },
     "execution_count": 88,
     "metadata": {},
     "output_type": "execute_result"
    }
   ],
   "source": [
    "orders_per_hour.sort_values(ascending=False)"
   ]
  },
  {
   "cell_type": "code",
   "execution_count": 89,
   "metadata": {},
   "outputs": [
    {
     "data": {
      "image/png": "[encoded data removed]",
      "text/plain": [
       "<Figure size 576x360 with 1 Axes>"
      ]
     },
     "metadata": {
      "needs_background": "light"
     },
     "output_type": "display_data"
    }
   ],
   "source": [
    "plt.figure(figsize=(8,5))\n",
    "\n",
    "# Shorthand notation\n",
    "# fmt = '[color][marker][line]'\n",
    "plt.plot(orders_per_hour.index, orders_per_hour.values, 'b*-')\n",
    "\n",
    "plt.xticks(range(0,24))\n",
    "plt.xlabel(\"Hours\", fontdict={'fontsize':12})\n",
    "plt.ylabel(\"Number of orders per hour\", fontdict={'fontsize':12})\n",
    "plt.grid(True)\n",
    "\n",
    "plt.show()"
   ]
  },
  {
   "cell_type": "markdown",
   "metadata": {},
   "source": [
    "### Task 4. What product sold the most? What product contributed the most to the total revenue?"
   ]
  },
  {
   "cell_type": "markdown",
   "metadata": {},
   "source": [
    "Let's first see how many different products are there and how frequently they were ordered"
   ]
  },
  {
   "cell_type": "code",
   "execution_count": 90,
   "metadata": {},
   "outputs": [
    {
     "data": {
      "text/plain": [
       "19"
      ]
     },
     "execution_count": 90,
     "metadata": {},
     "output_type": "execute_result"
    }
   ],
   "source": [
    "sales.Product.nunique()"
   ]
  },
  {
   "cell_type": "code",
   "execution_count": 95,
   "metadata": {},
   "outputs": [
    {
     "data": {
      "text/plain": [
       "USB-C Charging Cable          21903\n",
       "Lightning Charging Cable      21658\n",
       "AAA Batteries (4-pack)        20641\n",
       "AA Batteries (4-pack)         20577\n",
       "Wired Headphones              18882\n",
       "Apple Airpods Headphones      15549\n",
       "Bose SoundSport Headphones    13325\n",
       "27in FHD Monitor               7507\n",
       "iPhone                         6842\n",
       "27in 4K Gaming Monitor         6230\n",
       "34in Ultrawide Monitor         6181\n",
       "Google Phone                   5525\n",
       "Flatscreen TV                  4800\n",
       "Macbook Pro Laptop             4724\n",
       "ThinkPad Laptop                4128\n",
       "20in Monitor                   4101\n",
       "Vareebadd Phone                2065\n",
       "LG Washing Machine              666\n",
       "LG Dryer                        646\n",
       "Name: Product, dtype: int64"
      ]
     },
     "execution_count": 95,
     "metadata": {},
     "output_type": "execute_result"
    }
   ],
   "source": [
    "sales.Product.value_counts()"
   ]
  },
  {
   "cell_type": "markdown",
   "metadata": {},
   "source": [
    "While the above series gives us the number of orders that a product appeared in, it does not tell us about the quantities that were ordered.\n",
    "\n",
    "For each product, we need to take the overall quantity ordered and total price across all orders related to that product"
   ]
  },
  {
   "cell_type": "code",
   "execution_count": 96,
   "metadata": {},
   "outputs": [],
   "source": [
    "sales_per_product = sales.groupby('Product').sum()[['Quantity Ordered', 'Total price']]"
   ]
  },
  {
   "cell_type": "code",
   "execution_count": 97,
   "metadata": {},
   "outputs": [
    {
     "data": {
      "text/html": [
       "<div>\n",
       "<style scoped>\n",
       "    .dataframe tbody tr th:only-of-type {\n",
       "        vertical-align: middle;\n",
       "    }\n",
       "\n",
       "    .dataframe tbody tr th {\n",
       "        vertical-align: top;\n",
       "    }\n",
       "\n",
       "    .dataframe thead th {\n",
       "        text-align: right;\n",
       "    }\n",
       "</style>\n",
       "<table border=\"1\" class=\"dataframe\">\n",
       "  <thead>\n",
       "    <tr style=\"text-align: right;\">\n",
       "      <th></th>\n",
       "      <th>Quantity Ordered</th>\n",
       "      <th>Total price</th>\n",
       "    </tr>\n",
       "    <tr>\n",
       "      <th>Product</th>\n",
       "      <th></th>\n",
       "      <th></th>\n",
       "    </tr>\n",
       "  </thead>\n",
       "  <tbody>\n",
       "    <tr>\n",
       "      <th>20in Monitor</th>\n",
       "      <td>4129.0</td>\n",
       "      <td>454148.71</td>\n",
       "    </tr>\n",
       "    <tr>\n",
       "      <th>27in 4K Gaming Monitor</th>\n",
       "      <td>6244.0</td>\n",
       "      <td>2435097.56</td>\n",
       "    </tr>\n",
       "    <tr>\n",
       "      <th>27in FHD Monitor</th>\n",
       "      <td>7550.0</td>\n",
       "      <td>1132424.50</td>\n",
       "    </tr>\n",
       "    <tr>\n",
       "      <th>34in Ultrawide Monitor</th>\n",
       "      <td>6199.0</td>\n",
       "      <td>2355558.01</td>\n",
       "    </tr>\n",
       "    <tr>\n",
       "      <th>AA Batteries (4-pack)</th>\n",
       "      <td>27635.0</td>\n",
       "      <td>106118.40</td>\n",
       "    </tr>\n",
       "  </tbody>\n",
       "</table>\n",
       "</div>"
      ],
      "text/plain": [
       "                        Quantity Ordered  Total price\n",
       "Product                                              \n",
       "20in Monitor                      4129.0    454148.71\n",
       "27in 4K Gaming Monitor            6244.0   2435097.56\n",
       "27in FHD Monitor                  7550.0   1132424.50\n",
       "34in Ultrawide Monitor            6199.0   2355558.01\n",
       "AA Batteries (4-pack)            27635.0    106118.40"
      ]
     },
     "execution_count": 97,
     "metadata": {},
     "output_type": "execute_result"
    }
   ],
   "source": [
    "sales_per_product.head()"
   ]
  },
  {
   "cell_type": "markdown",
   "metadata": {},
   "source": [
    "Get the products that sold the most:"
   ]
  },
  {
   "cell_type": "code",
   "execution_count": 98,
   "metadata": {},
   "outputs": [
    {
     "data": {
      "text/html": [
       "<div>\n",
       "<style scoped>\n",
       "    .dataframe tbody tr th:only-of-type {\n",
       "        vertical-align: middle;\n",
       "    }\n",
       "\n",
       "    .dataframe tbody tr th {\n",
       "        vertical-align: top;\n",
       "    }\n",
       "\n",
       "    .dataframe thead th {\n",
       "        text-align: right;\n",
       "    }\n",
       "</style>\n",
       "<table border=\"1\" class=\"dataframe\">\n",
       "  <thead>\n",
       "    <tr style=\"text-align: right;\">\n",
       "      <th></th>\n",
       "      <th>Quantity Ordered</th>\n",
       "      <th>Total price</th>\n",
       "    </tr>\n",
       "    <tr>\n",
       "      <th>Product</th>\n",
       "      <th></th>\n",
       "      <th></th>\n",
       "    </tr>\n",
       "  </thead>\n",
       "  <tbody>\n",
       "    <tr>\n",
       "      <th>AAA Batteries (4-pack)</th>\n",
       "      <td>31017.0</td>\n",
       "      <td>92740.83</td>\n",
       "    </tr>\n",
       "    <tr>\n",
       "      <th>AA Batteries (4-pack)</th>\n",
       "      <td>27635.0</td>\n",
       "      <td>106118.40</td>\n",
       "    </tr>\n",
       "    <tr>\n",
       "      <th>USB-C Charging Cable</th>\n",
       "      <td>23975.0</td>\n",
       "      <td>286501.25</td>\n",
       "    </tr>\n",
       "    <tr>\n",
       "      <th>Lightning Charging Cable</th>\n",
       "      <td>23217.0</td>\n",
       "      <td>347094.15</td>\n",
       "    </tr>\n",
       "    <tr>\n",
       "      <th>Wired Headphones</th>\n",
       "      <td>20557.0</td>\n",
       "      <td>246478.43</td>\n",
       "    </tr>\n",
       "  </tbody>\n",
       "</table>\n",
       "</div>"
      ],
      "text/plain": [
       "                          Quantity Ordered  Total price\n",
       "Product                                                \n",
       "AAA Batteries (4-pack)             31017.0     92740.83\n",
       "AA Batteries (4-pack)              27635.0    106118.40\n",
       "USB-C Charging Cable               23975.0    286501.25\n",
       "Lightning Charging Cable           23217.0    347094.15\n",
       "Wired Headphones                   20557.0    246478.43"
      ]
     },
     "execution_count": 98,
     "metadata": {},
     "output_type": "execute_result"
    }
   ],
   "source": [
    "sales_per_product.sort_values(by=\"Quantity Ordered\", ascending=False).head(5)"
   ]
  },
  {
   "cell_type": "markdown",
   "metadata": {},
   "source": [
    "Get the products with the highest total revenue"
   ]
  },
  {
   "cell_type": "code",
   "execution_count": 99,
   "metadata": {},
   "outputs": [
    {
     "data": {
      "text/html": [
       "<div>\n",
       "<style scoped>\n",
       "    .dataframe tbody tr th:only-of-type {\n",
       "        vertical-align: middle;\n",
       "    }\n",
       "\n",
       "    .dataframe tbody tr th {\n",
       "        vertical-align: top;\n",
       "    }\n",
       "\n",
       "    .dataframe thead th {\n",
       "        text-align: right;\n",
       "    }\n",
       "</style>\n",
       "<table border=\"1\" class=\"dataframe\">\n",
       "  <thead>\n",
       "    <tr style=\"text-align: right;\">\n",
       "      <th></th>\n",
       "      <th>Quantity Ordered</th>\n",
       "      <th>Total price</th>\n",
       "    </tr>\n",
       "    <tr>\n",
       "      <th>Product</th>\n",
       "      <th></th>\n",
       "      <th></th>\n",
       "    </tr>\n",
       "  </thead>\n",
       "  <tbody>\n",
       "    <tr>\n",
       "      <th>Macbook Pro Laptop</th>\n",
       "      <td>4728.0</td>\n",
       "      <td>8037600.00</td>\n",
       "    </tr>\n",
       "    <tr>\n",
       "      <th>iPhone</th>\n",
       "      <td>6849.0</td>\n",
       "      <td>4794300.00</td>\n",
       "    </tr>\n",
       "    <tr>\n",
       "      <th>ThinkPad Laptop</th>\n",
       "      <td>4130.0</td>\n",
       "      <td>4129958.70</td>\n",
       "    </tr>\n",
       "    <tr>\n",
       "      <th>Google Phone</th>\n",
       "      <td>5532.0</td>\n",
       "      <td>3319200.00</td>\n",
       "    </tr>\n",
       "    <tr>\n",
       "      <th>27in 4K Gaming Monitor</th>\n",
       "      <td>6244.0</td>\n",
       "      <td>2435097.56</td>\n",
       "    </tr>\n",
       "  </tbody>\n",
       "</table>\n",
       "</div>"
      ],
      "text/plain": [
       "                        Quantity Ordered  Total price\n",
       "Product                                              \n",
       "Macbook Pro Laptop                4728.0   8037600.00\n",
       "iPhone                            6849.0   4794300.00\n",
       "ThinkPad Laptop                   4130.0   4129958.70\n",
       "Google Phone                      5532.0   3319200.00\n",
       "27in 4K Gaming Monitor            6244.0   2435097.56"
      ]
     },
     "execution_count": 99,
     "metadata": {},
     "output_type": "execute_result"
    }
   ],
   "source": [
    "sales_per_product.sort_values(by=\"Total price\", ascending=False).head(5)"
   ]
  },
  {
   "cell_type": "markdown",
   "metadata": {},
   "source": [
    "We can also plot these data"
   ]
  },
  {
   "cell_type": "code",
   "execution_count": 103,
   "metadata": {},
   "outputs": [
    {
     "data": {
      "image/png": "[encoded data removed]",
      "text/plain": [
       "<Figure size 504x360 with 1 Axes>"
      ]
     },
     "metadata": {
      "needs_background": "light"
     },
     "output_type": "display_data"
    }
   ],
   "source": [
    "sales_quantity_sorted = sales_per_product.sort_values(by=\"Quantity Ordered\", ascending=False)\n",
    "\n",
    "plt.figure(figsize=(7,5))\n",
    "plt.plot(sales_quantity_sorted.index, sales_quantity_sorted['Quantity Ordered'], 'b^--')\n",
    "plt.title('Total quantity ordered per product', fontdict={'fontsize':14})\n",
    "plt.xticks(rotation='vertical', size=8)\n",
    "plt.grid(True)\n",
    "plt.show()"
   ]
  },
  {
   "cell_type": "code",
   "execution_count": 105,
   "metadata": {},
   "outputs": [
    {
     "data": {
      "image/png": "[encoded data removed]",
      "text/plain": [
       "<Figure size 576x360 with 1 Axes>"
      ]
     },
     "metadata": {
      "needs_background": "light"
     },
     "output_type": "display_data"
    }
   ],
   "source": [
    "sales_total_sorted = sales_per_product.sort_values(by=\"Total price\", ascending=False)\n",
    "\n",
    "plt.figure(figsize=(8,5))\n",
    "\n",
    "plt.plot(sales_total_sorted.index, sales_total_sorted['Total price'], 'g.--')\n",
    "plt.xticks(rotation='vertical', size=8)\n",
    "plt.ylabel(\"Revenue in Million USD\")\n",
    "plt.title(\"Total revenue per product\")\n",
    "plt.grid(True)\n",
    "plt.show()"
   ]
  },
  {
   "cell_type": "markdown",
   "metadata": {},
   "source": [
    "We can also combine the two plots.\n",
    "\n",
    "Example how this can bee done: https://matplotlib.org/gallery/api/two_scales.html"
   ]
  },
  {
   "cell_type": "code",
   "execution_count": 109,
   "metadata": {},
   "outputs": [
    {
     "data": {
      "image/png": "[encoded data removed]",
      "text/plain": [
       "<Figure size 432x288 with 2 Axes>"
      ]
     },
     "metadata": {
      "needs_background": "light"
     },
     "output_type": "display_data"
    }
   ],
   "source": [
    "import matplotlib.ticker as mticker\n",
    "\n",
    "fig, ax1 = plt.subplots()\n",
    "\n",
    "colors = ['#e41a1c','#377eb8']\n",
    "\n",
    "ax2 = ax1.twinx()\n",
    "ax1.plot(sales_total_sorted.index, sales_total_sorted['Total price'], color=colors[0], marker='.')\n",
    "ax2.plot(sales_total_sorted.index, sales_total_sorted['Quantity Ordered'], color=colors[1], marker='^')\n",
    "\n",
    "ax1.set_xlabel('Product Name')\n",
    "ax1.set_ylabel('Total revenue', color=colors[0])\n",
    "ax2.set_ylabel('Total quantity Ordered', color=colors[1])\n",
    "\n",
    "ticks_loc = ax1.get_xticks()\n",
    "# https://stackoverflow.com/questions/63723514/userwarning-fixedformatter-should-only-be-used-together-with-fixedlocator\n",
    "ax1.xaxis.set_major_locator(mticker.FixedLocator(ticks_loc))\n",
    "ax1.set_xticklabels(sales_total_sorted.index, rotation='vertical', size=8)\n",
    "\n",
    "plt.show()"
   ]
  },
  {
   "cell_type": "markdown",
   "metadata": {},
   "source": [
    "### Task 5. Examine product sales across cities"
   ]
  },
  {
   "cell_type": "markdown",
   "metadata": {},
   "source": [
    "Note that we can group the data based on more than one attribute (column). <br> In this case, we will do the grouping based on the product and the city"
   ]
  },
  {
   "cell_type": "code",
   "execution_count": 114,
   "metadata": {},
   "outputs": [
    {
     "data": {
      "text/plain": [
       "Product       Purchase City     \n",
       "20in Monitor  Atlanta (GA)            37616.58\n",
       "              Austin (TX)             25297.70\n",
       "              Boston (MA)             43336.06\n",
       "              Dallas (TX)             37726.57\n",
       "              Los Angeles (CA)        72373.42\n",
       "                                       ...    \n",
       "iPhone        New York City (NY)     616700.00\n",
       "              Portland (ME)           55300.00\n",
       "              Portland (OR)          259700.00\n",
       "              San Francisco (CA)    1162700.00\n",
       "              Seattle (WA)           382200.00\n",
       "Name: Total price, Length: 190, dtype: float64"
      ]
     },
     "execution_count": 114,
     "metadata": {},
     "output_type": "execute_result"
    }
   ],
   "source": [
    "sales.groupby(['Product', 'Purchase City'])['Total price'].sum()"
   ]
  },
  {
   "cell_type": "markdown",
   "metadata": {},
   "source": [
    "Note that we are getting a series with 2 indexes - Product and Purchase City. <br>We can transform this into a DataFrame by calling the `unstack()` method"
   ]
  },
  {
   "cell_type": "code",
   "execution_count": 116,
   "metadata": {},
   "outputs": [],
   "source": [
    "prod_per_city_sales = sales.groupby(['Product', 'Purchase City'])['Total price'].sum().unstack()"
   ]
  },
  {
   "cell_type": "code",
   "execution_count": 117,
   "metadata": {},
   "outputs": [
    {
     "data": {
      "text/html": [
       "<div>\n",
       "<style scoped>\n",
       "    .dataframe tbody tr th:only-of-type {\n",
       "        vertical-align: middle;\n",
       "    }\n",
       "\n",
       "    .dataframe tbody tr th {\n",
       "        vertical-align: top;\n",
       "    }\n",
       "\n",
       "    .dataframe thead th {\n",
       "        text-align: right;\n",
       "    }\n",
       "</style>\n",
       "<table border=\"1\" class=\"dataframe\">\n",
       "  <thead>\n",
       "    <tr style=\"text-align: right;\">\n",
       "      <th>Purchase City</th>\n",
       "      <th>Atlanta (GA)</th>\n",
       "      <th>Austin (TX)</th>\n",
       "      <th>Boston (MA)</th>\n",
       "      <th>Dallas (TX)</th>\n",
       "      <th>Los Angeles (CA)</th>\n",
       "      <th>New York City (NY)</th>\n",
       "      <th>Portland (ME)</th>\n",
       "      <th>Portland (OR)</th>\n",
       "      <th>San Francisco (CA)</th>\n",
       "      <th>Seattle (WA)</th>\n",
       "    </tr>\n",
       "    <tr>\n",
       "      <th>Product</th>\n",
       "      <th></th>\n",
       "      <th></th>\n",
       "      <th></th>\n",
       "      <th></th>\n",
       "      <th></th>\n",
       "      <th></th>\n",
       "      <th></th>\n",
       "      <th></th>\n",
       "      <th></th>\n",
       "      <th></th>\n",
       "    </tr>\n",
       "  </thead>\n",
       "  <tbody>\n",
       "    <tr>\n",
       "      <th>20in Monitor</th>\n",
       "      <td>37616.58</td>\n",
       "      <td>25297.70</td>\n",
       "      <td>43336.06</td>\n",
       "      <td>37726.57</td>\n",
       "      <td>72373.42</td>\n",
       "      <td>61594.40</td>\n",
       "      <td>6489.41</td>\n",
       "      <td>24087.81</td>\n",
       "      <td>109990.00</td>\n",
       "      <td>35636.76</td>\n",
       "    </tr>\n",
       "    <tr>\n",
       "      <th>27in 4K Gaming Monitor</th>\n",
       "      <td>192265.07</td>\n",
       "      <td>124016.82</td>\n",
       "      <td>263243.25</td>\n",
       "      <td>187585.19</td>\n",
       "      <td>391159.97</td>\n",
       "      <td>328371.58</td>\n",
       "      <td>33149.15</td>\n",
       "      <td>136106.51</td>\n",
       "      <td>569385.40</td>\n",
       "      <td>209814.62</td>\n",
       "    </tr>\n",
       "    <tr>\n",
       "      <th>27in FHD Monitor</th>\n",
       "      <td>88194.12</td>\n",
       "      <td>53996.40</td>\n",
       "      <td>119542.03</td>\n",
       "      <td>88044.13</td>\n",
       "      <td>183437.77</td>\n",
       "      <td>160789.28</td>\n",
       "      <td>17098.86</td>\n",
       "      <td>62395.84</td>\n",
       "      <td>272081.86</td>\n",
       "      <td>86844.21</td>\n",
       "    </tr>\n",
       "    <tr>\n",
       "      <th>34in Ultrawide Monitor</th>\n",
       "      <td>183155.18</td>\n",
       "      <td>124636.72</td>\n",
       "      <td>254973.29</td>\n",
       "      <td>194554.88</td>\n",
       "      <td>362890.45</td>\n",
       "      <td>329831.32</td>\n",
       "      <td>28879.24</td>\n",
       "      <td>124256.73</td>\n",
       "      <td>549465.54</td>\n",
       "      <td>202914.66</td>\n",
       "    </tr>\n",
       "    <tr>\n",
       "      <th>AA Batteries (4-pack)</th>\n",
       "      <td>8421.12</td>\n",
       "      <td>5468.16</td>\n",
       "      <td>11581.44</td>\n",
       "      <td>8682.24</td>\n",
       "      <td>17041.92</td>\n",
       "      <td>13939.20</td>\n",
       "      <td>1493.76</td>\n",
       "      <td>5952.00</td>\n",
       "      <td>25171.20</td>\n",
       "      <td>8367.36</td>\n",
       "    </tr>\n",
       "  </tbody>\n",
       "</table>\n",
       "</div>"
      ],
      "text/plain": [
       "Purchase City           Atlanta (GA)  Austin (TX)  Boston (MA)  Dallas (TX)  \\\n",
       "Product                                                                       \n",
       "20in Monitor                37616.58     25297.70     43336.06     37726.57   \n",
       "27in 4K Gaming Monitor     192265.07    124016.82    263243.25    187585.19   \n",
       "27in FHD Monitor            88194.12     53996.40    119542.03     88044.13   \n",
       "34in Ultrawide Monitor     183155.18    124636.72    254973.29    194554.88   \n",
       "AA Batteries (4-pack)        8421.12      5468.16     11581.44      8682.24   \n",
       "\n",
       "Purchase City           Los Angeles (CA)  New York City (NY)  Portland (ME)  \\\n",
       "Product                                                                       \n",
       "20in Monitor                    72373.42            61594.40        6489.41   \n",
       "27in 4K Gaming Monitor         391159.97           328371.58       33149.15   \n",
       "27in FHD Monitor               183437.77           160789.28       17098.86   \n",
       "34in Ultrawide Monitor         362890.45           329831.32       28879.24   \n",
       "AA Batteries (4-pack)           17041.92            13939.20        1493.76   \n",
       "\n",
       "Purchase City           Portland (OR)  San Francisco (CA)  Seattle (WA)  \n",
       "Product                                                                  \n",
       "20in Monitor                 24087.81           109990.00      35636.76  \n",
       "27in 4K Gaming Monitor      136106.51           569385.40     209814.62  \n",
       "27in FHD Monitor             62395.84           272081.86      86844.21  \n",
       "34in Ultrawide Monitor      124256.73           549465.54     202914.66  \n",
       "AA Batteries (4-pack)         5952.00            25171.20       8367.36  "
      ]
     },
     "execution_count": 117,
     "metadata": {},
     "output_type": "execute_result"
    }
   ],
   "source": [
    "prod_per_city_sales.head()"
   ]
  },
  {
   "cell_type": "markdown",
   "metadata": {},
   "source": [
    "We can now plot this matrix using a heathmap. One way to do it is illustrated here: <br> \n",
    "https://www.geeksforgeeks.org/display-the-pandas-dataframe-in-heatmap-style/"
   ]
  },
  {
   "cell_type": "code",
   "execution_count": 118,
   "metadata": {},
   "outputs": [
    {
     "data": {
      "image/png": "[encoded data removed]",
      "text/plain": [
       "<Figure size 720x576 with 2 Axes>"
      ]
     },
     "metadata": {
      "needs_background": "light"
     },
     "output_type": "display_data"
    }
   ],
   "source": [
    "plt.figure(figsize=(10,8))\n",
    "\n",
    "# Displaying dataframe as a heatmap with the given colourmap\n",
    "# _r reverses the normal order of the color map 'RdYlBu'\n",
    "plt.imshow(prod_per_city_sales, cmap =\"RdYlBu_r\") \n",
    "  \n",
    "# Displaying a color bar to denote which color represents which range of data \n",
    "plt.colorbar() \n",
    "\n",
    "plt.yticks(range(len(prod_per_city_sales.index)), prod_per_city_sales.index)\n",
    "plt.xticks(range(len(prod_per_city_sales.columns)), prod_per_city_sales.columns, rotation='vertical')\n",
    "plt.show()\n",
    "\n"
   ]
  },
  {
   "cell_type": "code",
   "execution_count": null,
   "metadata": {},
   "outputs": [],
   "source": []
  }
 ],
 "metadata": {
  "kernelspec": {
   "display_name": "Python 3",
   "language": "python",
   "name": "python3"
  },
  "language_info": {
   "codemirror_mode": {
    "name": "ipython",
    "version": 3
   },
   "file_extension": ".py",
   "mimetype": "text/x-python",
   "name": "python",
   "nbconvert_exporter": "python",
   "pygments_lexer": "ipython3",
   "version": "3.8.6"
  }
 },
 "nbformat": 4,
 "nbformat_minor": 4
}
