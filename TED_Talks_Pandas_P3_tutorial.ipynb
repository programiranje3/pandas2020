{
 "cells": [
  {
   "cell_type": "markdown",
   "metadata": {},
   "source": [
    "# Exploring Pandas' features throught the TED Talks dataset\n",
    "\n",
    "In this tutorial, we will use the TED Talks dataset, available from [Kaggle Datasets](https://www.kaggle.com/rounakbanik/ted-talks) under the [CC BY-NC-SA 4.0 license](https://creativecommons.org/licenses/by-nc-sa/4.0/).\n",
    "\n",
    "This tutorial is partially based on the [Data Science Best Practices with pandas](https://github.com/justmarkham/pycon-2019-tutorial) tutorial presented by Kevin Markham at PyCon2019 on May 2, 2019."
   ]
  },
  {
   "cell_type": "markdown",
   "metadata": {},
   "source": [
    "## Import the required libraries"
   ]
  },
  {
   "cell_type": "code",
   "execution_count": 1,
   "metadata": {},
   "outputs": [],
   "source": [
    "import pandas as pd\n",
    "import matplotlib.pyplot as plt"
   ]
  },
  {
   "cell_type": "markdown",
   "metadata": {},
   "source": [
    "Sometimes you need to know the pandas version you are using, for example, when you need to consult the pandas documentation. You get the pandas version with:"
   ]
  },
  {
   "cell_type": "code",
   "execution_count": 2,
   "metadata": {},
   "outputs": [
    {
     "data": {
      "text/plain": [
       "'1.1.3'"
      ]
     },
     "execution_count": 2,
     "metadata": {},
     "output_type": "execute_result"
    }
   ],
   "source": [
    "pd.__version__"
   ]
  },
  {
   "cell_type": "markdown",
   "metadata": {},
   "source": [
    "## Load and examine the TED talks dataset"
   ]
  },
  {
   "cell_type": "code",
   "execution_count": 3,
   "metadata": {},
   "outputs": [
    {
     "data": {
      "text/html": [
       "<div>\n",
       "<style scoped>\n",
       "    .dataframe tbody tr th:only-of-type {\n",
       "        vertical-align: middle;\n",
       "    }\n",
       "\n",
       "    .dataframe tbody tr th {\n",
       "        vertical-align: top;\n",
       "    }\n",
       "\n",
       "    .dataframe thead th {\n",
       "        text-align: right;\n",
       "    }\n",
       "</style>\n",
       "<table border=\"1\" class=\"dataframe\">\n",
       "  <thead>\n",
       "    <tr style=\"text-align: right;\">\n",
       "      <th></th>\n",
       "      <th>comments</th>\n",
       "      <th>description</th>\n",
       "      <th>duration</th>\n",
       "      <th>event</th>\n",
       "      <th>film_date</th>\n",
       "      <th>languages</th>\n",
       "      <th>main_speaker</th>\n",
       "      <th>name</th>\n",
       "      <th>num_speaker</th>\n",
       "      <th>published_date</th>\n",
       "      <th>ratings</th>\n",
       "      <th>related_talks</th>\n",
       "      <th>speaker_occupation</th>\n",
       "      <th>tags</th>\n",
       "      <th>title</th>\n",
       "      <th>url</th>\n",
       "      <th>views</th>\n",
       "    </tr>\n",
       "  </thead>\n",
       "  <tbody>\n",
       "    <tr>\n",
       "      <th>0</th>\n",
       "      <td>4553</td>\n",
       "      <td>Sir Ken Robinson makes an entertaining and pro...</td>\n",
       "      <td>1164</td>\n",
       "      <td>TED2006</td>\n",
       "      <td>1140825600</td>\n",
       "      <td>60</td>\n",
       "      <td>Ken Robinson</td>\n",
       "      <td>Ken Robinson: Do schools kill creativity?</td>\n",
       "      <td>1</td>\n",
       "      <td>1151367060</td>\n",
       "      <td>[{'id': 7, 'name': 'Funny', 'count': 19645}, {...</td>\n",
       "      <td>[{'id': 865, 'hero': 'https://pe.tedcdn.com/im...</td>\n",
       "      <td>Author/educator</td>\n",
       "      <td>['children', 'creativity', 'culture', 'dance',...</td>\n",
       "      <td>Do schools kill creativity?</td>\n",
       "      <td>https://www.ted.com/talks/ken_robinson_says_sc...</td>\n",
       "      <td>47227110</td>\n",
       "    </tr>\n",
       "    <tr>\n",
       "      <th>1</th>\n",
       "      <td>265</td>\n",
       "      <td>With the same humor and humanity he exuded in ...</td>\n",
       "      <td>977</td>\n",
       "      <td>TED2006</td>\n",
       "      <td>1140825600</td>\n",
       "      <td>43</td>\n",
       "      <td>Al Gore</td>\n",
       "      <td>Al Gore: Averting the climate crisis</td>\n",
       "      <td>1</td>\n",
       "      <td>1151367060</td>\n",
       "      <td>[{'id': 7, 'name': 'Funny', 'count': 544}, {'i...</td>\n",
       "      <td>[{'id': 243, 'hero': 'https://pe.tedcdn.com/im...</td>\n",
       "      <td>Climate advocate</td>\n",
       "      <td>['alternative energy', 'cars', 'climate change...</td>\n",
       "      <td>Averting the climate crisis</td>\n",
       "      <td>https://www.ted.com/talks/al_gore_on_averting_...</td>\n",
       "      <td>3200520</td>\n",
       "    </tr>\n",
       "    <tr>\n",
       "      <th>2</th>\n",
       "      <td>124</td>\n",
       "      <td>New York Times columnist David Pogue takes aim...</td>\n",
       "      <td>1286</td>\n",
       "      <td>TED2006</td>\n",
       "      <td>1140739200</td>\n",
       "      <td>26</td>\n",
       "      <td>David Pogue</td>\n",
       "      <td>David Pogue: Simplicity sells</td>\n",
       "      <td>1</td>\n",
       "      <td>1151367060</td>\n",
       "      <td>[{'id': 7, 'name': 'Funny', 'count': 964}, {'i...</td>\n",
       "      <td>[{'id': 1725, 'hero': 'https://pe.tedcdn.com/i...</td>\n",
       "      <td>Technology columnist</td>\n",
       "      <td>['computers', 'entertainment', 'interface desi...</td>\n",
       "      <td>Simplicity sells</td>\n",
       "      <td>https://www.ted.com/talks/david_pogue_says_sim...</td>\n",
       "      <td>1636292</td>\n",
       "    </tr>\n",
       "    <tr>\n",
       "      <th>3</th>\n",
       "      <td>200</td>\n",
       "      <td>In an emotionally charged talk, MacArthur-winn...</td>\n",
       "      <td>1116</td>\n",
       "      <td>TED2006</td>\n",
       "      <td>1140912000</td>\n",
       "      <td>35</td>\n",
       "      <td>Majora Carter</td>\n",
       "      <td>Majora Carter: Greening the ghetto</td>\n",
       "      <td>1</td>\n",
       "      <td>1151367060</td>\n",
       "      <td>[{'id': 3, 'name': 'Courageous', 'count': 760}...</td>\n",
       "      <td>[{'id': 1041, 'hero': 'https://pe.tedcdn.com/i...</td>\n",
       "      <td>Activist for environmental justice</td>\n",
       "      <td>['MacArthur grant', 'activism', 'business', 'c...</td>\n",
       "      <td>Greening the ghetto</td>\n",
       "      <td>https://www.ted.com/talks/majora_carter_s_tale...</td>\n",
       "      <td>1697550</td>\n",
       "    </tr>\n",
       "    <tr>\n",
       "      <th>4</th>\n",
       "      <td>593</td>\n",
       "      <td>You've never seen data presented like this. Wi...</td>\n",
       "      <td>1190</td>\n",
       "      <td>TED2006</td>\n",
       "      <td>1140566400</td>\n",
       "      <td>48</td>\n",
       "      <td>Hans Rosling</td>\n",
       "      <td>Hans Rosling: The best stats you've ever seen</td>\n",
       "      <td>1</td>\n",
       "      <td>1151440680</td>\n",
       "      <td>[{'id': 9, 'name': 'Ingenious', 'count': 3202}...</td>\n",
       "      <td>[{'id': 2056, 'hero': 'https://pe.tedcdn.com/i...</td>\n",
       "      <td>Global health expert; data visionary</td>\n",
       "      <td>['Africa', 'Asia', 'Google', 'demo', 'economic...</td>\n",
       "      <td>The best stats you've ever seen</td>\n",
       "      <td>https://www.ted.com/talks/hans_rosling_shows_t...</td>\n",
       "      <td>12005869</td>\n",
       "    </tr>\n",
       "  </tbody>\n",
       "</table>\n",
       "</div>"
      ],
      "text/plain": [
       "   comments                                        description  duration  \\\n",
       "0      4553  Sir Ken Robinson makes an entertaining and pro...      1164   \n",
       "1       265  With the same humor and humanity he exuded in ...       977   \n",
       "2       124  New York Times columnist David Pogue takes aim...      1286   \n",
       "3       200  In an emotionally charged talk, MacArthur-winn...      1116   \n",
       "4       593  You've never seen data presented like this. Wi...      1190   \n",
       "\n",
       "     event   film_date  languages   main_speaker  \\\n",
       "0  TED2006  1140825600         60   Ken Robinson   \n",
       "1  TED2006  1140825600         43        Al Gore   \n",
       "2  TED2006  1140739200         26    David Pogue   \n",
       "3  TED2006  1140912000         35  Majora Carter   \n",
       "4  TED2006  1140566400         48   Hans Rosling   \n",
       "\n",
       "                                            name  num_speaker  published_date  \\\n",
       "0      Ken Robinson: Do schools kill creativity?            1      1151367060   \n",
       "1           Al Gore: Averting the climate crisis            1      1151367060   \n",
       "2                  David Pogue: Simplicity sells            1      1151367060   \n",
       "3             Majora Carter: Greening the ghetto            1      1151367060   \n",
       "4  Hans Rosling: The best stats you've ever seen            1      1151440680   \n",
       "\n",
       "                                             ratings  \\\n",
       "0  [{'id': 7, 'name': 'Funny', 'count': 19645}, {...   \n",
       "1  [{'id': 7, 'name': 'Funny', 'count': 544}, {'i...   \n",
       "2  [{'id': 7, 'name': 'Funny', 'count': 964}, {'i...   \n",
       "3  [{'id': 3, 'name': 'Courageous', 'count': 760}...   \n",
       "4  [{'id': 9, 'name': 'Ingenious', 'count': 3202}...   \n",
       "\n",
       "                                       related_talks  \\\n",
       "0  [{'id': 865, 'hero': 'https://pe.tedcdn.com/im...   \n",
       "1  [{'id': 243, 'hero': 'https://pe.tedcdn.com/im...   \n",
       "2  [{'id': 1725, 'hero': 'https://pe.tedcdn.com/i...   \n",
       "3  [{'id': 1041, 'hero': 'https://pe.tedcdn.com/i...   \n",
       "4  [{'id': 2056, 'hero': 'https://pe.tedcdn.com/i...   \n",
       "\n",
       "                     speaker_occupation  \\\n",
       "0                       Author/educator   \n",
       "1                      Climate advocate   \n",
       "2                  Technology columnist   \n",
       "3    Activist for environmental justice   \n",
       "4  Global health expert; data visionary   \n",
       "\n",
       "                                                tags  \\\n",
       "0  ['children', 'creativity', 'culture', 'dance',...   \n",
       "1  ['alternative energy', 'cars', 'climate change...   \n",
       "2  ['computers', 'entertainment', 'interface desi...   \n",
       "3  ['MacArthur grant', 'activism', 'business', 'c...   \n",
       "4  ['Africa', 'Asia', 'Google', 'demo', 'economic...   \n",
       "\n",
       "                             title  \\\n",
       "0      Do schools kill creativity?   \n",
       "1      Averting the climate crisis   \n",
       "2                 Simplicity sells   \n",
       "3              Greening the ghetto   \n",
       "4  The best stats you've ever seen   \n",
       "\n",
       "                                                 url     views  \n",
       "0  https://www.ted.com/talks/ken_robinson_says_sc...  47227110  \n",
       "1  https://www.ted.com/talks/al_gore_on_averting_...   3200520  \n",
       "2  https://www.ted.com/talks/david_pogue_says_sim...   1636292  \n",
       "3  https://www.ted.com/talks/majora_carter_s_tale...   1697550  \n",
       "4  https://www.ted.com/talks/hans_rosling_shows_t...  12005869  "
      ]
     },
     "execution_count": 3,
     "metadata": {},
     "output_type": "execute_result"
    }
   ],
   "source": [
    "ted = pd.read_csv('data/ted.csv')\n",
    "ted.head()"
   ]
  },
  {
   "cell_type": "code",
   "execution_count": 4,
   "metadata": {},
   "outputs": [
    {
     "name": "stdout",
     "output_type": "stream",
     "text": [
      "<class 'pandas.core.frame.DataFrame'>\n",
      "RangeIndex: 2550 entries, 0 to 2549\n",
      "Data columns (total 17 columns):\n",
      " #   Column              Non-Null Count  Dtype \n",
      "---  ------              --------------  ----- \n",
      " 0   comments            2550 non-null   int64 \n",
      " 1   description         2550 non-null   object\n",
      " 2   duration            2550 non-null   int64 \n",
      " 3   event               2550 non-null   object\n",
      " 4   film_date           2550 non-null   int64 \n",
      " 5   languages           2550 non-null   int64 \n",
      " 6   main_speaker        2550 non-null   object\n",
      " 7   name                2550 non-null   object\n",
      " 8   num_speaker         2550 non-null   int64 \n",
      " 9   published_date      2550 non-null   int64 \n",
      " 10  ratings             2550 non-null   object\n",
      " 11  related_talks       2550 non-null   object\n",
      " 12  speaker_occupation  2544 non-null   object\n",
      " 13  tags                2550 non-null   object\n",
      " 14  title               2550 non-null   object\n",
      " 15  url                 2550 non-null   object\n",
      " 16  views               2550 non-null   int64 \n",
      "dtypes: int64(7), object(10)\n",
      "memory usage: 338.8+ KB\n"
     ]
    }
   ],
   "source": [
    "ted.info()"
   ]
  },
  {
   "cell_type": "markdown",
   "metadata": {},
   "source": [
    "### Check for the presence of missing values"
   ]
  },
  {
   "cell_type": "code",
   "execution_count": 5,
   "metadata": {},
   "outputs": [
    {
     "data": {
      "text/plain": [
       "comments              0\n",
       "description           0\n",
       "duration              0\n",
       "event                 0\n",
       "film_date             0\n",
       "languages             0\n",
       "main_speaker          0\n",
       "name                  0\n",
       "num_speaker           0\n",
       "published_date        0\n",
       "ratings               0\n",
       "related_talks         0\n",
       "speaker_occupation    6\n",
       "tags                  0\n",
       "title                 0\n",
       "url                   0\n",
       "views                 0\n",
       "dtype: int64"
      ]
     },
     "execution_count": 5,
     "metadata": {},
     "output_type": "execute_result"
    }
   ],
   "source": [
    "ted.isna().sum()"
   ]
  },
  {
   "cell_type": "markdown",
   "metadata": {},
   "source": [
    "Let's identify who are the speakers with missing occupation and if we can identify their occupation from other records (if they gave more than one talk)"
   ]
  },
  {
   "cell_type": "code",
   "execution_count": 6,
   "metadata": {},
   "outputs": [
    {
     "data": {
      "text/plain": [
       "1113      Sonaar Luthra\n",
       "1192     Rick Falkvinge\n",
       "1220        Gary Kovacs\n",
       "1656      Ryan Holladay\n",
       "1911      Brian Dettmer\n",
       "1949    Boniface Mwangi\n",
       "Name: main_speaker, dtype: object"
      ]
     },
     "execution_count": 6,
     "metadata": {},
     "output_type": "execute_result"
    }
   ],
   "source": [
    "no_occupation_speakers = ted.loc[ted.speaker_occupation.isna(),'main_speaker']\n",
    "no_occupation_speakers"
   ]
  },
  {
   "cell_type": "markdown",
   "metadata": {},
   "source": [
    "Compute the number of observations (talks) per each speaker"
   ]
  },
  {
   "cell_type": "code",
   "execution_count": 7,
   "metadata": {},
   "outputs": [
    {
     "data": {
      "text/plain": [
       "Hans Rosling         9\n",
       "Juan Enriquez        7\n",
       "Marco Tempest        6\n",
       "Rives                6\n",
       "Julian Treasure      5\n",
       "                    ..\n",
       "Vikram Patel         1\n",
       "Mariana Mazzucato    1\n",
       "Cosmin Mihaiu        1\n",
       "Sebastian Kraves     1\n",
       "Bastian Schaefer     1\n",
       "Name: main_speaker, Length: 2156, dtype: int64"
      ]
     },
     "execution_count": 7,
     "metadata": {},
     "output_type": "execute_result"
    }
   ],
   "source": [
    "ted.main_speaker.value_counts()"
   ]
  },
  {
   "cell_type": "markdown",
   "metadata": {},
   "source": [
    "Among all speakers, select those with the missing occupation"
   ]
  },
  {
   "cell_type": "code",
   "execution_count": 8,
   "metadata": {},
   "outputs": [
    {
     "data": {
      "text/plain": [
       "Sonaar Luthra      1\n",
       "Rick Falkvinge     1\n",
       "Gary Kovacs        1\n",
       "Ryan Holladay      1\n",
       "Brian Dettmer      1\n",
       "Boniface Mwangi    1\n",
       "Name: main_speaker, dtype: int64"
      ]
     },
     "execution_count": 8,
     "metadata": {},
     "output_type": "execute_result"
    }
   ],
   "source": [
    "ted.main_speaker.value_counts()[no_occupation_speakers.values]"
   ]
  },
  {
   "cell_type": "markdown",
   "metadata": {},
   "source": [
    "Unfortunately, there are no additional records that could be used to fill the missing occupation values."
   ]
  },
  {
   "cell_type": "markdown",
   "metadata": {},
   "source": [
    "### Transform filming date and publication date into datetime columns"
   ]
  },
  {
   "cell_type": "code",
   "execution_count": 9,
   "metadata": {},
   "outputs": [
    {
     "data": {
      "text/plain": [
       "0    1140825600\n",
       "1    1140825600\n",
       "2    1140739200\n",
       "3    1140912000\n",
       "4    1140566400\n",
       "Name: film_date, dtype: int64"
      ]
     },
     "execution_count": 9,
     "metadata": {},
     "output_type": "execute_result"
    }
   ],
   "source": [
    "ted['film_date'].head()"
   ]
  },
  {
   "cell_type": "markdown",
   "metadata": {},
   "source": [
    "Note that film date is given as *Unix epoch time*, that is, the number of seconds that have elapsed since January 1, 1970. \n",
    "\n",
    "For more about epoch time, see: https://www.epochconverter.com/"
   ]
  },
  {
   "cell_type": "code",
   "execution_count": 10,
   "metadata": {},
   "outputs": [],
   "source": [
    "ted['filming_date'] = pd.to_datetime(ted['film_date'], unit='s')"
   ]
  },
  {
   "cell_type": "code",
   "execution_count": 11,
   "metadata": {},
   "outputs": [
    {
     "data": {
      "text/plain": [
       "0   2006-02-25\n",
       "1   2006-02-25\n",
       "2   2006-02-24\n",
       "3   2006-02-26\n",
       "4   2006-02-22\n",
       "Name: filming_date, dtype: datetime64[ns]"
      ]
     },
     "execution_count": 11,
     "metadata": {},
     "output_type": "execute_result"
    }
   ],
   "source": [
    "ted.filming_date.head()"
   ]
  },
  {
   "cell_type": "code",
   "execution_count": 12,
   "metadata": {},
   "outputs": [
    {
     "data": {
      "text/plain": [
       "0    1151367060\n",
       "1    1151367060\n",
       "2    1151367060\n",
       "3    1151367060\n",
       "4    1151440680\n",
       "Name: published_date, dtype: int64"
      ]
     },
     "execution_count": 12,
     "metadata": {},
     "output_type": "execute_result"
    }
   ],
   "source": [
    "ted.published_date.head()"
   ]
  },
  {
   "cell_type": "markdown",
   "metadata": {},
   "source": [
    "Also, published date is recorded as Unix epoch time"
   ]
  },
  {
   "cell_type": "code",
   "execution_count": 13,
   "metadata": {},
   "outputs": [],
   "source": [
    "ted['publication_date'] = pd.to_datetime(ted['published_date'], unit='s')"
   ]
  },
  {
   "cell_type": "code",
   "execution_count": 14,
   "metadata": {},
   "outputs": [
    {
     "data": {
      "text/html": [
       "<div>\n",
       "<style scoped>\n",
       "    .dataframe tbody tr th:only-of-type {\n",
       "        vertical-align: middle;\n",
       "    }\n",
       "\n",
       "    .dataframe tbody tr th {\n",
       "        vertical-align: top;\n",
       "    }\n",
       "\n",
       "    .dataframe thead th {\n",
       "        text-align: right;\n",
       "    }\n",
       "</style>\n",
       "<table border=\"1\" class=\"dataframe\">\n",
       "  <thead>\n",
       "    <tr style=\"text-align: right;\">\n",
       "      <th></th>\n",
       "      <th>comments</th>\n",
       "      <th>description</th>\n",
       "      <th>duration</th>\n",
       "      <th>event</th>\n",
       "      <th>film_date</th>\n",
       "      <th>languages</th>\n",
       "      <th>main_speaker</th>\n",
       "      <th>name</th>\n",
       "      <th>num_speaker</th>\n",
       "      <th>published_date</th>\n",
       "      <th>ratings</th>\n",
       "      <th>related_talks</th>\n",
       "      <th>speaker_occupation</th>\n",
       "      <th>tags</th>\n",
       "      <th>title</th>\n",
       "      <th>url</th>\n",
       "      <th>views</th>\n",
       "      <th>filming_date</th>\n",
       "      <th>publication_date</th>\n",
       "    </tr>\n",
       "  </thead>\n",
       "  <tbody>\n",
       "    <tr>\n",
       "      <th>1641</th>\n",
       "      <td>80</td>\n",
       "      <td>Snow Dragon. Pure Imagination. Frozen Minotaur...</td>\n",
       "      <td>482</td>\n",
       "      <td>TEDYouth 2013</td>\n",
       "      <td>1384560000</td>\n",
       "      <td>26</td>\n",
       "      <td>Eddy Cartaya</td>\n",
       "      <td>Eddy Cartaya: My glacier cave discoveries</td>\n",
       "      <td>1</td>\n",
       "      <td>1386777481</td>\n",
       "      <td>[{'id': 3, 'name': 'Courageous', 'count': 21},...</td>\n",
       "      <td>[{'id': 89, 'hero': 'https://pe.tedcdn.com/ima...</td>\n",
       "      <td>Cave Explorer</td>\n",
       "      <td>['TEDYouth', 'exploration']</td>\n",
       "      <td>My glacier cave discoveries</td>\n",
       "      <td>https://www.ted.com/talks/eddy_cartaya_my_glac...</td>\n",
       "      <td>666996</td>\n",
       "      <td>2013-11-16</td>\n",
       "      <td>2013-12-11 15:58:01</td>\n",
       "    </tr>\n",
       "    <tr>\n",
       "      <th>2320</th>\n",
       "      <td>90</td>\n",
       "      <td>With warmth and wit, Halla Tómasdóttir shares ...</td>\n",
       "      <td>1158</td>\n",
       "      <td>TEDWomen 2016</td>\n",
       "      <td>1477612800</td>\n",
       "      <td>22</td>\n",
       "      <td>Halla Tómasdóttir</td>\n",
       "      <td>Halla Tómasdóttir: It's time for women to run ...</td>\n",
       "      <td>1</td>\n",
       "      <td>1478274563</td>\n",
       "      <td>[{'id': 3, 'name': 'Courageous', 'count': 233}...</td>\n",
       "      <td>[{'id': 1030, 'hero': 'https://pe.tedcdn.com/i...</td>\n",
       "      <td>Change catalyst</td>\n",
       "      <td>['Gender equality', 'culture', 'democracy', 'g...</td>\n",
       "      <td>It's time for women to run for office</td>\n",
       "      <td>https://www.ted.com/talks/halla_tomasdottir_it...</td>\n",
       "      <td>877915</td>\n",
       "      <td>2016-10-28</td>\n",
       "      <td>2016-11-04 15:49:23</td>\n",
       "    </tr>\n",
       "    <tr>\n",
       "      <th>2499</th>\n",
       "      <td>46</td>\n",
       "      <td>Artist Titus Kaphar makes paintings and sculpt...</td>\n",
       "      <td>772</td>\n",
       "      <td>TED2017</td>\n",
       "      <td>1492992000</td>\n",
       "      <td>12</td>\n",
       "      <td>Titus Kaphar</td>\n",
       "      <td>Titus Kaphar: Can art amend history?</td>\n",
       "      <td>1</td>\n",
       "      <td>1501599710</td>\n",
       "      <td>[{'id': 10, 'name': 'Inspiring', 'count': 94},...</td>\n",
       "      <td>[{'id': 2532, 'hero': 'https://pe.tedcdn.com/i...</td>\n",
       "      <td>Artist</td>\n",
       "      <td>['art', 'history', 'identity', 'inequality', '...</td>\n",
       "      <td>Can art amend history?</td>\n",
       "      <td>https://www.ted.com/talks/titus_kaphar_can_art...</td>\n",
       "      <td>890748</td>\n",
       "      <td>2017-04-24</td>\n",
       "      <td>2017-08-01 15:01:50</td>\n",
       "    </tr>\n",
       "    <tr>\n",
       "      <th>2325</th>\n",
       "      <td>106</td>\n",
       "      <td>Now more than ever, it's important to look bol...</td>\n",
       "      <td>1129</td>\n",
       "      <td>TEDWomen 2016</td>\n",
       "      <td>1477526400</td>\n",
       "      <td>16</td>\n",
       "      <td>Kimberlé Crenshaw</td>\n",
       "      <td>Kimberlé Crenshaw: The urgency of intersection...</td>\n",
       "      <td>2</td>\n",
       "      <td>1479140461</td>\n",
       "      <td>[{'id': 26, 'name': 'Obnoxious', 'count': 21},...</td>\n",
       "      <td>[{'id': 1378, 'hero': 'https://pe.tedcdn.com/i...</td>\n",
       "      <td>Civil rights advocate</td>\n",
       "      <td>['activism', 'community', 'gender', 'humanity'...</td>\n",
       "      <td>The urgency of intersectionality</td>\n",
       "      <td>https://www.ted.com/talks/kimberle_crenshaw_th...</td>\n",
       "      <td>857330</td>\n",
       "      <td>2016-10-27</td>\n",
       "      <td>2016-11-14 16:21:01</td>\n",
       "    </tr>\n",
       "    <tr>\n",
       "      <th>5</th>\n",
       "      <td>672</td>\n",
       "      <td>Tony Robbins discusses the \"invisible forces\" ...</td>\n",
       "      <td>1305</td>\n",
       "      <td>TED2006</td>\n",
       "      <td>1138838400</td>\n",
       "      <td>36</td>\n",
       "      <td>Tony Robbins</td>\n",
       "      <td>Tony Robbins: Why we do what we do</td>\n",
       "      <td>1</td>\n",
       "      <td>1151440680</td>\n",
       "      <td>[{'id': 7, 'name': 'Funny', 'count': 1102}, {'...</td>\n",
       "      <td>[{'id': 229, 'hero': 'https://pe.tedcdn.com/im...</td>\n",
       "      <td>Life coach; expert in leadership psychology</td>\n",
       "      <td>['business', 'culture', 'entertainment', 'goal...</td>\n",
       "      <td>Why we do what we do</td>\n",
       "      <td>https://www.ted.com/talks/tony_robbins_asks_wh...</td>\n",
       "      <td>20685401</td>\n",
       "      <td>2006-02-02</td>\n",
       "      <td>2006-06-27 20:38:00</td>\n",
       "    </tr>\n",
       "  </tbody>\n",
       "</table>\n",
       "</div>"
      ],
      "text/plain": [
       "      comments                                        description  duration  \\\n",
       "1641        80  Snow Dragon. Pure Imagination. Frozen Minotaur...       482   \n",
       "2320        90  With warmth and wit, Halla Tómasdóttir shares ...      1158   \n",
       "2499        46  Artist Titus Kaphar makes paintings and sculpt...       772   \n",
       "2325       106  Now more than ever, it's important to look bol...      1129   \n",
       "5          672  Tony Robbins discusses the \"invisible forces\" ...      1305   \n",
       "\n",
       "              event   film_date  languages       main_speaker  \\\n",
       "1641  TEDYouth 2013  1384560000         26       Eddy Cartaya   \n",
       "2320  TEDWomen 2016  1477612800         22  Halla Tómasdóttir   \n",
       "2499        TED2017  1492992000         12       Titus Kaphar   \n",
       "2325  TEDWomen 2016  1477526400         16  Kimberlé Crenshaw   \n",
       "5           TED2006  1138838400         36       Tony Robbins   \n",
       "\n",
       "                                                   name  num_speaker  \\\n",
       "1641          Eddy Cartaya: My glacier cave discoveries            1   \n",
       "2320  Halla Tómasdóttir: It's time for women to run ...            1   \n",
       "2499               Titus Kaphar: Can art amend history?            1   \n",
       "2325  Kimberlé Crenshaw: The urgency of intersection...            2   \n",
       "5                    Tony Robbins: Why we do what we do            1   \n",
       "\n",
       "      published_date                                            ratings  \\\n",
       "1641      1386777481  [{'id': 3, 'name': 'Courageous', 'count': 21},...   \n",
       "2320      1478274563  [{'id': 3, 'name': 'Courageous', 'count': 233}...   \n",
       "2499      1501599710  [{'id': 10, 'name': 'Inspiring', 'count': 94},...   \n",
       "2325      1479140461  [{'id': 26, 'name': 'Obnoxious', 'count': 21},...   \n",
       "5         1151440680  [{'id': 7, 'name': 'Funny', 'count': 1102}, {'...   \n",
       "\n",
       "                                          related_talks  \\\n",
       "1641  [{'id': 89, 'hero': 'https://pe.tedcdn.com/ima...   \n",
       "2320  [{'id': 1030, 'hero': 'https://pe.tedcdn.com/i...   \n",
       "2499  [{'id': 2532, 'hero': 'https://pe.tedcdn.com/i...   \n",
       "2325  [{'id': 1378, 'hero': 'https://pe.tedcdn.com/i...   \n",
       "5     [{'id': 229, 'hero': 'https://pe.tedcdn.com/im...   \n",
       "\n",
       "                               speaker_occupation  \\\n",
       "1641                                Cave Explorer   \n",
       "2320                              Change catalyst   \n",
       "2499                                       Artist   \n",
       "2325                        Civil rights advocate   \n",
       "5     Life coach; expert in leadership psychology   \n",
       "\n",
       "                                                   tags  \\\n",
       "1641                        ['TEDYouth', 'exploration']   \n",
       "2320  ['Gender equality', 'culture', 'democracy', 'g...   \n",
       "2499  ['art', 'history', 'identity', 'inequality', '...   \n",
       "2325  ['activism', 'community', 'gender', 'humanity'...   \n",
       "5     ['business', 'culture', 'entertainment', 'goal...   \n",
       "\n",
       "                                      title  \\\n",
       "1641            My glacier cave discoveries   \n",
       "2320  It's time for women to run for office   \n",
       "2499                 Can art amend history?   \n",
       "2325       The urgency of intersectionality   \n",
       "5                      Why we do what we do   \n",
       "\n",
       "                                                    url     views  \\\n",
       "1641  https://www.ted.com/talks/eddy_cartaya_my_glac...    666996   \n",
       "2320  https://www.ted.com/talks/halla_tomasdottir_it...    877915   \n",
       "2499  https://www.ted.com/talks/titus_kaphar_can_art...    890748   \n",
       "2325  https://www.ted.com/talks/kimberle_crenshaw_th...    857330   \n",
       "5     https://www.ted.com/talks/tony_robbins_asks_wh...  20685401   \n",
       "\n",
       "     filming_date    publication_date  \n",
       "1641   2013-11-16 2013-12-11 15:58:01  \n",
       "2320   2016-10-28 2016-11-04 15:49:23  \n",
       "2499   2017-04-24 2017-08-01 15:01:50  \n",
       "2325   2016-10-27 2016-11-14 16:21:01  \n",
       "5      2006-02-02 2006-06-27 20:38:00  "
      ]
     },
     "execution_count": 14,
     "metadata": {},
     "output_type": "execute_result"
    }
   ],
   "source": [
    "ted.sample(5)"
   ]
  },
  {
   "cell_type": "markdown",
   "metadata": {},
   "source": [
    "### Drop columns that are no longer needed"
   ]
  },
  {
   "cell_type": "code",
   "execution_count": 15,
   "metadata": {},
   "outputs": [],
   "source": [
    "ted.drop(columns=['film_date', 'published_date'], inplace=True)"
   ]
  },
  {
   "cell_type": "code",
   "execution_count": 16,
   "metadata": {},
   "outputs": [
    {
     "data": {
      "text/plain": [
       "Index(['comments', 'description', 'duration', 'event', 'languages',\n",
       "       'main_speaker', 'name', 'num_speaker', 'ratings', 'related_talks',\n",
       "       'speaker_occupation', 'tags', 'title', 'url', 'views', 'filming_date',\n",
       "       'publication_date'],\n",
       "      dtype='object')"
      ]
     },
     "execution_count": 16,
     "metadata": {},
     "output_type": "execute_result"
    }
   ],
   "source": [
    "ted.columns"
   ]
  },
  {
   "cell_type": "markdown",
   "metadata": {},
   "source": [
    "### How to change columns' names? \n",
    "\n",
    "The most flexible method for renaming columns is the `rename()` method. One should pass it a dictionary in which the keys are the old column names and the values are the new names, and specify the axis to be 'columns'."
   ]
  },
  {
   "cell_type": "markdown",
   "metadata": {},
   "source": [
    "For example, rename columns 'comments' and 'views' to 'comment_count' and 'view_count', respectively"
   ]
  },
  {
   "cell_type": "code",
   "execution_count": 17,
   "metadata": {},
   "outputs": [],
   "source": [
    "ted = ted.rename({'comments':'comment_count', 'views':'view_count'}, axis='columns')"
   ]
  },
  {
   "cell_type": "code",
   "execution_count": 18,
   "metadata": {},
   "outputs": [
    {
     "data": {
      "text/plain": [
       "Index(['comment_count', 'description', 'duration', 'event', 'languages',\n",
       "       'main_speaker', 'name', 'num_speaker', 'ratings', 'related_talks',\n",
       "       'speaker_occupation', 'tags', 'title', 'url', 'view_count',\n",
       "       'filming_date', 'publication_date'],\n",
       "      dtype='object')"
      ]
     },
     "execution_count": 18,
     "metadata": {},
     "output_type": "execute_result"
    }
   ],
   "source": [
    "ted.columns"
   ]
  },
  {
   "cell_type": "markdown",
   "metadata": {},
   "source": [
    "In case you may need that, you can get column names as a list, as follows:"
   ]
  },
  {
   "cell_type": "code",
   "execution_count": 19,
   "metadata": {},
   "outputs": [
    {
     "data": {
      "text/plain": [
       "['comment_count',\n",
       " 'description',\n",
       " 'duration',\n",
       " 'event',\n",
       " 'languages',\n",
       " 'main_speaker',\n",
       " 'name',\n",
       " 'num_speaker',\n",
       " 'ratings',\n",
       " 'related_talks',\n",
       " 'speaker_occupation',\n",
       " 'tags',\n",
       " 'title',\n",
       " 'url',\n",
       " 'view_count',\n",
       " 'filming_date',\n",
       " 'publication_date']"
      ]
     },
     "execution_count": 19,
     "metadata": {},
     "output_type": "execute_result"
    }
   ],
   "source": [
    "ted.columns.values.tolist()"
   ]
  },
  {
   "cell_type": "markdown",
   "metadata": {},
   "source": [
    "## Task 1: Compute and plot the number of talks that took place each year"
   ]
  },
  {
   "cell_type": "markdown",
   "metadata": {},
   "source": [
    "To do this, we need to extract the year from the filming date, and group talks on the year basis"
   ]
  },
  {
   "cell_type": "code",
   "execution_count": 20,
   "metadata": {},
   "outputs": [
    {
     "data": {
      "text/plain": [
       "0    2006\n",
       "1    2006\n",
       "2    2006\n",
       "3    2006\n",
       "4    2006\n",
       "Name: event_year, dtype: int64"
      ]
     },
     "execution_count": 20,
     "metadata": {},
     "output_type": "execute_result"
    }
   ],
   "source": [
    "ted['event_year'] = ted['filming_date'].dt.year\n",
    "ted.event_year.head()"
   ]
  },
  {
   "cell_type": "markdown",
   "metadata": {},
   "source": [
    "Compute the number of talks per year"
   ]
  },
  {
   "cell_type": "code",
   "execution_count": 21,
   "metadata": {},
   "outputs": [
    {
     "data": {
      "text/plain": [
       "2013    270\n",
       "2011    270\n",
       "2010    267\n",
       "2012    267\n",
       "2016    246\n",
       "2015    239\n",
       "2014    237\n",
       "2009    232\n",
       "2007    114\n",
       "2017     98\n",
       "2008     84\n",
       "2005     66\n",
       "2006     50\n",
       "2003     33\n",
       "2004     33\n",
       "2002     27\n",
       "1998      6\n",
       "2001      5\n",
       "1983      1\n",
       "1991      1\n",
       "1994      1\n",
       "1990      1\n",
       "1984      1\n",
       "1972      1\n",
       "Name: event_year, dtype: int64"
      ]
     },
     "execution_count": 21,
     "metadata": {},
     "output_type": "execute_result"
    }
   ],
   "source": [
    "ted.event_year.value_counts()"
   ]
  },
  {
   "cell_type": "markdown",
   "metadata": {},
   "source": [
    "Note that the counts are by default sorted in descending order of count value. This is fine if we are interested in identifying years with the highest / lowest number of talks. <br>\n",
    "However, if we want to plot the number of talks per year, we need the talk counts ordered based on the year. To get that, we can do the sort based on the index:"
   ]
  },
  {
   "cell_type": "code",
   "execution_count": 22,
   "metadata": {},
   "outputs": [],
   "source": [
    "talks_per_year = ted.event_year.value_counts()\n",
    "talks_per_year.sort_index(inplace=True)"
   ]
  },
  {
   "cell_type": "code",
   "execution_count": 23,
   "metadata": {},
   "outputs": [
    {
     "data": {
      "text/plain": [
       "1972      1\n",
       "1983      1\n",
       "1984      1\n",
       "1990      1\n",
       "1991      1\n",
       "1994      1\n",
       "1998      6\n",
       "2001      5\n",
       "2002     27\n",
       "2003     33\n",
       "2004     33\n",
       "2005     66\n",
       "2006     50\n",
       "2007    114\n",
       "2008     84\n",
       "2009    232\n",
       "2010    267\n",
       "2011    270\n",
       "2012    267\n",
       "2013    270\n",
       "2014    237\n",
       "2015    239\n",
       "2016    246\n",
       "2017     98\n",
       "Name: event_year, dtype: int64"
      ]
     },
     "execution_count": 23,
     "metadata": {},
     "output_type": "execute_result"
    }
   ],
   "source": [
    "talks_per_year"
   ]
  },
  {
   "cell_type": "markdown",
   "metadata": {},
   "source": [
    "Now, we can plot talk counts across years"
   ]
  },
  {
   "cell_type": "code",
   "execution_count": 24,
   "metadata": {},
   "outputs": [
    {
     "data": {
      "image/png": "[encoded data removed]",
      "text/plain": [
       "<Figure size 648x360 with 1 Axes>"
      ]
     },
     "metadata": {
      "needs_background": "light"
     },
     "output_type": "display_data"
    }
   ],
   "source": [
    "plt.figure(figsize=(9,5))\n",
    "plt.plot(talks_per_year.index, talks_per_year.values, marker='*')\n",
    "plt.xticks(talks_per_year.index, rotation='vertical', size=8)\n",
    "plt.title(\"Number of TED talks per year\")\n",
    "plt.show()"
   ]
  },
  {
   "cell_type": "markdown",
   "metadata": {},
   "source": [
    "## Task 2: Which TED events attracted the most attention?\n",
    "\n",
    "Consider the number of views as a proxy of an event's attractiveness"
   ]
  },
  {
   "cell_type": "code",
   "execution_count": 25,
   "metadata": {},
   "outputs": [
    {
     "data": {
      "text/html": [
       "<div>\n",
       "<style scoped>\n",
       "    .dataframe tbody tr th:only-of-type {\n",
       "        vertical-align: middle;\n",
       "    }\n",
       "\n",
       "    .dataframe tbody tr th {\n",
       "        vertical-align: top;\n",
       "    }\n",
       "\n",
       "    .dataframe thead th {\n",
       "        text-align: right;\n",
       "    }\n",
       "</style>\n",
       "<table border=\"1\" class=\"dataframe\">\n",
       "  <thead>\n",
       "    <tr style=\"text-align: right;\">\n",
       "      <th></th>\n",
       "      <th>comment_count</th>\n",
       "      <th>description</th>\n",
       "      <th>duration</th>\n",
       "      <th>event</th>\n",
       "      <th>languages</th>\n",
       "      <th>main_speaker</th>\n",
       "      <th>name</th>\n",
       "      <th>num_speaker</th>\n",
       "      <th>ratings</th>\n",
       "      <th>related_talks</th>\n",
       "      <th>speaker_occupation</th>\n",
       "      <th>tags</th>\n",
       "      <th>title</th>\n",
       "      <th>url</th>\n",
       "      <th>view_count</th>\n",
       "      <th>filming_date</th>\n",
       "      <th>publication_date</th>\n",
       "      <th>event_year</th>\n",
       "    </tr>\n",
       "  </thead>\n",
       "  <tbody>\n",
       "    <tr>\n",
       "      <th>0</th>\n",
       "      <td>4553</td>\n",
       "      <td>Sir Ken Robinson makes an entertaining and pro...</td>\n",
       "      <td>1164</td>\n",
       "      <td>TED2006</td>\n",
       "      <td>60</td>\n",
       "      <td>Ken Robinson</td>\n",
       "      <td>Ken Robinson: Do schools kill creativity?</td>\n",
       "      <td>1</td>\n",
       "      <td>[{'id': 7, 'name': 'Funny', 'count': 19645}, {...</td>\n",
       "      <td>[{'id': 865, 'hero': 'https://pe.tedcdn.com/im...</td>\n",
       "      <td>Author/educator</td>\n",
       "      <td>['children', 'creativity', 'culture', 'dance',...</td>\n",
       "      <td>Do schools kill creativity?</td>\n",
       "      <td>https://www.ted.com/talks/ken_robinson_says_sc...</td>\n",
       "      <td>47227110</td>\n",
       "      <td>2006-02-25</td>\n",
       "      <td>2006-06-27 00:11:00</td>\n",
       "      <td>2006</td>\n",
       "    </tr>\n",
       "    <tr>\n",
       "      <th>1</th>\n",
       "      <td>265</td>\n",
       "      <td>With the same humor and humanity he exuded in ...</td>\n",
       "      <td>977</td>\n",
       "      <td>TED2006</td>\n",
       "      <td>43</td>\n",
       "      <td>Al Gore</td>\n",
       "      <td>Al Gore: Averting the climate crisis</td>\n",
       "      <td>1</td>\n",
       "      <td>[{'id': 7, 'name': 'Funny', 'count': 544}, {'i...</td>\n",
       "      <td>[{'id': 243, 'hero': 'https://pe.tedcdn.com/im...</td>\n",
       "      <td>Climate advocate</td>\n",
       "      <td>['alternative energy', 'cars', 'climate change...</td>\n",
       "      <td>Averting the climate crisis</td>\n",
       "      <td>https://www.ted.com/talks/al_gore_on_averting_...</td>\n",
       "      <td>3200520</td>\n",
       "      <td>2006-02-25</td>\n",
       "      <td>2006-06-27 00:11:00</td>\n",
       "      <td>2006</td>\n",
       "    </tr>\n",
       "    <tr>\n",
       "      <th>2</th>\n",
       "      <td>124</td>\n",
       "      <td>New York Times columnist David Pogue takes aim...</td>\n",
       "      <td>1286</td>\n",
       "      <td>TED2006</td>\n",
       "      <td>26</td>\n",
       "      <td>David Pogue</td>\n",
       "      <td>David Pogue: Simplicity sells</td>\n",
       "      <td>1</td>\n",
       "      <td>[{'id': 7, 'name': 'Funny', 'count': 964}, {'i...</td>\n",
       "      <td>[{'id': 1725, 'hero': 'https://pe.tedcdn.com/i...</td>\n",
       "      <td>Technology columnist</td>\n",
       "      <td>['computers', 'entertainment', 'interface desi...</td>\n",
       "      <td>Simplicity sells</td>\n",
       "      <td>https://www.ted.com/talks/david_pogue_says_sim...</td>\n",
       "      <td>1636292</td>\n",
       "      <td>2006-02-24</td>\n",
       "      <td>2006-06-27 00:11:00</td>\n",
       "      <td>2006</td>\n",
       "    </tr>\n",
       "    <tr>\n",
       "      <th>3</th>\n",
       "      <td>200</td>\n",
       "      <td>In an emotionally charged talk, MacArthur-winn...</td>\n",
       "      <td>1116</td>\n",
       "      <td>TED2006</td>\n",
       "      <td>35</td>\n",
       "      <td>Majora Carter</td>\n",
       "      <td>Majora Carter: Greening the ghetto</td>\n",
       "      <td>1</td>\n",
       "      <td>[{'id': 3, 'name': 'Courageous', 'count': 760}...</td>\n",
       "      <td>[{'id': 1041, 'hero': 'https://pe.tedcdn.com/i...</td>\n",
       "      <td>Activist for environmental justice</td>\n",
       "      <td>['MacArthur grant', 'activism', 'business', 'c...</td>\n",
       "      <td>Greening the ghetto</td>\n",
       "      <td>https://www.ted.com/talks/majora_carter_s_tale...</td>\n",
       "      <td>1697550</td>\n",
       "      <td>2006-02-26</td>\n",
       "      <td>2006-06-27 00:11:00</td>\n",
       "      <td>2006</td>\n",
       "    </tr>\n",
       "    <tr>\n",
       "      <th>4</th>\n",
       "      <td>593</td>\n",
       "      <td>You've never seen data presented like this. Wi...</td>\n",
       "      <td>1190</td>\n",
       "      <td>TED2006</td>\n",
       "      <td>48</td>\n",
       "      <td>Hans Rosling</td>\n",
       "      <td>Hans Rosling: The best stats you've ever seen</td>\n",
       "      <td>1</td>\n",
       "      <td>[{'id': 9, 'name': 'Ingenious', 'count': 3202}...</td>\n",
       "      <td>[{'id': 2056, 'hero': 'https://pe.tedcdn.com/i...</td>\n",
       "      <td>Global health expert; data visionary</td>\n",
       "      <td>['Africa', 'Asia', 'Google', 'demo', 'economic...</td>\n",
       "      <td>The best stats you've ever seen</td>\n",
       "      <td>https://www.ted.com/talks/hans_rosling_shows_t...</td>\n",
       "      <td>12005869</td>\n",
       "      <td>2006-02-22</td>\n",
       "      <td>2006-06-27 20:38:00</td>\n",
       "      <td>2006</td>\n",
       "    </tr>\n",
       "  </tbody>\n",
       "</table>\n",
       "</div>"
      ],
      "text/plain": [
       "   comment_count                                        description  duration  \\\n",
       "0           4553  Sir Ken Robinson makes an entertaining and pro...      1164   \n",
       "1            265  With the same humor and humanity he exuded in ...       977   \n",
       "2            124  New York Times columnist David Pogue takes aim...      1286   \n",
       "3            200  In an emotionally charged talk, MacArthur-winn...      1116   \n",
       "4            593  You've never seen data presented like this. Wi...      1190   \n",
       "\n",
       "     event  languages   main_speaker  \\\n",
       "0  TED2006         60   Ken Robinson   \n",
       "1  TED2006         43        Al Gore   \n",
       "2  TED2006         26    David Pogue   \n",
       "3  TED2006         35  Majora Carter   \n",
       "4  TED2006         48   Hans Rosling   \n",
       "\n",
       "                                            name  num_speaker  \\\n",
       "0      Ken Robinson: Do schools kill creativity?            1   \n",
       "1           Al Gore: Averting the climate crisis            1   \n",
       "2                  David Pogue: Simplicity sells            1   \n",
       "3             Majora Carter: Greening the ghetto            1   \n",
       "4  Hans Rosling: The best stats you've ever seen            1   \n",
       "\n",
       "                                             ratings  \\\n",
       "0  [{'id': 7, 'name': 'Funny', 'count': 19645}, {...   \n",
       "1  [{'id': 7, 'name': 'Funny', 'count': 544}, {'i...   \n",
       "2  [{'id': 7, 'name': 'Funny', 'count': 964}, {'i...   \n",
       "3  [{'id': 3, 'name': 'Courageous', 'count': 760}...   \n",
       "4  [{'id': 9, 'name': 'Ingenious', 'count': 3202}...   \n",
       "\n",
       "                                       related_talks  \\\n",
       "0  [{'id': 865, 'hero': 'https://pe.tedcdn.com/im...   \n",
       "1  [{'id': 243, 'hero': 'https://pe.tedcdn.com/im...   \n",
       "2  [{'id': 1725, 'hero': 'https://pe.tedcdn.com/i...   \n",
       "3  [{'id': 1041, 'hero': 'https://pe.tedcdn.com/i...   \n",
       "4  [{'id': 2056, 'hero': 'https://pe.tedcdn.com/i...   \n",
       "\n",
       "                     speaker_occupation  \\\n",
       "0                       Author/educator   \n",
       "1                      Climate advocate   \n",
       "2                  Technology columnist   \n",
       "3    Activist for environmental justice   \n",
       "4  Global health expert; data visionary   \n",
       "\n",
       "                                                tags  \\\n",
       "0  ['children', 'creativity', 'culture', 'dance',...   \n",
       "1  ['alternative energy', 'cars', 'climate change...   \n",
       "2  ['computers', 'entertainment', 'interface desi...   \n",
       "3  ['MacArthur grant', 'activism', 'business', 'c...   \n",
       "4  ['Africa', 'Asia', 'Google', 'demo', 'economic...   \n",
       "\n",
       "                             title  \\\n",
       "0      Do schools kill creativity?   \n",
       "1      Averting the climate crisis   \n",
       "2                 Simplicity sells   \n",
       "3              Greening the ghetto   \n",
       "4  The best stats you've ever seen   \n",
       "\n",
       "                                                 url  view_count filming_date  \\\n",
       "0  https://www.ted.com/talks/ken_robinson_says_sc...    47227110   2006-02-25   \n",
       "1  https://www.ted.com/talks/al_gore_on_averting_...     3200520   2006-02-25   \n",
       "2  https://www.ted.com/talks/david_pogue_says_sim...     1636292   2006-02-24   \n",
       "3  https://www.ted.com/talks/majora_carter_s_tale...     1697550   2006-02-26   \n",
       "4  https://www.ted.com/talks/hans_rosling_shows_t...    12005869   2006-02-22   \n",
       "\n",
       "     publication_date  event_year  \n",
       "0 2006-06-27 00:11:00        2006  \n",
       "1 2006-06-27 00:11:00        2006  \n",
       "2 2006-06-27 00:11:00        2006  \n",
       "3 2006-06-27 00:11:00        2006  \n",
       "4 2006-06-27 20:38:00        2006  "
      ]
     },
     "execution_count": 25,
     "metadata": {},
     "output_type": "execute_result"
    }
   ],
   "source": [
    "ted.head()"
   ]
  },
  {
   "cell_type": "markdown",
   "metadata": {},
   "source": [
    "Compute average number of views per talk during each event"
   ]
  },
  {
   "cell_type": "code",
   "execution_count": 26,
   "metadata": {},
   "outputs": [
    {
     "data": {
      "text/plain": [
       "event\n",
       "TEDxPuget Sound           34309432.0\n",
       "TEDxHouston               16140250.5\n",
       "TEDxBloomington            9484259.5\n",
       "TEDxCreativeCoast          8444981.0\n",
       "TEDxNorrkoping             6569493.0\n",
       "                             ...    \n",
       "TEDxNASA@SiliconValley      155895.0\n",
       "AORN Congress               149818.0\n",
       "TEDxWaterloo                138812.0\n",
       "TEDxIslay                   120274.0\n",
       "The Do Lectures             112321.0\n",
       "Name: view_count, Length: 355, dtype: float64"
      ]
     },
     "execution_count": 26,
     "metadata": {},
     "output_type": "execute_result"
    }
   ],
   "source": [
    "ted.groupby('event').view_count.mean().sort_values(ascending=False)"
   ]
  },
  {
   "cell_type": "markdown",
   "metadata": {},
   "source": [
    "It might be the case that some of these events got high mean views due to having a small number of very popular talks, or even just one very popular talk. So, consider also the number of talks at each event.\n",
    "\n",
    "To aggregate data based on more than one function (e.g., in this case, mean and count), we can follow `groupby()` with the `agg()` function that receives a list of aggregation functions we want to apply to the grouped data."
   ]
  },
  {
   "cell_type": "code",
   "execution_count": 27,
   "metadata": {},
   "outputs": [
    {
     "data": {
      "text/html": [
       "<div>\n",
       "<style scoped>\n",
       "    .dataframe tbody tr th:only-of-type {\n",
       "        vertical-align: middle;\n",
       "    }\n",
       "\n",
       "    .dataframe tbody tr th {\n",
       "        vertical-align: top;\n",
       "    }\n",
       "\n",
       "    .dataframe thead th {\n",
       "        text-align: right;\n",
       "    }\n",
       "</style>\n",
       "<table border=\"1\" class=\"dataframe\">\n",
       "  <thead>\n",
       "    <tr style=\"text-align: right;\">\n",
       "      <th></th>\n",
       "      <th>count</th>\n",
       "      <th>mean</th>\n",
       "    </tr>\n",
       "    <tr>\n",
       "      <th>event</th>\n",
       "      <th></th>\n",
       "      <th></th>\n",
       "    </tr>\n",
       "  </thead>\n",
       "  <tbody>\n",
       "    <tr>\n",
       "      <th>AORN Congress</th>\n",
       "      <td>1</td>\n",
       "      <td>149818.0</td>\n",
       "    </tr>\n",
       "    <tr>\n",
       "      <th>Arbejdsglaede Live</th>\n",
       "      <td>1</td>\n",
       "      <td>971594.0</td>\n",
       "    </tr>\n",
       "    <tr>\n",
       "      <th>BBC TV</th>\n",
       "      <td>1</td>\n",
       "      <td>521974.0</td>\n",
       "    </tr>\n",
       "    <tr>\n",
       "      <th>Bowery Poetry Club</th>\n",
       "      <td>1</td>\n",
       "      <td>676741.0</td>\n",
       "    </tr>\n",
       "    <tr>\n",
       "      <th>Business Innovation Factory</th>\n",
       "      <td>3</td>\n",
       "      <td>304086.0</td>\n",
       "    </tr>\n",
       "  </tbody>\n",
       "</table>\n",
       "</div>"
      ],
      "text/plain": [
       "                             count      mean\n",
       "event                                       \n",
       "AORN Congress                    1  149818.0\n",
       "Arbejdsglaede Live               1  971594.0\n",
       "BBC TV                           1  521974.0\n",
       "Bowery Poetry Club               1  676741.0\n",
       "Business Innovation Factory      3  304086.0"
      ]
     },
     "execution_count": 27,
     "metadata": {},
     "output_type": "execute_result"
    }
   ],
   "source": [
    "ted.groupby('event').view_count.agg(['count', 'mean']).head()"
   ]
  },
  {
   "cell_type": "markdown",
   "metadata": {},
   "source": [
    "Let's store the results in a new data frame"
   ]
  },
  {
   "cell_type": "code",
   "execution_count": 28,
   "metadata": {},
   "outputs": [],
   "source": [
    "events_views = ted.groupby('event').view_count.agg(['count', 'mean'])"
   ]
  },
  {
   "cell_type": "code",
   "execution_count": 29,
   "metadata": {},
   "outputs": [],
   "source": [
    "events_views.columns = ['talk_count', 'mean_views']"
   ]
  },
  {
   "cell_type": "markdown",
   "metadata": {},
   "source": [
    "Now, we can examine, for each event, both the average number of views and number of talks"
   ]
  },
  {
   "cell_type": "code",
   "execution_count": 30,
   "metadata": {},
   "outputs": [
    {
     "data": {
      "text/html": [
       "<div>\n",
       "<style scoped>\n",
       "    .dataframe tbody tr th:only-of-type {\n",
       "        vertical-align: middle;\n",
       "    }\n",
       "\n",
       "    .dataframe tbody tr th {\n",
       "        vertical-align: top;\n",
       "    }\n",
       "\n",
       "    .dataframe thead th {\n",
       "        text-align: right;\n",
       "    }\n",
       "</style>\n",
       "<table border=\"1\" class=\"dataframe\">\n",
       "  <thead>\n",
       "    <tr style=\"text-align: right;\">\n",
       "      <th></th>\n",
       "      <th>talk_count</th>\n",
       "      <th>mean_views</th>\n",
       "    </tr>\n",
       "    <tr>\n",
       "      <th>event</th>\n",
       "      <th></th>\n",
       "      <th></th>\n",
       "    </tr>\n",
       "  </thead>\n",
       "  <tbody>\n",
       "    <tr>\n",
       "      <th>TEDxPuget Sound</th>\n",
       "      <td>1</td>\n",
       "      <td>34309432.0</td>\n",
       "    </tr>\n",
       "    <tr>\n",
       "      <th>TEDxHouston</th>\n",
       "      <td>2</td>\n",
       "      <td>16140250.5</td>\n",
       "    </tr>\n",
       "    <tr>\n",
       "      <th>TEDxBloomington</th>\n",
       "      <td>2</td>\n",
       "      <td>9484259.5</td>\n",
       "    </tr>\n",
       "    <tr>\n",
       "      <th>TEDxCreativeCoast</th>\n",
       "      <td>1</td>\n",
       "      <td>8444981.0</td>\n",
       "    </tr>\n",
       "    <tr>\n",
       "      <th>TEDxNorrkoping</th>\n",
       "      <td>1</td>\n",
       "      <td>6569493.0</td>\n",
       "    </tr>\n",
       "    <tr>\n",
       "      <th>TEDxUW</th>\n",
       "      <td>1</td>\n",
       "      <td>5917201.0</td>\n",
       "    </tr>\n",
       "    <tr>\n",
       "      <th>TEDxLinnaeusUniversity</th>\n",
       "      <td>1</td>\n",
       "      <td>4984884.0</td>\n",
       "    </tr>\n",
       "    <tr>\n",
       "      <th>TEDxGoldenGatePark 2012</th>\n",
       "      <td>1</td>\n",
       "      <td>4811180.0</td>\n",
       "    </tr>\n",
       "    <tr>\n",
       "      <th>TEDxCHUV</th>\n",
       "      <td>1</td>\n",
       "      <td>4682458.0</td>\n",
       "    </tr>\n",
       "    <tr>\n",
       "      <th>Stanford University</th>\n",
       "      <td>2</td>\n",
       "      <td>4658636.5</td>\n",
       "    </tr>\n",
       "  </tbody>\n",
       "</table>\n",
       "</div>"
      ],
      "text/plain": [
       "                         talk_count  mean_views\n",
       "event                                          \n",
       "TEDxPuget Sound                   1  34309432.0\n",
       "TEDxHouston                       2  16140250.5\n",
       "TEDxBloomington                   2   9484259.5\n",
       "TEDxCreativeCoast                 1   8444981.0\n",
       "TEDxNorrkoping                    1   6569493.0\n",
       "TEDxUW                            1   5917201.0\n",
       "TEDxLinnaeusUniversity            1   4984884.0\n",
       "TEDxGoldenGatePark 2012           1   4811180.0\n",
       "TEDxCHUV                          1   4682458.0\n",
       "Stanford University               2   4658636.5"
      ]
     },
     "execution_count": 30,
     "metadata": {},
     "output_type": "execute_result"
    }
   ],
   "source": [
    "events_views.sort_values(by='mean_views', ascending=False).head(10)"
   ]
  },
  {
   "cell_type": "markdown",
   "metadata": {},
   "source": [
    "Note that all top 10 events (based on the average views) had at most 2 talks. <br>\n",
    "Let's check the stats for the number of talks and mean views per event"
   ]
  },
  {
   "cell_type": "code",
   "execution_count": 31,
   "metadata": {},
   "outputs": [
    {
     "data": {
      "text/html": [
       "<div>\n",
       "<style scoped>\n",
       "    .dataframe tbody tr th:only-of-type {\n",
       "        vertical-align: middle;\n",
       "    }\n",
       "\n",
       "    .dataframe tbody tr th {\n",
       "        vertical-align: top;\n",
       "    }\n",
       "\n",
       "    .dataframe thead th {\n",
       "        text-align: right;\n",
       "    }\n",
       "</style>\n",
       "<table border=\"1\" class=\"dataframe\">\n",
       "  <thead>\n",
       "    <tr style=\"text-align: right;\">\n",
       "      <th></th>\n",
       "      <th>talk_count</th>\n",
       "      <th>mean_views</th>\n",
       "    </tr>\n",
       "  </thead>\n",
       "  <tbody>\n",
       "    <tr>\n",
       "      <th>count</th>\n",
       "      <td>355.000000</td>\n",
       "      <td>3.550000e+02</td>\n",
       "    </tr>\n",
       "    <tr>\n",
       "      <th>mean</th>\n",
       "      <td>7.183099</td>\n",
       "      <td>1.527689e+06</td>\n",
       "    </tr>\n",
       "    <tr>\n",
       "      <th>std</th>\n",
       "      <td>15.265735</td>\n",
       "      <td>2.205832e+06</td>\n",
       "    </tr>\n",
       "    <tr>\n",
       "      <th>min</th>\n",
       "      <td>1.000000</td>\n",
       "      <td>1.123210e+05</td>\n",
       "    </tr>\n",
       "    <tr>\n",
       "      <th>25%</th>\n",
       "      <td>1.000000</td>\n",
       "      <td>7.594215e+05</td>\n",
       "    </tr>\n",
       "    <tr>\n",
       "      <th>50%</th>\n",
       "      <td>2.000000</td>\n",
       "      <td>1.187105e+06</td>\n",
       "    </tr>\n",
       "    <tr>\n",
       "      <th>75%</th>\n",
       "      <td>5.000000</td>\n",
       "      <td>1.715774e+06</td>\n",
       "    </tr>\n",
       "    <tr>\n",
       "      <th>max</th>\n",
       "      <td>84.000000</td>\n",
       "      <td>3.430943e+07</td>\n",
       "    </tr>\n",
       "  </tbody>\n",
       "</table>\n",
       "</div>"
      ],
      "text/plain": [
       "       talk_count    mean_views\n",
       "count  355.000000  3.550000e+02\n",
       "mean     7.183099  1.527689e+06\n",
       "std     15.265735  2.205832e+06\n",
       "min      1.000000  1.123210e+05\n",
       "25%      1.000000  7.594215e+05\n",
       "50%      2.000000  1.187105e+06\n",
       "75%      5.000000  1.715774e+06\n",
       "max     84.000000  3.430943e+07"
      ]
     },
     "execution_count": 31,
     "metadata": {},
     "output_type": "execute_result"
    }
   ],
   "source": [
    "events_views.describe()"
   ]
  },
  {
   "cell_type": "markdown",
   "metadata": {},
   "source": [
    "Let's consider only those events with above average number of talks. Considering highly skewed distribution, use median as the average value"
   ]
  },
  {
   "cell_type": "code",
   "execution_count": 32,
   "metadata": {},
   "outputs": [],
   "source": [
    "avg_talk_cnt = events_views.describe().loc['50%', 'talk_count']"
   ]
  },
  {
   "cell_type": "code",
   "execution_count": 33,
   "metadata": {},
   "outputs": [
    {
     "data": {
      "text/html": [
       "<div>\n",
       "<style scoped>\n",
       "    .dataframe tbody tr th:only-of-type {\n",
       "        vertical-align: middle;\n",
       "    }\n",
       "\n",
       "    .dataframe tbody tr th {\n",
       "        vertical-align: top;\n",
       "    }\n",
       "\n",
       "    .dataframe thead th {\n",
       "        text-align: right;\n",
       "    }\n",
       "</style>\n",
       "<table border=\"1\" class=\"dataframe\">\n",
       "  <thead>\n",
       "    <tr style=\"text-align: right;\">\n",
       "      <th></th>\n",
       "      <th>talk_count</th>\n",
       "      <th>mean_views</th>\n",
       "    </tr>\n",
       "    <tr>\n",
       "      <th>event</th>\n",
       "      <th></th>\n",
       "      <th></th>\n",
       "    </tr>\n",
       "  </thead>\n",
       "  <tbody>\n",
       "    <tr>\n",
       "      <th>TED Talks Education</th>\n",
       "      <td>8</td>\n",
       "      <td>4.375104e+06</td>\n",
       "    </tr>\n",
       "    <tr>\n",
       "      <th>TEDGlobal&gt;Geneva</th>\n",
       "      <td>11</td>\n",
       "      <td>3.385408e+06</td>\n",
       "    </tr>\n",
       "    <tr>\n",
       "      <th>TED2006</th>\n",
       "      <td>45</td>\n",
       "      <td>3.274345e+06</td>\n",
       "    </tr>\n",
       "    <tr>\n",
       "      <th>TEDxManhattanBeach</th>\n",
       "      <td>3</td>\n",
       "      <td>3.251704e+06</td>\n",
       "    </tr>\n",
       "    <tr>\n",
       "      <th>TEDSalon NY2013</th>\n",
       "      <td>11</td>\n",
       "      <td>2.861639e+06</td>\n",
       "    </tr>\n",
       "    <tr>\n",
       "      <th>...</th>\n",
       "      <td>...</td>\n",
       "      <td>...</td>\n",
       "    </tr>\n",
       "    <tr>\n",
       "      <th>TEDxYYC</th>\n",
       "      <td>3</td>\n",
       "      <td>3.699607e+05</td>\n",
       "    </tr>\n",
       "    <tr>\n",
       "      <th>Business Innovation Factory</th>\n",
       "      <td>3</td>\n",
       "      <td>3.040860e+05</td>\n",
       "    </tr>\n",
       "    <tr>\n",
       "      <th>TEDxPhoenix</th>\n",
       "      <td>4</td>\n",
       "      <td>2.846855e+05</td>\n",
       "    </tr>\n",
       "    <tr>\n",
       "      <th>TEDSalon 2009 Compassion</th>\n",
       "      <td>3</td>\n",
       "      <td>2.818163e+05</td>\n",
       "    </tr>\n",
       "    <tr>\n",
       "      <th>Chautauqua Institution</th>\n",
       "      <td>3</td>\n",
       "      <td>2.608687e+05</td>\n",
       "    </tr>\n",
       "  </tbody>\n",
       "</table>\n",
       "<p>142 rows × 2 columns</p>\n",
       "</div>"
      ],
      "text/plain": [
       "                             talk_count    mean_views\n",
       "event                                                \n",
       "TED Talks Education                   8  4.375104e+06\n",
       "TEDGlobal>Geneva                     11  3.385408e+06\n",
       "TED2006                              45  3.274345e+06\n",
       "TEDxManhattanBeach                    3  3.251704e+06\n",
       "TEDSalon NY2013                      11  2.861639e+06\n",
       "...                                 ...           ...\n",
       "TEDxYYC                               3  3.699607e+05\n",
       "Business Innovation Factory           3  3.040860e+05\n",
       "TEDxPhoenix                           4  2.846855e+05\n",
       "TEDSalon 2009 Compassion              3  2.818163e+05\n",
       "Chautauqua Institution                3  2.608687e+05\n",
       "\n",
       "[142 rows x 2 columns]"
      ]
     },
     "execution_count": 33,
     "metadata": {},
     "output_type": "execute_result"
    }
   ],
   "source": [
    "events_views.loc[events_views.talk_count > avg_talk_cnt, :].sort_values(by='mean_views', ascending=False)"
   ]
  },
  {
   "cell_type": "markdown",
   "metadata": {},
   "source": [
    "## Task 3: Explore talks based on their ratings"
   ]
  },
  {
   "cell_type": "code",
   "execution_count": 34,
   "metadata": {},
   "outputs": [
    {
     "data": {
      "text/plain": [
       "0    [{'id': 7, 'name': 'Funny', 'count': 19645}, {...\n",
       "1    [{'id': 7, 'name': 'Funny', 'count': 544}, {'i...\n",
       "2    [{'id': 7, 'name': 'Funny', 'count': 964}, {'i...\n",
       "3    [{'id': 3, 'name': 'Courageous', 'count': 760}...\n",
       "4    [{'id': 9, 'name': 'Ingenious', 'count': 3202}...\n",
       "Name: ratings, dtype: object"
      ]
     },
     "execution_count": 34,
     "metadata": {},
     "output_type": "execute_result"
    }
   ],
   "source": [
    "ted.ratings.head()"
   ]
  },
  {
   "cell_type": "code",
   "execution_count": 35,
   "metadata": {},
   "outputs": [
    {
     "data": {
      "text/plain": [
       "\"[{'id': 7, 'name': 'Funny', 'count': 19645}, {'id': 1, 'name': 'Beautiful', 'count': 4573}, {'id': 9, 'name': 'Ingenious', 'count': 6073}, {'id': 3, 'name': 'Courageous', 'count': 3253}, {'id': 11, 'name': 'Longwinded', 'count': 387}, {'id': 2, 'name': 'Confusing', 'count': 242}, {'id': 8, 'name': 'Informative', 'count': 7346}, {'id': 22, 'name': 'Fascinating', 'count': 10581}, {'id': 21, 'name': 'Unconvincing', 'count': 300}, {'id': 24, 'name': 'Persuasive', 'count': 10704}, {'id': 23, 'name': 'Jaw-dropping', 'count': 4439}, {'id': 25, 'name': 'OK', 'count': 1174}, {'id': 26, 'name': 'Obnoxious', 'count': 209}, {'id': 10, 'name': 'Inspiring', 'count': 24924}]\""
      ]
     },
     "execution_count": 35,
     "metadata": {},
     "output_type": "execute_result"
    }
   ],
   "source": [
    "ted.ratings[0]"
   ]
  },
  {
   "cell_type": "markdown",
   "metadata": {},
   "source": [
    "Even though it looks like a list, it is not"
   ]
  },
  {
   "cell_type": "code",
   "execution_count": 36,
   "metadata": {},
   "outputs": [
    {
     "data": {
      "text/plain": [
       "str"
      ]
     },
     "execution_count": 36,
     "metadata": {},
     "output_type": "execute_result"
    }
   ],
   "source": [
    "type(ted.ratings[0])"
   ]
  },
  {
   "cell_type": "markdown",
   "metadata": {},
   "source": [
    "To convert it into a list - so that it can be further processed - we will use a function from the Python's `ast` (*Abstract Syntax Tree*) module:\n",
    "\n",
    "`literal_eval()` function allows one to evaluate a string containing a Python literal or container, that is, it can be used to transform a string into a literal value, a list, a tuple or any other container object"
   ]
  },
  {
   "cell_type": "code",
   "execution_count": 37,
   "metadata": {},
   "outputs": [
    {
     "data": {
      "text/plain": [
       "(1, 2, 3, 4)"
      ]
     },
     "execution_count": 37,
     "metadata": {},
     "output_type": "execute_result"
    }
   ],
   "source": [
    "import ast\n",
    "\n",
    "ast.literal_eval('(1,2,3,4)')"
   ]
  },
  {
   "cell_type": "code",
   "execution_count": 38,
   "metadata": {},
   "outputs": [
    {
     "data": {
      "text/plain": [
       "[{'id': 7, 'name': 'Funny', 'count': 19645},\n",
       " {'id': 1, 'name': 'Beautiful', 'count': 4573},\n",
       " {'id': 9, 'name': 'Ingenious', 'count': 6073},\n",
       " {'id': 3, 'name': 'Courageous', 'count': 3253},\n",
       " {'id': 11, 'name': 'Longwinded', 'count': 387},\n",
       " {'id': 2, 'name': 'Confusing', 'count': 242},\n",
       " {'id': 8, 'name': 'Informative', 'count': 7346},\n",
       " {'id': 22, 'name': 'Fascinating', 'count': 10581},\n",
       " {'id': 21, 'name': 'Unconvincing', 'count': 300},\n",
       " {'id': 24, 'name': 'Persuasive', 'count': 10704},\n",
       " {'id': 23, 'name': 'Jaw-dropping', 'count': 4439},\n",
       " {'id': 25, 'name': 'OK', 'count': 1174},\n",
       " {'id': 26, 'name': 'Obnoxious', 'count': 209},\n",
       " {'id': 10, 'name': 'Inspiring', 'count': 24924}]"
      ]
     },
     "execution_count": 38,
     "metadata": {},
     "output_type": "execute_result"
    }
   ],
   "source": [
    "ast.literal_eval(ted.ratings[0])"
   ]
  },
  {
   "cell_type": "code",
   "execution_count": 39,
   "metadata": {},
   "outputs": [
    {
     "data": {
      "text/plain": [
       "list"
      ]
     },
     "execution_count": 39,
     "metadata": {},
     "output_type": "execute_result"
    }
   ],
   "source": [
    "type(ast.literal_eval(ted.ratings[0]))"
   ]
  },
  {
   "cell_type": "markdown",
   "metadata": {},
   "source": [
    "Create a new column for storing ratings as a list, instead of a string.\n",
    "\n",
    "We will use the `apply()` f. to apply the `ast.literal_eval()` f. to each value of the ratings column"
   ]
  },
  {
   "cell_type": "code",
   "execution_count": 40,
   "metadata": {},
   "outputs": [],
   "source": [
    "ted['ratings_list'] = ted.ratings.apply(ast.literal_eval)"
   ]
  },
  {
   "cell_type": "code",
   "execution_count": 41,
   "metadata": {},
   "outputs": [
    {
     "data": {
      "text/plain": [
       "0    [{'id': 7, 'name': 'Funny', 'count': 19645}, {...\n",
       "1    [{'id': 7, 'name': 'Funny', 'count': 544}, {'i...\n",
       "2    [{'id': 7, 'name': 'Funny', 'count': 964}, {'i...\n",
       "Name: ratings_list, dtype: object"
      ]
     },
     "execution_count": 41,
     "metadata": {},
     "output_type": "execute_result"
    }
   ],
   "source": [
    "ted.ratings_list.head(3)"
   ]
  },
  {
   "cell_type": "markdown",
   "metadata": {},
   "source": [
    "### Task 3.1: For each talk, find the 3 most frequent ratings\n",
    "\n",
    "Add a column with a tuple comprising names of the 3 most frequent ratings "
   ]
  },
  {
   "cell_type": "code",
   "execution_count": 42,
   "metadata": {},
   "outputs": [
    {
     "data": {
      "text/plain": [
       "[{'id': 7, 'name': 'Funny', 'count': 19645},\n",
       " {'id': 1, 'name': 'Beautiful', 'count': 4573},\n",
       " {'id': 9, 'name': 'Ingenious', 'count': 6073},\n",
       " {'id': 3, 'name': 'Courageous', 'count': 3253},\n",
       " {'id': 11, 'name': 'Longwinded', 'count': 387},\n",
       " {'id': 2, 'name': 'Confusing', 'count': 242},\n",
       " {'id': 8, 'name': 'Informative', 'count': 7346},\n",
       " {'id': 22, 'name': 'Fascinating', 'count': 10581},\n",
       " {'id': 21, 'name': 'Unconvincing', 'count': 300},\n",
       " {'id': 24, 'name': 'Persuasive', 'count': 10704},\n",
       " {'id': 23, 'name': 'Jaw-dropping', 'count': 4439},\n",
       " {'id': 25, 'name': 'OK', 'count': 1174},\n",
       " {'id': 26, 'name': 'Obnoxious', 'count': 209},\n",
       " {'id': 10, 'name': 'Inspiring', 'count': 24924}]"
      ]
     },
     "execution_count": 42,
     "metadata": {},
     "output_type": "execute_result"
    }
   ],
   "source": [
    "ted.ratings_list[0]"
   ]
  },
  {
   "cell_type": "markdown",
   "metadata": {},
   "source": [
    "Let's create a function that will receive a list of ratings for one talk and return a tuple with the 3 most frequent ratings"
   ]
  },
  {
   "cell_type": "code",
   "execution_count": 43,
   "metadata": {},
   "outputs": [],
   "source": [
    "def most_freq_ratings(ratings):\n",
    "    sorted_ratings = sorted(ratings, key=lambda rating: rating['count'], reverse=True)\n",
    "    return tuple([rating['name'] for rating in sorted_ratings[:3]])"
   ]
  },
  {
   "cell_type": "code",
   "execution_count": 44,
   "metadata": {},
   "outputs": [
    {
     "data": {
      "text/plain": [
       "('Inspiring', 'Funny', 'Persuasive')"
      ]
     },
     "execution_count": 44,
     "metadata": {},
     "output_type": "execute_result"
    }
   ],
   "source": [
    "most_freq_ratings(ted.ratings_list[0])"
   ]
  },
  {
   "cell_type": "markdown",
   "metadata": {},
   "source": [
    "Now, apply the function to the ratings_list of each talk"
   ]
  },
  {
   "cell_type": "code",
   "execution_count": 45,
   "metadata": {},
   "outputs": [],
   "source": [
    "ted['top3_ratings'] = ted.ratings_list.apply(most_freq_ratings)"
   ]
  },
  {
   "cell_type": "code",
   "execution_count": 46,
   "metadata": {},
   "outputs": [
    {
     "data": {
      "text/html": [
       "<div>\n",
       "<style scoped>\n",
       "    .dataframe tbody tr th:only-of-type {\n",
       "        vertical-align: middle;\n",
       "    }\n",
       "\n",
       "    .dataframe tbody tr th {\n",
       "        vertical-align: top;\n",
       "    }\n",
       "\n",
       "    .dataframe thead th {\n",
       "        text-align: right;\n",
       "    }\n",
       "</style>\n",
       "<table border=\"1\" class=\"dataframe\">\n",
       "  <thead>\n",
       "    <tr style=\"text-align: right;\">\n",
       "      <th></th>\n",
       "      <th>title</th>\n",
       "      <th>top3_ratings</th>\n",
       "    </tr>\n",
       "  </thead>\n",
       "  <tbody>\n",
       "    <tr>\n",
       "      <th>0</th>\n",
       "      <td>Do schools kill creativity?</td>\n",
       "      <td>(Inspiring, Funny, Persuasive)</td>\n",
       "    </tr>\n",
       "    <tr>\n",
       "      <th>1</th>\n",
       "      <td>Averting the climate crisis</td>\n",
       "      <td>(Funny, Informative, Inspiring)</td>\n",
       "    </tr>\n",
       "    <tr>\n",
       "      <th>2</th>\n",
       "      <td>Simplicity sells</td>\n",
       "      <td>(Funny, Informative, Inspiring)</td>\n",
       "    </tr>\n",
       "    <tr>\n",
       "      <th>3</th>\n",
       "      <td>Greening the ghetto</td>\n",
       "      <td>(Inspiring, Courageous, Persuasive)</td>\n",
       "    </tr>\n",
       "    <tr>\n",
       "      <th>4</th>\n",
       "      <td>The best stats you've ever seen</td>\n",
       "      <td>(Informative, Fascinating, Jaw-dropping)</td>\n",
       "    </tr>\n",
       "    <tr>\n",
       "      <th>5</th>\n",
       "      <td>Why we do what we do</td>\n",
       "      <td>(Inspiring, Persuasive, Fascinating)</td>\n",
       "    </tr>\n",
       "    <tr>\n",
       "      <th>6</th>\n",
       "      <td>Letting go of God</td>\n",
       "      <td>(Funny, Courageous, Inspiring)</td>\n",
       "    </tr>\n",
       "    <tr>\n",
       "      <th>7</th>\n",
       "      <td>Behind the design of Seattle's library</td>\n",
       "      <td>(Ingenious, Inspiring, Fascinating)</td>\n",
       "    </tr>\n",
       "    <tr>\n",
       "      <th>8</th>\n",
       "      <td>Let's teach religion -- all religion -- in sch...</td>\n",
       "      <td>(Persuasive, Informative, Courageous)</td>\n",
       "    </tr>\n",
       "    <tr>\n",
       "      <th>9</th>\n",
       "      <td>A life of purpose</td>\n",
       "      <td>(Inspiring, Persuasive, Unconvincing)</td>\n",
       "    </tr>\n",
       "  </tbody>\n",
       "</table>\n",
       "</div>"
      ],
      "text/plain": [
       "                                               title  \\\n",
       "0                        Do schools kill creativity?   \n",
       "1                        Averting the climate crisis   \n",
       "2                                   Simplicity sells   \n",
       "3                                Greening the ghetto   \n",
       "4                    The best stats you've ever seen   \n",
       "5                               Why we do what we do   \n",
       "6                                  Letting go of God   \n",
       "7             Behind the design of Seattle's library   \n",
       "8  Let's teach religion -- all religion -- in sch...   \n",
       "9                                  A life of purpose   \n",
       "\n",
       "                               top3_ratings  \n",
       "0            (Inspiring, Funny, Persuasive)  \n",
       "1           (Funny, Informative, Inspiring)  \n",
       "2           (Funny, Informative, Inspiring)  \n",
       "3       (Inspiring, Courageous, Persuasive)  \n",
       "4  (Informative, Fascinating, Jaw-dropping)  \n",
       "5      (Inspiring, Persuasive, Fascinating)  \n",
       "6            (Funny, Courageous, Inspiring)  \n",
       "7       (Ingenious, Inspiring, Fascinating)  \n",
       "8     (Persuasive, Informative, Courageous)  \n",
       "9     (Inspiring, Persuasive, Unconvincing)  "
      ]
     },
     "execution_count": 46,
     "metadata": {},
     "output_type": "execute_result"
    }
   ],
   "source": [
    "ted.loc[:, ['title', 'top3_ratings']].head(10)"
   ]
  },
  {
   "cell_type": "markdown",
   "metadata": {},
   "source": [
    "### Task 3.2 Which TED events had the most 'Jaw-dropping' talks?"
   ]
  },
  {
   "cell_type": "markdown",
   "metadata": {},
   "source": [
    "This task can be interpreted in different ways. One way is that we qualify a talk as *jaw-dropping* if 'Jaw dropping' ratings were among the top 3 most frequent ratings for that talk.\n",
    "\n",
    "Let's start by taking a subset of the data frame with only those talk that are *jaw-dropping*, as qualified above"
   ]
  },
  {
   "cell_type": "code",
   "execution_count": 47,
   "metadata": {},
   "outputs": [],
   "source": [
    "is_jaw_dropping = lambda ratings: 'Jaw-dropping' in ratings\n",
    "\n",
    "jaw_dropping_talks = ted.loc[ted.top3_ratings.apply(is_jaw_dropping)]"
   ]
  },
  {
   "cell_type": "markdown",
   "metadata": {},
   "source": [
    "Note the selection based on a condition expressed as a function of column (top3_ratings) values"
   ]
  },
  {
   "cell_type": "code",
   "execution_count": 48,
   "metadata": {},
   "outputs": [
    {
     "data": {
      "text/plain": [
       "4     (Informative, Fascinating, Jaw-dropping)\n",
       "13      (Jaw-dropping, Ingenious, Fascinating)\n",
       "15        (Jaw-dropping, Beautiful, Inspiring)\n",
       "16        (Jaw-dropping, Beautiful, Inspiring)\n",
       "58      (Jaw-dropping, Beautiful, Fascinating)\n",
       "Name: top3_ratings, dtype: object"
      ]
     },
     "execution_count": 48,
     "metadata": {},
     "output_type": "execute_result"
    }
   ],
   "source": [
    "jaw_dropping_talks.top3_ratings.head(5)"
   ]
  },
  {
   "cell_type": "code",
   "execution_count": 49,
   "metadata": {},
   "outputs": [
    {
     "data": {
      "text/plain": [
       "(206, 20)"
      ]
     },
     "execution_count": 49,
     "metadata": {},
     "output_type": "execute_result"
    }
   ],
   "source": [
    "jaw_dropping_talks.shape"
   ]
  },
  {
   "cell_type": "markdown",
   "metadata": {},
   "source": [
    "Group, now, the jaw-dropping talks based on the event, and count the number of talks in each group "
   ]
  },
  {
   "cell_type": "code",
   "execution_count": 50,
   "metadata": {},
   "outputs": [
    {
     "data": {
      "text/plain": [
       "event\n",
       "Eric Whitacre's Virtual Choir    1\n",
       "INK Conference                   1\n",
       "Michael Howard Studios           1\n",
       "Mission Blue Voyage              1\n",
       "Serious Play 2008                1\n",
       "                                ..\n",
       "TEDxTC                           1\n",
       "TEDxUMKC                         1\n",
       "TEDxUSC                          3\n",
       "TEDxVictoria                     1\n",
       "TEDxWarwick                      1\n",
       "Name: top3_ratings, Length: 67, dtype: int64"
      ]
     },
     "execution_count": 50,
     "metadata": {},
     "output_type": "execute_result"
    }
   ],
   "source": [
    "jaw_dropping_talks.groupby('event').top3_ratings.count()"
   ]
  },
  {
   "cell_type": "markdown",
   "metadata": {},
   "source": [
    "To identify the jaw-dropping ones, sort the counts"
   ]
  },
  {
   "cell_type": "code",
   "execution_count": 51,
   "metadata": {},
   "outputs": [
    {
     "data": {
      "text/plain": [
       "event\n",
       "TED2007                          17\n",
       "TED2009                          16\n",
       "TED2013                          14\n",
       "TED2008                          11\n",
       "TED2011                          10\n",
       "                                 ..\n",
       "TEDMED 2016                       1\n",
       "TEDMED 2011                       1\n",
       "TEDGlobal>London                  1\n",
       "TEDGlobal 2014                    1\n",
       "Eric Whitacre's Virtual Choir     1\n",
       "Name: top3_ratings, Length: 67, dtype: int64"
      ]
     },
     "execution_count": 51,
     "metadata": {},
     "output_type": "execute_result"
    }
   ],
   "source": [
    "jaw_dropping_talks.groupby('event').top3_ratings.count().sort_values(ascending=False)"
   ]
  },
  {
   "cell_type": "markdown",
   "metadata": {},
   "source": [
    "### Task 3.3 Compute the number of positive, negative, and neutral ratings, then add one column for each of these counts\n",
    "\n",
    "This practically means that we should add 3 columns - pos_ratings, neg_ratings, neutral_ratings - with the corresponding rating counts."
   ]
  },
  {
   "cell_type": "markdown",
   "metadata": {},
   "source": [
    "We will achieve this through a multistep process:\n",
    "\n",
    "1) Identify different kinds of rating categories that have been used to characterise talks and classify them as positive, negative, or neutral\n",
    "\n",
    "2) create a function for computing the number of ratings in each of the 3 classes (positive, negative, neutral)\n",
    "\n",
    "3) add a column - ratings_counts - storing the computed values as tuples of the form (pos_ratings, neg_ratings, neutral_ratings)\n",
    "\n",
    "4) transform the ratings_counts column into 3 columns: pos_ratings, neg_ratings, neutral_ratings "
   ]
  },
  {
   "cell_type": "markdown",
   "metadata": {},
   "source": [
    "**Step 1.1**: Identify different kinds of rating categories "
   ]
  },
  {
   "cell_type": "code",
   "execution_count": 52,
   "metadata": {},
   "outputs": [
    {
     "data": {
      "text/plain": [
       "0    [Funny, Beautiful, Ingenious, Courageous, Long...\n",
       "1    [Funny, Courageous, Confusing, Beautiful, Unco...\n",
       "2    [Funny, Courageous, Ingenious, Beautiful, Unco...\n",
       "3    [Courageous, Beautiful, Confusing, Funny, Inge...\n",
       "4    [Ingenious, Funny, Beautiful, Courageous, Long...\n",
       "Name: rating_categories, dtype: object"
      ]
     },
     "execution_count": 52,
     "metadata": {},
     "output_type": "execute_result"
    }
   ],
   "source": [
    "get_rating_categories = lambda ratings: [r['name'] for r in ratings]\n",
    "\n",
    "ted['rating_categories'] = ted.ratings_list.apply(get_rating_categories)\n",
    "ted.rating_categories.head()"
   ]
  },
  {
   "cell_type": "markdown",
   "metadata": {},
   "source": [
    "Next, we need to identify unique rating categories across all the categories lists"
   ]
  },
  {
   "cell_type": "code",
   "execution_count": 53,
   "metadata": {},
   "outputs": [
    {
     "data": {
      "text/plain": [
       "{'Beautiful',\n",
       " 'Confusing',\n",
       " 'Courageous',\n",
       " 'Fascinating',\n",
       " 'Funny',\n",
       " 'Informative',\n",
       " 'Ingenious',\n",
       " 'Inspiring',\n",
       " 'Jaw-dropping',\n",
       " 'Longwinded',\n",
       " 'OK',\n",
       " 'Obnoxious',\n",
       " 'Persuasive',\n",
       " 'Unconvincing'}"
      ]
     },
     "execution_count": 53,
     "metadata": {},
     "output_type": "execute_result"
    }
   ],
   "source": [
    "rating_categories_set = set()\n",
    "for rcategoires in ted.rating_categories:\n",
    "    rating_categories_set.update(rcategoires) # update allows for adding multiple elements at once\n",
    "\n",
    "rating_categories_set"
   ]
  },
  {
   "cell_type": "markdown",
   "metadata": {},
   "source": [
    "**Step 1.2**: Classify rating categories as positive, negative, or neutral"
   ]
  },
  {
   "cell_type": "code",
   "execution_count": 54,
   "metadata": {},
   "outputs": [],
   "source": [
    "negative = {'Confusing','Longwinded', 'Obnoxious', 'Unconvincing'}\n",
    "neutral = {'OK'}\n",
    "positive = rating_categories_set - (negative | neutral)"
   ]
  },
  {
   "cell_type": "code",
   "execution_count": 55,
   "metadata": {},
   "outputs": [
    {
     "data": {
      "text/plain": [
       "{'Beautiful',\n",
       " 'Courageous',\n",
       " 'Fascinating',\n",
       " 'Funny',\n",
       " 'Informative',\n",
       " 'Ingenious',\n",
       " 'Inspiring',\n",
       " 'Jaw-dropping',\n",
       " 'Persuasive'}"
      ]
     },
     "execution_count": 55,
     "metadata": {},
     "output_type": "execute_result"
    }
   ],
   "source": [
    "positive"
   ]
  },
  {
   "cell_type": "markdown",
   "metadata": {},
   "source": [
    "**Step 2**: Create a function that computes the number of ratings in each of the 3 classes (positive, negative, neutral)"
   ]
  },
  {
   "cell_type": "code",
   "execution_count": 56,
   "metadata": {},
   "outputs": [],
   "source": [
    "def pos_neg_neutral_ratings_count(ratings):\n",
    "    pos_cnt = neg_cnt = neutral_cnt = 0\n",
    "    for rating in ratings:\n",
    "        if rating['name'] in negative:\n",
    "            neg_cnt += rating['count']\n",
    "        elif rating['name'] in neutral:\n",
    "            neutral_cnt += rating['count']\n",
    "        else:\n",
    "            pos_cnt += rating['count']\n",
    "    return pos_cnt, neg_cnt, neutral_cnt"
   ]
  },
  {
   "cell_type": "code",
   "execution_count": 57,
   "metadata": {},
   "outputs": [
    {
     "data": {
      "text/plain": [
       "(91538, 1138, 1174)"
      ]
     },
     "execution_count": 57,
     "metadata": {},
     "output_type": "execute_result"
    }
   ],
   "source": [
    "pos_neg_neutral_ratings_count(ted.ratings_list[0])"
   ]
  },
  {
   "cell_type": "markdown",
   "metadata": {},
   "source": [
    "**Step 3**: Add a column - *ratings_counts* - storing the output of the `pos_neg_neutral_ratings_count()` function applied to the *ratings_list* column"
   ]
  },
  {
   "cell_type": "code",
   "execution_count": 58,
   "metadata": {},
   "outputs": [],
   "source": [
    "ted['ratings_counts'] = ted.ratings_list.apply(pos_neg_neutral_ratings_count)"
   ]
  },
  {
   "cell_type": "code",
   "execution_count": 59,
   "metadata": {},
   "outputs": [
    {
     "data": {
      "text/html": [
       "<div>\n",
       "<style scoped>\n",
       "    .dataframe tbody tr th:only-of-type {\n",
       "        vertical-align: middle;\n",
       "    }\n",
       "\n",
       "    .dataframe tbody tr th {\n",
       "        vertical-align: top;\n",
       "    }\n",
       "\n",
       "    .dataframe thead th {\n",
       "        text-align: right;\n",
       "    }\n",
       "</style>\n",
       "<table border=\"1\" class=\"dataframe\">\n",
       "  <thead>\n",
       "    <tr style=\"text-align: right;\">\n",
       "      <th></th>\n",
       "      <th>comment_count</th>\n",
       "      <th>description</th>\n",
       "      <th>duration</th>\n",
       "      <th>event</th>\n",
       "      <th>languages</th>\n",
       "      <th>main_speaker</th>\n",
       "      <th>name</th>\n",
       "      <th>num_speaker</th>\n",
       "      <th>ratings</th>\n",
       "      <th>related_talks</th>\n",
       "      <th>...</th>\n",
       "      <th>title</th>\n",
       "      <th>url</th>\n",
       "      <th>view_count</th>\n",
       "      <th>filming_date</th>\n",
       "      <th>publication_date</th>\n",
       "      <th>event_year</th>\n",
       "      <th>ratings_list</th>\n",
       "      <th>top3_ratings</th>\n",
       "      <th>rating_categories</th>\n",
       "      <th>ratings_counts</th>\n",
       "    </tr>\n",
       "  </thead>\n",
       "  <tbody>\n",
       "    <tr>\n",
       "      <th>0</th>\n",
       "      <td>4553</td>\n",
       "      <td>Sir Ken Robinson makes an entertaining and pro...</td>\n",
       "      <td>1164</td>\n",
       "      <td>TED2006</td>\n",
       "      <td>60</td>\n",
       "      <td>Ken Robinson</td>\n",
       "      <td>Ken Robinson: Do schools kill creativity?</td>\n",
       "      <td>1</td>\n",
       "      <td>[{'id': 7, 'name': 'Funny', 'count': 19645}, {...</td>\n",
       "      <td>[{'id': 865, 'hero': 'https://pe.tedcdn.com/im...</td>\n",
       "      <td>...</td>\n",
       "      <td>Do schools kill creativity?</td>\n",
       "      <td>https://www.ted.com/talks/ken_robinson_says_sc...</td>\n",
       "      <td>47227110</td>\n",
       "      <td>2006-02-25</td>\n",
       "      <td>2006-06-27 00:11:00</td>\n",
       "      <td>2006</td>\n",
       "      <td>[{'id': 7, 'name': 'Funny', 'count': 19645}, {...</td>\n",
       "      <td>(Inspiring, Funny, Persuasive)</td>\n",
       "      <td>[Funny, Beautiful, Ingenious, Courageous, Long...</td>\n",
       "      <td>(91538, 1138, 1174)</td>\n",
       "    </tr>\n",
       "    <tr>\n",
       "      <th>1</th>\n",
       "      <td>265</td>\n",
       "      <td>With the same humor and humanity he exuded in ...</td>\n",
       "      <td>977</td>\n",
       "      <td>TED2006</td>\n",
       "      <td>43</td>\n",
       "      <td>Al Gore</td>\n",
       "      <td>Al Gore: Averting the climate crisis</td>\n",
       "      <td>1</td>\n",
       "      <td>[{'id': 7, 'name': 'Funny', 'count': 544}, {'i...</td>\n",
       "      <td>[{'id': 243, 'hero': 'https://pe.tedcdn.com/im...</td>\n",
       "      <td>...</td>\n",
       "      <td>Averting the climate crisis</td>\n",
       "      <td>https://www.ted.com/talks/al_gore_on_averting_...</td>\n",
       "      <td>3200520</td>\n",
       "      <td>2006-02-25</td>\n",
       "      <td>2006-06-27 00:11:00</td>\n",
       "      <td>2006</td>\n",
       "      <td>[{'id': 7, 'name': 'Funny', 'count': 544}, {'i...</td>\n",
       "      <td>(Funny, Informative, Inspiring)</td>\n",
       "      <td>[Funny, Courageous, Confusing, Beautiful, Unco...</td>\n",
       "      <td>(2169, 564, 203)</td>\n",
       "    </tr>\n",
       "    <tr>\n",
       "      <th>2</th>\n",
       "      <td>124</td>\n",
       "      <td>New York Times columnist David Pogue takes aim...</td>\n",
       "      <td>1286</td>\n",
       "      <td>TED2006</td>\n",
       "      <td>26</td>\n",
       "      <td>David Pogue</td>\n",
       "      <td>David Pogue: Simplicity sells</td>\n",
       "      <td>1</td>\n",
       "      <td>[{'id': 7, 'name': 'Funny', 'count': 964}, {'i...</td>\n",
       "      <td>[{'id': 1725, 'hero': 'https://pe.tedcdn.com/i...</td>\n",
       "      <td>...</td>\n",
       "      <td>Simplicity sells</td>\n",
       "      <td>https://www.ted.com/talks/david_pogue_says_sim...</td>\n",
       "      <td>1636292</td>\n",
       "      <td>2006-02-24</td>\n",
       "      <td>2006-06-27 00:11:00</td>\n",
       "      <td>2006</td>\n",
       "      <td>[{'id': 7, 'name': 'Funny', 'count': 964}, {'i...</td>\n",
       "      <td>(Funny, Informative, Inspiring)</td>\n",
       "      <td>[Funny, Courageous, Ingenious, Beautiful, Unco...</td>\n",
       "      <td>(2327, 351, 146)</td>\n",
       "    </tr>\n",
       "  </tbody>\n",
       "</table>\n",
       "<p>3 rows × 22 columns</p>\n",
       "</div>"
      ],
      "text/plain": [
       "   comment_count                                        description  duration  \\\n",
       "0           4553  Sir Ken Robinson makes an entertaining and pro...      1164   \n",
       "1            265  With the same humor and humanity he exuded in ...       977   \n",
       "2            124  New York Times columnist David Pogue takes aim...      1286   \n",
       "\n",
       "     event  languages  main_speaker  \\\n",
       "0  TED2006         60  Ken Robinson   \n",
       "1  TED2006         43       Al Gore   \n",
       "2  TED2006         26   David Pogue   \n",
       "\n",
       "                                        name  num_speaker  \\\n",
       "0  Ken Robinson: Do schools kill creativity?            1   \n",
       "1       Al Gore: Averting the climate crisis            1   \n",
       "2              David Pogue: Simplicity sells            1   \n",
       "\n",
       "                                             ratings  \\\n",
       "0  [{'id': 7, 'name': 'Funny', 'count': 19645}, {...   \n",
       "1  [{'id': 7, 'name': 'Funny', 'count': 544}, {'i...   \n",
       "2  [{'id': 7, 'name': 'Funny', 'count': 964}, {'i...   \n",
       "\n",
       "                                       related_talks  ...  \\\n",
       "0  [{'id': 865, 'hero': 'https://pe.tedcdn.com/im...  ...   \n",
       "1  [{'id': 243, 'hero': 'https://pe.tedcdn.com/im...  ...   \n",
       "2  [{'id': 1725, 'hero': 'https://pe.tedcdn.com/i...  ...   \n",
       "\n",
       "                         title  \\\n",
       "0  Do schools kill creativity?   \n",
       "1  Averting the climate crisis   \n",
       "2             Simplicity sells   \n",
       "\n",
       "                                                 url view_count filming_date  \\\n",
       "0  https://www.ted.com/talks/ken_robinson_says_sc...   47227110   2006-02-25   \n",
       "1  https://www.ted.com/talks/al_gore_on_averting_...    3200520   2006-02-25   \n",
       "2  https://www.ted.com/talks/david_pogue_says_sim...    1636292   2006-02-24   \n",
       "\n",
       "     publication_date event_year  \\\n",
       "0 2006-06-27 00:11:00       2006   \n",
       "1 2006-06-27 00:11:00       2006   \n",
       "2 2006-06-27 00:11:00       2006   \n",
       "\n",
       "                                        ratings_list  \\\n",
       "0  [{'id': 7, 'name': 'Funny', 'count': 19645}, {...   \n",
       "1  [{'id': 7, 'name': 'Funny', 'count': 544}, {'i...   \n",
       "2  [{'id': 7, 'name': 'Funny', 'count': 964}, {'i...   \n",
       "\n",
       "                      top3_ratings  \\\n",
       "0   (Inspiring, Funny, Persuasive)   \n",
       "1  (Funny, Informative, Inspiring)   \n",
       "2  (Funny, Informative, Inspiring)   \n",
       "\n",
       "                                   rating_categories       ratings_counts  \n",
       "0  [Funny, Beautiful, Ingenious, Courageous, Long...  (91538, 1138, 1174)  \n",
       "1  [Funny, Courageous, Confusing, Beautiful, Unco...     (2169, 564, 203)  \n",
       "2  [Funny, Courageous, Ingenious, Beautiful, Unco...     (2327, 351, 146)  \n",
       "\n",
       "[3 rows x 22 columns]"
      ]
     },
     "execution_count": 59,
     "metadata": {},
     "output_type": "execute_result"
    }
   ],
   "source": [
    "ted.head(3)"
   ]
  },
  {
   "cell_type": "markdown",
   "metadata": {},
   "source": [
    "**Step 4.1**: Transform the *ratings_counts* column into a data frame with 3 columns: pos_ratings, neg_ratings, neutral_ratings\n",
    "\n",
    "To that end, we can `apply()` the Series constructor on the *ratings_counts* column"
   ]
  },
  {
   "cell_type": "code",
   "execution_count": 60,
   "metadata": {},
   "outputs": [
    {
     "data": {
      "text/html": [
       "<div>\n",
       "<style scoped>\n",
       "    .dataframe tbody tr th:only-of-type {\n",
       "        vertical-align: middle;\n",
       "    }\n",
       "\n",
       "    .dataframe tbody tr th {\n",
       "        vertical-align: top;\n",
       "    }\n",
       "\n",
       "    .dataframe thead th {\n",
       "        text-align: right;\n",
       "    }\n",
       "</style>\n",
       "<table border=\"1\" class=\"dataframe\">\n",
       "  <thead>\n",
       "    <tr style=\"text-align: right;\">\n",
       "      <th></th>\n",
       "      <th>0</th>\n",
       "      <th>1</th>\n",
       "      <th>2</th>\n",
       "    </tr>\n",
       "  </thead>\n",
       "  <tbody>\n",
       "    <tr>\n",
       "      <th>0</th>\n",
       "      <td>91538</td>\n",
       "      <td>1138</td>\n",
       "      <td>1174</td>\n",
       "    </tr>\n",
       "    <tr>\n",
       "      <th>1</th>\n",
       "      <td>2169</td>\n",
       "      <td>564</td>\n",
       "      <td>203</td>\n",
       "    </tr>\n",
       "    <tr>\n",
       "      <th>2</th>\n",
       "      <td>2327</td>\n",
       "      <td>351</td>\n",
       "      <td>146</td>\n",
       "    </tr>\n",
       "    <tr>\n",
       "      <th>3</th>\n",
       "      <td>3487</td>\n",
       "      <td>156</td>\n",
       "      <td>85</td>\n",
       "    </tr>\n",
       "    <tr>\n",
       "      <th>4</th>\n",
       "      <td>25062</td>\n",
       "      <td>310</td>\n",
       "      <td>248</td>\n",
       "    </tr>\n",
       "  </tbody>\n",
       "</table>\n",
       "</div>"
      ],
      "text/plain": [
       "       0     1     2\n",
       "0  91538  1138  1174\n",
       "1   2169   564   203\n",
       "2   2327   351   146\n",
       "3   3487   156    85\n",
       "4  25062   310   248"
      ]
     },
     "execution_count": 60,
     "metadata": {},
     "output_type": "execute_result"
    }
   ],
   "source": [
    "ted_ratings = ted.ratings_counts.apply(pd.Series)\n",
    "ted_ratings.head()"
   ]
  },
  {
   "cell_type": "code",
   "execution_count": 61,
   "metadata": {},
   "outputs": [
    {
     "data": {
      "text/html": [
       "<div>\n",
       "<style scoped>\n",
       "    .dataframe tbody tr th:only-of-type {\n",
       "        vertical-align: middle;\n",
       "    }\n",
       "\n",
       "    .dataframe tbody tr th {\n",
       "        vertical-align: top;\n",
       "    }\n",
       "\n",
       "    .dataframe thead th {\n",
       "        text-align: right;\n",
       "    }\n",
       "</style>\n",
       "<table border=\"1\" class=\"dataframe\">\n",
       "  <thead>\n",
       "    <tr style=\"text-align: right;\">\n",
       "      <th></th>\n",
       "      <th>pos_ratings</th>\n",
       "      <th>neg_ratings</th>\n",
       "      <th>neutral_ratings</th>\n",
       "    </tr>\n",
       "  </thead>\n",
       "  <tbody>\n",
       "    <tr>\n",
       "      <th>0</th>\n",
       "      <td>91538</td>\n",
       "      <td>1138</td>\n",
       "      <td>1174</td>\n",
       "    </tr>\n",
       "    <tr>\n",
       "      <th>1</th>\n",
       "      <td>2169</td>\n",
       "      <td>564</td>\n",
       "      <td>203</td>\n",
       "    </tr>\n",
       "    <tr>\n",
       "      <th>2</th>\n",
       "      <td>2327</td>\n",
       "      <td>351</td>\n",
       "      <td>146</td>\n",
       "    </tr>\n",
       "    <tr>\n",
       "      <th>3</th>\n",
       "      <td>3487</td>\n",
       "      <td>156</td>\n",
       "      <td>85</td>\n",
       "    </tr>\n",
       "    <tr>\n",
       "      <th>4</th>\n",
       "      <td>25062</td>\n",
       "      <td>310</td>\n",
       "      <td>248</td>\n",
       "    </tr>\n",
       "  </tbody>\n",
       "</table>\n",
       "</div>"
      ],
      "text/plain": [
       "   pos_ratings  neg_ratings  neutral_ratings\n",
       "0        91538         1138             1174\n",
       "1         2169          564              203\n",
       "2         2327          351              146\n",
       "3         3487          156               85\n",
       "4        25062          310              248"
      ]
     },
     "execution_count": 61,
     "metadata": {},
     "output_type": "execute_result"
    }
   ],
   "source": [
    "ted_ratings.columns = ['pos_ratings', 'neg_ratings', 'neutral_ratings']\n",
    "ted_ratings.head()"
   ]
  },
  {
   "cell_type": "markdown",
   "metadata": {},
   "source": [
    "**Step 4.2**: Merge this new data frame with the original one (ted); this can be done using the `concat()` function. The auxiliary column - ratings_counts - can be dropped as it is no longer needed"
   ]
  },
  {
   "cell_type": "code",
   "execution_count": 62,
   "metadata": {},
   "outputs": [],
   "source": [
    "ted.drop(columns='ratings_counts', inplace=True)"
   ]
  },
  {
   "cell_type": "code",
   "execution_count": 63,
   "metadata": {},
   "outputs": [],
   "source": [
    "ted = pd.concat([ted, ted_ratings], axis=1)"
   ]
  },
  {
   "cell_type": "code",
   "execution_count": 64,
   "metadata": {},
   "outputs": [
    {
     "data": {
      "text/html": [
       "<div>\n",
       "<style scoped>\n",
       "    .dataframe tbody tr th:only-of-type {\n",
       "        vertical-align: middle;\n",
       "    }\n",
       "\n",
       "    .dataframe tbody tr th {\n",
       "        vertical-align: top;\n",
       "    }\n",
       "\n",
       "    .dataframe thead th {\n",
       "        text-align: right;\n",
       "    }\n",
       "</style>\n",
       "<table border=\"1\" class=\"dataframe\">\n",
       "  <thead>\n",
       "    <tr style=\"text-align: right;\">\n",
       "      <th></th>\n",
       "      <th>comment_count</th>\n",
       "      <th>description</th>\n",
       "      <th>duration</th>\n",
       "      <th>event</th>\n",
       "      <th>languages</th>\n",
       "      <th>main_speaker</th>\n",
       "      <th>name</th>\n",
       "      <th>num_speaker</th>\n",
       "      <th>ratings</th>\n",
       "      <th>related_talks</th>\n",
       "      <th>...</th>\n",
       "      <th>view_count</th>\n",
       "      <th>filming_date</th>\n",
       "      <th>publication_date</th>\n",
       "      <th>event_year</th>\n",
       "      <th>ratings_list</th>\n",
       "      <th>top3_ratings</th>\n",
       "      <th>rating_categories</th>\n",
       "      <th>pos_ratings</th>\n",
       "      <th>neg_ratings</th>\n",
       "      <th>neutral_ratings</th>\n",
       "    </tr>\n",
       "  </thead>\n",
       "  <tbody>\n",
       "    <tr>\n",
       "      <th>0</th>\n",
       "      <td>4553</td>\n",
       "      <td>Sir Ken Robinson makes an entertaining and pro...</td>\n",
       "      <td>1164</td>\n",
       "      <td>TED2006</td>\n",
       "      <td>60</td>\n",
       "      <td>Ken Robinson</td>\n",
       "      <td>Ken Robinson: Do schools kill creativity?</td>\n",
       "      <td>1</td>\n",
       "      <td>[{'id': 7, 'name': 'Funny', 'count': 19645}, {...</td>\n",
       "      <td>[{'id': 865, 'hero': 'https://pe.tedcdn.com/im...</td>\n",
       "      <td>...</td>\n",
       "      <td>47227110</td>\n",
       "      <td>2006-02-25</td>\n",
       "      <td>2006-06-27 00:11:00</td>\n",
       "      <td>2006</td>\n",
       "      <td>[{'id': 7, 'name': 'Funny', 'count': 19645}, {...</td>\n",
       "      <td>(Inspiring, Funny, Persuasive)</td>\n",
       "      <td>[Funny, Beautiful, Ingenious, Courageous, Long...</td>\n",
       "      <td>91538</td>\n",
       "      <td>1138</td>\n",
       "      <td>1174</td>\n",
       "    </tr>\n",
       "    <tr>\n",
       "      <th>1</th>\n",
       "      <td>265</td>\n",
       "      <td>With the same humor and humanity he exuded in ...</td>\n",
       "      <td>977</td>\n",
       "      <td>TED2006</td>\n",
       "      <td>43</td>\n",
       "      <td>Al Gore</td>\n",
       "      <td>Al Gore: Averting the climate crisis</td>\n",
       "      <td>1</td>\n",
       "      <td>[{'id': 7, 'name': 'Funny', 'count': 544}, {'i...</td>\n",
       "      <td>[{'id': 243, 'hero': 'https://pe.tedcdn.com/im...</td>\n",
       "      <td>...</td>\n",
       "      <td>3200520</td>\n",
       "      <td>2006-02-25</td>\n",
       "      <td>2006-06-27 00:11:00</td>\n",
       "      <td>2006</td>\n",
       "      <td>[{'id': 7, 'name': 'Funny', 'count': 544}, {'i...</td>\n",
       "      <td>(Funny, Informative, Inspiring)</td>\n",
       "      <td>[Funny, Courageous, Confusing, Beautiful, Unco...</td>\n",
       "      <td>2169</td>\n",
       "      <td>564</td>\n",
       "      <td>203</td>\n",
       "    </tr>\n",
       "    <tr>\n",
       "      <th>2</th>\n",
       "      <td>124</td>\n",
       "      <td>New York Times columnist David Pogue takes aim...</td>\n",
       "      <td>1286</td>\n",
       "      <td>TED2006</td>\n",
       "      <td>26</td>\n",
       "      <td>David Pogue</td>\n",
       "      <td>David Pogue: Simplicity sells</td>\n",
       "      <td>1</td>\n",
       "      <td>[{'id': 7, 'name': 'Funny', 'count': 964}, {'i...</td>\n",
       "      <td>[{'id': 1725, 'hero': 'https://pe.tedcdn.com/i...</td>\n",
       "      <td>...</td>\n",
       "      <td>1636292</td>\n",
       "      <td>2006-02-24</td>\n",
       "      <td>2006-06-27 00:11:00</td>\n",
       "      <td>2006</td>\n",
       "      <td>[{'id': 7, 'name': 'Funny', 'count': 964}, {'i...</td>\n",
       "      <td>(Funny, Informative, Inspiring)</td>\n",
       "      <td>[Funny, Courageous, Ingenious, Beautiful, Unco...</td>\n",
       "      <td>2327</td>\n",
       "      <td>351</td>\n",
       "      <td>146</td>\n",
       "    </tr>\n",
       "    <tr>\n",
       "      <th>3</th>\n",
       "      <td>200</td>\n",
       "      <td>In an emotionally charged talk, MacArthur-winn...</td>\n",
       "      <td>1116</td>\n",
       "      <td>TED2006</td>\n",
       "      <td>35</td>\n",
       "      <td>Majora Carter</td>\n",
       "      <td>Majora Carter: Greening the ghetto</td>\n",
       "      <td>1</td>\n",
       "      <td>[{'id': 3, 'name': 'Courageous', 'count': 760}...</td>\n",
       "      <td>[{'id': 1041, 'hero': 'https://pe.tedcdn.com/i...</td>\n",
       "      <td>...</td>\n",
       "      <td>1697550</td>\n",
       "      <td>2006-02-26</td>\n",
       "      <td>2006-06-27 00:11:00</td>\n",
       "      <td>2006</td>\n",
       "      <td>[{'id': 3, 'name': 'Courageous', 'count': 760}...</td>\n",
       "      <td>(Inspiring, Courageous, Persuasive)</td>\n",
       "      <td>[Courageous, Beautiful, Confusing, Funny, Inge...</td>\n",
       "      <td>3487</td>\n",
       "      <td>156</td>\n",
       "      <td>85</td>\n",
       "    </tr>\n",
       "    <tr>\n",
       "      <th>4</th>\n",
       "      <td>593</td>\n",
       "      <td>You've never seen data presented like this. Wi...</td>\n",
       "      <td>1190</td>\n",
       "      <td>TED2006</td>\n",
       "      <td>48</td>\n",
       "      <td>Hans Rosling</td>\n",
       "      <td>Hans Rosling: The best stats you've ever seen</td>\n",
       "      <td>1</td>\n",
       "      <td>[{'id': 9, 'name': 'Ingenious', 'count': 3202}...</td>\n",
       "      <td>[{'id': 2056, 'hero': 'https://pe.tedcdn.com/i...</td>\n",
       "      <td>...</td>\n",
       "      <td>12005869</td>\n",
       "      <td>2006-02-22</td>\n",
       "      <td>2006-06-27 20:38:00</td>\n",
       "      <td>2006</td>\n",
       "      <td>[{'id': 9, 'name': 'Ingenious', 'count': 3202}...</td>\n",
       "      <td>(Informative, Fascinating, Jaw-dropping)</td>\n",
       "      <td>[Ingenious, Funny, Beautiful, Courageous, Long...</td>\n",
       "      <td>25062</td>\n",
       "      <td>310</td>\n",
       "      <td>248</td>\n",
       "    </tr>\n",
       "  </tbody>\n",
       "</table>\n",
       "<p>5 rows × 24 columns</p>\n",
       "</div>"
      ],
      "text/plain": [
       "   comment_count                                        description  duration  \\\n",
       "0           4553  Sir Ken Robinson makes an entertaining and pro...      1164   \n",
       "1            265  With the same humor and humanity he exuded in ...       977   \n",
       "2            124  New York Times columnist David Pogue takes aim...      1286   \n",
       "3            200  In an emotionally charged talk, MacArthur-winn...      1116   \n",
       "4            593  You've never seen data presented like this. Wi...      1190   \n",
       "\n",
       "     event  languages   main_speaker  \\\n",
       "0  TED2006         60   Ken Robinson   \n",
       "1  TED2006         43        Al Gore   \n",
       "2  TED2006         26    David Pogue   \n",
       "3  TED2006         35  Majora Carter   \n",
       "4  TED2006         48   Hans Rosling   \n",
       "\n",
       "                                            name  num_speaker  \\\n",
       "0      Ken Robinson: Do schools kill creativity?            1   \n",
       "1           Al Gore: Averting the climate crisis            1   \n",
       "2                  David Pogue: Simplicity sells            1   \n",
       "3             Majora Carter: Greening the ghetto            1   \n",
       "4  Hans Rosling: The best stats you've ever seen            1   \n",
       "\n",
       "                                             ratings  \\\n",
       "0  [{'id': 7, 'name': 'Funny', 'count': 19645}, {...   \n",
       "1  [{'id': 7, 'name': 'Funny', 'count': 544}, {'i...   \n",
       "2  [{'id': 7, 'name': 'Funny', 'count': 964}, {'i...   \n",
       "3  [{'id': 3, 'name': 'Courageous', 'count': 760}...   \n",
       "4  [{'id': 9, 'name': 'Ingenious', 'count': 3202}...   \n",
       "\n",
       "                                       related_talks  ... view_count  \\\n",
       "0  [{'id': 865, 'hero': 'https://pe.tedcdn.com/im...  ...   47227110   \n",
       "1  [{'id': 243, 'hero': 'https://pe.tedcdn.com/im...  ...    3200520   \n",
       "2  [{'id': 1725, 'hero': 'https://pe.tedcdn.com/i...  ...    1636292   \n",
       "3  [{'id': 1041, 'hero': 'https://pe.tedcdn.com/i...  ...    1697550   \n",
       "4  [{'id': 2056, 'hero': 'https://pe.tedcdn.com/i...  ...   12005869   \n",
       "\n",
       "  filming_date    publication_date event_year  \\\n",
       "0   2006-02-25 2006-06-27 00:11:00       2006   \n",
       "1   2006-02-25 2006-06-27 00:11:00       2006   \n",
       "2   2006-02-24 2006-06-27 00:11:00       2006   \n",
       "3   2006-02-26 2006-06-27 00:11:00       2006   \n",
       "4   2006-02-22 2006-06-27 20:38:00       2006   \n",
       "\n",
       "                                        ratings_list  \\\n",
       "0  [{'id': 7, 'name': 'Funny', 'count': 19645}, {...   \n",
       "1  [{'id': 7, 'name': 'Funny', 'count': 544}, {'i...   \n",
       "2  [{'id': 7, 'name': 'Funny', 'count': 964}, {'i...   \n",
       "3  [{'id': 3, 'name': 'Courageous', 'count': 760}...   \n",
       "4  [{'id': 9, 'name': 'Ingenious', 'count': 3202}...   \n",
       "\n",
       "                               top3_ratings  \\\n",
       "0            (Inspiring, Funny, Persuasive)   \n",
       "1           (Funny, Informative, Inspiring)   \n",
       "2           (Funny, Informative, Inspiring)   \n",
       "3       (Inspiring, Courageous, Persuasive)   \n",
       "4  (Informative, Fascinating, Jaw-dropping)   \n",
       "\n",
       "                                   rating_categories  pos_ratings neg_ratings  \\\n",
       "0  [Funny, Beautiful, Ingenious, Courageous, Long...        91538        1138   \n",
       "1  [Funny, Courageous, Confusing, Beautiful, Unco...         2169         564   \n",
       "2  [Funny, Courageous, Ingenious, Beautiful, Unco...         2327         351   \n",
       "3  [Courageous, Beautiful, Confusing, Funny, Inge...         3487         156   \n",
       "4  [Ingenious, Funny, Beautiful, Courageous, Long...        25062         310   \n",
       "\n",
       "  neutral_ratings  \n",
       "0            1174  \n",
       "1             203  \n",
       "2             146  \n",
       "3              85  \n",
       "4             248  \n",
       "\n",
       "[5 rows x 24 columns]"
      ]
     },
     "execution_count": 64,
     "metadata": {},
     "output_type": "execute_result"
    }
   ],
   "source": [
    "ted.head()"
   ]
  },
  {
   "cell_type": "markdown",
   "metadata": {},
   "source": [
    "### Task 3.4 Find speakers with the highest average number of positive ratings per talk"
   ]
  },
  {
   "cell_type": "code",
   "execution_count": 65,
   "metadata": {},
   "outputs": [],
   "source": [
    "avg_pos_rating_per_speaker = ted.groupby('main_speaker').pos_ratings.mean()"
   ]
  },
  {
   "cell_type": "code",
   "execution_count": 66,
   "metadata": {},
   "outputs": [
    {
     "data": {
      "text/plain": [
       "main_speaker\n",
       "Jill Bolte Taylor    68436.00\n",
       "Amy Cuddy            63814.00\n",
       "Steve Jobs           36664.00\n",
       "Brené Brown          36572.00\n",
       "Simon Sinek          34960.00\n",
       "Ken Robinson         32784.25\n",
       "Shawn Achor          31692.00\n",
       "Susan Cain           29095.00\n",
       "Pranav Mistry        26292.00\n",
       "Guy Winch            24204.00\n",
       "Name: pos_ratings, dtype: float64"
      ]
     },
     "execution_count": 66,
     "metadata": {},
     "output_type": "execute_result"
    }
   ],
   "source": [
    "avg_pos_rating_per_speaker.sort_values(ascending=False).head(10)"
   ]
  },
  {
   "cell_type": "markdown",
   "metadata": {},
   "source": [
    "Consider also the number of talks that a speaker gave"
   ]
  },
  {
   "cell_type": "code",
   "execution_count": 67,
   "metadata": {},
   "outputs": [
    {
     "data": {
      "text/html": [
       "<div>\n",
       "<style scoped>\n",
       "    .dataframe tbody tr th:only-of-type {\n",
       "        vertical-align: middle;\n",
       "    }\n",
       "\n",
       "    .dataframe tbody tr th {\n",
       "        vertical-align: top;\n",
       "    }\n",
       "\n",
       "    .dataframe thead th {\n",
       "        text-align: right;\n",
       "    }\n",
       "</style>\n",
       "<table border=\"1\" class=\"dataframe\">\n",
       "  <thead>\n",
       "    <tr style=\"text-align: right;\">\n",
       "      <th></th>\n",
       "      <th>mean</th>\n",
       "      <th>count</th>\n",
       "    </tr>\n",
       "    <tr>\n",
       "      <th>main_speaker</th>\n",
       "      <th></th>\n",
       "      <th></th>\n",
       "    </tr>\n",
       "  </thead>\n",
       "  <tbody>\n",
       "    <tr>\n",
       "      <th>OK Go</th>\n",
       "      <td>1361.0</td>\n",
       "      <td>1</td>\n",
       "    </tr>\n",
       "    <tr>\n",
       "      <th>Rodrigo y Gabriela</th>\n",
       "      <td>1103.0</td>\n",
       "      <td>1</td>\n",
       "    </tr>\n",
       "    <tr>\n",
       "      <th>Silk Road Ensemble</th>\n",
       "      <td>149.0</td>\n",
       "      <td>1</td>\n",
       "    </tr>\n",
       "    <tr>\n",
       "      <th>Sofi Tukker</th>\n",
       "      <td>135.0</td>\n",
       "      <td>1</td>\n",
       "    </tr>\n",
       "    <tr>\n",
       "      <th>AJ Jacobs</th>\n",
       "      <td>1705.0</td>\n",
       "      <td>3</td>\n",
       "    </tr>\n",
       "    <tr>\n",
       "      <th>Aakash Odedra</th>\n",
       "      <td>752.0</td>\n",
       "      <td>1</td>\n",
       "    </tr>\n",
       "    <tr>\n",
       "      <th>Aala El-Khani</th>\n",
       "      <td>690.0</td>\n",
       "      <td>1</td>\n",
       "    </tr>\n",
       "  </tbody>\n",
       "</table>\n",
       "</div>"
      ],
      "text/plain": [
       "                       mean  count\n",
       "main_speaker                      \n",
       " OK Go               1361.0      1\n",
       " Rodrigo y Gabriela  1103.0      1\n",
       " Silk Road Ensemble   149.0      1\n",
       " Sofi Tukker          135.0      1\n",
       "AJ Jacobs            1705.0      3\n",
       "Aakash Odedra         752.0      1\n",
       "Aala El-Khani         690.0      1"
      ]
     },
     "execution_count": 67,
     "metadata": {},
     "output_type": "execute_result"
    }
   ],
   "source": [
    "avg_pos_rating_per_speaker = ted.groupby('main_speaker').pos_ratings.agg(['mean', 'count'])\n",
    "avg_pos_rating_per_speaker.head(7)"
   ]
  },
  {
   "cell_type": "code",
   "execution_count": 68,
   "metadata": {},
   "outputs": [
    {
     "data": {
      "text/html": [
       "<div>\n",
       "<style scoped>\n",
       "    .dataframe tbody tr th:only-of-type {\n",
       "        vertical-align: middle;\n",
       "    }\n",
       "\n",
       "    .dataframe tbody tr th {\n",
       "        vertical-align: top;\n",
       "    }\n",
       "\n",
       "    .dataframe thead th {\n",
       "        text-align: right;\n",
       "    }\n",
       "</style>\n",
       "<table border=\"1\" class=\"dataframe\">\n",
       "  <thead>\n",
       "    <tr style=\"text-align: right;\">\n",
       "      <th></th>\n",
       "      <th>avg_pos_rating</th>\n",
       "      <th>talk_count</th>\n",
       "    </tr>\n",
       "    <tr>\n",
       "      <th>main_speaker</th>\n",
       "      <th></th>\n",
       "      <th></th>\n",
       "    </tr>\n",
       "  </thead>\n",
       "  <tbody>\n",
       "    <tr>\n",
       "      <th>Jill Bolte Taylor</th>\n",
       "      <td>68436.00</td>\n",
       "      <td>1</td>\n",
       "    </tr>\n",
       "    <tr>\n",
       "      <th>Amy Cuddy</th>\n",
       "      <td>63814.00</td>\n",
       "      <td>1</td>\n",
       "    </tr>\n",
       "    <tr>\n",
       "      <th>Steve Jobs</th>\n",
       "      <td>36664.00</td>\n",
       "      <td>1</td>\n",
       "    </tr>\n",
       "    <tr>\n",
       "      <th>Brené Brown</th>\n",
       "      <td>36572.00</td>\n",
       "      <td>2</td>\n",
       "    </tr>\n",
       "    <tr>\n",
       "      <th>Simon Sinek</th>\n",
       "      <td>34960.00</td>\n",
       "      <td>2</td>\n",
       "    </tr>\n",
       "    <tr>\n",
       "      <th>Ken Robinson</th>\n",
       "      <td>32784.25</td>\n",
       "      <td>4</td>\n",
       "    </tr>\n",
       "    <tr>\n",
       "      <th>Shawn Achor</th>\n",
       "      <td>31692.00</td>\n",
       "      <td>1</td>\n",
       "    </tr>\n",
       "  </tbody>\n",
       "</table>\n",
       "</div>"
      ],
      "text/plain": [
       "                   avg_pos_rating  talk_count\n",
       "main_speaker                                 \n",
       "Jill Bolte Taylor        68436.00           1\n",
       "Amy Cuddy                63814.00           1\n",
       "Steve Jobs               36664.00           1\n",
       "Brené Brown              36572.00           2\n",
       "Simon Sinek              34960.00           2\n",
       "Ken Robinson             32784.25           4\n",
       "Shawn Achor              31692.00           1"
      ]
     },
     "execution_count": 68,
     "metadata": {},
     "output_type": "execute_result"
    }
   ],
   "source": [
    "avg_pos_rating_per_speaker.columns = ['avg_pos_rating', 'talk_count']\n",
    "avg_pos_rating_per_speaker.sort_values(by='avg_pos_rating', ascending=False).head(7)"
   ]
  },
  {
   "cell_type": "markdown",
   "metadata": {},
   "source": [
    "Limit to only those who gave more than 1 talk"
   ]
  },
  {
   "cell_type": "code",
   "execution_count": 69,
   "metadata": {},
   "outputs": [
    {
     "data": {
      "text/html": [
       "<div>\n",
       "<style scoped>\n",
       "    .dataframe tbody tr th:only-of-type {\n",
       "        vertical-align: middle;\n",
       "    }\n",
       "\n",
       "    .dataframe tbody tr th {\n",
       "        vertical-align: top;\n",
       "    }\n",
       "\n",
       "    .dataframe thead th {\n",
       "        text-align: right;\n",
       "    }\n",
       "</style>\n",
       "<table border=\"1\" class=\"dataframe\">\n",
       "  <thead>\n",
       "    <tr style=\"text-align: right;\">\n",
       "      <th></th>\n",
       "      <th>avg_pos_rating</th>\n",
       "      <th>talk_count</th>\n",
       "    </tr>\n",
       "    <tr>\n",
       "      <th>main_speaker</th>\n",
       "      <th></th>\n",
       "      <th></th>\n",
       "    </tr>\n",
       "  </thead>\n",
       "  <tbody>\n",
       "    <tr>\n",
       "      <th>Brené Brown</th>\n",
       "      <td>36572.00</td>\n",
       "      <td>2</td>\n",
       "    </tr>\n",
       "    <tr>\n",
       "      <th>Simon Sinek</th>\n",
       "      <td>34960.00</td>\n",
       "      <td>2</td>\n",
       "    </tr>\n",
       "    <tr>\n",
       "      <th>Ken Robinson</th>\n",
       "      <td>32784.25</td>\n",
       "      <td>4</td>\n",
       "    </tr>\n",
       "    <tr>\n",
       "      <th>Chimamanda Ngozi Adichie</th>\n",
       "      <td>15429.00</td>\n",
       "      <td>2</td>\n",
       "    </tr>\n",
       "    <tr>\n",
       "      <th>Elizabeth Gilbert</th>\n",
       "      <td>14049.50</td>\n",
       "      <td>2</td>\n",
       "    </tr>\n",
       "    <tr>\n",
       "      <th>...</th>\n",
       "      <td>...</td>\n",
       "      <td>...</td>\n",
       "    </tr>\n",
       "    <tr>\n",
       "      <th>Michael Metcalfe</th>\n",
       "      <td>498.50</td>\n",
       "      <td>2</td>\n",
       "    </tr>\n",
       "    <tr>\n",
       "      <th>David Hoffman</th>\n",
       "      <td>497.50</td>\n",
       "      <td>2</td>\n",
       "    </tr>\n",
       "    <tr>\n",
       "      <th>Liz Diller</th>\n",
       "      <td>425.50</td>\n",
       "      <td>2</td>\n",
       "    </tr>\n",
       "    <tr>\n",
       "      <th>Frank Gehry</th>\n",
       "      <td>349.50</td>\n",
       "      <td>2</td>\n",
       "    </tr>\n",
       "    <tr>\n",
       "      <th>Noah Feldman</th>\n",
       "      <td>298.00</td>\n",
       "      <td>2</td>\n",
       "    </tr>\n",
       "  </tbody>\n",
       "</table>\n",
       "<p>276 rows × 2 columns</p>\n",
       "</div>"
      ],
      "text/plain": [
       "                          avg_pos_rating  talk_count\n",
       "main_speaker                                        \n",
       "Brené Brown                     36572.00           2\n",
       "Simon Sinek                     34960.00           2\n",
       "Ken Robinson                    32784.25           4\n",
       "Chimamanda Ngozi Adichie        15429.00           2\n",
       "Elizabeth Gilbert               14049.50           2\n",
       "...                                  ...         ...\n",
       "Michael Metcalfe                  498.50           2\n",
       "David Hoffman                     497.50           2\n",
       "Liz Diller                        425.50           2\n",
       "Frank Gehry                       349.50           2\n",
       "Noah Feldman                      298.00           2\n",
       "\n",
       "[276 rows x 2 columns]"
      ]
     },
     "execution_count": 69,
     "metadata": {},
     "output_type": "execute_result"
    }
   ],
   "source": [
    "avg_pos_rating_per_speaker.loc[avg_pos_rating_per_speaker.talk_count > 1].sort_values(by='avg_pos_rating', ascending=False)"
   ]
  },
  {
   "cell_type": "markdown",
   "metadata": {},
   "source": [
    "### Task 3.5 Identify 10 speakers with the largest proportion of negative ratings "
   ]
  },
  {
   "cell_type": "markdown",
   "metadata": {},
   "source": [
    "Start by computing the proportion of negative ratings for all the talks"
   ]
  },
  {
   "cell_type": "code",
   "execution_count": 70,
   "metadata": {},
   "outputs": [],
   "source": [
    "ted['prop_neg_ratings'] = ted.neg_ratings / (ted.neg_ratings + ted.pos_ratings + ted.neutral_ratings)"
   ]
  },
  {
   "cell_type": "markdown",
   "metadata": {},
   "source": [
    "Group talks by the main speaker and, for each group (that is, speaker), compute the average proportion of negative ratings and number of talks"
   ]
  },
  {
   "cell_type": "code",
   "execution_count": 71,
   "metadata": {},
   "outputs": [
    {
     "data": {
      "text/html": [
       "<div>\n",
       "<style scoped>\n",
       "    .dataframe tbody tr th:only-of-type {\n",
       "        vertical-align: middle;\n",
       "    }\n",
       "\n",
       "    .dataframe tbody tr th {\n",
       "        vertical-align: top;\n",
       "    }\n",
       "\n",
       "    .dataframe thead th {\n",
       "        text-align: right;\n",
       "    }\n",
       "</style>\n",
       "<table border=\"1\" class=\"dataframe\">\n",
       "  <thead>\n",
       "    <tr style=\"text-align: right;\">\n",
       "      <th></th>\n",
       "      <th>mean</th>\n",
       "      <th>count</th>\n",
       "    </tr>\n",
       "    <tr>\n",
       "      <th>main_speaker</th>\n",
       "      <th></th>\n",
       "      <th></th>\n",
       "    </tr>\n",
       "  </thead>\n",
       "  <tbody>\n",
       "    <tr>\n",
       "      <th>Stephen Wilkes</th>\n",
       "      <td>0.038099</td>\n",
       "      <td>1</td>\n",
       "    </tr>\n",
       "    <tr>\n",
       "      <th>Elif Shafak</th>\n",
       "      <td>0.031920</td>\n",
       "      <td>1</td>\n",
       "    </tr>\n",
       "    <tr>\n",
       "      <th>Amber Case</th>\n",
       "      <td>0.080230</td>\n",
       "      <td>1</td>\n",
       "    </tr>\n",
       "    <tr>\n",
       "      <th>Joshua Walters</th>\n",
       "      <td>0.157807</td>\n",
       "      <td>1</td>\n",
       "    </tr>\n",
       "    <tr>\n",
       "      <th>Steven Levitt</th>\n",
       "      <td>0.103714</td>\n",
       "      <td>2</td>\n",
       "    </tr>\n",
       "    <tr>\n",
       "      <th>Chetan Bhatt</th>\n",
       "      <td>0.084048</td>\n",
       "      <td>1</td>\n",
       "    </tr>\n",
       "    <tr>\n",
       "      <th>Andreas Raptopoulos</th>\n",
       "      <td>0.027144</td>\n",
       "      <td>1</td>\n",
       "    </tr>\n",
       "    <tr>\n",
       "      <th>Usman Riaz + Preston Reed</th>\n",
       "      <td>0.015232</td>\n",
       "      <td>1</td>\n",
       "    </tr>\n",
       "    <tr>\n",
       "      <th>Rodrigo Canales</th>\n",
       "      <td>0.021614</td>\n",
       "      <td>1</td>\n",
       "    </tr>\n",
       "    <tr>\n",
       "      <th>Damon Davis</th>\n",
       "      <td>0.158470</td>\n",
       "      <td>1</td>\n",
       "    </tr>\n",
       "  </tbody>\n",
       "</table>\n",
       "</div>"
      ],
      "text/plain": [
       "                               mean  count\n",
       "main_speaker                              \n",
       "Stephen Wilkes             0.038099      1\n",
       "Elif Shafak                0.031920      1\n",
       "Amber Case                 0.080230      1\n",
       "Joshua Walters             0.157807      1\n",
       "Steven Levitt              0.103714      2\n",
       "Chetan Bhatt               0.084048      1\n",
       "Andreas Raptopoulos        0.027144      1\n",
       "Usman Riaz + Preston Reed  0.015232      1\n",
       "Rodrigo Canales            0.021614      1\n",
       "Damon Davis                0.158470      1"
      ]
     },
     "execution_count": 71,
     "metadata": {},
     "output_type": "execute_result"
    }
   ],
   "source": [
    "prop_neg_rating_per_speaker = ted.groupby('main_speaker').prop_neg_ratings.agg(['mean', 'count'])\n",
    "prop_neg_rating_per_speaker.sample(10)"
   ]
  },
  {
   "cell_type": "code",
   "execution_count": 72,
   "metadata": {},
   "outputs": [
    {
     "data": {
      "text/html": [
       "<div>\n",
       "<style scoped>\n",
       "    .dataframe tbody tr th:only-of-type {\n",
       "        vertical-align: middle;\n",
       "    }\n",
       "\n",
       "    .dataframe tbody tr th {\n",
       "        vertical-align: top;\n",
       "    }\n",
       "\n",
       "    .dataframe thead th {\n",
       "        text-align: right;\n",
       "    }\n",
       "</style>\n",
       "<table border=\"1\" class=\"dataframe\">\n",
       "  <thead>\n",
       "    <tr style=\"text-align: right;\">\n",
       "      <th></th>\n",
       "      <th>avg_prop_neg_ratings</th>\n",
       "      <th>talk_count</th>\n",
       "    </tr>\n",
       "    <tr>\n",
       "      <th>main_speaker</th>\n",
       "      <th></th>\n",
       "      <th></th>\n",
       "    </tr>\n",
       "  </thead>\n",
       "  <tbody>\n",
       "    <tr>\n",
       "      <th>Daniel Libeskind</th>\n",
       "      <td>0.777190</td>\n",
       "      <td>1</td>\n",
       "    </tr>\n",
       "    <tr>\n",
       "      <th>Richard Ledgett</th>\n",
       "      <td>0.617466</td>\n",
       "      <td>1</td>\n",
       "    </tr>\n",
       "    <tr>\n",
       "      <th>Elaine Morgan</th>\n",
       "      <td>0.565419</td>\n",
       "      <td>1</td>\n",
       "    </tr>\n",
       "    <tr>\n",
       "      <th>Kelli Jean Drinkwater</th>\n",
       "      <td>0.528774</td>\n",
       "      <td>1</td>\n",
       "    </tr>\n",
       "    <tr>\n",
       "      <th>Romina Libster</th>\n",
       "      <td>0.514821</td>\n",
       "      <td>1</td>\n",
       "    </tr>\n",
       "    <tr>\n",
       "      <th>David Rockwell</th>\n",
       "      <td>0.481481</td>\n",
       "      <td>1</td>\n",
       "    </tr>\n",
       "    <tr>\n",
       "      <th>Kwame Anthony Appiah</th>\n",
       "      <td>0.475742</td>\n",
       "      <td>1</td>\n",
       "    </tr>\n",
       "    <tr>\n",
       "      <th>Kim Gorgens</th>\n",
       "      <td>0.474153</td>\n",
       "      <td>1</td>\n",
       "    </tr>\n",
       "    <tr>\n",
       "      <th>David Camarillo</th>\n",
       "      <td>0.466254</td>\n",
       "      <td>1</td>\n",
       "    </tr>\n",
       "    <tr>\n",
       "      <th>Patrícia Medici</th>\n",
       "      <td>0.465974</td>\n",
       "      <td>1</td>\n",
       "    </tr>\n",
       "  </tbody>\n",
       "</table>\n",
       "</div>"
      ],
      "text/plain": [
       "                       avg_prop_neg_ratings  talk_count\n",
       "main_speaker                                           \n",
       "Daniel Libeskind                   0.777190           1\n",
       "Richard Ledgett                    0.617466           1\n",
       "Elaine Morgan                      0.565419           1\n",
       "Kelli Jean Drinkwater              0.528774           1\n",
       "Romina Libster                     0.514821           1\n",
       "David Rockwell                     0.481481           1\n",
       "Kwame Anthony Appiah               0.475742           1\n",
       "Kim Gorgens                        0.474153           1\n",
       "David Camarillo                    0.466254           1\n",
       "Patrícia Medici                    0.465974           1"
      ]
     },
     "execution_count": 72,
     "metadata": {},
     "output_type": "execute_result"
    }
   ],
   "source": [
    "prop_neg_rating_per_speaker.columns = ['avg_prop_neg_ratings', 'talk_count']\n",
    "prop_neg_rating_per_speaker.sort_values(by='avg_prop_neg_ratings', ascending=False).head(10)"
   ]
  },
  {
   "cell_type": "markdown",
   "metadata": {},
   "source": [
    "Maybe those with one talk just had a bad day or were not experienced enough... \n",
    "So, let's focus on those with 3+ talks"
   ]
  },
  {
   "cell_type": "code",
   "execution_count": 73,
   "metadata": {},
   "outputs": [
    {
     "data": {
      "text/html": [
       "<div>\n",
       "<style scoped>\n",
       "    .dataframe tbody tr th:only-of-type {\n",
       "        vertical-align: middle;\n",
       "    }\n",
       "\n",
       "    .dataframe tbody tr th {\n",
       "        vertical-align: top;\n",
       "    }\n",
       "\n",
       "    .dataframe thead th {\n",
       "        text-align: right;\n",
       "    }\n",
       "</style>\n",
       "<table border=\"1\" class=\"dataframe\">\n",
       "  <thead>\n",
       "    <tr style=\"text-align: right;\">\n",
       "      <th></th>\n",
       "      <th>avg_prop_neg_ratings</th>\n",
       "      <th>talk_count</th>\n",
       "    </tr>\n",
       "    <tr>\n",
       "      <th>main_speaker</th>\n",
       "      <th></th>\n",
       "      <th></th>\n",
       "    </tr>\n",
       "  </thead>\n",
       "  <tbody>\n",
       "    <tr>\n",
       "      <th>Stewart Brand</th>\n",
       "      <td>0.246676</td>\n",
       "      <td>4</td>\n",
       "    </tr>\n",
       "    <tr>\n",
       "      <th>David Pogue</th>\n",
       "      <td>0.159982</td>\n",
       "      <td>4</td>\n",
       "    </tr>\n",
       "    <tr>\n",
       "      <th>Dan Dennett</th>\n",
       "      <td>0.137846</td>\n",
       "      <td>4</td>\n",
       "    </tr>\n",
       "    <tr>\n",
       "      <th>Kevin Kelly</th>\n",
       "      <td>0.136803</td>\n",
       "      <td>4</td>\n",
       "    </tr>\n",
       "    <tr>\n",
       "      <th>Stefan Sagmeister</th>\n",
       "      <td>0.134185</td>\n",
       "      <td>4</td>\n",
       "    </tr>\n",
       "    <tr>\n",
       "      <th>Al Gore</th>\n",
       "      <td>0.127600</td>\n",
       "      <td>4</td>\n",
       "    </tr>\n",
       "    <tr>\n",
       "      <th>Jonathan Haidt</th>\n",
       "      <td>0.114306</td>\n",
       "      <td>4</td>\n",
       "    </tr>\n",
       "    <tr>\n",
       "      <th>Eve Ensler</th>\n",
       "      <td>0.099071</td>\n",
       "      <td>4</td>\n",
       "    </tr>\n",
       "    <tr>\n",
       "      <th>Lawrence Lessig</th>\n",
       "      <td>0.090681</td>\n",
       "      <td>4</td>\n",
       "    </tr>\n",
       "    <tr>\n",
       "      <th>Bill Gates</th>\n",
       "      <td>0.084608</td>\n",
       "      <td>5</td>\n",
       "    </tr>\n",
       "  </tbody>\n",
       "</table>\n",
       "</div>"
      ],
      "text/plain": [
       "                   avg_prop_neg_ratings  talk_count\n",
       "main_speaker                                       \n",
       "Stewart Brand                  0.246676           4\n",
       "David Pogue                    0.159982           4\n",
       "Dan Dennett                    0.137846           4\n",
       "Kevin Kelly                    0.136803           4\n",
       "Stefan Sagmeister              0.134185           4\n",
       "Al Gore                        0.127600           4\n",
       "Jonathan Haidt                 0.114306           4\n",
       "Eve Ensler                     0.099071           4\n",
       "Lawrence Lessig                0.090681           4\n",
       "Bill Gates                     0.084608           5"
      ]
     },
     "execution_count": 73,
     "metadata": {},
     "output_type": "execute_result"
    }
   ],
   "source": [
    "prop_neg_rating_per_speaker[prop_neg_rating_per_speaker.talk_count > 3].sort_values(by='avg_prop_neg_ratings', ascending=False).head(10)"
   ]
  },
  {
   "cell_type": "markdown",
   "metadata": {},
   "source": [
    "Obviously those who gave more talks have lower proportion of negative ratings "
   ]
  },
  {
   "cell_type": "markdown",
   "metadata": {},
   "source": [
    "### Task 3.6 Which occupations deliver the funniest TED talks on average?"
   ]
  },
  {
   "cell_type": "markdown",
   "metadata": {},
   "source": [
    "We'll start by computing the number of Funny ratings per talk"
   ]
  },
  {
   "cell_type": "code",
   "execution_count": 74,
   "metadata": {},
   "outputs": [],
   "source": [
    "def funny_counts(ratings):\n",
    "    for r in ratings:\n",
    "        if r['name'] == 'Funny':\n",
    "            return r['count']\n",
    "    return 0\n",
    "    \n",
    "ted['funny_ratings'] = ted.ratings_list.apply(funny_counts)"
   ]
  },
  {
   "cell_type": "code",
   "execution_count": 75,
   "metadata": {},
   "outputs": [
    {
     "data": {
      "text/html": [
       "<div>\n",
       "<style scoped>\n",
       "    .dataframe tbody tr th:only-of-type {\n",
       "        vertical-align: middle;\n",
       "    }\n",
       "\n",
       "    .dataframe tbody tr th {\n",
       "        vertical-align: top;\n",
       "    }\n",
       "\n",
       "    .dataframe thead th {\n",
       "        text-align: right;\n",
       "    }\n",
       "</style>\n",
       "<table border=\"1\" class=\"dataframe\">\n",
       "  <thead>\n",
       "    <tr style=\"text-align: right;\">\n",
       "      <th></th>\n",
       "      <th>ratings_list</th>\n",
       "      <th>funny_ratings</th>\n",
       "    </tr>\n",
       "  </thead>\n",
       "  <tbody>\n",
       "    <tr>\n",
       "      <th>0</th>\n",
       "      <td>[{'id': 7, 'name': 'Funny', 'count': 19645}, {...</td>\n",
       "      <td>19645</td>\n",
       "    </tr>\n",
       "    <tr>\n",
       "      <th>1</th>\n",
       "      <td>[{'id': 7, 'name': 'Funny', 'count': 544}, {'i...</td>\n",
       "      <td>544</td>\n",
       "    </tr>\n",
       "    <tr>\n",
       "      <th>2</th>\n",
       "      <td>[{'id': 7, 'name': 'Funny', 'count': 964}, {'i...</td>\n",
       "      <td>964</td>\n",
       "    </tr>\n",
       "    <tr>\n",
       "      <th>3</th>\n",
       "      <td>[{'id': 3, 'name': 'Courageous', 'count': 760}...</td>\n",
       "      <td>59</td>\n",
       "    </tr>\n",
       "  </tbody>\n",
       "</table>\n",
       "</div>"
      ],
      "text/plain": [
       "                                        ratings_list  funny_ratings\n",
       "0  [{'id': 7, 'name': 'Funny', 'count': 19645}, {...          19645\n",
       "1  [{'id': 7, 'name': 'Funny', 'count': 544}, {'i...            544\n",
       "2  [{'id': 7, 'name': 'Funny', 'count': 964}, {'i...            964\n",
       "3  [{'id': 3, 'name': 'Courageous', 'count': 760}...             59"
      ]
     },
     "execution_count": 75,
     "metadata": {},
     "output_type": "execute_result"
    }
   ],
   "source": [
    "ted.loc[:,['ratings_list', 'funny_ratings']].head(4)"
   ]
  },
  {
   "cell_type": "markdown",
   "metadata": {},
   "source": [
    "This may be fine, but absolute values tend to be misleading - it is often better to take relative values, that is, proportions. So, instead of considering the funniest those with the highest absolute values of Funny ratings, better choose those with the highest proportion of Funny ratings  "
   ]
  },
  {
   "cell_type": "code",
   "execution_count": 76,
   "metadata": {},
   "outputs": [],
   "source": [
    "ted['funny_ratings_prop'] = ted.funny_ratings / (ted.pos_ratings + ted.neg_ratings + ted.neutral_ratings)"
   ]
  },
  {
   "cell_type": "markdown",
   "metadata": {},
   "source": [
    "Let's take a sample and examine absolute and relative counts of Funny ratings"
   ]
  },
  {
   "cell_type": "code",
   "execution_count": 77,
   "metadata": {},
   "outputs": [
    {
     "data": {
      "text/html": [
       "<div>\n",
       "<style scoped>\n",
       "    .dataframe tbody tr th:only-of-type {\n",
       "        vertical-align: middle;\n",
       "    }\n",
       "\n",
       "    .dataframe tbody tr th {\n",
       "        vertical-align: top;\n",
       "    }\n",
       "\n",
       "    .dataframe thead th {\n",
       "        text-align: right;\n",
       "    }\n",
       "</style>\n",
       "<table border=\"1\" class=\"dataframe\">\n",
       "  <thead>\n",
       "    <tr style=\"text-align: right;\">\n",
       "      <th></th>\n",
       "      <th>funny_ratings</th>\n",
       "      <th>funny_ratings_prop</th>\n",
       "    </tr>\n",
       "  </thead>\n",
       "  <tbody>\n",
       "    <tr>\n",
       "      <th>0</th>\n",
       "      <td>19645</td>\n",
       "      <td>0.209323</td>\n",
       "    </tr>\n",
       "    <tr>\n",
       "      <th>2114</th>\n",
       "      <td>7731</td>\n",
       "      <td>0.625182</td>\n",
       "    </tr>\n",
       "    <tr>\n",
       "      <th>2161</th>\n",
       "      <td>7445</td>\n",
       "      <td>0.333722</td>\n",
       "    </tr>\n",
       "    <tr>\n",
       "      <th>1129</th>\n",
       "      <td>7315</td>\n",
       "      <td>0.227315</td>\n",
       "    </tr>\n",
       "    <tr>\n",
       "      <th>675</th>\n",
       "      <td>5552</td>\n",
       "      <td>0.527406</td>\n",
       "    </tr>\n",
       "    <tr>\n",
       "      <th>837</th>\n",
       "      <td>5225</td>\n",
       "      <td>0.086970</td>\n",
       "    </tr>\n",
       "    <tr>\n",
       "      <th>452</th>\n",
       "      <td>4166</td>\n",
       "      <td>0.369556</td>\n",
       "    </tr>\n",
       "    <tr>\n",
       "      <th>685</th>\n",
       "      <td>4025</td>\n",
       "      <td>0.702076</td>\n",
       "    </tr>\n",
       "    <tr>\n",
       "      <th>747</th>\n",
       "      <td>4013</td>\n",
       "      <td>0.630677</td>\n",
       "    </tr>\n",
       "    <tr>\n",
       "      <th>692</th>\n",
       "      <td>3000</td>\n",
       "      <td>0.139593</td>\n",
       "    </tr>\n",
       "  </tbody>\n",
       "</table>\n",
       "</div>"
      ],
      "text/plain": [
       "      funny_ratings  funny_ratings_prop\n",
       "0             19645            0.209323\n",
       "2114           7731            0.625182\n",
       "2161           7445            0.333722\n",
       "1129           7315            0.227315\n",
       "675            5552            0.527406\n",
       "837            5225            0.086970\n",
       "452            4166            0.369556\n",
       "685            4025            0.702076\n",
       "747            4013            0.630677\n",
       "692            3000            0.139593"
      ]
     },
     "execution_count": 77,
     "metadata": {},
     "output_type": "execute_result"
    }
   ],
   "source": [
    "ted.loc[:, ['funny_ratings', 'funny_ratings_prop']].sort_values(by='funny_ratings', ascending=False).head(10)"
   ]
  },
  {
   "cell_type": "markdown",
   "metadata": {},
   "source": [
    "Next, do the grouping based on the speaker_occupation and compute, for each group (i.e., each occupation), average counts and proportions of Funny ratings"
   ]
  },
  {
   "cell_type": "code",
   "execution_count": 78,
   "metadata": {},
   "outputs": [
    {
     "data": {
      "text/html": [
       "<div>\n",
       "<style scoped>\n",
       "    .dataframe tbody tr th:only-of-type {\n",
       "        vertical-align: middle;\n",
       "    }\n",
       "\n",
       "    .dataframe tbody tr th {\n",
       "        vertical-align: top;\n",
       "    }\n",
       "\n",
       "    .dataframe thead th {\n",
       "        text-align: right;\n",
       "    }\n",
       "</style>\n",
       "<table border=\"1\" class=\"dataframe\">\n",
       "  <thead>\n",
       "    <tr style=\"text-align: right;\">\n",
       "      <th></th>\n",
       "      <th>funny_ratings</th>\n",
       "      <th>funny_ratings_prop</th>\n",
       "    </tr>\n",
       "    <tr>\n",
       "      <th>speaker_occupation</th>\n",
       "      <th></th>\n",
       "      <th></th>\n",
       "    </tr>\n",
       "  </thead>\n",
       "  <tbody>\n",
       "    <tr>\n",
       "      <th>Chairman of the Cordoba Initiative</th>\n",
       "      <td>0.0</td>\n",
       "      <td>0.000000</td>\n",
       "    </tr>\n",
       "    <tr>\n",
       "      <th>Child protection leader, activist, author</th>\n",
       "      <td>1.0</td>\n",
       "      <td>0.002421</td>\n",
       "    </tr>\n",
       "    <tr>\n",
       "      <th>Robotics engineer</th>\n",
       "      <td>1.0</td>\n",
       "      <td>0.007353</td>\n",
       "    </tr>\n",
       "    <tr>\n",
       "      <th>Space physicist</th>\n",
       "      <td>19.0</td>\n",
       "      <td>0.015447</td>\n",
       "    </tr>\n",
       "    <tr>\n",
       "      <th>3D printer</th>\n",
       "      <td>18.0</td>\n",
       "      <td>0.007789</td>\n",
       "    </tr>\n",
       "    <tr>\n",
       "      <th>...</th>\n",
       "      <td>...</td>\n",
       "      <td>...</td>\n",
       "    </tr>\n",
       "    <tr>\n",
       "      <th>e-Patient</th>\n",
       "      <td>21.0</td>\n",
       "      <td>0.014374</td>\n",
       "    </tr>\n",
       "    <tr>\n",
       "      <th>inventor, engineer</th>\n",
       "      <td>21.0</td>\n",
       "      <td>0.011745</td>\n",
       "    </tr>\n",
       "    <tr>\n",
       "      <th>medical inventor</th>\n",
       "      <td>8.0</td>\n",
       "      <td>0.002993</td>\n",
       "    </tr>\n",
       "    <tr>\n",
       "      <th>photographer + visual artist</th>\n",
       "      <td>310.0</td>\n",
       "      <td>0.236461</td>\n",
       "    </tr>\n",
       "    <tr>\n",
       "      <th>physicist</th>\n",
       "      <td>13.0</td>\n",
       "      <td>0.017105</td>\n",
       "    </tr>\n",
       "  </tbody>\n",
       "</table>\n",
       "<p>1458 rows × 2 columns</p>\n",
       "</div>"
      ],
      "text/plain": [
       "                                             funny_ratings  funny_ratings_prop\n",
       "speaker_occupation                                                            \n",
       " Chairman of the Cordoba Initiative                    0.0            0.000000\n",
       " Child protection leader, activist, author             1.0            0.002421\n",
       " Robotics engineer                                     1.0            0.007353\n",
       " Space physicist                                      19.0            0.015447\n",
       "3D printer                                            18.0            0.007789\n",
       "...                                                    ...                 ...\n",
       "e-Patient                                             21.0            0.014374\n",
       "inventor, engineer                                    21.0            0.011745\n",
       "medical inventor                                       8.0            0.002993\n",
       "photographer + visual artist                         310.0            0.236461\n",
       "physicist                                             13.0            0.017105\n",
       "\n",
       "[1458 rows x 2 columns]"
      ]
     },
     "execution_count": 78,
     "metadata": {},
     "output_type": "execute_result"
    }
   ],
   "source": [
    "ted.groupby('speaker_occupation')[['funny_ratings', 'funny_ratings_prop']].mean()"
   ]
  },
  {
   "cell_type": "markdown",
   "metadata": {},
   "source": [
    "Take the top 10 occupations based on the average proportion of Funny ratings"
   ]
  },
  {
   "cell_type": "code",
   "execution_count": 79,
   "metadata": {},
   "outputs": [
    {
     "data": {
      "text/html": [
       "<div>\n",
       "<style scoped>\n",
       "    .dataframe tbody tr th:only-of-type {\n",
       "        vertical-align: middle;\n",
       "    }\n",
       "\n",
       "    .dataframe tbody tr th {\n",
       "        vertical-align: top;\n",
       "    }\n",
       "\n",
       "    .dataframe thead th {\n",
       "        text-align: right;\n",
       "    }\n",
       "</style>\n",
       "<table border=\"1\" class=\"dataframe\">\n",
       "  <thead>\n",
       "    <tr style=\"text-align: right;\">\n",
       "      <th></th>\n",
       "      <th>funny_ratings</th>\n",
       "      <th>funny_ratings_prop</th>\n",
       "    </tr>\n",
       "    <tr>\n",
       "      <th>speaker_occupation</th>\n",
       "      <th></th>\n",
       "      <th></th>\n",
       "    </tr>\n",
       "  </thead>\n",
       "  <tbody>\n",
       "    <tr>\n",
       "      <th>Comedian and writer</th>\n",
       "      <td>4970.5</td>\n",
       "      <td>0.602085</td>\n",
       "    </tr>\n",
       "    <tr>\n",
       "      <th>Jugglers</th>\n",
       "      <td>1637.0</td>\n",
       "      <td>0.566828</td>\n",
       "    </tr>\n",
       "    <tr>\n",
       "      <th>Actor, comedian, playwright</th>\n",
       "      <td>3254.5</td>\n",
       "      <td>0.558107</td>\n",
       "    </tr>\n",
       "    <tr>\n",
       "      <th>Actor, writer</th>\n",
       "      <td>374.0</td>\n",
       "      <td>0.515152</td>\n",
       "    </tr>\n",
       "    <tr>\n",
       "      <th>Comedian</th>\n",
       "      <td>1839.0</td>\n",
       "      <td>0.512457</td>\n",
       "    </tr>\n",
       "    <tr>\n",
       "      <th>...</th>\n",
       "      <td>...</td>\n",
       "      <td>...</td>\n",
       "    </tr>\n",
       "    <tr>\n",
       "      <th>Labor-rights activist</th>\n",
       "      <td>0.0</td>\n",
       "      <td>0.000000</td>\n",
       "    </tr>\n",
       "    <tr>\n",
       "      <th>Political scientist and journalist</th>\n",
       "      <td>0.0</td>\n",
       "      <td>0.000000</td>\n",
       "    </tr>\n",
       "    <tr>\n",
       "      <th>Kenyan MP</th>\n",
       "      <td>0.0</td>\n",
       "      <td>0.000000</td>\n",
       "    </tr>\n",
       "    <tr>\n",
       "      <th>Author, thinker</th>\n",
       "      <td>0.0</td>\n",
       "      <td>0.000000</td>\n",
       "    </tr>\n",
       "    <tr>\n",
       "      <th>Chairman of the Cordoba Initiative</th>\n",
       "      <td>0.0</td>\n",
       "      <td>0.000000</td>\n",
       "    </tr>\n",
       "  </tbody>\n",
       "</table>\n",
       "<p>1458 rows × 2 columns</p>\n",
       "</div>"
      ],
      "text/plain": [
       "                                     funny_ratings  funny_ratings_prop\n",
       "speaker_occupation                                                    \n",
       "Comedian and writer                         4970.5            0.602085\n",
       "Jugglers                                    1637.0            0.566828\n",
       "Actor, comedian, playwright                 3254.5            0.558107\n",
       "Actor, writer                                374.0            0.515152\n",
       "Comedian                                    1839.0            0.512457\n",
       "...                                            ...                 ...\n",
       "Labor-rights activist                          0.0            0.000000\n",
       "Political scientist and journalist             0.0            0.000000\n",
       "Kenyan MP                                      0.0            0.000000\n",
       "Author, thinker                                0.0            0.000000\n",
       " Chairman of the Cordoba Initiative            0.0            0.000000\n",
       "\n",
       "[1458 rows x 2 columns]"
      ]
     },
     "execution_count": 79,
     "metadata": {},
     "output_type": "execute_result"
    }
   ],
   "source": [
    "ted.groupby('speaker_occupation')[['funny_ratings', 'funny_ratings_prop']].mean().sort_values(by='funny_ratings_prop', ascending=False)"
   ]
  },
  {
   "cell_type": "markdown",
   "metadata": {},
   "source": [
    "Some occupations sound rather exotic and unique (e.g. \"Chairman of the Cordoba Initiative\"). Let's also consider the frequency of different occupations "
   ]
  },
  {
   "cell_type": "code",
   "execution_count": 81,
   "metadata": {},
   "outputs": [],
   "source": [
    "occupation_funny_ratings = ted.groupby('speaker_occupation').agg(['mean', 'count'])['funny_ratings_prop']"
   ]
  },
  {
   "cell_type": "code",
   "execution_count": 82,
   "metadata": {},
   "outputs": [
    {
     "data": {
      "text/html": [
       "<div>\n",
       "<style scoped>\n",
       "    .dataframe tbody tr th:only-of-type {\n",
       "        vertical-align: middle;\n",
       "    }\n",
       "\n",
       "    .dataframe tbody tr th {\n",
       "        vertical-align: top;\n",
       "    }\n",
       "\n",
       "    .dataframe thead th {\n",
       "        text-align: right;\n",
       "    }\n",
       "</style>\n",
       "<table border=\"1\" class=\"dataframe\">\n",
       "  <thead>\n",
       "    <tr style=\"text-align: right;\">\n",
       "      <th></th>\n",
       "      <th>mean</th>\n",
       "      <th>count</th>\n",
       "    </tr>\n",
       "    <tr>\n",
       "      <th>speaker_occupation</th>\n",
       "      <th></th>\n",
       "      <th></th>\n",
       "    </tr>\n",
       "  </thead>\n",
       "  <tbody>\n",
       "    <tr>\n",
       "      <th>Comedian and writer</th>\n",
       "      <td>0.602085</td>\n",
       "      <td>2</td>\n",
       "    </tr>\n",
       "    <tr>\n",
       "      <th>Jugglers</th>\n",
       "      <td>0.566828</td>\n",
       "      <td>1</td>\n",
       "    </tr>\n",
       "    <tr>\n",
       "      <th>Actor, comedian, playwright</th>\n",
       "      <td>0.558107</td>\n",
       "      <td>2</td>\n",
       "    </tr>\n",
       "    <tr>\n",
       "      <th>Actor, writer</th>\n",
       "      <td>0.515152</td>\n",
       "      <td>1</td>\n",
       "    </tr>\n",
       "    <tr>\n",
       "      <th>Comedian</th>\n",
       "      <td>0.512457</td>\n",
       "      <td>6</td>\n",
       "    </tr>\n",
       "    <tr>\n",
       "      <th>...</th>\n",
       "      <td>...</td>\n",
       "      <td>...</td>\n",
       "    </tr>\n",
       "    <tr>\n",
       "      <th>Labor-rights activist</th>\n",
       "      <td>0.000000</td>\n",
       "      <td>1</td>\n",
       "    </tr>\n",
       "    <tr>\n",
       "      <th>Political scientist and journalist</th>\n",
       "      <td>0.000000</td>\n",
       "      <td>1</td>\n",
       "    </tr>\n",
       "    <tr>\n",
       "      <th>Kenyan MP</th>\n",
       "      <td>0.000000</td>\n",
       "      <td>1</td>\n",
       "    </tr>\n",
       "    <tr>\n",
       "      <th>Author, thinker</th>\n",
       "      <td>0.000000</td>\n",
       "      <td>1</td>\n",
       "    </tr>\n",
       "    <tr>\n",
       "      <th>Chairman of the Cordoba Initiative</th>\n",
       "      <td>0.000000</td>\n",
       "      <td>1</td>\n",
       "    </tr>\n",
       "  </tbody>\n",
       "</table>\n",
       "<p>1458 rows × 2 columns</p>\n",
       "</div>"
      ],
      "text/plain": [
       "                                         mean  count\n",
       "speaker_occupation                                  \n",
       "Comedian and writer                  0.602085      2\n",
       "Jugglers                             0.566828      1\n",
       "Actor, comedian, playwright          0.558107      2\n",
       "Actor, writer                        0.515152      1\n",
       "Comedian                             0.512457      6\n",
       "...                                       ...    ...\n",
       "Labor-rights activist                0.000000      1\n",
       "Political scientist and journalist   0.000000      1\n",
       "Kenyan MP                            0.000000      1\n",
       "Author, thinker                      0.000000      1\n",
       " Chairman of the Cordoba Initiative  0.000000      1\n",
       "\n",
       "[1458 rows x 2 columns]"
      ]
     },
     "execution_count": 82,
     "metadata": {},
     "output_type": "execute_result"
    }
   ],
   "source": [
    "occupation_funny_ratings.sort_values(by='mean', ascending=False)"
   ]
  },
  {
   "cell_type": "markdown",
   "metadata": {},
   "source": [
    "Note that many occupations seem to appear only once. To verify this, let's compute the proportion of infrequent occupations"
   ]
  },
  {
   "cell_type": "code",
   "execution_count": 87,
   "metadata": {},
   "outputs": [
    {
     "data": {
      "text/plain": [
       "1    0.771605\n",
       "2    0.126886\n",
       "3    0.039095\n",
       "4    0.015775\n",
       "5    0.013032\n",
       "Name: count, dtype: float64"
      ]
     },
     "execution_count": 87,
     "metadata": {},
     "output_type": "execute_result"
    }
   ],
   "source": [
    "occupation_funny_ratings['count'].value_counts(normalize=True).head()"
   ]
  },
  {
   "cell_type": "markdown",
   "metadata": {},
   "source": [
    "We cannot make any conclusion based on just one representative of an occupation. So, let's limit our analysis to those occupations that have at least 5 representatives"
   ]
  },
  {
   "cell_type": "code",
   "execution_count": 88,
   "metadata": {},
   "outputs": [
    {
     "data": {
      "text/plain": [
       "Writer                             45\n",
       "Designer                           34\n",
       "Artist                             34\n",
       "Journalist                         33\n",
       "Entrepreneur                       31\n",
       "                                   ..\n",
       "Green designer                      1\n",
       "Environmental policy influencer     1\n",
       "Planetary explorer                  1\n",
       "Know-it-all                         1\n",
       "Development Leader                  1\n",
       "Name: speaker_occupation, Length: 1458, dtype: int64"
      ]
     },
     "execution_count": 88,
     "metadata": {},
     "output_type": "execute_result"
    }
   ],
   "source": [
    "occupation_freq = ted.speaker_occupation.value_counts()\n",
    "occupation_freq"
   ]
  },
  {
   "cell_type": "code",
   "execution_count": 89,
   "metadata": {},
   "outputs": [
    {
     "data": {
      "text/plain": [
       "(68,)"
      ]
     },
     "execution_count": 89,
     "metadata": {},
     "output_type": "execute_result"
    }
   ],
   "source": [
    "occupation_freq[occupation_freq >= 5].shape"
   ]
  },
  {
   "cell_type": "markdown",
   "metadata": {},
   "source": [
    "Store those well represented occupations so that we can focus on them"
   ]
  },
  {
   "cell_type": "code",
   "execution_count": 94,
   "metadata": {},
   "outputs": [
    {
     "data": {
      "text/plain": [
       "['Writer',\n",
       " 'Designer',\n",
       " 'Artist',\n",
       " 'Journalist',\n",
       " 'Entrepreneur',\n",
       " 'Architect',\n",
       " 'Inventor',\n",
       " 'Psychologist',\n",
       " 'Photographer',\n",
       " 'Filmmaker']"
      ]
     },
     "execution_count": 94,
     "metadata": {},
     "output_type": "execute_result"
    }
   ],
   "source": [
    "freq_occupations = occupation_freq[occupation_freq >= 5].index\n",
    "freq_occupations = freq_occupations.values.tolist()\n",
    "freq_occupations[:10]"
   ]
  },
  {
   "cell_type": "markdown",
   "metadata": {},
   "source": [
    "Select talks by speakers from well represented occulations "
   ]
  },
  {
   "cell_type": "code",
   "execution_count": 95,
   "metadata": {},
   "outputs": [],
   "source": [
    "talks_selection = ted.loc[ted.speaker_occupation.isin(freq_occupations)]"
   ]
  },
  {
   "cell_type": "code",
   "execution_count": 99,
   "metadata": {},
   "outputs": [
    {
     "data": {
      "text/plain": [
       "(786, 27)"
      ]
     },
     "execution_count": 99,
     "metadata": {},
     "output_type": "execute_result"
    }
   ],
   "source": [
    "talks_selection.shape"
   ]
  },
  {
   "cell_type": "code",
   "execution_count": 100,
   "metadata": {},
   "outputs": [
    {
     "data": {
      "text/plain": [
       "0.30823529411764705"
      ]
     },
     "execution_count": 100,
     "metadata": {},
     "output_type": "execute_result"
    }
   ],
   "source": [
    "talks_selection.shape[0]/ted.shape[0]"
   ]
  },
  {
   "cell_type": "markdown",
   "metadata": {},
   "source": [
    "So, about 30% of talks are given by speakers from \"well represented\" occupations. <br>\n",
    "We can now get back to examining how funny are talks by the representatives of such occupations."
   ]
  },
  {
   "cell_type": "code",
   "execution_count": 101,
   "metadata": {},
   "outputs": [
    {
     "data": {
      "text/html": [
       "<div>\n",
       "<style scoped>\n",
       "    .dataframe tbody tr th:only-of-type {\n",
       "        vertical-align: middle;\n",
       "    }\n",
       "\n",
       "    .dataframe tbody tr th {\n",
       "        vertical-align: top;\n",
       "    }\n",
       "\n",
       "    .dataframe thead th {\n",
       "        text-align: right;\n",
       "    }\n",
       "</style>\n",
       "<table border=\"1\" class=\"dataframe\">\n",
       "  <thead>\n",
       "    <tr style=\"text-align: right;\">\n",
       "      <th></th>\n",
       "      <th>mean</th>\n",
       "      <th>count</th>\n",
       "    </tr>\n",
       "    <tr>\n",
       "      <th>speaker_occupation</th>\n",
       "      <th></th>\n",
       "      <th></th>\n",
       "    </tr>\n",
       "  </thead>\n",
       "  <tbody>\n",
       "    <tr>\n",
       "      <th>Activist</th>\n",
       "      <td>0.012539</td>\n",
       "      <td>10</td>\n",
       "    </tr>\n",
       "    <tr>\n",
       "      <th>Architect</th>\n",
       "      <td>0.030579</td>\n",
       "      <td>30</td>\n",
       "    </tr>\n",
       "    <tr>\n",
       "      <th>Artist</th>\n",
       "      <td>0.078939</td>\n",
       "      <td>34</td>\n",
       "    </tr>\n",
       "    <tr>\n",
       "      <th>Astronomer</th>\n",
       "      <td>0.044581</td>\n",
       "      <td>9</td>\n",
       "    </tr>\n",
       "    <tr>\n",
       "      <th>Astrophysicist</th>\n",
       "      <td>0.013147</td>\n",
       "      <td>7</td>\n",
       "    </tr>\n",
       "    <tr>\n",
       "      <th>...</th>\n",
       "      <td>...</td>\n",
       "      <td>...</td>\n",
       "    </tr>\n",
       "    <tr>\n",
       "      <th>Techno-illusionist</th>\n",
       "      <td>0.152171</td>\n",
       "      <td>6</td>\n",
       "    </tr>\n",
       "    <tr>\n",
       "      <th>Technologist</th>\n",
       "      <td>0.050965</td>\n",
       "      <td>10</td>\n",
       "    </tr>\n",
       "    <tr>\n",
       "      <th>Violinist</th>\n",
       "      <td>0.009534</td>\n",
       "      <td>5</td>\n",
       "    </tr>\n",
       "    <tr>\n",
       "      <th>Writer</th>\n",
       "      <td>0.060745</td>\n",
       "      <td>45</td>\n",
       "    </tr>\n",
       "    <tr>\n",
       "      <th>Writer, activist</th>\n",
       "      <td>0.026665</td>\n",
       "      <td>6</td>\n",
       "    </tr>\n",
       "  </tbody>\n",
       "</table>\n",
       "<p>68 rows × 2 columns</p>\n",
       "</div>"
      ],
      "text/plain": [
       "                        mean  count\n",
       "speaker_occupation                 \n",
       "Activist            0.012539     10\n",
       "Architect           0.030579     30\n",
       "Artist              0.078939     34\n",
       "Astronomer          0.044581      9\n",
       "Astrophysicist      0.013147      7\n",
       "...                      ...    ...\n",
       "Techno-illusionist  0.152171      6\n",
       "Technologist        0.050965     10\n",
       "Violinist           0.009534      5\n",
       "Writer              0.060745     45\n",
       "Writer, activist    0.026665      6\n",
       "\n",
       "[68 rows x 2 columns]"
      ]
     },
     "execution_count": 101,
     "metadata": {},
     "output_type": "execute_result"
    }
   ],
   "source": [
    "talks_selection.groupby('speaker_occupation').agg(['mean','count'])['funny_ratings_prop']"
   ]
  },
  {
   "cell_type": "code",
   "execution_count": 102,
   "metadata": {},
   "outputs": [
    {
     "data": {
      "text/html": [
       "<div>\n",
       "<style scoped>\n",
       "    .dataframe tbody tr th:only-of-type {\n",
       "        vertical-align: middle;\n",
       "    }\n",
       "\n",
       "    .dataframe tbody tr th {\n",
       "        vertical-align: top;\n",
       "    }\n",
       "\n",
       "    .dataframe thead th {\n",
       "        text-align: right;\n",
       "    }\n",
       "</style>\n",
       "<table border=\"1\" class=\"dataframe\">\n",
       "  <thead>\n",
       "    <tr style=\"text-align: right;\">\n",
       "      <th></th>\n",
       "      <th>mean</th>\n",
       "      <th>count</th>\n",
       "    </tr>\n",
       "    <tr>\n",
       "      <th>speaker_occupation</th>\n",
       "      <th></th>\n",
       "      <th></th>\n",
       "    </tr>\n",
       "  </thead>\n",
       "  <tbody>\n",
       "    <tr>\n",
       "      <th>Comedian</th>\n",
       "      <td>0.512457</td>\n",
       "      <td>6</td>\n",
       "    </tr>\n",
       "    <tr>\n",
       "      <th>Performance poet, multimedia artist</th>\n",
       "      <td>0.306468</td>\n",
       "      <td>6</td>\n",
       "    </tr>\n",
       "    <tr>\n",
       "      <th>Singer/songwriter</th>\n",
       "      <td>0.252205</td>\n",
       "      <td>9</td>\n",
       "    </tr>\n",
       "    <tr>\n",
       "      <th>Producer</th>\n",
       "      <td>0.202531</td>\n",
       "      <td>5</td>\n",
       "    </tr>\n",
       "    <tr>\n",
       "      <th>Data scientist</th>\n",
       "      <td>0.184076</td>\n",
       "      <td>5</td>\n",
       "    </tr>\n",
       "    <tr>\n",
       "      <th>...</th>\n",
       "      <td>...</td>\n",
       "      <td>...</td>\n",
       "    </tr>\n",
       "    <tr>\n",
       "      <th>Photographer</th>\n",
       "      <td>0.007152</td>\n",
       "      <td>25</td>\n",
       "    </tr>\n",
       "    <tr>\n",
       "      <th>Investor and advocate for moral leadership</th>\n",
       "      <td>0.005198</td>\n",
       "      <td>5</td>\n",
       "    </tr>\n",
       "    <tr>\n",
       "      <th>Photojournalist</th>\n",
       "      <td>0.004908</td>\n",
       "      <td>6</td>\n",
       "    </tr>\n",
       "    <tr>\n",
       "      <th>Physician</th>\n",
       "      <td>0.004515</td>\n",
       "      <td>5</td>\n",
       "    </tr>\n",
       "    <tr>\n",
       "      <th>Surgeon</th>\n",
       "      <td>0.002465</td>\n",
       "      <td>5</td>\n",
       "    </tr>\n",
       "  </tbody>\n",
       "</table>\n",
       "<p>68 rows × 2 columns</p>\n",
       "</div>"
      ],
      "text/plain": [
       "                                                mean  count\n",
       "speaker_occupation                                         \n",
       "Comedian                                    0.512457      6\n",
       "Performance poet, multimedia artist         0.306468      6\n",
       "Singer/songwriter                           0.252205      9\n",
       "Producer                                    0.202531      5\n",
       "Data scientist                              0.184076      5\n",
       "...                                              ...    ...\n",
       "Photographer                                0.007152     25\n",
       "Investor and advocate for moral leadership  0.005198      5\n",
       "Photojournalist                             0.004908      6\n",
       "Physician                                   0.004515      5\n",
       "Surgeon                                     0.002465      5\n",
       "\n",
       "[68 rows x 2 columns]"
      ]
     },
     "execution_count": 102,
     "metadata": {},
     "output_type": "execute_result"
    }
   ],
   "source": [
    "talks_selection.groupby('speaker_occupation').agg(['mean','count'])['funny_ratings_prop'].sort_values(by='mean', ascending=False)"
   ]
  },
  {
   "cell_type": "markdown",
   "metadata": {},
   "source": [
    "As expected, comedians gave the funniest talks. On the other hand, talks by physicians and surgeons, again, as expected, are the least funny. <br>\n",
    "Something probably unexpected: data scientists got 5th place (among 68 occupations)"
   ]
  },
  {
   "cell_type": "markdown",
   "metadata": {},
   "source": [
    "### Task 4. Examine the topics of the top 100 'Inspiring' talks, present them in a tag cloud \n",
    "\n",
    "While talks can be considered the best based on a variety of criteria, we will value and rank them based on the proportion of positive ratings "
   ]
  },
  {
   "cell_type": "markdown",
   "metadata": {},
   "source": [
    "Let's start by creating a subset of talks that were rated as 'Inspiring' "
   ]
  },
  {
   "cell_type": "code",
   "execution_count": 106,
   "metadata": {},
   "outputs": [],
   "source": [
    "inspiring_talks = ted[ted.rating_categories.apply(lambda categories: 'Inspiring' in categories)]"
   ]
  },
  {
   "cell_type": "code",
   "execution_count": 122,
   "metadata": {},
   "outputs": [
    {
     "data": {
      "text/plain": [
       "(2550, 28)"
      ]
     },
     "execution_count": 122,
     "metadata": {},
     "output_type": "execute_result"
    }
   ],
   "source": [
    "inspiring_talks.shape"
   ]
  },
  {
   "cell_type": "markdown",
   "metadata": {},
   "source": [
    "Next, rank these talks based on the proportion of positive ratings"
   ]
  },
  {
   "cell_type": "code",
   "execution_count": 108,
   "metadata": {},
   "outputs": [],
   "source": [
    "inspiring_talks['pos_ratings_prop'] = \\\n",
    "inspiring_talks.pos_ratings / (inspiring_talks.pos_ratings + inspiring_talks.neg_ratings + inspiring_talks.neutral_ratings)\n",
    "\n",
    "top100_inspiring_talks = inspiring_talks.sort_values(by='pos_ratings_prop', ascending=False).head(100)"
   ]
  },
  {
   "cell_type": "markdown",
   "metadata": {},
   "source": [
    "To be able to access rows of this new data frame using regular indices (0,1,2,...), we need to reset its index"
   ]
  },
  {
   "cell_type": "code",
   "execution_count": 125,
   "metadata": {},
   "outputs": [
    {
     "data": {
      "text/plain": [
       "Int64Index([2485, 2511, 2497, 2483, 2528], dtype='int64')"
      ]
     },
     "execution_count": 125,
     "metadata": {},
     "output_type": "execute_result"
    }
   ],
   "source": [
    "top100_inspiring_talks.index[:5]"
   ]
  },
  {
   "cell_type": "code",
   "execution_count": 126,
   "metadata": {},
   "outputs": [
    {
     "data": {
      "text/plain": [
       "RangeIndex(start=0, stop=5, step=1)"
      ]
     },
     "execution_count": 126,
     "metadata": {},
     "output_type": "execute_result"
    }
   ],
   "source": [
    "top100_inspiring_talks.reset_index(drop=True, inplace=True)\n",
    "top100_inspiring_talks.index[:5]"
   ]
  },
  {
   "cell_type": "markdown",
   "metadata": {},
   "source": [
    "Next, let's examine tags associated with the inspiring talks"
   ]
  },
  {
   "cell_type": "code",
   "execution_count": 127,
   "metadata": {},
   "outputs": [
    {
     "data": {
      "text/plain": [
       "78    ['brain', 'consciousness', 'culture', 'illness...\n",
       "12    ['brain', 'cognitive science', 'humanity', 'mi...\n",
       "54    ['Africa', 'United States', 'architecture', 'b...\n",
       "93    ['TEDx', 'comedy', 'community', 'culture', 'en...\n",
       "90    ['TED Brain Trust', 'children', 'creativity', ...\n",
       "Name: tags, dtype: object"
      ]
     },
     "execution_count": 127,
     "metadata": {},
     "output_type": "execute_result"
    }
   ],
   "source": [
    "top100_inspiring_talks.tags.sample(5)"
   ]
  },
  {
   "cell_type": "markdown",
   "metadata": {},
   "source": [
    "It seems that tags of a particular talk are stored as a list. But, we should take a closer look..."
   ]
  },
  {
   "cell_type": "code",
   "execution_count": 128,
   "metadata": {},
   "outputs": [
    {
     "data": {
      "text/plain": [
       "\"['TED en Español', 'democracy', 'government', 'immigration', 'journalism', 'politics', 'social change', 'writing']\""
      ]
     },
     "execution_count": 128,
     "metadata": {},
     "output_type": "execute_result"
    }
   ],
   "source": [
    "top100_inspiring_talks.tags[0]"
   ]
  },
  {
   "cell_type": "code",
   "execution_count": 129,
   "metadata": {},
   "outputs": [
    {
     "data": {
      "text/plain": [
       "str"
      ]
     },
     "execution_count": 129,
     "metadata": {},
     "output_type": "execute_result"
    }
   ],
   "source": [
    "type(top100_inspiring_talks.tags[0])"
   ]
  },
  {
   "cell_type": "markdown",
   "metadata": {},
   "source": [
    "It is, in fact, a string... <br>\n",
    "So, we (again) have to use `ast.literal_eval()` function to get a list out of a string (representation of the list)"
   ]
  },
  {
   "cell_type": "code",
   "execution_count": 130,
   "metadata": {},
   "outputs": [
    {
     "data": {
      "text/plain": [
       "['TED en Español',\n",
       " 'democracy',\n",
       " 'government',\n",
       " 'immigration',\n",
       " 'journalism',\n",
       " 'politics',\n",
       " 'social change',\n",
       " 'writing']"
      ]
     },
     "execution_count": 130,
     "metadata": {},
     "output_type": "execute_result"
    }
   ],
   "source": [
    "ast.literal_eval(top100_inspiring_talks.tags[0])"
   ]
  },
  {
   "cell_type": "code",
   "execution_count": 131,
   "metadata": {},
   "outputs": [
    {
     "data": {
      "text/plain": [
       "list"
      ]
     },
     "execution_count": 131,
     "metadata": {},
     "output_type": "execute_result"
    }
   ],
   "source": [
    "type(ast.literal_eval(ted.tags[0]))"
   ]
  },
  {
   "cell_type": "markdown",
   "metadata": {},
   "source": [
    "Next, we will create a dictionary of the tags that were used to describe the inspiring talks. Keys in this dictionary will be individual tags, while values will be frequencies of tags' occurrences in relation to the inspiring talks. We need this type of dictionary for the creation of a tag cloud."
   ]
  },
  {
   "cell_type": "code",
   "execution_count": 133,
   "metadata": {},
   "outputs": [],
   "source": [
    "from collections import defaultdict\n",
    "\n",
    "inspiring_topics_dict = defaultdict(int)\n",
    "\n",
    "for tags_list in [ast.literal_eval(tags_str) for tags_str in top100_inspiring_talks.tags]:\n",
    "    for tag in tags_list:\n",
    "        tag = tag.lower().replace(' ', '_')\n",
    "        inspiring_topics_dict[tag] += 1"
   ]
  },
  {
   "cell_type": "markdown",
   "metadata": {},
   "source": [
    "How many unique tags were identified?"
   ]
  },
  {
   "cell_type": "code",
   "execution_count": 134,
   "metadata": {},
   "outputs": [
    {
     "data": {
      "text/plain": [
       "232"
      ]
     },
     "execution_count": 134,
     "metadata": {},
     "output_type": "execute_result"
    }
   ],
   "source": [
    "len(inspiring_topics_dict.keys())"
   ]
  },
  {
   "cell_type": "markdown",
   "metadata": {},
   "source": [
    "How frequent those tags are?"
   ]
  },
  {
   "cell_type": "code",
   "execution_count": 139,
   "metadata": {},
   "outputs": [
    {
     "name": "stdout",
     "output_type": "stream",
     "text": [
      "Tag frequency stats: mean=3.46, Mdn=2.0, quarties=(1.0, 4.0), max=19\n"
     ]
    }
   ],
   "source": [
    "from statistics import quantiles, mean\n",
    "\n",
    "q1, q2, q3 = quantiles(inspiring_topics_dict.values())\n",
    "\n",
    "print(f\"Tag frequency stats: mean={round(mean(inspiring_topics_dict.values()), 2)}, Mdn={q2}, quarties=({q1}, {q3}), max={max(inspiring_topics_dict.values())}\")"
   ]
  },
  {
   "cell_type": "markdown",
   "metadata": {},
   "source": [
    "Keep only tags with above average (median) frequency"
   ]
  },
  {
   "cell_type": "code",
   "execution_count": 140,
   "metadata": {},
   "outputs": [],
   "source": [
    "freq_inspiring_topics = dict()\n",
    "for tag, freq in inspiring_topics_dict.items():\n",
    "    if freq > 2: freq_inspiring_topics[tag] = freq"
   ]
  },
  {
   "cell_type": "code",
   "execution_count": 141,
   "metadata": {},
   "outputs": [
    {
     "data": {
      "text/plain": [
       "100"
      ]
     },
     "execution_count": 141,
     "metadata": {},
     "output_type": "execute_result"
    }
   ],
   "source": [
    "len(freq_inspiring_topics.keys())"
   ]
  },
  {
   "cell_type": "code",
   "execution_count": 146,
   "metadata": {},
   "outputs": [
    {
     "data": {
      "text/plain": [
       "[('tedx', 19),\n",
       " ('technology', 19),\n",
       " ('humanity', 17),\n",
       " ('health', 17),\n",
       " ('social_change', 16),\n",
       " ('science', 15),\n",
       " ('culture', 14),\n",
       " ('children', 14),\n",
       " ('education', 14),\n",
       " ('global_issues', 13),\n",
       " ('personal_growth', 13),\n",
       " ('society', 12),\n",
       " ('health_care', 12),\n",
       " ('design', 12),\n",
       " ('community', 12),\n",
       " ('innovation', 11),\n",
       " ('animals', 9),\n",
       " ('medicine', 9),\n",
       " ('entertainment', 9),\n",
       " ('brain', 9)]"
      ]
     },
     "execution_count": 146,
     "metadata": {},
     "output_type": "execute_result"
    }
   ],
   "source": [
    "sorted_tag_freq = sorted(freq_inspiring_topics.items(), key=lambda item: item[1], reverse=True)\n",
    "sorted_tag_freq[:20]\n",
    "    "
   ]
  },
  {
   "cell_type": "markdown",
   "metadata": {},
   "source": [
    "Now, we can create a word cloud\n",
    "\n",
    "Some useful materials for word cloud: <br>\n",
    "https://www.datacamp.com/community/tutorials/wordcloud-python <br>\n",
    "https://gist.github.com/izikeros/fca85e2d7b9eae3e0d9dec6a1f1635b3"
   ]
  },
  {
   "cell_type": "code",
   "execution_count": 143,
   "metadata": {},
   "outputs": [
    {
     "data": {
      "image/png": "[encoded data removed]",
      "text/plain": [
       "<Figure size 648x432 with 1 Axes>"
      ]
     },
     "metadata": {
      "needs_background": "light"
     },
     "output_type": "display_data"
    }
   ],
   "source": [
    "from wordcloud import WordCloud\n",
    "\n",
    "wordcloud = WordCloud(background_color='white',\n",
    "                      width=1500,\n",
    "                      height=1000\n",
    "                      ).generate_from_frequencies(freq_inspiring_topics)\n",
    "\n",
    "plt.figure(figsize=(9,6))\n",
    "\n",
    "plt.imshow(wordcloud, interpolation='bilinear')\n",
    "# interpolation makes the figure smoother\n",
    "# different interpolation options are given here:\n",
    "# https://matplotlib.org/gallery/images_contours_and_fields/interpolation_methods.html\n",
    "\n",
    "\n",
    "plt.axis('off')\n",
    "plt.show()"
   ]
  }
 ],
 "metadata": {
  "kernelspec": {
   "display_name": "Python 3",
   "language": "python",
   "name": "python3"
  },
  "language_info": {
   "codemirror_mode": {
    "name": "ipython",
    "version": 3
   },
   "file_extension": ".py",
   "mimetype": "text/x-python",
   "name": "python",
   "nbconvert_exporter": "python",
   "pygments_lexer": "ipython3",
   "version": "3.8.6"
  }
 },
 "nbformat": 4,
 "nbformat_minor": 4
}
