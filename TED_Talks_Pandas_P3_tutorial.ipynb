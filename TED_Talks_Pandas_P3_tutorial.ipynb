{
 "cells": [
  {
   "cell_type": "markdown",
   "metadata": {},
   "source": [
    "# Exploring Pandas' features throught the TED Talks dataset\n",
    "\n",
    "In this tutorial, we will use the [TED Talks dataset](https://www.kaggle.com/rounakbanik/ted-talks), available from Kaggle Datasets under the [CC BY-NC-SA 4.0 license](https://creativecommons.org/licenses/by-nc-sa/4.0/).\n",
    "\n",
    "This tutorial is partially based on the [Data Science Best Practices with pandas](https://github.com/justmarkham/pycon-2019-tutorial) tutorial presented by Kevin Markham at PyCon2019 on May 2, 2019."
   ]
  },
  {
   "cell_type": "markdown",
   "metadata": {},
   "source": [
    "## Import the required libraries"
   ]
  },
  {
   "cell_type": "code",
   "execution_count": 1,
   "metadata": {},
   "outputs": [],
   "source": [
    "import pandas as pd\n",
    "import matplotlib.pyplot as plt"
   ]
  },
  {
   "cell_type": "markdown",
   "metadata": {},
   "source": [
    "Sometimes you need to know the pandas version you are using, for example, when you need to consult the pandas documentation. You get the pandas version with:"
   ]
  },
  {
   "cell_type": "code",
   "execution_count": 2,
   "metadata": {},
   "outputs": [
    {
     "data": {
      "text/plain": [
       "'1.3.2'"
      ]
     },
     "execution_count": 2,
     "metadata": {},
     "output_type": "execute_result"
    }
   ],
   "source": [
    "pd.__version__"
   ]
  },
  {
   "cell_type": "markdown",
   "metadata": {},
   "source": [
    "## Load and examine the TED talks dataset"
   ]
  },
  {
   "cell_type": "code",
   "execution_count": 3,
   "metadata": {},
   "outputs": [
    {
     "data": {
      "text/html": [
       "<div>\n",
       "<style scoped>\n",
       "    .dataframe tbody tr th:only-of-type {\n",
       "        vertical-align: middle;\n",
       "    }\n",
       "\n",
       "    .dataframe tbody tr th {\n",
       "        vertical-align: top;\n",
       "    }\n",
       "\n",
       "    .dataframe thead th {\n",
       "        text-align: right;\n",
       "    }\n",
       "</style>\n",
       "<table border=\"1\" class=\"dataframe\">\n",
       "  <thead>\n",
       "    <tr style=\"text-align: right;\">\n",
       "      <th></th>\n",
       "      <th>comments</th>\n",
       "      <th>description</th>\n",
       "      <th>duration</th>\n",
       "      <th>event</th>\n",
       "      <th>film_date</th>\n",
       "      <th>languages</th>\n",
       "      <th>main_speaker</th>\n",
       "      <th>name</th>\n",
       "      <th>num_speaker</th>\n",
       "      <th>published_date</th>\n",
       "      <th>ratings</th>\n",
       "      <th>related_talks</th>\n",
       "      <th>speaker_occupation</th>\n",
       "      <th>tags</th>\n",
       "      <th>title</th>\n",
       "      <th>url</th>\n",
       "      <th>views</th>\n",
       "    </tr>\n",
       "  </thead>\n",
       "  <tbody>\n",
       "    <tr>\n",
       "      <th>0</th>\n",
       "      <td>4553</td>\n",
       "      <td>Sir Ken Robinson makes an entertaining and pro...</td>\n",
       "      <td>1164</td>\n",
       "      <td>TED2006</td>\n",
       "      <td>1140825600</td>\n",
       "      <td>60</td>\n",
       "      <td>Ken Robinson</td>\n",
       "      <td>Ken Robinson: Do schools kill creativity?</td>\n",
       "      <td>1</td>\n",
       "      <td>1151367060</td>\n",
       "      <td>[{'id': 7, 'name': 'Funny', 'count': 19645}, {...</td>\n",
       "      <td>[{'id': 865, 'hero': 'https://pe.tedcdn.com/im...</td>\n",
       "      <td>Author/educator</td>\n",
       "      <td>['children', 'creativity', 'culture', 'dance',...</td>\n",
       "      <td>Do schools kill creativity?</td>\n",
       "      <td>https://www.ted.com/talks/ken_robinson_says_sc...</td>\n",
       "      <td>47227110</td>\n",
       "    </tr>\n",
       "    <tr>\n",
       "      <th>1</th>\n",
       "      <td>265</td>\n",
       "      <td>With the same humor and humanity he exuded in ...</td>\n",
       "      <td>977</td>\n",
       "      <td>TED2006</td>\n",
       "      <td>1140825600</td>\n",
       "      <td>43</td>\n",
       "      <td>Al Gore</td>\n",
       "      <td>Al Gore: Averting the climate crisis</td>\n",
       "      <td>1</td>\n",
       "      <td>1151367060</td>\n",
       "      <td>[{'id': 7, 'name': 'Funny', 'count': 544}, {'i...</td>\n",
       "      <td>[{'id': 243, 'hero': 'https://pe.tedcdn.com/im...</td>\n",
       "      <td>Climate advocate</td>\n",
       "      <td>['alternative energy', 'cars', 'climate change...</td>\n",
       "      <td>Averting the climate crisis</td>\n",
       "      <td>https://www.ted.com/talks/al_gore_on_averting_...</td>\n",
       "      <td>3200520</td>\n",
       "    </tr>\n",
       "    <tr>\n",
       "      <th>2</th>\n",
       "      <td>124</td>\n",
       "      <td>New York Times columnist David Pogue takes aim...</td>\n",
       "      <td>1286</td>\n",
       "      <td>TED2006</td>\n",
       "      <td>1140739200</td>\n",
       "      <td>26</td>\n",
       "      <td>David Pogue</td>\n",
       "      <td>David Pogue: Simplicity sells</td>\n",
       "      <td>1</td>\n",
       "      <td>1151367060</td>\n",
       "      <td>[{'id': 7, 'name': 'Funny', 'count': 964}, {'i...</td>\n",
       "      <td>[{'id': 1725, 'hero': 'https://pe.tedcdn.com/i...</td>\n",
       "      <td>Technology columnist</td>\n",
       "      <td>['computers', 'entertainment', 'interface desi...</td>\n",
       "      <td>Simplicity sells</td>\n",
       "      <td>https://www.ted.com/talks/david_pogue_says_sim...</td>\n",
       "      <td>1636292</td>\n",
       "    </tr>\n",
       "    <tr>\n",
       "      <th>3</th>\n",
       "      <td>200</td>\n",
       "      <td>In an emotionally charged talk, MacArthur-winn...</td>\n",
       "      <td>1116</td>\n",
       "      <td>TED2006</td>\n",
       "      <td>1140912000</td>\n",
       "      <td>35</td>\n",
       "      <td>Majora Carter</td>\n",
       "      <td>Majora Carter: Greening the ghetto</td>\n",
       "      <td>1</td>\n",
       "      <td>1151367060</td>\n",
       "      <td>[{'id': 3, 'name': 'Courageous', 'count': 760}...</td>\n",
       "      <td>[{'id': 1041, 'hero': 'https://pe.tedcdn.com/i...</td>\n",
       "      <td>Activist for environmental justice</td>\n",
       "      <td>['MacArthur grant', 'activism', 'business', 'c...</td>\n",
       "      <td>Greening the ghetto</td>\n",
       "      <td>https://www.ted.com/talks/majora_carter_s_tale...</td>\n",
       "      <td>1697550</td>\n",
       "    </tr>\n",
       "    <tr>\n",
       "      <th>4</th>\n",
       "      <td>593</td>\n",
       "      <td>You've never seen data presented like this. Wi...</td>\n",
       "      <td>1190</td>\n",
       "      <td>TED2006</td>\n",
       "      <td>1140566400</td>\n",
       "      <td>48</td>\n",
       "      <td>Hans Rosling</td>\n",
       "      <td>Hans Rosling: The best stats you've ever seen</td>\n",
       "      <td>1</td>\n",
       "      <td>1151440680</td>\n",
       "      <td>[{'id': 9, 'name': 'Ingenious', 'count': 3202}...</td>\n",
       "      <td>[{'id': 2056, 'hero': 'https://pe.tedcdn.com/i...</td>\n",
       "      <td>Global health expert; data visionary</td>\n",
       "      <td>['Africa', 'Asia', 'Google', 'demo', 'economic...</td>\n",
       "      <td>The best stats you've ever seen</td>\n",
       "      <td>https://www.ted.com/talks/hans_rosling_shows_t...</td>\n",
       "      <td>12005869</td>\n",
       "    </tr>\n",
       "  </tbody>\n",
       "</table>\n",
       "</div>"
      ],
      "text/plain": [
       "   comments                                        description  duration  \\\n",
       "0      4553  Sir Ken Robinson makes an entertaining and pro...      1164   \n",
       "1       265  With the same humor and humanity he exuded in ...       977   \n",
       "2       124  New York Times columnist David Pogue takes aim...      1286   \n",
       "3       200  In an emotionally charged talk, MacArthur-winn...      1116   \n",
       "4       593  You've never seen data presented like this. Wi...      1190   \n",
       "\n",
       "     event   film_date  languages   main_speaker  \\\n",
       "0  TED2006  1140825600         60   Ken Robinson   \n",
       "1  TED2006  1140825600         43        Al Gore   \n",
       "2  TED2006  1140739200         26    David Pogue   \n",
       "3  TED2006  1140912000         35  Majora Carter   \n",
       "4  TED2006  1140566400         48   Hans Rosling   \n",
       "\n",
       "                                            name  num_speaker  published_date  \\\n",
       "0      Ken Robinson: Do schools kill creativity?            1      1151367060   \n",
       "1           Al Gore: Averting the climate crisis            1      1151367060   \n",
       "2                  David Pogue: Simplicity sells            1      1151367060   \n",
       "3             Majora Carter: Greening the ghetto            1      1151367060   \n",
       "4  Hans Rosling: The best stats you've ever seen            1      1151440680   \n",
       "\n",
       "                                             ratings  \\\n",
       "0  [{'id': 7, 'name': 'Funny', 'count': 19645}, {...   \n",
       "1  [{'id': 7, 'name': 'Funny', 'count': 544}, {'i...   \n",
       "2  [{'id': 7, 'name': 'Funny', 'count': 964}, {'i...   \n",
       "3  [{'id': 3, 'name': 'Courageous', 'count': 760}...   \n",
       "4  [{'id': 9, 'name': 'Ingenious', 'count': 3202}...   \n",
       "\n",
       "                                       related_talks  \\\n",
       "0  [{'id': 865, 'hero': 'https://pe.tedcdn.com/im...   \n",
       "1  [{'id': 243, 'hero': 'https://pe.tedcdn.com/im...   \n",
       "2  [{'id': 1725, 'hero': 'https://pe.tedcdn.com/i...   \n",
       "3  [{'id': 1041, 'hero': 'https://pe.tedcdn.com/i...   \n",
       "4  [{'id': 2056, 'hero': 'https://pe.tedcdn.com/i...   \n",
       "\n",
       "                     speaker_occupation  \\\n",
       "0                       Author/educator   \n",
       "1                      Climate advocate   \n",
       "2                  Technology columnist   \n",
       "3    Activist for environmental justice   \n",
       "4  Global health expert; data visionary   \n",
       "\n",
       "                                                tags  \\\n",
       "0  ['children', 'creativity', 'culture', 'dance',...   \n",
       "1  ['alternative energy', 'cars', 'climate change...   \n",
       "2  ['computers', 'entertainment', 'interface desi...   \n",
       "3  ['MacArthur grant', 'activism', 'business', 'c...   \n",
       "4  ['Africa', 'Asia', 'Google', 'demo', 'economic...   \n",
       "\n",
       "                             title  \\\n",
       "0      Do schools kill creativity?   \n",
       "1      Averting the climate crisis   \n",
       "2                 Simplicity sells   \n",
       "3              Greening the ghetto   \n",
       "4  The best stats you've ever seen   \n",
       "\n",
       "                                                 url     views  \n",
       "0  https://www.ted.com/talks/ken_robinson_says_sc...  47227110  \n",
       "1  https://www.ted.com/talks/al_gore_on_averting_...   3200520  \n",
       "2  https://www.ted.com/talks/david_pogue_says_sim...   1636292  \n",
       "3  https://www.ted.com/talks/majora_carter_s_tale...   1697550  \n",
       "4  https://www.ted.com/talks/hans_rosling_shows_t...  12005869  "
      ]
     },
     "execution_count": 3,
     "metadata": {},
     "output_type": "execute_result"
    }
   ],
   "source": [
    "ted = pd.read_csv('data/ted.csv')\n",
    "ted.head()"
   ]
  },
  {
   "cell_type": "code",
   "execution_count": 4,
   "metadata": {},
   "outputs": [
    {
     "name": "stdout",
     "output_type": "stream",
     "text": [
      "<class 'pandas.core.frame.DataFrame'>\n",
      "RangeIndex: 2550 entries, 0 to 2549\n",
      "Data columns (total 17 columns):\n",
      " #   Column              Non-Null Count  Dtype \n",
      "---  ------              --------------  ----- \n",
      " 0   comments            2550 non-null   int64 \n",
      " 1   description         2550 non-null   object\n",
      " 2   duration            2550 non-null   int64 \n",
      " 3   event               2550 non-null   object\n",
      " 4   film_date           2550 non-null   int64 \n",
      " 5   languages           2550 non-null   int64 \n",
      " 6   main_speaker        2550 non-null   object\n",
      " 7   name                2550 non-null   object\n",
      " 8   num_speaker         2550 non-null   int64 \n",
      " 9   published_date      2550 non-null   int64 \n",
      " 10  ratings             2550 non-null   object\n",
      " 11  related_talks       2550 non-null   object\n",
      " 12  speaker_occupation  2544 non-null   object\n",
      " 13  tags                2550 non-null   object\n",
      " 14  title               2550 non-null   object\n",
      " 15  url                 2550 non-null   object\n",
      " 16  views               2550 non-null   int64 \n",
      "dtypes: int64(7), object(10)\n",
      "memory usage: 338.8+ KB\n"
     ]
    }
   ],
   "source": [
    "ted.info()"
   ]
  },
  {
   "cell_type": "markdown",
   "metadata": {},
   "source": [
    "### Check for the presence of missing values"
   ]
  },
  {
   "cell_type": "code",
   "execution_count": 5,
   "metadata": {},
   "outputs": [
    {
     "data": {
      "text/plain": [
       "comments              0\n",
       "description           0\n",
       "duration              0\n",
       "event                 0\n",
       "film_date             0\n",
       "languages             0\n",
       "main_speaker          0\n",
       "name                  0\n",
       "num_speaker           0\n",
       "published_date        0\n",
       "ratings               0\n",
       "related_talks         0\n",
       "speaker_occupation    6\n",
       "tags                  0\n",
       "title                 0\n",
       "url                   0\n",
       "views                 0\n",
       "dtype: int64"
      ]
     },
     "execution_count": 5,
     "metadata": {},
     "output_type": "execute_result"
    }
   ],
   "source": [
    "ted.isna().sum()"
   ]
  },
  {
   "cell_type": "markdown",
   "metadata": {},
   "source": [
    "Let's identify who are the speakers with missing occupation and if we can identify their occupation from other records (in case they gave more than one talk)"
   ]
  },
  {
   "cell_type": "code",
   "execution_count": 6,
   "metadata": {},
   "outputs": [
    {
     "data": {
      "text/plain": [
       "1113      Sonaar Luthra\n",
       "1192     Rick Falkvinge\n",
       "1220        Gary Kovacs\n",
       "1656      Ryan Holladay\n",
       "1911      Brian Dettmer\n",
       "1949    Boniface Mwangi\n",
       "Name: main_speaker, dtype: object"
      ]
     },
     "execution_count": 6,
     "metadata": {},
     "output_type": "execute_result"
    }
   ],
   "source": [
    "no_occupation_speakers = ted.loc[ted.speaker_occupation.isna(),'main_speaker']\n",
    "no_occupation_speakers"
   ]
  },
  {
   "cell_type": "markdown",
   "metadata": {},
   "source": [
    "Compute the number of observations (talks) per each speaker"
   ]
  },
  {
   "cell_type": "code",
   "execution_count": 7,
   "metadata": {},
   "outputs": [
    {
     "data": {
      "text/plain": [
       "Hans Rosling         9\n",
       "Juan Enriquez        7\n",
       "Marco Tempest        6\n",
       "Rives                6\n",
       "Dan Ariely           5\n",
       "                    ..\n",
       "Adam Ostrow          1\n",
       "Josette Sheeran      1\n",
       "Geoffrey West        1\n",
       "Markus Fischer       1\n",
       "Karoliina Korppoo    1\n",
       "Name: main_speaker, Length: 2156, dtype: int64"
      ]
     },
     "execution_count": 7,
     "metadata": {},
     "output_type": "execute_result"
    }
   ],
   "source": [
    "ted.main_speaker.value_counts()"
   ]
  },
  {
   "cell_type": "markdown",
   "metadata": {},
   "source": [
    "Among all speakers, select those with the missing occupation"
   ]
  },
  {
   "cell_type": "code",
   "execution_count": 8,
   "metadata": {},
   "outputs": [
    {
     "data": {
      "text/plain": [
       "Sonaar Luthra      1\n",
       "Rick Falkvinge     1\n",
       "Gary Kovacs        1\n",
       "Ryan Holladay      1\n",
       "Brian Dettmer      1\n",
       "Boniface Mwangi    1\n",
       "Name: main_speaker, dtype: int64"
      ]
     },
     "execution_count": 8,
     "metadata": {},
     "output_type": "execute_result"
    }
   ],
   "source": [
    "ted.main_speaker.value_counts()[no_occupation_speakers.values]"
   ]
  },
  {
   "cell_type": "markdown",
   "metadata": {},
   "source": [
    "Unfortunately, there are no additional records that could be used to fill the missing occupation values."
   ]
  },
  {
   "cell_type": "markdown",
   "metadata": {},
   "source": [
    "### Transform filming date and publication date into datetime columns"
   ]
  },
  {
   "cell_type": "markdown",
   "metadata": {},
   "source": [
    "Examine a sample of film_date and published_date values"
   ]
  },
  {
   "cell_type": "code",
   "execution_count": 9,
   "metadata": {},
   "outputs": [
    {
     "data": {
      "text/html": [
       "<div>\n",
       "<style scoped>\n",
       "    .dataframe tbody tr th:only-of-type {\n",
       "        vertical-align: middle;\n",
       "    }\n",
       "\n",
       "    .dataframe tbody tr th {\n",
       "        vertical-align: top;\n",
       "    }\n",
       "\n",
       "    .dataframe thead th {\n",
       "        text-align: right;\n",
       "    }\n",
       "</style>\n",
       "<table border=\"1\" class=\"dataframe\">\n",
       "  <thead>\n",
       "    <tr style=\"text-align: right;\">\n",
       "      <th></th>\n",
       "      <th>film_date</th>\n",
       "      <th>published_date</th>\n",
       "    </tr>\n",
       "  </thead>\n",
       "  <tbody>\n",
       "    <tr>\n",
       "      <th>787</th>\n",
       "      <td>1284940800</td>\n",
       "      <td>1286873040</td>\n",
       "    </tr>\n",
       "    <tr>\n",
       "      <th>1857</th>\n",
       "      <td>1410739200</td>\n",
       "      <td>1415204448</td>\n",
       "    </tr>\n",
       "    <tr>\n",
       "      <th>1615</th>\n",
       "      <td>1362009600</td>\n",
       "      <td>1383318064</td>\n",
       "    </tr>\n",
       "    <tr>\n",
       "      <th>2427</th>\n",
       "      <td>1486857600</td>\n",
       "      <td>1491923232</td>\n",
       "    </tr>\n",
       "    <tr>\n",
       "      <th>2113</th>\n",
       "      <td>1442448000</td>\n",
       "      <td>1452184818</td>\n",
       "    </tr>\n",
       "  </tbody>\n",
       "</table>\n",
       "</div>"
      ],
      "text/plain": [
       "       film_date  published_date\n",
       "787   1284940800      1286873040\n",
       "1857  1410739200      1415204448\n",
       "1615  1362009600      1383318064\n",
       "2427  1486857600      1491923232\n",
       "2113  1442448000      1452184818"
      ]
     },
     "execution_count": 9,
     "metadata": {},
     "output_type": "execute_result"
    }
   ],
   "source": [
    "ted.loc[:,['film_date', 'published_date']].sample(5)"
   ]
  },
  {
   "cell_type": "markdown",
   "metadata": {},
   "source": [
    "Note that both dates are given as *Unix epoch time*, that is, the number of seconds that have elapsed since January 1, 1970. \n",
    "\n",
    "For more about epoch time, see: https://www.epochconverter.com/"
   ]
  },
  {
   "cell_type": "markdown",
   "metadata": {},
   "source": [
    "Let's start by transforming the film_date into the datetime type"
   ]
  },
  {
   "cell_type": "code",
   "execution_count": 10,
   "metadata": {},
   "outputs": [],
   "source": [
    "try:\n",
    "    ted['filming_date'] = pd.to_datetime(ted['film_date'], unit='s')\n",
    "except ValueError as err:\n",
    "    print(err)"
   ]
  },
  {
   "cell_type": "code",
   "execution_count": 11,
   "metadata": {},
   "outputs": [
    {
     "data": {
      "text/plain": [
       "0   2006-02-25\n",
       "1   2006-02-25\n",
       "2   2006-02-24\n",
       "3   2006-02-26\n",
       "4   2006-02-22\n",
       "Name: filming_date, dtype: datetime64[ns]"
      ]
     },
     "execution_count": 11,
     "metadata": {},
     "output_type": "execute_result"
    }
   ],
   "source": [
    "ted.filming_date.head()"
   ]
  },
  {
   "cell_type": "markdown",
   "metadata": {},
   "source": [
    "Then, do the same for the published_date"
   ]
  },
  {
   "cell_type": "code",
   "execution_count": 12,
   "metadata": {},
   "outputs": [],
   "source": [
    "ted['publication_date'] = pd.to_datetime(ted['published_date'], unit='s')"
   ]
  },
  {
   "cell_type": "code",
   "execution_count": 13,
   "metadata": {},
   "outputs": [
    {
     "data": {
      "text/html": [
       "<div>\n",
       "<style scoped>\n",
       "    .dataframe tbody tr th:only-of-type {\n",
       "        vertical-align: middle;\n",
       "    }\n",
       "\n",
       "    .dataframe tbody tr th {\n",
       "        vertical-align: top;\n",
       "    }\n",
       "\n",
       "    .dataframe thead th {\n",
       "        text-align: right;\n",
       "    }\n",
       "</style>\n",
       "<table border=\"1\" class=\"dataframe\">\n",
       "  <thead>\n",
       "    <tr style=\"text-align: right;\">\n",
       "      <th></th>\n",
       "      <th>comments</th>\n",
       "      <th>description</th>\n",
       "      <th>duration</th>\n",
       "      <th>event</th>\n",
       "      <th>film_date</th>\n",
       "      <th>languages</th>\n",
       "      <th>main_speaker</th>\n",
       "      <th>name</th>\n",
       "      <th>num_speaker</th>\n",
       "      <th>published_date</th>\n",
       "      <th>ratings</th>\n",
       "      <th>related_talks</th>\n",
       "      <th>speaker_occupation</th>\n",
       "      <th>tags</th>\n",
       "      <th>title</th>\n",
       "      <th>url</th>\n",
       "      <th>views</th>\n",
       "      <th>filming_date</th>\n",
       "      <th>publication_date</th>\n",
       "    </tr>\n",
       "  </thead>\n",
       "  <tbody>\n",
       "    <tr>\n",
       "      <th>918</th>\n",
       "      <td>69</td>\n",
       "      <td>All over the planet, giant telescopes and dete...</td>\n",
       "      <td>848</td>\n",
       "      <td>INK Conference</td>\n",
       "      <td>1291766400</td>\n",
       "      <td>26</td>\n",
       "      <td>Anil Ananthaswamy</td>\n",
       "      <td>Anil Ananthaswamy: What it takes to do extreme...</td>\n",
       "      <td>1</td>\n",
       "      <td>1303397460</td>\n",
       "      <td>[{'id': 1, 'name': 'Beautiful', 'count': 113},...</td>\n",
       "      <td>[{'id': 648, 'hero': 'https://pe.tedcdn.com/im...</td>\n",
       "      <td>Science writer</td>\n",
       "      <td>['exploration', 'journalism', 'science', 'tech...</td>\n",
       "      <td>What it takes to do extreme astrophysics</td>\n",
       "      <td>https://www.ted.com/talks/anil_ananthaswamy</td>\n",
       "      <td>537035</td>\n",
       "      <td>2010-12-08</td>\n",
       "      <td>2011-04-21 14:51:00</td>\n",
       "    </tr>\n",
       "    <tr>\n",
       "      <th>2387</th>\n",
       "      <td>345</td>\n",
       "      <td>How do we make sense of today's political divi...</td>\n",
       "      <td>3608</td>\n",
       "      <td>TED Dialogues</td>\n",
       "      <td>1487116800</td>\n",
       "      <td>19</td>\n",
       "      <td>Yuval Noah Harari</td>\n",
       "      <td>Yuval Noah Harari: Nationalism vs. globalism: ...</td>\n",
       "      <td>2</td>\n",
       "      <td>1487604924</td>\n",
       "      <td>[{'id': 8, 'name': 'Informative', 'count': 583...</td>\n",
       "      <td>[{'id': 2625, 'hero': 'https://pe.tedcdn.com/i...</td>\n",
       "      <td>Historian</td>\n",
       "      <td>['big problems', 'climate change', 'collaborat...</td>\n",
       "      <td>Nationalism vs. globalism: the new political d...</td>\n",
       "      <td>https://www.ted.com/talks/yuval_noah_harari_na...</td>\n",
       "      <td>1514291</td>\n",
       "      <td>2017-02-15</td>\n",
       "      <td>2017-02-20 15:35:24</td>\n",
       "    </tr>\n",
       "    <tr>\n",
       "      <th>351</th>\n",
       "      <td>58</td>\n",
       "      <td>The ceramics designer Eva Zeisel looks back on...</td>\n",
       "      <td>1089</td>\n",
       "      <td>TED2001</td>\n",
       "      <td>981072000</td>\n",
       "      <td>26</td>\n",
       "      <td>Eva Zeisel</td>\n",
       "      <td>Eva Zeisel: The playful search for beauty</td>\n",
       "      <td>1</td>\n",
       "      <td>1228803420</td>\n",
       "      <td>[{'id': 1, 'name': 'Beautiful', 'count': 172},...</td>\n",
       "      <td>[{'id': 60, 'hero': 'https://pe.tedcdn.com/ima...</td>\n",
       "      <td>Designer</td>\n",
       "      <td>['art', 'creativity', 'design', 'exploration',...</td>\n",
       "      <td>The playful search for beauty</td>\n",
       "      <td>https://www.ted.com/talks/eva_zeisel_on_the_pl...</td>\n",
       "      <td>438972</td>\n",
       "      <td>2001-02-02</td>\n",
       "      <td>2008-12-09 06:17:00</td>\n",
       "    </tr>\n",
       "    <tr>\n",
       "      <th>1329</th>\n",
       "      <td>82</td>\n",
       "      <td>We all use our body on a daily basis, and yet ...</td>\n",
       "      <td>918</td>\n",
       "      <td>TEDGlobal 2012</td>\n",
       "      <td>1340755200</td>\n",
       "      <td>22</td>\n",
       "      <td>Wayne McGregor</td>\n",
       "      <td>Wayne McGregor: A choreographer's creative pro...</td>\n",
       "      <td>1</td>\n",
       "      <td>1347634731</td>\n",
       "      <td>[{'id': 3, 'name': 'Courageous', 'count': 28},...</td>\n",
       "      <td>[{'id': 260, 'hero': 'https://pe.tedcdn.com/im...</td>\n",
       "      <td>Dancer and Choreographer</td>\n",
       "      <td>['art', 'dance']</td>\n",
       "      <td>A choreographer's creative process in real time</td>\n",
       "      <td>https://www.ted.com/talks/wayne_mcgregor_a_cho...</td>\n",
       "      <td>891589</td>\n",
       "      <td>2012-06-27</td>\n",
       "      <td>2012-09-14 14:58:51</td>\n",
       "    </tr>\n",
       "    <tr>\n",
       "      <th>963</th>\n",
       "      <td>100</td>\n",
       "      <td>Cellist Maya Beiser plays a gorgeous eight-par...</td>\n",
       "      <td>1209</td>\n",
       "      <td>TED2011</td>\n",
       "      <td>1299024000</td>\n",
       "      <td>34</td>\n",
       "      <td>Maya Beiser</td>\n",
       "      <td>Maya Beiser: A cello with many voices</td>\n",
       "      <td>1</td>\n",
       "      <td>1308327780</td>\n",
       "      <td>[{'id': 23, 'name': 'Jaw-dropping', 'count': 5...</td>\n",
       "      <td>[{'id': 1172, 'hero': 'https://pe.tedcdn.com/i...</td>\n",
       "      <td>Cellist</td>\n",
       "      <td>['design', 'entertainment', 'live music', 'mus...</td>\n",
       "      <td>A cello with many voices</td>\n",
       "      <td>https://www.ted.com/talks/maya_beiser_s_and_he...</td>\n",
       "      <td>929077</td>\n",
       "      <td>2011-03-02</td>\n",
       "      <td>2011-06-17 16:23:00</td>\n",
       "    </tr>\n",
       "  </tbody>\n",
       "</table>\n",
       "</div>"
      ],
      "text/plain": [
       "      comments                                        description  duration  \\\n",
       "918         69  All over the planet, giant telescopes and dete...       848   \n",
       "2387       345  How do we make sense of today's political divi...      3608   \n",
       "351         58  The ceramics designer Eva Zeisel looks back on...      1089   \n",
       "1329        82  We all use our body on a daily basis, and yet ...       918   \n",
       "963        100  Cellist Maya Beiser plays a gorgeous eight-par...      1209   \n",
       "\n",
       "               event   film_date  languages       main_speaker  \\\n",
       "918   INK Conference  1291766400         26  Anil Ananthaswamy   \n",
       "2387   TED Dialogues  1487116800         19  Yuval Noah Harari   \n",
       "351          TED2001   981072000         26         Eva Zeisel   \n",
       "1329  TEDGlobal 2012  1340755200         22     Wayne McGregor   \n",
       "963          TED2011  1299024000         34        Maya Beiser   \n",
       "\n",
       "                                                   name  num_speaker  \\\n",
       "918   Anil Ananthaswamy: What it takes to do extreme...            1   \n",
       "2387  Yuval Noah Harari: Nationalism vs. globalism: ...            2   \n",
       "351           Eva Zeisel: The playful search for beauty            1   \n",
       "1329  Wayne McGregor: A choreographer's creative pro...            1   \n",
       "963               Maya Beiser: A cello with many voices            1   \n",
       "\n",
       "      published_date                                            ratings  \\\n",
       "918       1303397460  [{'id': 1, 'name': 'Beautiful', 'count': 113},...   \n",
       "2387      1487604924  [{'id': 8, 'name': 'Informative', 'count': 583...   \n",
       "351       1228803420  [{'id': 1, 'name': 'Beautiful', 'count': 172},...   \n",
       "1329      1347634731  [{'id': 3, 'name': 'Courageous', 'count': 28},...   \n",
       "963       1308327780  [{'id': 23, 'name': 'Jaw-dropping', 'count': 5...   \n",
       "\n",
       "                                          related_talks  \\\n",
       "918   [{'id': 648, 'hero': 'https://pe.tedcdn.com/im...   \n",
       "2387  [{'id': 2625, 'hero': 'https://pe.tedcdn.com/i...   \n",
       "351   [{'id': 60, 'hero': 'https://pe.tedcdn.com/ima...   \n",
       "1329  [{'id': 260, 'hero': 'https://pe.tedcdn.com/im...   \n",
       "963   [{'id': 1172, 'hero': 'https://pe.tedcdn.com/i...   \n",
       "\n",
       "            speaker_occupation  \\\n",
       "918             Science writer   \n",
       "2387                 Historian   \n",
       "351                   Designer   \n",
       "1329  Dancer and Choreographer   \n",
       "963                    Cellist   \n",
       "\n",
       "                                                   tags  \\\n",
       "918   ['exploration', 'journalism', 'science', 'tech...   \n",
       "2387  ['big problems', 'climate change', 'collaborat...   \n",
       "351   ['art', 'creativity', 'design', 'exploration',...   \n",
       "1329                                   ['art', 'dance']   \n",
       "963   ['design', 'entertainment', 'live music', 'mus...   \n",
       "\n",
       "                                                  title  \\\n",
       "918            What it takes to do extreme astrophysics   \n",
       "2387  Nationalism vs. globalism: the new political d...   \n",
       "351                       The playful search for beauty   \n",
       "1329    A choreographer's creative process in real time   \n",
       "963                            A cello with many voices   \n",
       "\n",
       "                                                    url    views filming_date  \\\n",
       "918         https://www.ted.com/talks/anil_ananthaswamy   537035   2010-12-08   \n",
       "2387  https://www.ted.com/talks/yuval_noah_harari_na...  1514291   2017-02-15   \n",
       "351   https://www.ted.com/talks/eva_zeisel_on_the_pl...   438972   2001-02-02   \n",
       "1329  https://www.ted.com/talks/wayne_mcgregor_a_cho...   891589   2012-06-27   \n",
       "963   https://www.ted.com/talks/maya_beiser_s_and_he...   929077   2011-03-02   \n",
       "\n",
       "        publication_date  \n",
       "918  2011-04-21 14:51:00  \n",
       "2387 2017-02-20 15:35:24  \n",
       "351  2008-12-09 06:17:00  \n",
       "1329 2012-09-14 14:58:51  \n",
       "963  2011-06-17 16:23:00  "
      ]
     },
     "execution_count": 13,
     "metadata": {},
     "output_type": "execute_result"
    }
   ],
   "source": [
    "ted.sample(5)"
   ]
  },
  {
   "cell_type": "markdown",
   "metadata": {},
   "source": [
    "### Drop columns that are no longer needed"
   ]
  },
  {
   "cell_type": "code",
   "execution_count": 14,
   "metadata": {},
   "outputs": [],
   "source": [
    "ted.drop(columns=['film_date', 'published_date'], inplace=True)"
   ]
  },
  {
   "cell_type": "code",
   "execution_count": 15,
   "metadata": {},
   "outputs": [
    {
     "data": {
      "text/plain": [
       "Index(['comments', 'description', 'duration', 'event', 'languages',\n",
       "       'main_speaker', 'name', 'num_speaker', 'ratings', 'related_talks',\n",
       "       'speaker_occupation', 'tags', 'title', 'url', 'views', 'filming_date',\n",
       "       'publication_date'],\n",
       "      dtype='object')"
      ]
     },
     "execution_count": 15,
     "metadata": {},
     "output_type": "execute_result"
    }
   ],
   "source": [
    "ted.columns"
   ]
  },
  {
   "cell_type": "markdown",
   "metadata": {},
   "source": [
    "### How to change columns' names? \n",
    "\n",
    "The most flexible method for renaming columns is the `rename()` method. One should pass it a dictionary in which the keys are the old column names, while the values are the new names, and specify the axis to be 'columns'."
   ]
  },
  {
   "cell_type": "markdown",
   "metadata": {},
   "source": [
    "For example, rename columns 'comments' and 'views' to 'comment_count' and 'view_count', respectively"
   ]
  },
  {
   "cell_type": "code",
   "execution_count": 16,
   "metadata": {},
   "outputs": [],
   "source": [
    "ted = ted.rename({'comments':'comment_count', 'views':'view_count'}, axis='columns')"
   ]
  },
  {
   "cell_type": "code",
   "execution_count": 17,
   "metadata": {},
   "outputs": [
    {
     "data": {
      "text/plain": [
       "Index(['comment_count', 'description', 'duration', 'event', 'languages',\n",
       "       'main_speaker', 'name', 'num_speaker', 'ratings', 'related_talks',\n",
       "       'speaker_occupation', 'tags', 'title', 'url', 'view_count',\n",
       "       'filming_date', 'publication_date'],\n",
       "      dtype='object')"
      ]
     },
     "execution_count": 17,
     "metadata": {},
     "output_type": "execute_result"
    }
   ],
   "source": [
    "ted.columns"
   ]
  },
  {
   "cell_type": "markdown",
   "metadata": {},
   "source": [
    "In case you may need that, you can get column names as a regular python list, as follows:"
   ]
  },
  {
   "cell_type": "code",
   "execution_count": 18,
   "metadata": {},
   "outputs": [
    {
     "data": {
      "text/plain": [
       "['comment_count',\n",
       " 'description',\n",
       " 'duration',\n",
       " 'event',\n",
       " 'languages',\n",
       " 'main_speaker',\n",
       " 'name',\n",
       " 'num_speaker',\n",
       " 'ratings',\n",
       " 'related_talks',\n",
       " 'speaker_occupation',\n",
       " 'tags',\n",
       " 'title',\n",
       " 'url',\n",
       " 'view_count',\n",
       " 'filming_date',\n",
       " 'publication_date']"
      ]
     },
     "execution_count": 18,
     "metadata": {},
     "output_type": "execute_result"
    }
   ],
   "source": [
    "ted.columns.values.tolist()"
   ]
  },
  {
   "cell_type": "markdown",
   "metadata": {},
   "source": [
    "## Task 1: Compute and plot the number of talks that took place each year"
   ]
  },
  {
   "cell_type": "markdown",
   "metadata": {},
   "source": [
    "To do this, we need to extract the year from the filming date, and group talks on the year basis.\n",
    "\n",
    "First, add the event_year column"
   ]
  },
  {
   "cell_type": "code",
   "execution_count": 19,
   "metadata": {},
   "outputs": [
    {
     "data": {
      "text/html": [
       "<div>\n",
       "<style scoped>\n",
       "    .dataframe tbody tr th:only-of-type {\n",
       "        vertical-align: middle;\n",
       "    }\n",
       "\n",
       "    .dataframe tbody tr th {\n",
       "        vertical-align: top;\n",
       "    }\n",
       "\n",
       "    .dataframe thead th {\n",
       "        text-align: right;\n",
       "    }\n",
       "</style>\n",
       "<table border=\"1\" class=\"dataframe\">\n",
       "  <thead>\n",
       "    <tr style=\"text-align: right;\">\n",
       "      <th></th>\n",
       "      <th>filming_date</th>\n",
       "      <th>event_year</th>\n",
       "    </tr>\n",
       "  </thead>\n",
       "  <tbody>\n",
       "    <tr>\n",
       "      <th>0</th>\n",
       "      <td>2006-02-25</td>\n",
       "      <td>2006</td>\n",
       "    </tr>\n",
       "    <tr>\n",
       "      <th>1</th>\n",
       "      <td>2006-02-25</td>\n",
       "      <td>2006</td>\n",
       "    </tr>\n",
       "    <tr>\n",
       "      <th>2</th>\n",
       "      <td>2006-02-24</td>\n",
       "      <td>2006</td>\n",
       "    </tr>\n",
       "    <tr>\n",
       "      <th>3</th>\n",
       "      <td>2006-02-26</td>\n",
       "      <td>2006</td>\n",
       "    </tr>\n",
       "    <tr>\n",
       "      <th>4</th>\n",
       "      <td>2006-02-22</td>\n",
       "      <td>2006</td>\n",
       "    </tr>\n",
       "  </tbody>\n",
       "</table>\n",
       "</div>"
      ],
      "text/plain": [
       "  filming_date  event_year\n",
       "0   2006-02-25        2006\n",
       "1   2006-02-25        2006\n",
       "2   2006-02-24        2006\n",
       "3   2006-02-26        2006\n",
       "4   2006-02-22        2006"
      ]
     },
     "execution_count": 19,
     "metadata": {},
     "output_type": "execute_result"
    }
   ],
   "source": [
    "ted['event_year'] = ted['filming_date'].dt.year\n",
    "ted[['filming_date', 'event_year']].head()"
   ]
  },
  {
   "cell_type": "markdown",
   "metadata": {},
   "source": [
    "Then, compute the number of talks per year"
   ]
  },
  {
   "cell_type": "code",
   "execution_count": 20,
   "metadata": {},
   "outputs": [
    {
     "data": {
      "text/plain": [
       "2013    270\n",
       "2011    270\n",
       "2010    267\n",
       "2012    267\n",
       "2016    246\n",
       "2015    239\n",
       "2014    237\n",
       "2009    232\n",
       "2007    114\n",
       "2017     98\n",
       "2008     84\n",
       "2005     66\n",
       "2006     50\n",
       "2004     33\n",
       "2003     33\n",
       "2002     27\n",
       "1998      6\n",
       "2001      5\n",
       "1983      1\n",
       "1972      1\n",
       "1990      1\n",
       "1994      1\n",
       "1984      1\n",
       "1991      1\n",
       "Name: event_year, dtype: int64"
      ]
     },
     "execution_count": 20,
     "metadata": {},
     "output_type": "execute_result"
    }
   ],
   "source": [
    "ted.event_year.value_counts()"
   ]
  },
  {
   "cell_type": "markdown",
   "metadata": {},
   "source": [
    "Note that the counts are by default sorted in descending order of count value. This is fine if we are interested in identifying years with the highest / lowest number of talks. <br>\n",
    "However, if we want to plot the number of talks per year, we need the talk counts ordered based on the year. To get that, we can do the sort based on the index:"
   ]
  },
  {
   "cell_type": "code",
   "execution_count": 21,
   "metadata": {},
   "outputs": [],
   "source": [
    "talks_per_year = ted.event_year.value_counts()\n",
    "talks_per_year.sort_index(inplace=True)"
   ]
  },
  {
   "cell_type": "code",
   "execution_count": 22,
   "metadata": {},
   "outputs": [
    {
     "data": {
      "text/plain": [
       "1972      1\n",
       "1983      1\n",
       "1984      1\n",
       "1990      1\n",
       "1991      1\n",
       "1994      1\n",
       "1998      6\n",
       "2001      5\n",
       "2002     27\n",
       "2003     33\n",
       "2004     33\n",
       "2005     66\n",
       "2006     50\n",
       "2007    114\n",
       "2008     84\n",
       "2009    232\n",
       "2010    267\n",
       "2011    270\n",
       "2012    267\n",
       "2013    270\n",
       "2014    237\n",
       "2015    239\n",
       "2016    246\n",
       "2017     98\n",
       "Name: event_year, dtype: int64"
      ]
     },
     "execution_count": 22,
     "metadata": {},
     "output_type": "execute_result"
    }
   ],
   "source": [
    "talks_per_year"
   ]
  },
  {
   "cell_type": "markdown",
   "metadata": {},
   "source": [
    "Now, we can plot talk counts across years"
   ]
  },
  {
   "cell_type": "code",
   "execution_count": 23,
   "metadata": {},
   "outputs": [
    {
     "data": {
      "image/png": "[encoded data removed]",
      "text/plain": [
       "<Figure size 648x360 with 1 Axes>"
      ]
     },
     "metadata": {
      "needs_background": "light"
     },
     "output_type": "display_data"
    }
   ],
   "source": [
    "plt.figure(figsize=(9,5))\n",
    "plt.plot(talks_per_year.index, talks_per_year.values, marker='*')\n",
    "plt.xticks(talks_per_year.index, rotation='vertical', size=8)\n",
    "plt.title(\"Number of TED talks per year\")\n",
    "plt.show()"
   ]
  },
  {
   "cell_type": "markdown",
   "metadata": {},
   "source": [
    "## Task 2: Which TED events attracted the most attention?\n",
    "\n",
    "Consider the number of views as a proxy of an event's attractiveness"
   ]
  },
  {
   "cell_type": "code",
   "execution_count": 24,
   "metadata": {},
   "outputs": [
    {
     "data": {
      "text/html": [
       "<div>\n",
       "<style scoped>\n",
       "    .dataframe tbody tr th:only-of-type {\n",
       "        vertical-align: middle;\n",
       "    }\n",
       "\n",
       "    .dataframe tbody tr th {\n",
       "        vertical-align: top;\n",
       "    }\n",
       "\n",
       "    .dataframe thead th {\n",
       "        text-align: right;\n",
       "    }\n",
       "</style>\n",
       "<table border=\"1\" class=\"dataframe\">\n",
       "  <thead>\n",
       "    <tr style=\"text-align: right;\">\n",
       "      <th></th>\n",
       "      <th>comment_count</th>\n",
       "      <th>description</th>\n",
       "      <th>duration</th>\n",
       "      <th>event</th>\n",
       "      <th>languages</th>\n",
       "      <th>main_speaker</th>\n",
       "      <th>name</th>\n",
       "      <th>num_speaker</th>\n",
       "      <th>ratings</th>\n",
       "      <th>related_talks</th>\n",
       "      <th>speaker_occupation</th>\n",
       "      <th>tags</th>\n",
       "      <th>title</th>\n",
       "      <th>url</th>\n",
       "      <th>view_count</th>\n",
       "      <th>filming_date</th>\n",
       "      <th>publication_date</th>\n",
       "      <th>event_year</th>\n",
       "    </tr>\n",
       "  </thead>\n",
       "  <tbody>\n",
       "    <tr>\n",
       "      <th>0</th>\n",
       "      <td>4553</td>\n",
       "      <td>Sir Ken Robinson makes an entertaining and pro...</td>\n",
       "      <td>1164</td>\n",
       "      <td>TED2006</td>\n",
       "      <td>60</td>\n",
       "      <td>Ken Robinson</td>\n",
       "      <td>Ken Robinson: Do schools kill creativity?</td>\n",
       "      <td>1</td>\n",
       "      <td>[{'id': 7, 'name': 'Funny', 'count': 19645}, {...</td>\n",
       "      <td>[{'id': 865, 'hero': 'https://pe.tedcdn.com/im...</td>\n",
       "      <td>Author/educator</td>\n",
       "      <td>['children', 'creativity', 'culture', 'dance',...</td>\n",
       "      <td>Do schools kill creativity?</td>\n",
       "      <td>https://www.ted.com/talks/ken_robinson_says_sc...</td>\n",
       "      <td>47227110</td>\n",
       "      <td>2006-02-25</td>\n",
       "      <td>2006-06-27 00:11:00</td>\n",
       "      <td>2006</td>\n",
       "    </tr>\n",
       "    <tr>\n",
       "      <th>1</th>\n",
       "      <td>265</td>\n",
       "      <td>With the same humor and humanity he exuded in ...</td>\n",
       "      <td>977</td>\n",
       "      <td>TED2006</td>\n",
       "      <td>43</td>\n",
       "      <td>Al Gore</td>\n",
       "      <td>Al Gore: Averting the climate crisis</td>\n",
       "      <td>1</td>\n",
       "      <td>[{'id': 7, 'name': 'Funny', 'count': 544}, {'i...</td>\n",
       "      <td>[{'id': 243, 'hero': 'https://pe.tedcdn.com/im...</td>\n",
       "      <td>Climate advocate</td>\n",
       "      <td>['alternative energy', 'cars', 'climate change...</td>\n",
       "      <td>Averting the climate crisis</td>\n",
       "      <td>https://www.ted.com/talks/al_gore_on_averting_...</td>\n",
       "      <td>3200520</td>\n",
       "      <td>2006-02-25</td>\n",
       "      <td>2006-06-27 00:11:00</td>\n",
       "      <td>2006</td>\n",
       "    </tr>\n",
       "    <tr>\n",
       "      <th>2</th>\n",
       "      <td>124</td>\n",
       "      <td>New York Times columnist David Pogue takes aim...</td>\n",
       "      <td>1286</td>\n",
       "      <td>TED2006</td>\n",
       "      <td>26</td>\n",
       "      <td>David Pogue</td>\n",
       "      <td>David Pogue: Simplicity sells</td>\n",
       "      <td>1</td>\n",
       "      <td>[{'id': 7, 'name': 'Funny', 'count': 964}, {'i...</td>\n",
       "      <td>[{'id': 1725, 'hero': 'https://pe.tedcdn.com/i...</td>\n",
       "      <td>Technology columnist</td>\n",
       "      <td>['computers', 'entertainment', 'interface desi...</td>\n",
       "      <td>Simplicity sells</td>\n",
       "      <td>https://www.ted.com/talks/david_pogue_says_sim...</td>\n",
       "      <td>1636292</td>\n",
       "      <td>2006-02-24</td>\n",
       "      <td>2006-06-27 00:11:00</td>\n",
       "      <td>2006</td>\n",
       "    </tr>\n",
       "    <tr>\n",
       "      <th>3</th>\n",
       "      <td>200</td>\n",
       "      <td>In an emotionally charged talk, MacArthur-winn...</td>\n",
       "      <td>1116</td>\n",
       "      <td>TED2006</td>\n",
       "      <td>35</td>\n",
       "      <td>Majora Carter</td>\n",
       "      <td>Majora Carter: Greening the ghetto</td>\n",
       "      <td>1</td>\n",
       "      <td>[{'id': 3, 'name': 'Courageous', 'count': 760}...</td>\n",
       "      <td>[{'id': 1041, 'hero': 'https://pe.tedcdn.com/i...</td>\n",
       "      <td>Activist for environmental justice</td>\n",
       "      <td>['MacArthur grant', 'activism', 'business', 'c...</td>\n",
       "      <td>Greening the ghetto</td>\n",
       "      <td>https://www.ted.com/talks/majora_carter_s_tale...</td>\n",
       "      <td>1697550</td>\n",
       "      <td>2006-02-26</td>\n",
       "      <td>2006-06-27 00:11:00</td>\n",
       "      <td>2006</td>\n",
       "    </tr>\n",
       "  </tbody>\n",
       "</table>\n",
       "</div>"
      ],
      "text/plain": [
       "   comment_count                                        description  duration  \\\n",
       "0           4553  Sir Ken Robinson makes an entertaining and pro...      1164   \n",
       "1            265  With the same humor and humanity he exuded in ...       977   \n",
       "2            124  New York Times columnist David Pogue takes aim...      1286   \n",
       "3            200  In an emotionally charged talk, MacArthur-winn...      1116   \n",
       "\n",
       "     event  languages   main_speaker  \\\n",
       "0  TED2006         60   Ken Robinson   \n",
       "1  TED2006         43        Al Gore   \n",
       "2  TED2006         26    David Pogue   \n",
       "3  TED2006         35  Majora Carter   \n",
       "\n",
       "                                        name  num_speaker  \\\n",
       "0  Ken Robinson: Do schools kill creativity?            1   \n",
       "1       Al Gore: Averting the climate crisis            1   \n",
       "2              David Pogue: Simplicity sells            1   \n",
       "3         Majora Carter: Greening the ghetto            1   \n",
       "\n",
       "                                             ratings  \\\n",
       "0  [{'id': 7, 'name': 'Funny', 'count': 19645}, {...   \n",
       "1  [{'id': 7, 'name': 'Funny', 'count': 544}, {'i...   \n",
       "2  [{'id': 7, 'name': 'Funny', 'count': 964}, {'i...   \n",
       "3  [{'id': 3, 'name': 'Courageous', 'count': 760}...   \n",
       "\n",
       "                                       related_talks  \\\n",
       "0  [{'id': 865, 'hero': 'https://pe.tedcdn.com/im...   \n",
       "1  [{'id': 243, 'hero': 'https://pe.tedcdn.com/im...   \n",
       "2  [{'id': 1725, 'hero': 'https://pe.tedcdn.com/i...   \n",
       "3  [{'id': 1041, 'hero': 'https://pe.tedcdn.com/i...   \n",
       "\n",
       "                   speaker_occupation  \\\n",
       "0                     Author/educator   \n",
       "1                    Climate advocate   \n",
       "2                Technology columnist   \n",
       "3  Activist for environmental justice   \n",
       "\n",
       "                                                tags  \\\n",
       "0  ['children', 'creativity', 'culture', 'dance',...   \n",
       "1  ['alternative energy', 'cars', 'climate change...   \n",
       "2  ['computers', 'entertainment', 'interface desi...   \n",
       "3  ['MacArthur grant', 'activism', 'business', 'c...   \n",
       "\n",
       "                         title  \\\n",
       "0  Do schools kill creativity?   \n",
       "1  Averting the climate crisis   \n",
       "2             Simplicity sells   \n",
       "3          Greening the ghetto   \n",
       "\n",
       "                                                 url  view_count filming_date  \\\n",
       "0  https://www.ted.com/talks/ken_robinson_says_sc...    47227110   2006-02-25   \n",
       "1  https://www.ted.com/talks/al_gore_on_averting_...     3200520   2006-02-25   \n",
       "2  https://www.ted.com/talks/david_pogue_says_sim...     1636292   2006-02-24   \n",
       "3  https://www.ted.com/talks/majora_carter_s_tale...     1697550   2006-02-26   \n",
       "\n",
       "     publication_date  event_year  \n",
       "0 2006-06-27 00:11:00        2006  \n",
       "1 2006-06-27 00:11:00        2006  \n",
       "2 2006-06-27 00:11:00        2006  \n",
       "3 2006-06-27 00:11:00        2006  "
      ]
     },
     "execution_count": 24,
     "metadata": {},
     "output_type": "execute_result"
    }
   ],
   "source": [
    "ted.head(4)"
   ]
  },
  {
   "cell_type": "markdown",
   "metadata": {},
   "source": [
    "Compute average number of views per talk during each event"
   ]
  },
  {
   "cell_type": "code",
   "execution_count": 25,
   "metadata": {},
   "outputs": [
    {
     "data": {
      "text/plain": [
       "event\n",
       "TEDxPuget Sound           34309432.0\n",
       "TEDxHouston               16140250.5\n",
       "TEDxBloomington            9484259.5\n",
       "TEDxCreativeCoast          8444981.0\n",
       "TEDxNorrkoping             6569493.0\n",
       "                             ...    \n",
       "TEDxNASA@SiliconValley      155895.0\n",
       "AORN Congress               149818.0\n",
       "TEDxWaterloo                138812.0\n",
       "TEDxIslay                   120274.0\n",
       "The Do Lectures             112321.0\n",
       "Name: view_count, Length: 355, dtype: float64"
      ]
     },
     "execution_count": 25,
     "metadata": {},
     "output_type": "execute_result"
    }
   ],
   "source": [
    "ted.groupby('event').view_count.mean().sort_values(ascending=False)"
   ]
  },
  {
   "cell_type": "markdown",
   "metadata": {},
   "source": [
    "It might be the case that some of these events got high mean views due to having a small number of very popular talks, or even just one very popular talk. So, consider also the number of talks at each event.\n",
    "\n",
    "To aggregate data based on more than one function (e.g., in this case, mean and count), we can follow `groupby()` with the `agg()` function that receives a list of aggregation functions we want to apply to the grouped data."
   ]
  },
  {
   "cell_type": "code",
   "execution_count": 26,
   "metadata": {},
   "outputs": [
    {
     "data": {
      "text/html": [
       "<div>\n",
       "<style scoped>\n",
       "    .dataframe tbody tr th:only-of-type {\n",
       "        vertical-align: middle;\n",
       "    }\n",
       "\n",
       "    .dataframe tbody tr th {\n",
       "        vertical-align: top;\n",
       "    }\n",
       "\n",
       "    .dataframe thead th {\n",
       "        text-align: right;\n",
       "    }\n",
       "</style>\n",
       "<table border=\"1\" class=\"dataframe\">\n",
       "  <thead>\n",
       "    <tr style=\"text-align: right;\">\n",
       "      <th></th>\n",
       "      <th>count</th>\n",
       "      <th>mean</th>\n",
       "    </tr>\n",
       "    <tr>\n",
       "      <th>event</th>\n",
       "      <th></th>\n",
       "      <th></th>\n",
       "    </tr>\n",
       "  </thead>\n",
       "  <tbody>\n",
       "    <tr>\n",
       "      <th>AORN Congress</th>\n",
       "      <td>1</td>\n",
       "      <td>149818.0</td>\n",
       "    </tr>\n",
       "    <tr>\n",
       "      <th>Arbejdsglaede Live</th>\n",
       "      <td>1</td>\n",
       "      <td>971594.0</td>\n",
       "    </tr>\n",
       "    <tr>\n",
       "      <th>BBC TV</th>\n",
       "      <td>1</td>\n",
       "      <td>521974.0</td>\n",
       "    </tr>\n",
       "    <tr>\n",
       "      <th>Bowery Poetry Club</th>\n",
       "      <td>1</td>\n",
       "      <td>676741.0</td>\n",
       "    </tr>\n",
       "    <tr>\n",
       "      <th>Business Innovation Factory</th>\n",
       "      <td>3</td>\n",
       "      <td>304086.0</td>\n",
       "    </tr>\n",
       "  </tbody>\n",
       "</table>\n",
       "</div>"
      ],
      "text/plain": [
       "                             count      mean\n",
       "event                                       \n",
       "AORN Congress                    1  149818.0\n",
       "Arbejdsglaede Live               1  971594.0\n",
       "BBC TV                           1  521974.0\n",
       "Bowery Poetry Club               1  676741.0\n",
       "Business Innovation Factory      3  304086.0"
      ]
     },
     "execution_count": 26,
     "metadata": {},
     "output_type": "execute_result"
    }
   ],
   "source": [
    "ted.groupby('event').view_count.agg(['count', 'mean']).head()"
   ]
  },
  {
   "cell_type": "markdown",
   "metadata": {},
   "source": [
    "Let's store the results in a new data frame"
   ]
  },
  {
   "cell_type": "code",
   "execution_count": 27,
   "metadata": {},
   "outputs": [],
   "source": [
    "events_views = ted.groupby('event').view_count.agg(['count', 'mean'])"
   ]
  },
  {
   "cell_type": "code",
   "execution_count": 28,
   "metadata": {},
   "outputs": [],
   "source": [
    "events_views.columns = ['talk_count', 'mean_views']"
   ]
  },
  {
   "cell_type": "markdown",
   "metadata": {},
   "source": [
    "Now, we can examine, for each event, both the average number of views and number of talks"
   ]
  },
  {
   "cell_type": "code",
   "execution_count": 29,
   "metadata": {},
   "outputs": [
    {
     "data": {
      "text/html": [
       "<div>\n",
       "<style scoped>\n",
       "    .dataframe tbody tr th:only-of-type {\n",
       "        vertical-align: middle;\n",
       "    }\n",
       "\n",
       "    .dataframe tbody tr th {\n",
       "        vertical-align: top;\n",
       "    }\n",
       "\n",
       "    .dataframe thead th {\n",
       "        text-align: right;\n",
       "    }\n",
       "</style>\n",
       "<table border=\"1\" class=\"dataframe\">\n",
       "  <thead>\n",
       "    <tr style=\"text-align: right;\">\n",
       "      <th></th>\n",
       "      <th>talk_count</th>\n",
       "      <th>mean_views</th>\n",
       "    </tr>\n",
       "    <tr>\n",
       "      <th>event</th>\n",
       "      <th></th>\n",
       "      <th></th>\n",
       "    </tr>\n",
       "  </thead>\n",
       "  <tbody>\n",
       "    <tr>\n",
       "      <th>TEDxPuget Sound</th>\n",
       "      <td>1</td>\n",
       "      <td>34309432.0</td>\n",
       "    </tr>\n",
       "    <tr>\n",
       "      <th>TEDxHouston</th>\n",
       "      <td>2</td>\n",
       "      <td>16140250.5</td>\n",
       "    </tr>\n",
       "    <tr>\n",
       "      <th>TEDxBloomington</th>\n",
       "      <td>2</td>\n",
       "      <td>9484259.5</td>\n",
       "    </tr>\n",
       "    <tr>\n",
       "      <th>TEDxCreativeCoast</th>\n",
       "      <td>1</td>\n",
       "      <td>8444981.0</td>\n",
       "    </tr>\n",
       "    <tr>\n",
       "      <th>TEDxNorrkoping</th>\n",
       "      <td>1</td>\n",
       "      <td>6569493.0</td>\n",
       "    </tr>\n",
       "    <tr>\n",
       "      <th>TEDxUW</th>\n",
       "      <td>1</td>\n",
       "      <td>5917201.0</td>\n",
       "    </tr>\n",
       "    <tr>\n",
       "      <th>TEDxLinnaeusUniversity</th>\n",
       "      <td>1</td>\n",
       "      <td>4984884.0</td>\n",
       "    </tr>\n",
       "    <tr>\n",
       "      <th>TEDxGoldenGatePark 2012</th>\n",
       "      <td>1</td>\n",
       "      <td>4811180.0</td>\n",
       "    </tr>\n",
       "    <tr>\n",
       "      <th>TEDxCHUV</th>\n",
       "      <td>1</td>\n",
       "      <td>4682458.0</td>\n",
       "    </tr>\n",
       "    <tr>\n",
       "      <th>Stanford University</th>\n",
       "      <td>2</td>\n",
       "      <td>4658636.5</td>\n",
       "    </tr>\n",
       "  </tbody>\n",
       "</table>\n",
       "</div>"
      ],
      "text/plain": [
       "                         talk_count  mean_views\n",
       "event                                          \n",
       "TEDxPuget Sound                   1  34309432.0\n",
       "TEDxHouston                       2  16140250.5\n",
       "TEDxBloomington                   2   9484259.5\n",
       "TEDxCreativeCoast                 1   8444981.0\n",
       "TEDxNorrkoping                    1   6569493.0\n",
       "TEDxUW                            1   5917201.0\n",
       "TEDxLinnaeusUniversity            1   4984884.0\n",
       "TEDxGoldenGatePark 2012           1   4811180.0\n",
       "TEDxCHUV                          1   4682458.0\n",
       "Stanford University               2   4658636.5"
      ]
     },
     "execution_count": 29,
     "metadata": {},
     "output_type": "execute_result"
    }
   ],
   "source": [
    "events_views.sort_values(by='mean_views', ascending=False).head(10)"
   ]
  },
  {
   "cell_type": "markdown",
   "metadata": {},
   "source": [
    "Note that all top 10 events (based on the average views) had at most 2 talks. <br>\n",
    "Let's check the stats for the number of talks and mean views per event"
   ]
  },
  {
   "cell_type": "code",
   "execution_count": 30,
   "metadata": {},
   "outputs": [
    {
     "data": {
      "text/html": [
       "<div>\n",
       "<style scoped>\n",
       "    .dataframe tbody tr th:only-of-type {\n",
       "        vertical-align: middle;\n",
       "    }\n",
       "\n",
       "    .dataframe tbody tr th {\n",
       "        vertical-align: top;\n",
       "    }\n",
       "\n",
       "    .dataframe thead th {\n",
       "        text-align: right;\n",
       "    }\n",
       "</style>\n",
       "<table border=\"1\" class=\"dataframe\">\n",
       "  <thead>\n",
       "    <tr style=\"text-align: right;\">\n",
       "      <th></th>\n",
       "      <th>talk_count</th>\n",
       "      <th>mean_views</th>\n",
       "    </tr>\n",
       "  </thead>\n",
       "  <tbody>\n",
       "    <tr>\n",
       "      <th>count</th>\n",
       "      <td>355.000000</td>\n",
       "      <td>3.550000e+02</td>\n",
       "    </tr>\n",
       "    <tr>\n",
       "      <th>mean</th>\n",
       "      <td>7.183099</td>\n",
       "      <td>1.527689e+06</td>\n",
       "    </tr>\n",
       "    <tr>\n",
       "      <th>std</th>\n",
       "      <td>15.265735</td>\n",
       "      <td>2.205832e+06</td>\n",
       "    </tr>\n",
       "    <tr>\n",
       "      <th>min</th>\n",
       "      <td>1.000000</td>\n",
       "      <td>1.123210e+05</td>\n",
       "    </tr>\n",
       "    <tr>\n",
       "      <th>25%</th>\n",
       "      <td>1.000000</td>\n",
       "      <td>7.594215e+05</td>\n",
       "    </tr>\n",
       "    <tr>\n",
       "      <th>50%</th>\n",
       "      <td>2.000000</td>\n",
       "      <td>1.187105e+06</td>\n",
       "    </tr>\n",
       "    <tr>\n",
       "      <th>75%</th>\n",
       "      <td>5.000000</td>\n",
       "      <td>1.715774e+06</td>\n",
       "    </tr>\n",
       "    <tr>\n",
       "      <th>max</th>\n",
       "      <td>84.000000</td>\n",
       "      <td>3.430943e+07</td>\n",
       "    </tr>\n",
       "  </tbody>\n",
       "</table>\n",
       "</div>"
      ],
      "text/plain": [
       "       talk_count    mean_views\n",
       "count  355.000000  3.550000e+02\n",
       "mean     7.183099  1.527689e+06\n",
       "std     15.265735  2.205832e+06\n",
       "min      1.000000  1.123210e+05\n",
       "25%      1.000000  7.594215e+05\n",
       "50%      2.000000  1.187105e+06\n",
       "75%      5.000000  1.715774e+06\n",
       "max     84.000000  3.430943e+07"
      ]
     },
     "execution_count": 30,
     "metadata": {},
     "output_type": "execute_result"
    }
   ],
   "source": [
    "events_views.describe()"
   ]
  },
  {
   "cell_type": "markdown",
   "metadata": {},
   "source": [
    "To get some further insights, let's consider only those events with above average number of talks. Considering highly skewed distribution, we'll use median as the average value"
   ]
  },
  {
   "cell_type": "code",
   "execution_count": 31,
   "metadata": {},
   "outputs": [],
   "source": [
    "avg_talk_cnt = events_views.describe().loc['50%', 'talk_count']"
   ]
  },
  {
   "cell_type": "code",
   "execution_count": 32,
   "metadata": {},
   "outputs": [
    {
     "data": {
      "text/html": [
       "<div>\n",
       "<style scoped>\n",
       "    .dataframe tbody tr th:only-of-type {\n",
       "        vertical-align: middle;\n",
       "    }\n",
       "\n",
       "    .dataframe tbody tr th {\n",
       "        vertical-align: top;\n",
       "    }\n",
       "\n",
       "    .dataframe thead th {\n",
       "        text-align: right;\n",
       "    }\n",
       "</style>\n",
       "<table border=\"1\" class=\"dataframe\">\n",
       "  <thead>\n",
       "    <tr style=\"text-align: right;\">\n",
       "      <th></th>\n",
       "      <th>talk_count</th>\n",
       "      <th>mean_views</th>\n",
       "    </tr>\n",
       "    <tr>\n",
       "      <th>event</th>\n",
       "      <th></th>\n",
       "      <th></th>\n",
       "    </tr>\n",
       "  </thead>\n",
       "  <tbody>\n",
       "    <tr>\n",
       "      <th>TED Talks Education</th>\n",
       "      <td>8</td>\n",
       "      <td>4.375104e+06</td>\n",
       "    </tr>\n",
       "    <tr>\n",
       "      <th>TEDGlobal&gt;Geneva</th>\n",
       "      <td>11</td>\n",
       "      <td>3.385408e+06</td>\n",
       "    </tr>\n",
       "    <tr>\n",
       "      <th>TED2006</th>\n",
       "      <td>45</td>\n",
       "      <td>3.274345e+06</td>\n",
       "    </tr>\n",
       "    <tr>\n",
       "      <th>TEDxManhattanBeach</th>\n",
       "      <td>3</td>\n",
       "      <td>3.251704e+06</td>\n",
       "    </tr>\n",
       "    <tr>\n",
       "      <th>TEDSalon NY2013</th>\n",
       "      <td>11</td>\n",
       "      <td>2.861639e+06</td>\n",
       "    </tr>\n",
       "    <tr>\n",
       "      <th>...</th>\n",
       "      <td>...</td>\n",
       "      <td>...</td>\n",
       "    </tr>\n",
       "    <tr>\n",
       "      <th>TEDxYYC</th>\n",
       "      <td>3</td>\n",
       "      <td>3.699607e+05</td>\n",
       "    </tr>\n",
       "    <tr>\n",
       "      <th>Business Innovation Factory</th>\n",
       "      <td>3</td>\n",
       "      <td>3.040860e+05</td>\n",
       "    </tr>\n",
       "    <tr>\n",
       "      <th>TEDxPhoenix</th>\n",
       "      <td>4</td>\n",
       "      <td>2.846855e+05</td>\n",
       "    </tr>\n",
       "    <tr>\n",
       "      <th>TEDSalon 2009 Compassion</th>\n",
       "      <td>3</td>\n",
       "      <td>2.818163e+05</td>\n",
       "    </tr>\n",
       "    <tr>\n",
       "      <th>Chautauqua Institution</th>\n",
       "      <td>3</td>\n",
       "      <td>2.608687e+05</td>\n",
       "    </tr>\n",
       "  </tbody>\n",
       "</table>\n",
       "<p>142 rows × 2 columns</p>\n",
       "</div>"
      ],
      "text/plain": [
       "                             talk_count    mean_views\n",
       "event                                                \n",
       "TED Talks Education                   8  4.375104e+06\n",
       "TEDGlobal>Geneva                     11  3.385408e+06\n",
       "TED2006                              45  3.274345e+06\n",
       "TEDxManhattanBeach                    3  3.251704e+06\n",
       "TEDSalon NY2013                      11  2.861639e+06\n",
       "...                                 ...           ...\n",
       "TEDxYYC                               3  3.699607e+05\n",
       "Business Innovation Factory           3  3.040860e+05\n",
       "TEDxPhoenix                           4  2.846855e+05\n",
       "TEDSalon 2009 Compassion              3  2.818163e+05\n",
       "Chautauqua Institution                3  2.608687e+05\n",
       "\n",
       "[142 rows x 2 columns]"
      ]
     },
     "execution_count": 32,
     "metadata": {},
     "output_type": "execute_result"
    }
   ],
   "source": [
    "events_views.loc[events_views.talk_count > avg_talk_cnt, :].sort_values(by='mean_views', ascending=False)"
   ]
  },
  {
   "cell_type": "markdown",
   "metadata": {},
   "source": [
    "## Task 3: Explore talks based on their ratings"
   ]
  },
  {
   "cell_type": "markdown",
   "metadata": {},
   "source": [
    "Take a closer look at a sample of ratings"
   ]
  },
  {
   "cell_type": "code",
   "execution_count": 33,
   "metadata": {},
   "outputs": [
    {
     "data": {
      "text/plain": [
       "1544    [{'id': 23, 'name': 'Jaw-dropping', 'count': 5...\n",
       "1125    [{'id': 23, 'name': 'Jaw-dropping', 'count': 2...\n",
       "1780    [{'id': 11, 'name': 'Longwinded', 'count': 35}...\n",
       "1575    [{'id': 7, 'name': 'Funny', 'count': 15}, {'id...\n",
       "1958    [{'id': 3, 'name': 'Courageous', 'count': 255}...\n",
       "Name: ratings, dtype: object"
      ]
     },
     "execution_count": 33,
     "metadata": {},
     "output_type": "execute_result"
    }
   ],
   "source": [
    "ted.ratings.sample(5)"
   ]
  },
  {
   "cell_type": "code",
   "execution_count": 34,
   "metadata": {},
   "outputs": [
    {
     "data": {
      "text/plain": [
       "\"[{'id': 7, 'name': 'Funny', 'count': 19645}, {'id': 1, 'name': 'Beautiful', 'count': 4573}, {'id': 9, 'name': 'Ingenious', 'count': 6073}, {'id': 3, 'name': 'Courageous', 'count': 3253}, {'id': 11, 'name': 'Longwinded', 'count': 387}, {'id': 2, 'name': 'Confusing', 'count': 242}, {'id': 8, 'name': 'Informative', 'count': 7346}, {'id': 22, 'name': 'Fascinating', 'count': 10581}, {'id': 21, 'name': 'Unconvincing', 'count': 300}, {'id': 24, 'name': 'Persuasive', 'count': 10704}, {'id': 23, 'name': 'Jaw-dropping', 'count': 4439}, {'id': 25, 'name': 'OK', 'count': 1174}, {'id': 26, 'name': 'Obnoxious', 'count': 209}, {'id': 10, 'name': 'Inspiring', 'count': 24924}]\""
      ]
     },
     "execution_count": 34,
     "metadata": {},
     "output_type": "execute_result"
    }
   ],
   "source": [
    "ted.ratings[0]"
   ]
  },
  {
   "cell_type": "markdown",
   "metadata": {},
   "source": [
    "Even though a 'ratings' value looks like a list, it is not"
   ]
  },
  {
   "cell_type": "code",
   "execution_count": 35,
   "metadata": {},
   "outputs": [
    {
     "data": {
      "text/plain": [
       "str"
      ]
     },
     "execution_count": 35,
     "metadata": {},
     "output_type": "execute_result"
    }
   ],
   "source": [
    "type(ted.ratings[0])"
   ]
  },
  {
   "cell_type": "markdown",
   "metadata": {},
   "source": [
    "To convert talk ratings into a list - so that they can be further processed - we will use a function from the Python's `ast` (*Abstract Syntax Tree*) module:\n",
    "\n",
    "`literal_eval()` function allows one to evaluate a string containing a Python literal or container, that is, it can be used to transform a string into a literal value, a list, a tuple or any other container object"
   ]
  },
  {
   "cell_type": "code",
   "execution_count": 36,
   "metadata": {},
   "outputs": [
    {
     "data": {
      "text/plain": [
       "(1, 2, 3, 4)"
      ]
     },
     "execution_count": 36,
     "metadata": {},
     "output_type": "execute_result"
    }
   ],
   "source": [
    "import ast\n",
    "\n",
    "ast.literal_eval('(1,2,3,4)')"
   ]
  },
  {
   "cell_type": "code",
   "execution_count": 37,
   "metadata": {},
   "outputs": [
    {
     "data": {
      "text/plain": [
       "[{'id': 7, 'name': 'Funny', 'count': 19645},\n",
       " {'id': 1, 'name': 'Beautiful', 'count': 4573},\n",
       " {'id': 9, 'name': 'Ingenious', 'count': 6073},\n",
       " {'id': 3, 'name': 'Courageous', 'count': 3253},\n",
       " {'id': 11, 'name': 'Longwinded', 'count': 387},\n",
       " {'id': 2, 'name': 'Confusing', 'count': 242},\n",
       " {'id': 8, 'name': 'Informative', 'count': 7346},\n",
       " {'id': 22, 'name': 'Fascinating', 'count': 10581},\n",
       " {'id': 21, 'name': 'Unconvincing', 'count': 300},\n",
       " {'id': 24, 'name': 'Persuasive', 'count': 10704},\n",
       " {'id': 23, 'name': 'Jaw-dropping', 'count': 4439},\n",
       " {'id': 25, 'name': 'OK', 'count': 1174},\n",
       " {'id': 26, 'name': 'Obnoxious', 'count': 209},\n",
       " {'id': 10, 'name': 'Inspiring', 'count': 24924}]"
      ]
     },
     "execution_count": 37,
     "metadata": {},
     "output_type": "execute_result"
    }
   ],
   "source": [
    "ast.literal_eval(ted.ratings[0])"
   ]
  },
  {
   "cell_type": "code",
   "execution_count": 38,
   "metadata": {},
   "outputs": [
    {
     "data": {
      "text/plain": [
       "list"
      ]
     },
     "execution_count": 38,
     "metadata": {},
     "output_type": "execute_result"
    }
   ],
   "source": [
    "type(ast.literal_eval(ted.ratings[0]))"
   ]
  },
  {
   "cell_type": "markdown",
   "metadata": {},
   "source": [
    "Create a new column for storing ratings as a list, instead of a string.\n",
    "\n",
    "To that end, we will use the `apply()` f. to apply the `ast.literal_eval()` f. to each value of the ratings column"
   ]
  },
  {
   "cell_type": "code",
   "execution_count": 39,
   "metadata": {},
   "outputs": [],
   "source": [
    "ted['ratings_list'] = ted.ratings.apply(ast.literal_eval)"
   ]
  },
  {
   "cell_type": "code",
   "execution_count": 40,
   "metadata": {},
   "outputs": [
    {
     "data": {
      "text/plain": [
       "0    [{'id': 7, 'name': 'Funny', 'count': 19645}, {...\n",
       "1    [{'id': 7, 'name': 'Funny', 'count': 544}, {'i...\n",
       "2    [{'id': 7, 'name': 'Funny', 'count': 964}, {'i...\n",
       "Name: ratings_list, dtype: object"
      ]
     },
     "execution_count": 40,
     "metadata": {},
     "output_type": "execute_result"
    }
   ],
   "source": [
    "ted.ratings_list.head(3)"
   ]
  },
  {
   "cell_type": "markdown",
   "metadata": {},
   "source": [
    "### Task 3.1: For each talk, find the 3 most frequent ratings\n",
    "\n",
    "Add a column with a tuple comprising names of the 3 most frequent ratings for the corresponding talk"
   ]
  },
  {
   "cell_type": "markdown",
   "metadata": {},
   "source": [
    "To do this, we can start from the 'ratings_list' column"
   ]
  },
  {
   "cell_type": "code",
   "execution_count": 41,
   "metadata": {},
   "outputs": [
    {
     "data": {
      "text/plain": [
       "[{'id': 7, 'name': 'Funny', 'count': 19645},\n",
       " {'id': 1, 'name': 'Beautiful', 'count': 4573},\n",
       " {'id': 9, 'name': 'Ingenious', 'count': 6073},\n",
       " {'id': 3, 'name': 'Courageous', 'count': 3253},\n",
       " {'id': 11, 'name': 'Longwinded', 'count': 387},\n",
       " {'id': 2, 'name': 'Confusing', 'count': 242},\n",
       " {'id': 8, 'name': 'Informative', 'count': 7346},\n",
       " {'id': 22, 'name': 'Fascinating', 'count': 10581},\n",
       " {'id': 21, 'name': 'Unconvincing', 'count': 300},\n",
       " {'id': 24, 'name': 'Persuasive', 'count': 10704},\n",
       " {'id': 23, 'name': 'Jaw-dropping', 'count': 4439},\n",
       " {'id': 25, 'name': 'OK', 'count': 1174},\n",
       " {'id': 26, 'name': 'Obnoxious', 'count': 209},\n",
       " {'id': 10, 'name': 'Inspiring', 'count': 24924}]"
      ]
     },
     "execution_count": 41,
     "metadata": {},
     "output_type": "execute_result"
    }
   ],
   "source": [
    "ted.ratings_list[0]"
   ]
  },
  {
   "cell_type": "markdown",
   "metadata": {},
   "source": [
    "One way to approach this task is to create a function that receives a list of ratings for one talk and returns a tuple with the 3 most frequent ratings"
   ]
  },
  {
   "cell_type": "code",
   "execution_count": 42,
   "metadata": {},
   "outputs": [],
   "source": [
    "def most_freq_ratings(ratings):\n",
    "    sorted_ratings = sorted(ratings, key=lambda rating: rating['count'], reverse=True)\n",
    "    return tuple([rating['name'] for rating in sorted_ratings[:3]])"
   ]
  },
  {
   "cell_type": "code",
   "execution_count": 43,
   "metadata": {},
   "outputs": [
    {
     "data": {
      "text/plain": [
       "('Inspiring', 'Funny', 'Persuasive')"
      ]
     },
     "execution_count": 43,
     "metadata": {},
     "output_type": "execute_result"
    }
   ],
   "source": [
    "most_freq_ratings(ted.ratings_list[0])"
   ]
  },
  {
   "cell_type": "markdown",
   "metadata": {},
   "source": [
    "Now, apply the function to the ratings_list of each talk to create a new column (e.g. top3_ratings)"
   ]
  },
  {
   "cell_type": "code",
   "execution_count": 44,
   "metadata": {},
   "outputs": [],
   "source": [
    "ted['top3_ratings'] = ted.ratings_list.apply(most_freq_ratings)"
   ]
  },
  {
   "cell_type": "markdown",
   "metadata": {},
   "source": [
    "Print 'top3_ratings' of the 10 most viewed talks to see what were the primary ways of ratings those talks"
   ]
  },
  {
   "cell_type": "code",
   "execution_count": 45,
   "metadata": {},
   "outputs": [
    {
     "data": {
      "text/html": [
       "<div>\n",
       "<style scoped>\n",
       "    .dataframe tbody tr th:only-of-type {\n",
       "        vertical-align: middle;\n",
       "    }\n",
       "\n",
       "    .dataframe tbody tr th {\n",
       "        vertical-align: top;\n",
       "    }\n",
       "\n",
       "    .dataframe thead th {\n",
       "        text-align: right;\n",
       "    }\n",
       "</style>\n",
       "<table border=\"1\" class=\"dataframe\">\n",
       "  <thead>\n",
       "    <tr style=\"text-align: right;\">\n",
       "      <th></th>\n",
       "      <th>name</th>\n",
       "      <th>top3_ratings</th>\n",
       "    </tr>\n",
       "  </thead>\n",
       "  <tbody>\n",
       "    <tr>\n",
       "      <th>0</th>\n",
       "      <td>Ken Robinson: Do schools kill creativity?</td>\n",
       "      <td>(Inspiring, Funny, Persuasive)</td>\n",
       "    </tr>\n",
       "    <tr>\n",
       "      <th>1346</th>\n",
       "      <td>Amy Cuddy: Your body language may shape who yo...</td>\n",
       "      <td>(Inspiring, Fascinating, Informative)</td>\n",
       "    </tr>\n",
       "    <tr>\n",
       "      <th>677</th>\n",
       "      <td>Simon Sinek: How great leaders inspire action</td>\n",
       "      <td>(Inspiring, Persuasive, Fascinating)</td>\n",
       "    </tr>\n",
       "    <tr>\n",
       "      <th>837</th>\n",
       "      <td>Brené Brown: The power of vulnerability</td>\n",
       "      <td>(Inspiring, Courageous, Beautiful)</td>\n",
       "    </tr>\n",
       "    <tr>\n",
       "      <th>452</th>\n",
       "      <td>Mary Roach: 10 things you didn't know about or...</td>\n",
       "      <td>(Funny, Informative, Fascinating)</td>\n",
       "    </tr>\n",
       "    <tr>\n",
       "      <th>1776</th>\n",
       "      <td>Julian Treasure: How to speak so that people w...</td>\n",
       "      <td>(Informative, Inspiring, Persuasive)</td>\n",
       "    </tr>\n",
       "    <tr>\n",
       "      <th>201</th>\n",
       "      <td>Jill Bolte Taylor: My stroke of insight</td>\n",
       "      <td>(Inspiring, Fascinating, Jaw-dropping)</td>\n",
       "    </tr>\n",
       "    <tr>\n",
       "      <th>5</th>\n",
       "      <td>Tony Robbins: Why we do what we do</td>\n",
       "      <td>(Inspiring, Persuasive, Fascinating)</td>\n",
       "    </tr>\n",
       "    <tr>\n",
       "      <th>2114</th>\n",
       "      <td>James Veitch: This is what happens when you re...</td>\n",
       "      <td>(Funny, Ingenious, Fascinating)</td>\n",
       "    </tr>\n",
       "    <tr>\n",
       "      <th>1416</th>\n",
       "      <td>Cameron Russell: Looks aren't everything. Beli...</td>\n",
       "      <td>(Courageous, Inspiring, Informative)</td>\n",
       "    </tr>\n",
       "  </tbody>\n",
       "</table>\n",
       "</div>"
      ],
      "text/plain": [
       "                                                   name  \\\n",
       "0             Ken Robinson: Do schools kill creativity?   \n",
       "1346  Amy Cuddy: Your body language may shape who yo...   \n",
       "677       Simon Sinek: How great leaders inspire action   \n",
       "837             Brené Brown: The power of vulnerability   \n",
       "452   Mary Roach: 10 things you didn't know about or...   \n",
       "1776  Julian Treasure: How to speak so that people w...   \n",
       "201             Jill Bolte Taylor: My stroke of insight   \n",
       "5                    Tony Robbins: Why we do what we do   \n",
       "2114  James Veitch: This is what happens when you re...   \n",
       "1416  Cameron Russell: Looks aren't everything. Beli...   \n",
       "\n",
       "                                top3_ratings  \n",
       "0             (Inspiring, Funny, Persuasive)  \n",
       "1346   (Inspiring, Fascinating, Informative)  \n",
       "677     (Inspiring, Persuasive, Fascinating)  \n",
       "837       (Inspiring, Courageous, Beautiful)  \n",
       "452        (Funny, Informative, Fascinating)  \n",
       "1776    (Informative, Inspiring, Persuasive)  \n",
       "201   (Inspiring, Fascinating, Jaw-dropping)  \n",
       "5       (Inspiring, Persuasive, Fascinating)  \n",
       "2114         (Funny, Ingenious, Fascinating)  \n",
       "1416    (Courageous, Inspiring, Informative)  "
      ]
     },
     "execution_count": 45,
     "metadata": {},
     "output_type": "execute_result"
    }
   ],
   "source": [
    "ted.sort_values(by='view_count', ascending=False)[['name','top3_ratings']].head(10)"
   ]
  },
  {
   "cell_type": "markdown",
   "metadata": {},
   "source": [
    "### Task 3.2 Which TED events had the most 'Jaw-dropping' talks?"
   ]
  },
  {
   "cell_type": "markdown",
   "metadata": {},
   "source": [
    "This task can be interpreted in different ways. One way is that we qualify a talk as *jaw-dropping* if 'Jaw dropping' ratings were among the top 3 most frequent kind of ratings for that talk.\n",
    "\n",
    "Let's start by taking a subset of talks that are *jaw-dropping*, as qualified above"
   ]
  },
  {
   "cell_type": "code",
   "execution_count": 46,
   "metadata": {},
   "outputs": [],
   "source": [
    "is_jaw_dropping = lambda ratings: 'Jaw-dropping' in ratings\n",
    "\n",
    "jaw_dropping_talks = ted.loc[ted.top3_ratings.apply(is_jaw_dropping)]"
   ]
  },
  {
   "cell_type": "markdown",
   "metadata": {},
   "source": [
    "Note the selection based on a condition expressed as a function of column (top3_ratings) values"
   ]
  },
  {
   "cell_type": "markdown",
   "metadata": {},
   "source": [
    "Take a sample of jaw dropping talks and check that 'Jaw-dropping' is really among the top 3 ratings"
   ]
  },
  {
   "cell_type": "code",
   "execution_count": 47,
   "metadata": {},
   "outputs": [
    {
     "data": {
      "text/plain": [
       "2496    (Informative, Fascinating, Jaw-dropping)\n",
       "536     (Fascinating, Informative, Jaw-dropping)\n",
       "1122       (Inspiring, Courageous, Jaw-dropping)\n",
       "318      (Courageous, Jaw-dropping, Informative)\n",
       "1291      (Fascinating, Jaw-dropping, Ingenious)\n",
       "Name: top3_ratings, dtype: object"
      ]
     },
     "execution_count": 47,
     "metadata": {},
     "output_type": "execute_result"
    }
   ],
   "source": [
    "jaw_dropping_talks.top3_ratings.sample(5)"
   ]
  },
  {
   "cell_type": "markdown",
   "metadata": {},
   "source": [
    "To answer the posed question, we can now simply compute the number of talks per event in the newly created data frame with jaw dropping talks"
   ]
  },
  {
   "cell_type": "code",
   "execution_count": 48,
   "metadata": {},
   "outputs": [
    {
     "data": {
      "text/plain": [
       "TED2007             17\n",
       "TED2009             16\n",
       "TED2013             14\n",
       "TED2008             11\n",
       "TED2011             10\n",
       "                    ..\n",
       "TEDxTC               1\n",
       "TEDxSummit           1\n",
       "TEDxAustin           1\n",
       "TED in the Field     1\n",
       "TEDMED 2016          1\n",
       "Name: event, Length: 67, dtype: int64"
      ]
     },
     "execution_count": 48,
     "metadata": {},
     "output_type": "execute_result"
    }
   ],
   "source": [
    "jaw_dropping_talks.event.value_counts()"
   ]
  },
  {
   "cell_type": "markdown",
   "metadata": {},
   "source": [
    "### Task 3.3 Compute the number of positive, negative, and neutral ratings, then add one column for each of these counts\n",
    "\n",
    "This practically means that we should add 3 columns - pos_ratings, neg_ratings, neutral_ratings - with the corresponding rating counts."
   ]
  },
  {
   "cell_type": "markdown",
   "metadata": {},
   "source": [
    "We will achieve this through a multistep process:\n",
    "\n",
    "1) Identify different kinds of rating categories that have been used to characterise talks and classify them as positive, negative, or neutral\n",
    "\n",
    "2) Create a function for computing the number of ratings in each of the 3 classes (positive, negative, neutral)\n",
    "\n",
    "3) Add a column - ratings_counts - storing the computed values as tuples of the form (pos_ratings, neg_ratings, neutral_ratings)\n",
    "\n",
    "4) Transform the ratings_counts column into 3 columns: pos_ratings, neg_ratings, neutral_ratings "
   ]
  },
  {
   "cell_type": "markdown",
   "metadata": {},
   "source": [
    "**Step 1.1**: Identify different kinds of rating categories for each talk and store them as a list in a new, auxiliary column (e.g. rating_categories)"
   ]
  },
  {
   "cell_type": "code",
   "execution_count": 49,
   "metadata": {},
   "outputs": [
    {
     "data": {
      "text/plain": [
       "0    [Funny, Beautiful, Ingenious, Courageous, Long...\n",
       "1    [Funny, Courageous, Confusing, Beautiful, Unco...\n",
       "2    [Funny, Courageous, Ingenious, Beautiful, Unco...\n",
       "3    [Courageous, Beautiful, Confusing, Funny, Inge...\n",
       "4    [Ingenious, Funny, Beautiful, Courageous, Long...\n",
       "Name: rating_categories, dtype: object"
      ]
     },
     "execution_count": 49,
     "metadata": {},
     "output_type": "execute_result"
    }
   ],
   "source": [
    "get_rating_categories = lambda ratings: [r['name'] for r in ratings]\n",
    "\n",
    "ted['rating_categories'] = ted.ratings_list.apply(get_rating_categories)\n",
    "ted.rating_categories.head()"
   ]
  },
  {
   "cell_type": "markdown",
   "metadata": {},
   "source": [
    "Next, we need to identify unique rating categories across the categories lists of all the talks"
   ]
  },
  {
   "cell_type": "code",
   "execution_count": 50,
   "metadata": {},
   "outputs": [
    {
     "data": {
      "text/plain": [
       "{'Beautiful',\n",
       " 'Confusing',\n",
       " 'Courageous',\n",
       " 'Fascinating',\n",
       " 'Funny',\n",
       " 'Informative',\n",
       " 'Ingenious',\n",
       " 'Inspiring',\n",
       " 'Jaw-dropping',\n",
       " 'Longwinded',\n",
       " 'OK',\n",
       " 'Obnoxious',\n",
       " 'Persuasive',\n",
       " 'Unconvincing'}"
      ]
     },
     "execution_count": 50,
     "metadata": {},
     "output_type": "execute_result"
    }
   ],
   "source": [
    "rating_categories_set = set()\n",
    "for rcategoires in ted.rating_categories:\n",
    "    rating_categories_set.update(rcategoires) # update allows for adding multiple elements to a set at once\n",
    "\n",
    "rating_categories_set"
   ]
  },
  {
   "cell_type": "markdown",
   "metadata": {},
   "source": [
    "**Step 1.2**: Classify rating categories as positive, negative, or neutral"
   ]
  },
  {
   "cell_type": "code",
   "execution_count": 51,
   "metadata": {},
   "outputs": [],
   "source": [
    "negative = {'Confusing','Longwinded', 'Obnoxious', 'Unconvincing'}\n",
    "neutral = {'OK'}\n",
    "positive = rating_categories_set - (negative | neutral)"
   ]
  },
  {
   "cell_type": "code",
   "execution_count": 52,
   "metadata": {},
   "outputs": [
    {
     "data": {
      "text/plain": [
       "{'Beautiful',\n",
       " 'Courageous',\n",
       " 'Fascinating',\n",
       " 'Funny',\n",
       " 'Informative',\n",
       " 'Ingenious',\n",
       " 'Inspiring',\n",
       " 'Jaw-dropping',\n",
       " 'Persuasive'}"
      ]
     },
     "execution_count": 52,
     "metadata": {},
     "output_type": "execute_result"
    }
   ],
   "source": [
    "positive"
   ]
  },
  {
   "cell_type": "code",
   "execution_count": 53,
   "metadata": {},
   "outputs": [
    {
     "data": {
      "text/plain": [
       "True"
      ]
     },
     "execution_count": 53,
     "metadata": {},
     "output_type": "execute_result"
    }
   ],
   "source": [
    "len(positive) + len(negative) + len(neutral) == len(rating_categories_set)"
   ]
  },
  {
   "cell_type": "markdown",
   "metadata": {},
   "source": [
    "**Step 2**: Create a function that computes the number of ratings in each of the 3 classes (positive, negative, neutral)"
   ]
  },
  {
   "cell_type": "code",
   "execution_count": 54,
   "metadata": {},
   "outputs": [],
   "source": [
    "def pos_neg_neutral_ratings_count(ratings):\n",
    "    pos_cnt = neg_cnt = neutral_cnt = 0\n",
    "    for rating in ratings:\n",
    "        if rating['name'] in negative:\n",
    "            neg_cnt += rating['count']\n",
    "        elif rating['name'] in neutral:\n",
    "            neutral_cnt += rating['count']\n",
    "        else:\n",
    "            pos_cnt += rating['count']\n",
    "    return pos_cnt, neg_cnt, neutral_cnt"
   ]
  },
  {
   "cell_type": "code",
   "execution_count": 55,
   "metadata": {},
   "outputs": [
    {
     "data": {
      "text/plain": [
       "(91538, 1138, 1174)"
      ]
     },
     "execution_count": 55,
     "metadata": {},
     "output_type": "execute_result"
    }
   ],
   "source": [
    "pos_neg_neutral_ratings_count(ted.ratings_list[0])"
   ]
  },
  {
   "cell_type": "markdown",
   "metadata": {},
   "source": [
    "**Step 3**: Add a column - *ratings_counts* - storing the output of the `pos_neg_neutral_ratings_count()` function applied to the *ratings_list* column"
   ]
  },
  {
   "cell_type": "code",
   "execution_count": 56,
   "metadata": {},
   "outputs": [],
   "source": [
    "ted['ratings_counts'] = ted.ratings_list.apply(pos_neg_neutral_ratings_count)"
   ]
  },
  {
   "cell_type": "code",
   "execution_count": 57,
   "metadata": {},
   "outputs": [
    {
     "data": {
      "text/html": [
       "<div>\n",
       "<style scoped>\n",
       "    .dataframe tbody tr th:only-of-type {\n",
       "        vertical-align: middle;\n",
       "    }\n",
       "\n",
       "    .dataframe tbody tr th {\n",
       "        vertical-align: top;\n",
       "    }\n",
       "\n",
       "    .dataframe thead th {\n",
       "        text-align: right;\n",
       "    }\n",
       "</style>\n",
       "<table border=\"1\" class=\"dataframe\">\n",
       "  <thead>\n",
       "    <tr style=\"text-align: right;\">\n",
       "      <th></th>\n",
       "      <th>comment_count</th>\n",
       "      <th>description</th>\n",
       "      <th>duration</th>\n",
       "      <th>event</th>\n",
       "      <th>languages</th>\n",
       "      <th>main_speaker</th>\n",
       "      <th>name</th>\n",
       "      <th>num_speaker</th>\n",
       "      <th>ratings</th>\n",
       "      <th>related_talks</th>\n",
       "      <th>...</th>\n",
       "      <th>title</th>\n",
       "      <th>url</th>\n",
       "      <th>view_count</th>\n",
       "      <th>filming_date</th>\n",
       "      <th>publication_date</th>\n",
       "      <th>event_year</th>\n",
       "      <th>ratings_list</th>\n",
       "      <th>top3_ratings</th>\n",
       "      <th>rating_categories</th>\n",
       "      <th>ratings_counts</th>\n",
       "    </tr>\n",
       "  </thead>\n",
       "  <tbody>\n",
       "    <tr>\n",
       "      <th>0</th>\n",
       "      <td>4553</td>\n",
       "      <td>Sir Ken Robinson makes an entertaining and pro...</td>\n",
       "      <td>1164</td>\n",
       "      <td>TED2006</td>\n",
       "      <td>60</td>\n",
       "      <td>Ken Robinson</td>\n",
       "      <td>Ken Robinson: Do schools kill creativity?</td>\n",
       "      <td>1</td>\n",
       "      <td>[{'id': 7, 'name': 'Funny', 'count': 19645}, {...</td>\n",
       "      <td>[{'id': 865, 'hero': 'https://pe.tedcdn.com/im...</td>\n",
       "      <td>...</td>\n",
       "      <td>Do schools kill creativity?</td>\n",
       "      <td>https://www.ted.com/talks/ken_robinson_says_sc...</td>\n",
       "      <td>47227110</td>\n",
       "      <td>2006-02-25</td>\n",
       "      <td>2006-06-27 00:11:00</td>\n",
       "      <td>2006</td>\n",
       "      <td>[{'id': 7, 'name': 'Funny', 'count': 19645}, {...</td>\n",
       "      <td>(Inspiring, Funny, Persuasive)</td>\n",
       "      <td>[Funny, Beautiful, Ingenious, Courageous, Long...</td>\n",
       "      <td>(91538, 1138, 1174)</td>\n",
       "    </tr>\n",
       "    <tr>\n",
       "      <th>1</th>\n",
       "      <td>265</td>\n",
       "      <td>With the same humor and humanity he exuded in ...</td>\n",
       "      <td>977</td>\n",
       "      <td>TED2006</td>\n",
       "      <td>43</td>\n",
       "      <td>Al Gore</td>\n",
       "      <td>Al Gore: Averting the climate crisis</td>\n",
       "      <td>1</td>\n",
       "      <td>[{'id': 7, 'name': 'Funny', 'count': 544}, {'i...</td>\n",
       "      <td>[{'id': 243, 'hero': 'https://pe.tedcdn.com/im...</td>\n",
       "      <td>...</td>\n",
       "      <td>Averting the climate crisis</td>\n",
       "      <td>https://www.ted.com/talks/al_gore_on_averting_...</td>\n",
       "      <td>3200520</td>\n",
       "      <td>2006-02-25</td>\n",
       "      <td>2006-06-27 00:11:00</td>\n",
       "      <td>2006</td>\n",
       "      <td>[{'id': 7, 'name': 'Funny', 'count': 544}, {'i...</td>\n",
       "      <td>(Funny, Informative, Inspiring)</td>\n",
       "      <td>[Funny, Courageous, Confusing, Beautiful, Unco...</td>\n",
       "      <td>(2169, 564, 203)</td>\n",
       "    </tr>\n",
       "    <tr>\n",
       "      <th>2</th>\n",
       "      <td>124</td>\n",
       "      <td>New York Times columnist David Pogue takes aim...</td>\n",
       "      <td>1286</td>\n",
       "      <td>TED2006</td>\n",
       "      <td>26</td>\n",
       "      <td>David Pogue</td>\n",
       "      <td>David Pogue: Simplicity sells</td>\n",
       "      <td>1</td>\n",
       "      <td>[{'id': 7, 'name': 'Funny', 'count': 964}, {'i...</td>\n",
       "      <td>[{'id': 1725, 'hero': 'https://pe.tedcdn.com/i...</td>\n",
       "      <td>...</td>\n",
       "      <td>Simplicity sells</td>\n",
       "      <td>https://www.ted.com/talks/david_pogue_says_sim...</td>\n",
       "      <td>1636292</td>\n",
       "      <td>2006-02-24</td>\n",
       "      <td>2006-06-27 00:11:00</td>\n",
       "      <td>2006</td>\n",
       "      <td>[{'id': 7, 'name': 'Funny', 'count': 964}, {'i...</td>\n",
       "      <td>(Funny, Informative, Inspiring)</td>\n",
       "      <td>[Funny, Courageous, Ingenious, Beautiful, Unco...</td>\n",
       "      <td>(2327, 351, 146)</td>\n",
       "    </tr>\n",
       "  </tbody>\n",
       "</table>\n",
       "<p>3 rows × 22 columns</p>\n",
       "</div>"
      ],
      "text/plain": [
       "   comment_count                                        description  duration  \\\n",
       "0           4553  Sir Ken Robinson makes an entertaining and pro...      1164   \n",
       "1            265  With the same humor and humanity he exuded in ...       977   \n",
       "2            124  New York Times columnist David Pogue takes aim...      1286   \n",
       "\n",
       "     event  languages  main_speaker  \\\n",
       "0  TED2006         60  Ken Robinson   \n",
       "1  TED2006         43       Al Gore   \n",
       "2  TED2006         26   David Pogue   \n",
       "\n",
       "                                        name  num_speaker  \\\n",
       "0  Ken Robinson: Do schools kill creativity?            1   \n",
       "1       Al Gore: Averting the climate crisis            1   \n",
       "2              David Pogue: Simplicity sells            1   \n",
       "\n",
       "                                             ratings  \\\n",
       "0  [{'id': 7, 'name': 'Funny', 'count': 19645}, {...   \n",
       "1  [{'id': 7, 'name': 'Funny', 'count': 544}, {'i...   \n",
       "2  [{'id': 7, 'name': 'Funny', 'count': 964}, {'i...   \n",
       "\n",
       "                                       related_talks  ...  \\\n",
       "0  [{'id': 865, 'hero': 'https://pe.tedcdn.com/im...  ...   \n",
       "1  [{'id': 243, 'hero': 'https://pe.tedcdn.com/im...  ...   \n",
       "2  [{'id': 1725, 'hero': 'https://pe.tedcdn.com/i...  ...   \n",
       "\n",
       "                         title  \\\n",
       "0  Do schools kill creativity?   \n",
       "1  Averting the climate crisis   \n",
       "2             Simplicity sells   \n",
       "\n",
       "                                                 url view_count filming_date  \\\n",
       "0  https://www.ted.com/talks/ken_robinson_says_sc...   47227110   2006-02-25   \n",
       "1  https://www.ted.com/talks/al_gore_on_averting_...    3200520   2006-02-25   \n",
       "2  https://www.ted.com/talks/david_pogue_says_sim...    1636292   2006-02-24   \n",
       "\n",
       "     publication_date event_year  \\\n",
       "0 2006-06-27 00:11:00       2006   \n",
       "1 2006-06-27 00:11:00       2006   \n",
       "2 2006-06-27 00:11:00       2006   \n",
       "\n",
       "                                        ratings_list  \\\n",
       "0  [{'id': 7, 'name': 'Funny', 'count': 19645}, {...   \n",
       "1  [{'id': 7, 'name': 'Funny', 'count': 544}, {'i...   \n",
       "2  [{'id': 7, 'name': 'Funny', 'count': 964}, {'i...   \n",
       "\n",
       "                      top3_ratings  \\\n",
       "0   (Inspiring, Funny, Persuasive)   \n",
       "1  (Funny, Informative, Inspiring)   \n",
       "2  (Funny, Informative, Inspiring)   \n",
       "\n",
       "                                   rating_categories       ratings_counts  \n",
       "0  [Funny, Beautiful, Ingenious, Courageous, Long...  (91538, 1138, 1174)  \n",
       "1  [Funny, Courageous, Confusing, Beautiful, Unco...     (2169, 564, 203)  \n",
       "2  [Funny, Courageous, Ingenious, Beautiful, Unco...     (2327, 351, 146)  \n",
       "\n",
       "[3 rows x 22 columns]"
      ]
     },
     "execution_count": 57,
     "metadata": {},
     "output_type": "execute_result"
    }
   ],
   "source": [
    "ted.head(3)"
   ]
  },
  {
   "cell_type": "markdown",
   "metadata": {},
   "source": [
    "**Step 4.1**: Transform the *ratings_counts* column into a data frame with 3 columns: pos_ratings, neg_ratings, neutral_ratings\n",
    "\n",
    "To that end, we can `apply()` the Series constructor on the *ratings_counts* column"
   ]
  },
  {
   "cell_type": "code",
   "execution_count": 58,
   "metadata": {},
   "outputs": [
    {
     "data": {
      "text/html": [
       "<div>\n",
       "<style scoped>\n",
       "    .dataframe tbody tr th:only-of-type {\n",
       "        vertical-align: middle;\n",
       "    }\n",
       "\n",
       "    .dataframe tbody tr th {\n",
       "        vertical-align: top;\n",
       "    }\n",
       "\n",
       "    .dataframe thead th {\n",
       "        text-align: right;\n",
       "    }\n",
       "</style>\n",
       "<table border=\"1\" class=\"dataframe\">\n",
       "  <thead>\n",
       "    <tr style=\"text-align: right;\">\n",
       "      <th></th>\n",
       "      <th>0</th>\n",
       "      <th>1</th>\n",
       "      <th>2</th>\n",
       "    </tr>\n",
       "  </thead>\n",
       "  <tbody>\n",
       "    <tr>\n",
       "      <th>0</th>\n",
       "      <td>91538</td>\n",
       "      <td>1138</td>\n",
       "      <td>1174</td>\n",
       "    </tr>\n",
       "    <tr>\n",
       "      <th>1</th>\n",
       "      <td>2169</td>\n",
       "      <td>564</td>\n",
       "      <td>203</td>\n",
       "    </tr>\n",
       "    <tr>\n",
       "      <th>2</th>\n",
       "      <td>2327</td>\n",
       "      <td>351</td>\n",
       "      <td>146</td>\n",
       "    </tr>\n",
       "    <tr>\n",
       "      <th>3</th>\n",
       "      <td>3487</td>\n",
       "      <td>156</td>\n",
       "      <td>85</td>\n",
       "    </tr>\n",
       "    <tr>\n",
       "      <th>4</th>\n",
       "      <td>25062</td>\n",
       "      <td>310</td>\n",
       "      <td>248</td>\n",
       "    </tr>\n",
       "  </tbody>\n",
       "</table>\n",
       "</div>"
      ],
      "text/plain": [
       "       0     1     2\n",
       "0  91538  1138  1174\n",
       "1   2169   564   203\n",
       "2   2327   351   146\n",
       "3   3487   156    85\n",
       "4  25062   310   248"
      ]
     },
     "execution_count": 58,
     "metadata": {},
     "output_type": "execute_result"
    }
   ],
   "source": [
    "ted_ratings = ted.ratings_counts.apply(pd.Series)\n",
    "ted_ratings.head()"
   ]
  },
  {
   "cell_type": "code",
   "execution_count": 59,
   "metadata": {},
   "outputs": [
    {
     "data": {
      "text/html": [
       "<div>\n",
       "<style scoped>\n",
       "    .dataframe tbody tr th:only-of-type {\n",
       "        vertical-align: middle;\n",
       "    }\n",
       "\n",
       "    .dataframe tbody tr th {\n",
       "        vertical-align: top;\n",
       "    }\n",
       "\n",
       "    .dataframe thead th {\n",
       "        text-align: right;\n",
       "    }\n",
       "</style>\n",
       "<table border=\"1\" class=\"dataframe\">\n",
       "  <thead>\n",
       "    <tr style=\"text-align: right;\">\n",
       "      <th></th>\n",
       "      <th>pos_ratings</th>\n",
       "      <th>neg_ratings</th>\n",
       "      <th>neutral_ratings</th>\n",
       "    </tr>\n",
       "  </thead>\n",
       "  <tbody>\n",
       "    <tr>\n",
       "      <th>0</th>\n",
       "      <td>91538</td>\n",
       "      <td>1138</td>\n",
       "      <td>1174</td>\n",
       "    </tr>\n",
       "    <tr>\n",
       "      <th>1</th>\n",
       "      <td>2169</td>\n",
       "      <td>564</td>\n",
       "      <td>203</td>\n",
       "    </tr>\n",
       "    <tr>\n",
       "      <th>2</th>\n",
       "      <td>2327</td>\n",
       "      <td>351</td>\n",
       "      <td>146</td>\n",
       "    </tr>\n",
       "    <tr>\n",
       "      <th>3</th>\n",
       "      <td>3487</td>\n",
       "      <td>156</td>\n",
       "      <td>85</td>\n",
       "    </tr>\n",
       "    <tr>\n",
       "      <th>4</th>\n",
       "      <td>25062</td>\n",
       "      <td>310</td>\n",
       "      <td>248</td>\n",
       "    </tr>\n",
       "  </tbody>\n",
       "</table>\n",
       "</div>"
      ],
      "text/plain": [
       "   pos_ratings  neg_ratings  neutral_ratings\n",
       "0        91538         1138             1174\n",
       "1         2169          564              203\n",
       "2         2327          351              146\n",
       "3         3487          156               85\n",
       "4        25062          310              248"
      ]
     },
     "execution_count": 59,
     "metadata": {},
     "output_type": "execute_result"
    }
   ],
   "source": [
    "ted_ratings.columns = ['pos_ratings', 'neg_ratings', 'neutral_ratings']\n",
    "ted_ratings.head()"
   ]
  },
  {
   "cell_type": "markdown",
   "metadata": {},
   "source": [
    "**Step 4.2**: Merge this new data frame with the original one (ted); this can be done using the `concat()` function. The auxiliary column - ratings_counts - can be dropped as it is no longer needed"
   ]
  },
  {
   "cell_type": "code",
   "execution_count": 60,
   "metadata": {},
   "outputs": [],
   "source": [
    "ted.drop(columns='ratings_counts', inplace=True)"
   ]
  },
  {
   "cell_type": "code",
   "execution_count": 61,
   "metadata": {},
   "outputs": [],
   "source": [
    "ted = pd.concat([ted, ted_ratings], axis=1)"
   ]
  },
  {
   "cell_type": "code",
   "execution_count": 62,
   "metadata": {},
   "outputs": [
    {
     "data": {
      "text/html": [
       "<div>\n",
       "<style scoped>\n",
       "    .dataframe tbody tr th:only-of-type {\n",
       "        vertical-align: middle;\n",
       "    }\n",
       "\n",
       "    .dataframe tbody tr th {\n",
       "        vertical-align: top;\n",
       "    }\n",
       "\n",
       "    .dataframe thead th {\n",
       "        text-align: right;\n",
       "    }\n",
       "</style>\n",
       "<table border=\"1\" class=\"dataframe\">\n",
       "  <thead>\n",
       "    <tr style=\"text-align: right;\">\n",
       "      <th></th>\n",
       "      <th>comment_count</th>\n",
       "      <th>description</th>\n",
       "      <th>duration</th>\n",
       "      <th>event</th>\n",
       "      <th>languages</th>\n",
       "      <th>main_speaker</th>\n",
       "      <th>name</th>\n",
       "      <th>num_speaker</th>\n",
       "      <th>ratings</th>\n",
       "      <th>related_talks</th>\n",
       "      <th>...</th>\n",
       "      <th>view_count</th>\n",
       "      <th>filming_date</th>\n",
       "      <th>publication_date</th>\n",
       "      <th>event_year</th>\n",
       "      <th>ratings_list</th>\n",
       "      <th>top3_ratings</th>\n",
       "      <th>rating_categories</th>\n",
       "      <th>pos_ratings</th>\n",
       "      <th>neg_ratings</th>\n",
       "      <th>neutral_ratings</th>\n",
       "    </tr>\n",
       "  </thead>\n",
       "  <tbody>\n",
       "    <tr>\n",
       "      <th>0</th>\n",
       "      <td>4553</td>\n",
       "      <td>Sir Ken Robinson makes an entertaining and pro...</td>\n",
       "      <td>1164</td>\n",
       "      <td>TED2006</td>\n",
       "      <td>60</td>\n",
       "      <td>Ken Robinson</td>\n",
       "      <td>Ken Robinson: Do schools kill creativity?</td>\n",
       "      <td>1</td>\n",
       "      <td>[{'id': 7, 'name': 'Funny', 'count': 19645}, {...</td>\n",
       "      <td>[{'id': 865, 'hero': 'https://pe.tedcdn.com/im...</td>\n",
       "      <td>...</td>\n",
       "      <td>47227110</td>\n",
       "      <td>2006-02-25</td>\n",
       "      <td>2006-06-27 00:11:00</td>\n",
       "      <td>2006</td>\n",
       "      <td>[{'id': 7, 'name': 'Funny', 'count': 19645}, {...</td>\n",
       "      <td>(Inspiring, Funny, Persuasive)</td>\n",
       "      <td>[Funny, Beautiful, Ingenious, Courageous, Long...</td>\n",
       "      <td>91538</td>\n",
       "      <td>1138</td>\n",
       "      <td>1174</td>\n",
       "    </tr>\n",
       "    <tr>\n",
       "      <th>1</th>\n",
       "      <td>265</td>\n",
       "      <td>With the same humor and humanity he exuded in ...</td>\n",
       "      <td>977</td>\n",
       "      <td>TED2006</td>\n",
       "      <td>43</td>\n",
       "      <td>Al Gore</td>\n",
       "      <td>Al Gore: Averting the climate crisis</td>\n",
       "      <td>1</td>\n",
       "      <td>[{'id': 7, 'name': 'Funny', 'count': 544}, {'i...</td>\n",
       "      <td>[{'id': 243, 'hero': 'https://pe.tedcdn.com/im...</td>\n",
       "      <td>...</td>\n",
       "      <td>3200520</td>\n",
       "      <td>2006-02-25</td>\n",
       "      <td>2006-06-27 00:11:00</td>\n",
       "      <td>2006</td>\n",
       "      <td>[{'id': 7, 'name': 'Funny', 'count': 544}, {'i...</td>\n",
       "      <td>(Funny, Informative, Inspiring)</td>\n",
       "      <td>[Funny, Courageous, Confusing, Beautiful, Unco...</td>\n",
       "      <td>2169</td>\n",
       "      <td>564</td>\n",
       "      <td>203</td>\n",
       "    </tr>\n",
       "    <tr>\n",
       "      <th>2</th>\n",
       "      <td>124</td>\n",
       "      <td>New York Times columnist David Pogue takes aim...</td>\n",
       "      <td>1286</td>\n",
       "      <td>TED2006</td>\n",
       "      <td>26</td>\n",
       "      <td>David Pogue</td>\n",
       "      <td>David Pogue: Simplicity sells</td>\n",
       "      <td>1</td>\n",
       "      <td>[{'id': 7, 'name': 'Funny', 'count': 964}, {'i...</td>\n",
       "      <td>[{'id': 1725, 'hero': 'https://pe.tedcdn.com/i...</td>\n",
       "      <td>...</td>\n",
       "      <td>1636292</td>\n",
       "      <td>2006-02-24</td>\n",
       "      <td>2006-06-27 00:11:00</td>\n",
       "      <td>2006</td>\n",
       "      <td>[{'id': 7, 'name': 'Funny', 'count': 964}, {'i...</td>\n",
       "      <td>(Funny, Informative, Inspiring)</td>\n",
       "      <td>[Funny, Courageous, Ingenious, Beautiful, Unco...</td>\n",
       "      <td>2327</td>\n",
       "      <td>351</td>\n",
       "      <td>146</td>\n",
       "    </tr>\n",
       "    <tr>\n",
       "      <th>3</th>\n",
       "      <td>200</td>\n",
       "      <td>In an emotionally charged talk, MacArthur-winn...</td>\n",
       "      <td>1116</td>\n",
       "      <td>TED2006</td>\n",
       "      <td>35</td>\n",
       "      <td>Majora Carter</td>\n",
       "      <td>Majora Carter: Greening the ghetto</td>\n",
       "      <td>1</td>\n",
       "      <td>[{'id': 3, 'name': 'Courageous', 'count': 760}...</td>\n",
       "      <td>[{'id': 1041, 'hero': 'https://pe.tedcdn.com/i...</td>\n",
       "      <td>...</td>\n",
       "      <td>1697550</td>\n",
       "      <td>2006-02-26</td>\n",
       "      <td>2006-06-27 00:11:00</td>\n",
       "      <td>2006</td>\n",
       "      <td>[{'id': 3, 'name': 'Courageous', 'count': 760}...</td>\n",
       "      <td>(Inspiring, Courageous, Persuasive)</td>\n",
       "      <td>[Courageous, Beautiful, Confusing, Funny, Inge...</td>\n",
       "      <td>3487</td>\n",
       "      <td>156</td>\n",
       "      <td>85</td>\n",
       "    </tr>\n",
       "    <tr>\n",
       "      <th>4</th>\n",
       "      <td>593</td>\n",
       "      <td>You've never seen data presented like this. Wi...</td>\n",
       "      <td>1190</td>\n",
       "      <td>TED2006</td>\n",
       "      <td>48</td>\n",
       "      <td>Hans Rosling</td>\n",
       "      <td>Hans Rosling: The best stats you've ever seen</td>\n",
       "      <td>1</td>\n",
       "      <td>[{'id': 9, 'name': 'Ingenious', 'count': 3202}...</td>\n",
       "      <td>[{'id': 2056, 'hero': 'https://pe.tedcdn.com/i...</td>\n",
       "      <td>...</td>\n",
       "      <td>12005869</td>\n",
       "      <td>2006-02-22</td>\n",
       "      <td>2006-06-27 20:38:00</td>\n",
       "      <td>2006</td>\n",
       "      <td>[{'id': 9, 'name': 'Ingenious', 'count': 3202}...</td>\n",
       "      <td>(Informative, Fascinating, Jaw-dropping)</td>\n",
       "      <td>[Ingenious, Funny, Beautiful, Courageous, Long...</td>\n",
       "      <td>25062</td>\n",
       "      <td>310</td>\n",
       "      <td>248</td>\n",
       "    </tr>\n",
       "  </tbody>\n",
       "</table>\n",
       "<p>5 rows × 24 columns</p>\n",
       "</div>"
      ],
      "text/plain": [
       "   comment_count                                        description  duration  \\\n",
       "0           4553  Sir Ken Robinson makes an entertaining and pro...      1164   \n",
       "1            265  With the same humor and humanity he exuded in ...       977   \n",
       "2            124  New York Times columnist David Pogue takes aim...      1286   \n",
       "3            200  In an emotionally charged talk, MacArthur-winn...      1116   \n",
       "4            593  You've never seen data presented like this. Wi...      1190   \n",
       "\n",
       "     event  languages   main_speaker  \\\n",
       "0  TED2006         60   Ken Robinson   \n",
       "1  TED2006         43        Al Gore   \n",
       "2  TED2006         26    David Pogue   \n",
       "3  TED2006         35  Majora Carter   \n",
       "4  TED2006         48   Hans Rosling   \n",
       "\n",
       "                                            name  num_speaker  \\\n",
       "0      Ken Robinson: Do schools kill creativity?            1   \n",
       "1           Al Gore: Averting the climate crisis            1   \n",
       "2                  David Pogue: Simplicity sells            1   \n",
       "3             Majora Carter: Greening the ghetto            1   \n",
       "4  Hans Rosling: The best stats you've ever seen            1   \n",
       "\n",
       "                                             ratings  \\\n",
       "0  [{'id': 7, 'name': 'Funny', 'count': 19645}, {...   \n",
       "1  [{'id': 7, 'name': 'Funny', 'count': 544}, {'i...   \n",
       "2  [{'id': 7, 'name': 'Funny', 'count': 964}, {'i...   \n",
       "3  [{'id': 3, 'name': 'Courageous', 'count': 760}...   \n",
       "4  [{'id': 9, 'name': 'Ingenious', 'count': 3202}...   \n",
       "\n",
       "                                       related_talks  ... view_count  \\\n",
       "0  [{'id': 865, 'hero': 'https://pe.tedcdn.com/im...  ...   47227110   \n",
       "1  [{'id': 243, 'hero': 'https://pe.tedcdn.com/im...  ...    3200520   \n",
       "2  [{'id': 1725, 'hero': 'https://pe.tedcdn.com/i...  ...    1636292   \n",
       "3  [{'id': 1041, 'hero': 'https://pe.tedcdn.com/i...  ...    1697550   \n",
       "4  [{'id': 2056, 'hero': 'https://pe.tedcdn.com/i...  ...   12005869   \n",
       "\n",
       "  filming_date    publication_date event_year  \\\n",
       "0   2006-02-25 2006-06-27 00:11:00       2006   \n",
       "1   2006-02-25 2006-06-27 00:11:00       2006   \n",
       "2   2006-02-24 2006-06-27 00:11:00       2006   \n",
       "3   2006-02-26 2006-06-27 00:11:00       2006   \n",
       "4   2006-02-22 2006-06-27 20:38:00       2006   \n",
       "\n",
       "                                        ratings_list  \\\n",
       "0  [{'id': 7, 'name': 'Funny', 'count': 19645}, {...   \n",
       "1  [{'id': 7, 'name': 'Funny', 'count': 544}, {'i...   \n",
       "2  [{'id': 7, 'name': 'Funny', 'count': 964}, {'i...   \n",
       "3  [{'id': 3, 'name': 'Courageous', 'count': 760}...   \n",
       "4  [{'id': 9, 'name': 'Ingenious', 'count': 3202}...   \n",
       "\n",
       "                               top3_ratings  \\\n",
       "0            (Inspiring, Funny, Persuasive)   \n",
       "1           (Funny, Informative, Inspiring)   \n",
       "2           (Funny, Informative, Inspiring)   \n",
       "3       (Inspiring, Courageous, Persuasive)   \n",
       "4  (Informative, Fascinating, Jaw-dropping)   \n",
       "\n",
       "                                   rating_categories  pos_ratings neg_ratings  \\\n",
       "0  [Funny, Beautiful, Ingenious, Courageous, Long...        91538        1138   \n",
       "1  [Funny, Courageous, Confusing, Beautiful, Unco...         2169         564   \n",
       "2  [Funny, Courageous, Ingenious, Beautiful, Unco...         2327         351   \n",
       "3  [Courageous, Beautiful, Confusing, Funny, Inge...         3487         156   \n",
       "4  [Ingenious, Funny, Beautiful, Courageous, Long...        25062         310   \n",
       "\n",
       "  neutral_ratings  \n",
       "0            1174  \n",
       "1             203  \n",
       "2             146  \n",
       "3              85  \n",
       "4             248  \n",
       "\n",
       "[5 rows x 24 columns]"
      ]
     },
     "execution_count": 62,
     "metadata": {},
     "output_type": "execute_result"
    }
   ],
   "source": [
    "ted.head()"
   ]
  },
  {
   "cell_type": "markdown",
   "metadata": {},
   "source": [
    "### Task 3.4 Find speakers with the highest average number of positive ratings per talk"
   ]
  },
  {
   "cell_type": "markdown",
   "metadata": {},
   "source": [
    "We need to group talks based on the 'main_speaker' column and, for each group, compute mean value of the pos_ratings column"
   ]
  },
  {
   "cell_type": "code",
   "execution_count": 63,
   "metadata": {},
   "outputs": [],
   "source": [
    "avg_pos_rating_per_speaker = ted.groupby('main_speaker').pos_ratings.mean()"
   ]
  },
  {
   "cell_type": "code",
   "execution_count": 64,
   "metadata": {},
   "outputs": [
    {
     "data": {
      "text/plain": [
       "main_speaker\n",
       "Jill Bolte Taylor    68436.00\n",
       "Amy Cuddy            63814.00\n",
       "Steve Jobs           36664.00\n",
       "Brené Brown          36572.00\n",
       "Simon Sinek          34960.00\n",
       "Ken Robinson         32784.25\n",
       "Shawn Achor          31692.00\n",
       "Susan Cain           29095.00\n",
       "Pranav Mistry        26292.00\n",
       "Guy Winch            24204.00\n",
       "Name: pos_ratings, dtype: float64"
      ]
     },
     "execution_count": 64,
     "metadata": {},
     "output_type": "execute_result"
    }
   ],
   "source": [
    "avg_pos_rating_per_speaker.sort_values(ascending=False).head(10)"
   ]
  },
  {
   "cell_type": "markdown",
   "metadata": {},
   "source": [
    "To answer this more thoroughly, we'll consider also the number of talks that a speaker gave"
   ]
  },
  {
   "cell_type": "code",
   "execution_count": 65,
   "metadata": {},
   "outputs": [
    {
     "data": {
      "text/html": [
       "<div>\n",
       "<style scoped>\n",
       "    .dataframe tbody tr th:only-of-type {\n",
       "        vertical-align: middle;\n",
       "    }\n",
       "\n",
       "    .dataframe tbody tr th {\n",
       "        vertical-align: top;\n",
       "    }\n",
       "\n",
       "    .dataframe thead th {\n",
       "        text-align: right;\n",
       "    }\n",
       "</style>\n",
       "<table border=\"1\" class=\"dataframe\">\n",
       "  <thead>\n",
       "    <tr style=\"text-align: right;\">\n",
       "      <th></th>\n",
       "      <th>mean</th>\n",
       "      <th>count</th>\n",
       "    </tr>\n",
       "    <tr>\n",
       "      <th>main_speaker</th>\n",
       "      <th></th>\n",
       "      <th></th>\n",
       "    </tr>\n",
       "  </thead>\n",
       "  <tbody>\n",
       "    <tr>\n",
       "      <th>OK Go</th>\n",
       "      <td>1361.0</td>\n",
       "      <td>1</td>\n",
       "    </tr>\n",
       "    <tr>\n",
       "      <th>Rodrigo y Gabriela</th>\n",
       "      <td>1103.0</td>\n",
       "      <td>1</td>\n",
       "    </tr>\n",
       "    <tr>\n",
       "      <th>Silk Road Ensemble</th>\n",
       "      <td>149.0</td>\n",
       "      <td>1</td>\n",
       "    </tr>\n",
       "    <tr>\n",
       "      <th>Sofi Tukker</th>\n",
       "      <td>135.0</td>\n",
       "      <td>1</td>\n",
       "    </tr>\n",
       "    <tr>\n",
       "      <th>AJ Jacobs</th>\n",
       "      <td>1705.0</td>\n",
       "      <td>3</td>\n",
       "    </tr>\n",
       "    <tr>\n",
       "      <th>Aakash Odedra</th>\n",
       "      <td>752.0</td>\n",
       "      <td>1</td>\n",
       "    </tr>\n",
       "    <tr>\n",
       "      <th>Aala El-Khani</th>\n",
       "      <td>690.0</td>\n",
       "      <td>1</td>\n",
       "    </tr>\n",
       "  </tbody>\n",
       "</table>\n",
       "</div>"
      ],
      "text/plain": [
       "                       mean  count\n",
       "main_speaker                      \n",
       " OK Go               1361.0      1\n",
       " Rodrigo y Gabriela  1103.0      1\n",
       " Silk Road Ensemble   149.0      1\n",
       " Sofi Tukker          135.0      1\n",
       "AJ Jacobs            1705.0      3\n",
       "Aakash Odedra         752.0      1\n",
       "Aala El-Khani         690.0      1"
      ]
     },
     "execution_count": 65,
     "metadata": {},
     "output_type": "execute_result"
    }
   ],
   "source": [
    "avg_pos_rating_per_speaker = ted.groupby('main_speaker').pos_ratings.agg(['mean', 'count'])\n",
    "avg_pos_rating_per_speaker.head(7)"
   ]
  },
  {
   "cell_type": "code",
   "execution_count": 66,
   "metadata": {},
   "outputs": [
    {
     "data": {
      "text/html": [
       "<div>\n",
       "<style scoped>\n",
       "    .dataframe tbody tr th:only-of-type {\n",
       "        vertical-align: middle;\n",
       "    }\n",
       "\n",
       "    .dataframe tbody tr th {\n",
       "        vertical-align: top;\n",
       "    }\n",
       "\n",
       "    .dataframe thead th {\n",
       "        text-align: right;\n",
       "    }\n",
       "</style>\n",
       "<table border=\"1\" class=\"dataframe\">\n",
       "  <thead>\n",
       "    <tr style=\"text-align: right;\">\n",
       "      <th></th>\n",
       "      <th>avg_pos_rating</th>\n",
       "      <th>talk_count</th>\n",
       "    </tr>\n",
       "    <tr>\n",
       "      <th>main_speaker</th>\n",
       "      <th></th>\n",
       "      <th></th>\n",
       "    </tr>\n",
       "  </thead>\n",
       "  <tbody>\n",
       "    <tr>\n",
       "      <th>Jill Bolte Taylor</th>\n",
       "      <td>68436.00</td>\n",
       "      <td>1</td>\n",
       "    </tr>\n",
       "    <tr>\n",
       "      <th>Amy Cuddy</th>\n",
       "      <td>63814.00</td>\n",
       "      <td>1</td>\n",
       "    </tr>\n",
       "    <tr>\n",
       "      <th>Steve Jobs</th>\n",
       "      <td>36664.00</td>\n",
       "      <td>1</td>\n",
       "    </tr>\n",
       "    <tr>\n",
       "      <th>Brené Brown</th>\n",
       "      <td>36572.00</td>\n",
       "      <td>2</td>\n",
       "    </tr>\n",
       "    <tr>\n",
       "      <th>Simon Sinek</th>\n",
       "      <td>34960.00</td>\n",
       "      <td>2</td>\n",
       "    </tr>\n",
       "    <tr>\n",
       "      <th>Ken Robinson</th>\n",
       "      <td>32784.25</td>\n",
       "      <td>4</td>\n",
       "    </tr>\n",
       "    <tr>\n",
       "      <th>Shawn Achor</th>\n",
       "      <td>31692.00</td>\n",
       "      <td>1</td>\n",
       "    </tr>\n",
       "    <tr>\n",
       "      <th>Susan Cain</th>\n",
       "      <td>29095.00</td>\n",
       "      <td>1</td>\n",
       "    </tr>\n",
       "    <tr>\n",
       "      <th>Pranav Mistry</th>\n",
       "      <td>26292.00</td>\n",
       "      <td>1</td>\n",
       "    </tr>\n",
       "    <tr>\n",
       "      <th>Guy Winch</th>\n",
       "      <td>24204.00</td>\n",
       "      <td>1</td>\n",
       "    </tr>\n",
       "  </tbody>\n",
       "</table>\n",
       "</div>"
      ],
      "text/plain": [
       "                   avg_pos_rating  talk_count\n",
       "main_speaker                                 \n",
       "Jill Bolte Taylor        68436.00           1\n",
       "Amy Cuddy                63814.00           1\n",
       "Steve Jobs               36664.00           1\n",
       "Brené Brown              36572.00           2\n",
       "Simon Sinek              34960.00           2\n",
       "Ken Robinson             32784.25           4\n",
       "Shawn Achor              31692.00           1\n",
       "Susan Cain               29095.00           1\n",
       "Pranav Mistry            26292.00           1\n",
       "Guy Winch                24204.00           1"
      ]
     },
     "execution_count": 66,
     "metadata": {},
     "output_type": "execute_result"
    }
   ],
   "source": [
    "avg_pos_rating_per_speaker.columns = ['avg_pos_rating', 'talk_count']\n",
    "avg_pos_rating_per_speaker.sort_values(by='avg_pos_rating', ascending=False).head(10)"
   ]
  },
  {
   "cell_type": "markdown",
   "metadata": {},
   "source": [
    "Identify the top 10 speakers among those who gave more than 1 talk"
   ]
  },
  {
   "cell_type": "code",
   "execution_count": 67,
   "metadata": {},
   "outputs": [
    {
     "data": {
      "text/html": [
       "<div>\n",
       "<style scoped>\n",
       "    .dataframe tbody tr th:only-of-type {\n",
       "        vertical-align: middle;\n",
       "    }\n",
       "\n",
       "    .dataframe tbody tr th {\n",
       "        vertical-align: top;\n",
       "    }\n",
       "\n",
       "    .dataframe thead th {\n",
       "        text-align: right;\n",
       "    }\n",
       "</style>\n",
       "<table border=\"1\" class=\"dataframe\">\n",
       "  <thead>\n",
       "    <tr style=\"text-align: right;\">\n",
       "      <th></th>\n",
       "      <th>avg_pos_rating</th>\n",
       "      <th>talk_count</th>\n",
       "    </tr>\n",
       "    <tr>\n",
       "      <th>main_speaker</th>\n",
       "      <th></th>\n",
       "      <th></th>\n",
       "    </tr>\n",
       "  </thead>\n",
       "  <tbody>\n",
       "    <tr>\n",
       "      <th>Brené Brown</th>\n",
       "      <td>36572.000000</td>\n",
       "      <td>2</td>\n",
       "    </tr>\n",
       "    <tr>\n",
       "      <th>Simon Sinek</th>\n",
       "      <td>34960.000000</td>\n",
       "      <td>2</td>\n",
       "    </tr>\n",
       "    <tr>\n",
       "      <th>Ken Robinson</th>\n",
       "      <td>32784.250000</td>\n",
       "      <td>4</td>\n",
       "    </tr>\n",
       "    <tr>\n",
       "      <th>Chimamanda Ngozi Adichie</th>\n",
       "      <td>15429.000000</td>\n",
       "      <td>2</td>\n",
       "    </tr>\n",
       "    <tr>\n",
       "      <th>Elizabeth Gilbert</th>\n",
       "      <td>14049.500000</td>\n",
       "      <td>2</td>\n",
       "    </tr>\n",
       "    <tr>\n",
       "      <th>David Gallo</th>\n",
       "      <td>10895.333333</td>\n",
       "      <td>3</td>\n",
       "    </tr>\n",
       "    <tr>\n",
       "      <th>Esther Perel</th>\n",
       "      <td>9948.500000</td>\n",
       "      <td>2</td>\n",
       "    </tr>\n",
       "    <tr>\n",
       "      <th>Dan Gilbert</th>\n",
       "      <td>9529.000000</td>\n",
       "      <td>3</td>\n",
       "    </tr>\n",
       "    <tr>\n",
       "      <th>Andrew Solomon</th>\n",
       "      <td>9261.666667</td>\n",
       "      <td>3</td>\n",
       "    </tr>\n",
       "    <tr>\n",
       "      <th>Sarah Kay</th>\n",
       "      <td>8997.500000</td>\n",
       "      <td>2</td>\n",
       "    </tr>\n",
       "  </tbody>\n",
       "</table>\n",
       "</div>"
      ],
      "text/plain": [
       "                          avg_pos_rating  talk_count\n",
       "main_speaker                                        \n",
       "Brené Brown                 36572.000000           2\n",
       "Simon Sinek                 34960.000000           2\n",
       "Ken Robinson                32784.250000           4\n",
       "Chimamanda Ngozi Adichie    15429.000000           2\n",
       "Elizabeth Gilbert           14049.500000           2\n",
       "David Gallo                 10895.333333           3\n",
       "Esther Perel                 9948.500000           2\n",
       "Dan Gilbert                  9529.000000           3\n",
       "Andrew Solomon               9261.666667           3\n",
       "Sarah Kay                    8997.500000           2"
      ]
     },
     "execution_count": 67,
     "metadata": {},
     "output_type": "execute_result"
    }
   ],
   "source": [
    "freq_speakers = avg_pos_rating_per_speaker.loc[avg_pos_rating_per_speaker.talk_count > 1]\n",
    "freq_speakers.sort_values(by='avg_pos_rating', ascending=False).head(10)"
   ]
  },
  {
   "cell_type": "markdown",
   "metadata": {},
   "source": [
    "### Task 3.5 Identify 10 speakers with the largest proportion of negative ratings "
   ]
  },
  {
   "cell_type": "markdown",
   "metadata": {},
   "source": [
    "Start by computing the proportion of negative ratings for all the talks"
   ]
  },
  {
   "cell_type": "code",
   "execution_count": 68,
   "metadata": {},
   "outputs": [],
   "source": [
    "ted['prop_neg_ratings'] = ted.neg_ratings / (ted.neg_ratings + ted.pos_ratings + ted.neutral_ratings)"
   ]
  },
  {
   "cell_type": "markdown",
   "metadata": {},
   "source": [
    "Group talks by the main_speaker and, for each group (that is, speaker), compute the average proportion of negative ratings and number of talks"
   ]
  },
  {
   "cell_type": "code",
   "execution_count": 69,
   "metadata": {},
   "outputs": [
    {
     "data": {
      "text/html": [
       "<div>\n",
       "<style scoped>\n",
       "    .dataframe tbody tr th:only-of-type {\n",
       "        vertical-align: middle;\n",
       "    }\n",
       "\n",
       "    .dataframe tbody tr th {\n",
       "        vertical-align: top;\n",
       "    }\n",
       "\n",
       "    .dataframe thead th {\n",
       "        text-align: right;\n",
       "    }\n",
       "</style>\n",
       "<table border=\"1\" class=\"dataframe\">\n",
       "  <thead>\n",
       "    <tr style=\"text-align: right;\">\n",
       "      <th></th>\n",
       "      <th>mean</th>\n",
       "      <th>count</th>\n",
       "    </tr>\n",
       "    <tr>\n",
       "      <th>main_speaker</th>\n",
       "      <th></th>\n",
       "      <th></th>\n",
       "    </tr>\n",
       "  </thead>\n",
       "  <tbody>\n",
       "    <tr>\n",
       "      <th>Abigail Marsh</th>\n",
       "      <td>0.023485</td>\n",
       "      <td>1</td>\n",
       "    </tr>\n",
       "    <tr>\n",
       "      <th>Karima Bennoune</th>\n",
       "      <td>0.045285</td>\n",
       "      <td>1</td>\n",
       "    </tr>\n",
       "    <tr>\n",
       "      <th>Rory Stewart</th>\n",
       "      <td>0.125959</td>\n",
       "      <td>2</td>\n",
       "    </tr>\n",
       "    <tr>\n",
       "      <th>J.D. Vance</th>\n",
       "      <td>0.020422</td>\n",
       "      <td>1</td>\n",
       "    </tr>\n",
       "    <tr>\n",
       "      <th>Yuval Noah Harari</th>\n",
       "      <td>0.043560</td>\n",
       "      <td>2</td>\n",
       "    </tr>\n",
       "    <tr>\n",
       "      <th>Michael Dickinson</th>\n",
       "      <td>0.029477</td>\n",
       "      <td>1</td>\n",
       "    </tr>\n",
       "    <tr>\n",
       "      <th>Temple Grandin</th>\n",
       "      <td>0.018203</td>\n",
       "      <td>1</td>\n",
       "    </tr>\n",
       "    <tr>\n",
       "      <th>Jacek Utko</th>\n",
       "      <td>0.053691</td>\n",
       "      <td>1</td>\n",
       "    </tr>\n",
       "    <tr>\n",
       "      <th>Marc Pachter</th>\n",
       "      <td>0.167062</td>\n",
       "      <td>1</td>\n",
       "    </tr>\n",
       "    <tr>\n",
       "      <th>Cary Fowler</th>\n",
       "      <td>0.056204</td>\n",
       "      <td>1</td>\n",
       "    </tr>\n",
       "  </tbody>\n",
       "</table>\n",
       "</div>"
      ],
      "text/plain": [
       "                       mean  count\n",
       "main_speaker                      \n",
       "Abigail Marsh      0.023485      1\n",
       "Karima Bennoune    0.045285      1\n",
       "Rory Stewart       0.125959      2\n",
       "J.D. Vance         0.020422      1\n",
       "Yuval Noah Harari  0.043560      2\n",
       "Michael Dickinson  0.029477      1\n",
       "Temple Grandin     0.018203      1\n",
       "Jacek Utko         0.053691      1\n",
       "Marc Pachter       0.167062      1\n",
       "Cary Fowler        0.056204      1"
      ]
     },
     "execution_count": 69,
     "metadata": {},
     "output_type": "execute_result"
    }
   ],
   "source": [
    "prop_neg_rating_per_speaker = ted.groupby('main_speaker').prop_neg_ratings.agg(['mean', 'count'])\n",
    "prop_neg_rating_per_speaker.sample(10)"
   ]
  },
  {
   "cell_type": "code",
   "execution_count": 70,
   "metadata": {},
   "outputs": [
    {
     "data": {
      "text/html": [
       "<div>\n",
       "<style scoped>\n",
       "    .dataframe tbody tr th:only-of-type {\n",
       "        vertical-align: middle;\n",
       "    }\n",
       "\n",
       "    .dataframe tbody tr th {\n",
       "        vertical-align: top;\n",
       "    }\n",
       "\n",
       "    .dataframe thead th {\n",
       "        text-align: right;\n",
       "    }\n",
       "</style>\n",
       "<table border=\"1\" class=\"dataframe\">\n",
       "  <thead>\n",
       "    <tr style=\"text-align: right;\">\n",
       "      <th></th>\n",
       "      <th>avg_prop_neg_ratings</th>\n",
       "      <th>talk_count</th>\n",
       "    </tr>\n",
       "    <tr>\n",
       "      <th>main_speaker</th>\n",
       "      <th></th>\n",
       "      <th></th>\n",
       "    </tr>\n",
       "  </thead>\n",
       "  <tbody>\n",
       "    <tr>\n",
       "      <th>Daniel Libeskind</th>\n",
       "      <td>0.777190</td>\n",
       "      <td>1</td>\n",
       "    </tr>\n",
       "    <tr>\n",
       "      <th>Richard Ledgett</th>\n",
       "      <td>0.617466</td>\n",
       "      <td>1</td>\n",
       "    </tr>\n",
       "    <tr>\n",
       "      <th>Elaine Morgan</th>\n",
       "      <td>0.565419</td>\n",
       "      <td>1</td>\n",
       "    </tr>\n",
       "    <tr>\n",
       "      <th>Kelli Jean Drinkwater</th>\n",
       "      <td>0.528774</td>\n",
       "      <td>1</td>\n",
       "    </tr>\n",
       "    <tr>\n",
       "      <th>Romina Libster</th>\n",
       "      <td>0.514821</td>\n",
       "      <td>1</td>\n",
       "    </tr>\n",
       "    <tr>\n",
       "      <th>David Rockwell</th>\n",
       "      <td>0.481481</td>\n",
       "      <td>1</td>\n",
       "    </tr>\n",
       "    <tr>\n",
       "      <th>Kwame Anthony Appiah</th>\n",
       "      <td>0.475742</td>\n",
       "      <td>1</td>\n",
       "    </tr>\n",
       "    <tr>\n",
       "      <th>Kim Gorgens</th>\n",
       "      <td>0.474153</td>\n",
       "      <td>1</td>\n",
       "    </tr>\n",
       "    <tr>\n",
       "      <th>David Camarillo</th>\n",
       "      <td>0.466254</td>\n",
       "      <td>1</td>\n",
       "    </tr>\n",
       "    <tr>\n",
       "      <th>Patrícia Medici</th>\n",
       "      <td>0.465974</td>\n",
       "      <td>1</td>\n",
       "    </tr>\n",
       "  </tbody>\n",
       "</table>\n",
       "</div>"
      ],
      "text/plain": [
       "                       avg_prop_neg_ratings  talk_count\n",
       "main_speaker                                           \n",
       "Daniel Libeskind                   0.777190           1\n",
       "Richard Ledgett                    0.617466           1\n",
       "Elaine Morgan                      0.565419           1\n",
       "Kelli Jean Drinkwater              0.528774           1\n",
       "Romina Libster                     0.514821           1\n",
       "David Rockwell                     0.481481           1\n",
       "Kwame Anthony Appiah               0.475742           1\n",
       "Kim Gorgens                        0.474153           1\n",
       "David Camarillo                    0.466254           1\n",
       "Patrícia Medici                    0.465974           1"
      ]
     },
     "execution_count": 70,
     "metadata": {},
     "output_type": "execute_result"
    }
   ],
   "source": [
    "prop_neg_rating_per_speaker.columns = ['avg_prop_neg_ratings', 'talk_count']\n",
    "prop_neg_rating_per_speaker.sort_values(by='avg_prop_neg_ratings', ascending=False).head(10)"
   ]
  },
  {
   "cell_type": "markdown",
   "metadata": {},
   "source": [
    "Maybe those with one talk just had a bad day or were not experienced enough... \n",
    "So, let's focus on speakers with 3+ talks"
   ]
  },
  {
   "cell_type": "code",
   "execution_count": 71,
   "metadata": {},
   "outputs": [
    {
     "data": {
      "text/html": [
       "<div>\n",
       "<style scoped>\n",
       "    .dataframe tbody tr th:only-of-type {\n",
       "        vertical-align: middle;\n",
       "    }\n",
       "\n",
       "    .dataframe tbody tr th {\n",
       "        vertical-align: top;\n",
       "    }\n",
       "\n",
       "    .dataframe thead th {\n",
       "        text-align: right;\n",
       "    }\n",
       "</style>\n",
       "<table border=\"1\" class=\"dataframe\">\n",
       "  <thead>\n",
       "    <tr style=\"text-align: right;\">\n",
       "      <th></th>\n",
       "      <th>avg_prop_neg_ratings</th>\n",
       "      <th>talk_count</th>\n",
       "    </tr>\n",
       "    <tr>\n",
       "      <th>main_speaker</th>\n",
       "      <th></th>\n",
       "      <th></th>\n",
       "    </tr>\n",
       "  </thead>\n",
       "  <tbody>\n",
       "    <tr>\n",
       "      <th>Stewart Brand</th>\n",
       "      <td>0.246676</td>\n",
       "      <td>4</td>\n",
       "    </tr>\n",
       "    <tr>\n",
       "      <th>David Pogue</th>\n",
       "      <td>0.159982</td>\n",
       "      <td>4</td>\n",
       "    </tr>\n",
       "    <tr>\n",
       "      <th>Dan Dennett</th>\n",
       "      <td>0.137846</td>\n",
       "      <td>4</td>\n",
       "    </tr>\n",
       "    <tr>\n",
       "      <th>Kevin Kelly</th>\n",
       "      <td>0.136803</td>\n",
       "      <td>4</td>\n",
       "    </tr>\n",
       "    <tr>\n",
       "      <th>Stefan Sagmeister</th>\n",
       "      <td>0.134185</td>\n",
       "      <td>4</td>\n",
       "    </tr>\n",
       "    <tr>\n",
       "      <th>Al Gore</th>\n",
       "      <td>0.127600</td>\n",
       "      <td>4</td>\n",
       "    </tr>\n",
       "    <tr>\n",
       "      <th>Jonathan Haidt</th>\n",
       "      <td>0.114306</td>\n",
       "      <td>4</td>\n",
       "    </tr>\n",
       "    <tr>\n",
       "      <th>Eve Ensler</th>\n",
       "      <td>0.099071</td>\n",
       "      <td>4</td>\n",
       "    </tr>\n",
       "    <tr>\n",
       "      <th>Lawrence Lessig</th>\n",
       "      <td>0.090681</td>\n",
       "      <td>4</td>\n",
       "    </tr>\n",
       "    <tr>\n",
       "      <th>Bill Gates</th>\n",
       "      <td>0.084608</td>\n",
       "      <td>5</td>\n",
       "    </tr>\n",
       "  </tbody>\n",
       "</table>\n",
       "</div>"
      ],
      "text/plain": [
       "                   avg_prop_neg_ratings  talk_count\n",
       "main_speaker                                       \n",
       "Stewart Brand                  0.246676           4\n",
       "David Pogue                    0.159982           4\n",
       "Dan Dennett                    0.137846           4\n",
       "Kevin Kelly                    0.136803           4\n",
       "Stefan Sagmeister              0.134185           4\n",
       "Al Gore                        0.127600           4\n",
       "Jonathan Haidt                 0.114306           4\n",
       "Eve Ensler                     0.099071           4\n",
       "Lawrence Lessig                0.090681           4\n",
       "Bill Gates                     0.084608           5"
      ]
     },
     "execution_count": 71,
     "metadata": {},
     "output_type": "execute_result"
    }
   ],
   "source": [
    "neg_rating_freq_speaker = prop_neg_rating_per_speaker[prop_neg_rating_per_speaker.talk_count > 3]\n",
    "neg_rating_freq_speaker.sort_values(by='avg_prop_neg_ratings', ascending=False).head(10)"
   ]
  },
  {
   "cell_type": "markdown",
   "metadata": {},
   "source": [
    "It seems that those who gave more talks have lower proportion of negative ratings "
   ]
  },
  {
   "cell_type": "markdown",
   "metadata": {},
   "source": [
    "### Task 3.6 Which occupations deliver the funniest TED talks on average?\n",
    "\n",
    "(Consider also how well represented occupations are)"
   ]
  },
  {
   "cell_type": "markdown",
   "metadata": {},
   "source": [
    "We'll start by computing the number of Funny ratings per talk and storing the results in the (new) column 'funny_counts'"
   ]
  },
  {
   "cell_type": "code",
   "execution_count": 72,
   "metadata": {},
   "outputs": [],
   "source": [
    "def funny_counts(ratings):\n",
    "    for r in ratings:\n",
    "        if r['name'] == 'Funny':\n",
    "            return r['count']\n",
    "    return 0\n",
    "    \n",
    "ted['funny_counts'] = ted.ratings_list.apply(funny_counts)"
   ]
  },
  {
   "cell_type": "code",
   "execution_count": 73,
   "metadata": {},
   "outputs": [
    {
     "data": {
      "text/html": [
       "<div>\n",
       "<style scoped>\n",
       "    .dataframe tbody tr th:only-of-type {\n",
       "        vertical-align: middle;\n",
       "    }\n",
       "\n",
       "    .dataframe tbody tr th {\n",
       "        vertical-align: top;\n",
       "    }\n",
       "\n",
       "    .dataframe thead th {\n",
       "        text-align: right;\n",
       "    }\n",
       "</style>\n",
       "<table border=\"1\" class=\"dataframe\">\n",
       "  <thead>\n",
       "    <tr style=\"text-align: right;\">\n",
       "      <th></th>\n",
       "      <th>ratings_list</th>\n",
       "      <th>funny_counts</th>\n",
       "    </tr>\n",
       "  </thead>\n",
       "  <tbody>\n",
       "    <tr>\n",
       "      <th>0</th>\n",
       "      <td>[{'id': 7, 'name': 'Funny', 'count': 19645}, {...</td>\n",
       "      <td>19645</td>\n",
       "    </tr>\n",
       "    <tr>\n",
       "      <th>1</th>\n",
       "      <td>[{'id': 7, 'name': 'Funny', 'count': 544}, {'i...</td>\n",
       "      <td>544</td>\n",
       "    </tr>\n",
       "    <tr>\n",
       "      <th>2</th>\n",
       "      <td>[{'id': 7, 'name': 'Funny', 'count': 964}, {'i...</td>\n",
       "      <td>964</td>\n",
       "    </tr>\n",
       "    <tr>\n",
       "      <th>3</th>\n",
       "      <td>[{'id': 3, 'name': 'Courageous', 'count': 760}...</td>\n",
       "      <td>59</td>\n",
       "    </tr>\n",
       "  </tbody>\n",
       "</table>\n",
       "</div>"
      ],
      "text/plain": [
       "                                        ratings_list  funny_counts\n",
       "0  [{'id': 7, 'name': 'Funny', 'count': 19645}, {...         19645\n",
       "1  [{'id': 7, 'name': 'Funny', 'count': 544}, {'i...           544\n",
       "2  [{'id': 7, 'name': 'Funny', 'count': 964}, {'i...           964\n",
       "3  [{'id': 3, 'name': 'Courageous', 'count': 760}...            59"
      ]
     },
     "execution_count": 73,
     "metadata": {},
     "output_type": "execute_result"
    }
   ],
   "source": [
    "ted.loc[:,['ratings_list', 'funny_counts']].head(4)"
   ]
  },
  {
   "cell_type": "markdown",
   "metadata": {},
   "source": [
    "This may be fine, but absolute values tend to be misleading - it is often better to take relative values, that is, proportions. <br>\n",
    "Therefore, instead of considering the funniest those talk with the highest absolute values of Funny ratings, better choose talks with the highest proportion of Funny ratings.  "
   ]
  },
  {
   "cell_type": "code",
   "execution_count": 74,
   "metadata": {},
   "outputs": [],
   "source": [
    "def funny_ratings_prop(ratings_list):\n",
    "    funny_ratings_cnt = 0\n",
    "    ratings_total = 0\n",
    "    for rating_dict in ratings_list:\n",
    "        ratings_total += rating_dict['count']\n",
    "        if rating_dict['name'] == 'Funny': funny_ratings_cnt += rating_dict['count']\n",
    "    return funny_ratings_cnt/ratings_total"
   ]
  },
  {
   "cell_type": "code",
   "execution_count": 75,
   "metadata": {},
   "outputs": [
    {
     "data": {
      "text/plain": [
       "0    0.209323\n",
       "1    0.185286\n",
       "2    0.341360\n",
       "3    0.015826\n",
       "4    0.054254\n",
       "Name: funny_prop, dtype: float64"
      ]
     },
     "execution_count": 75,
     "metadata": {},
     "output_type": "execute_result"
    }
   ],
   "source": [
    "ted['funny_prop'] = ted.ratings_list.apply(funny_ratings_prop)\n",
    "ted['funny_prop'].head()"
   ]
  },
  {
   "cell_type": "markdown",
   "metadata": {},
   "source": [
    "Let's examine absolute and relative counts of the top 10 fanniest talks based on the absolute counts. <br>(the idea is to see the difference of absolute vs relative counts)"
   ]
  },
  {
   "cell_type": "code",
   "execution_count": 76,
   "metadata": {},
   "outputs": [
    {
     "data": {
      "text/html": [
       "<div>\n",
       "<style scoped>\n",
       "    .dataframe tbody tr th:only-of-type {\n",
       "        vertical-align: middle;\n",
       "    }\n",
       "\n",
       "    .dataframe tbody tr th {\n",
       "        vertical-align: top;\n",
       "    }\n",
       "\n",
       "    .dataframe thead th {\n",
       "        text-align: right;\n",
       "    }\n",
       "</style>\n",
       "<table border=\"1\" class=\"dataframe\">\n",
       "  <thead>\n",
       "    <tr style=\"text-align: right;\">\n",
       "      <th></th>\n",
       "      <th>funny_counts</th>\n",
       "      <th>funny_prop</th>\n",
       "    </tr>\n",
       "  </thead>\n",
       "  <tbody>\n",
       "    <tr>\n",
       "      <th>0</th>\n",
       "      <td>19645</td>\n",
       "      <td>0.209323</td>\n",
       "    </tr>\n",
       "    <tr>\n",
       "      <th>2114</th>\n",
       "      <td>7731</td>\n",
       "      <td>0.625182</td>\n",
       "    </tr>\n",
       "    <tr>\n",
       "      <th>2161</th>\n",
       "      <td>7445</td>\n",
       "      <td>0.333722</td>\n",
       "    </tr>\n",
       "    <tr>\n",
       "      <th>1129</th>\n",
       "      <td>7315</td>\n",
       "      <td>0.227315</td>\n",
       "    </tr>\n",
       "    <tr>\n",
       "      <th>675</th>\n",
       "      <td>5552</td>\n",
       "      <td>0.527406</td>\n",
       "    </tr>\n",
       "    <tr>\n",
       "      <th>837</th>\n",
       "      <td>5225</td>\n",
       "      <td>0.086970</td>\n",
       "    </tr>\n",
       "    <tr>\n",
       "      <th>452</th>\n",
       "      <td>4166</td>\n",
       "      <td>0.369556</td>\n",
       "    </tr>\n",
       "    <tr>\n",
       "      <th>685</th>\n",
       "      <td>4025</td>\n",
       "      <td>0.702076</td>\n",
       "    </tr>\n",
       "    <tr>\n",
       "      <th>747</th>\n",
       "      <td>4013</td>\n",
       "      <td>0.630677</td>\n",
       "    </tr>\n",
       "    <tr>\n",
       "      <th>692</th>\n",
       "      <td>3000</td>\n",
       "      <td>0.139593</td>\n",
       "    </tr>\n",
       "  </tbody>\n",
       "</table>\n",
       "</div>"
      ],
      "text/plain": [
       "      funny_counts  funny_prop\n",
       "0            19645    0.209323\n",
       "2114          7731    0.625182\n",
       "2161          7445    0.333722\n",
       "1129          7315    0.227315\n",
       "675           5552    0.527406\n",
       "837           5225    0.086970\n",
       "452           4166    0.369556\n",
       "685           4025    0.702076\n",
       "747           4013    0.630677\n",
       "692           3000    0.139593"
      ]
     },
     "execution_count": 76,
     "metadata": {},
     "output_type": "execute_result"
    }
   ],
   "source": [
    "ted.loc[:, ['funny_counts', 'funny_prop']].sort_values(by='funny_counts', ascending=False).head(10)"
   ]
  },
  {
   "cell_type": "markdown",
   "metadata": {},
   "source": [
    "Next, do the grouping based on the speaker_occupation and compute, for each group (i.e., each occupation), average counts and proportions of Funny ratings"
   ]
  },
  {
   "cell_type": "code",
   "execution_count": 77,
   "metadata": {},
   "outputs": [
    {
     "data": {
      "text/html": [
       "<div>\n",
       "<style scoped>\n",
       "    .dataframe tbody tr th:only-of-type {\n",
       "        vertical-align: middle;\n",
       "    }\n",
       "\n",
       "    .dataframe tbody tr th {\n",
       "        vertical-align: top;\n",
       "    }\n",
       "\n",
       "    .dataframe thead th {\n",
       "        text-align: right;\n",
       "    }\n",
       "</style>\n",
       "<table border=\"1\" class=\"dataframe\">\n",
       "  <thead>\n",
       "    <tr style=\"text-align: right;\">\n",
       "      <th></th>\n",
       "      <th>funny_counts</th>\n",
       "      <th>funny_prop</th>\n",
       "    </tr>\n",
       "    <tr>\n",
       "      <th>speaker_occupation</th>\n",
       "      <th></th>\n",
       "      <th></th>\n",
       "    </tr>\n",
       "  </thead>\n",
       "  <tbody>\n",
       "    <tr>\n",
       "      <th>Chairman of the Cordoba Initiative</th>\n",
       "      <td>0.0</td>\n",
       "      <td>0.000000</td>\n",
       "    </tr>\n",
       "    <tr>\n",
       "      <th>Child protection leader, activist, author</th>\n",
       "      <td>1.0</td>\n",
       "      <td>0.002421</td>\n",
       "    </tr>\n",
       "    <tr>\n",
       "      <th>Robotics engineer</th>\n",
       "      <td>1.0</td>\n",
       "      <td>0.007353</td>\n",
       "    </tr>\n",
       "    <tr>\n",
       "      <th>Space physicist</th>\n",
       "      <td>19.0</td>\n",
       "      <td>0.015447</td>\n",
       "    </tr>\n",
       "    <tr>\n",
       "      <th>3D printer</th>\n",
       "      <td>18.0</td>\n",
       "      <td>0.007789</td>\n",
       "    </tr>\n",
       "    <tr>\n",
       "      <th>...</th>\n",
       "      <td>...</td>\n",
       "      <td>...</td>\n",
       "    </tr>\n",
       "    <tr>\n",
       "      <th>e-Patient</th>\n",
       "      <td>21.0</td>\n",
       "      <td>0.014374</td>\n",
       "    </tr>\n",
       "    <tr>\n",
       "      <th>inventor, engineer</th>\n",
       "      <td>21.0</td>\n",
       "      <td>0.011745</td>\n",
       "    </tr>\n",
       "    <tr>\n",
       "      <th>medical inventor</th>\n",
       "      <td>8.0</td>\n",
       "      <td>0.002993</td>\n",
       "    </tr>\n",
       "    <tr>\n",
       "      <th>photographer + visual artist</th>\n",
       "      <td>310.0</td>\n",
       "      <td>0.236461</td>\n",
       "    </tr>\n",
       "    <tr>\n",
       "      <th>physicist</th>\n",
       "      <td>13.0</td>\n",
       "      <td>0.017105</td>\n",
       "    </tr>\n",
       "  </tbody>\n",
       "</table>\n",
       "<p>1458 rows × 2 columns</p>\n",
       "</div>"
      ],
      "text/plain": [
       "                                             funny_counts  funny_prop\n",
       "speaker_occupation                                                   \n",
       " Chairman of the Cordoba Initiative                   0.0    0.000000\n",
       " Child protection leader, activist, author            1.0    0.002421\n",
       " Robotics engineer                                    1.0    0.007353\n",
       " Space physicist                                     19.0    0.015447\n",
       "3D printer                                           18.0    0.007789\n",
       "...                                                   ...         ...\n",
       "e-Patient                                            21.0    0.014374\n",
       "inventor, engineer                                   21.0    0.011745\n",
       "medical inventor                                      8.0    0.002993\n",
       "photographer + visual artist                        310.0    0.236461\n",
       "physicist                                            13.0    0.017105\n",
       "\n",
       "[1458 rows x 2 columns]"
      ]
     },
     "execution_count": 77,
     "metadata": {},
     "output_type": "execute_result"
    }
   ],
   "source": [
    "avg_fr_per_occupation = ted.groupby('speaker_occupation')[['funny_counts', 'funny_prop']].mean()\n",
    "avg_fr_per_occupation"
   ]
  },
  {
   "cell_type": "markdown",
   "metadata": {},
   "source": [
    "Take the top 10 occupations based on the average count of Funny ratings"
   ]
  },
  {
   "cell_type": "code",
   "execution_count": 78,
   "metadata": {},
   "outputs": [
    {
     "data": {
      "text/html": [
       "<div>\n",
       "<style scoped>\n",
       "    .dataframe tbody tr th:only-of-type {\n",
       "        vertical-align: middle;\n",
       "    }\n",
       "\n",
       "    .dataframe tbody tr th {\n",
       "        vertical-align: top;\n",
       "    }\n",
       "\n",
       "    .dataframe thead th {\n",
       "        text-align: right;\n",
       "    }\n",
       "</style>\n",
       "<table border=\"1\" class=\"dataframe\">\n",
       "  <thead>\n",
       "    <tr style=\"text-align: right;\">\n",
       "      <th></th>\n",
       "      <th>funny_counts</th>\n",
       "      <th>funny_prop</th>\n",
       "    </tr>\n",
       "    <tr>\n",
       "      <th>speaker_occupation</th>\n",
       "      <th></th>\n",
       "      <th></th>\n",
       "    </tr>\n",
       "  </thead>\n",
       "  <tbody>\n",
       "    <tr>\n",
       "      <th>Author/educator</th>\n",
       "      <td>6190.0</td>\n",
       "      <td>0.142086</td>\n",
       "    </tr>\n",
       "    <tr>\n",
       "      <th>Comedian and writer</th>\n",
       "      <td>4970.5</td>\n",
       "      <td>0.602085</td>\n",
       "    </tr>\n",
       "    <tr>\n",
       "      <th>Blogger</th>\n",
       "      <td>3773.0</td>\n",
       "      <td>0.196885</td>\n",
       "    </tr>\n",
       "    <tr>\n",
       "      <th>Actor, comedian, playwright</th>\n",
       "      <td>3254.5</td>\n",
       "      <td>0.558107</td>\n",
       "    </tr>\n",
       "    <tr>\n",
       "      <th>Vulnerability researcher</th>\n",
       "      <td>3088.0</td>\n",
       "      <td>0.075958</td>\n",
       "    </tr>\n",
       "    <tr>\n",
       "      <th>Comedian and writer</th>\n",
       "      <td>2779.0</td>\n",
       "      <td>0.256887</td>\n",
       "    </tr>\n",
       "    <tr>\n",
       "      <th>Professor of Economics, University of Waterloo</th>\n",
       "      <td>1960.0</td>\n",
       "      <td>0.152541</td>\n",
       "    </tr>\n",
       "    <tr>\n",
       "      <th>Gentleman thief</th>\n",
       "      <td>1864.0</td>\n",
       "      <td>0.242456</td>\n",
       "    </tr>\n",
       "    <tr>\n",
       "      <th>Author, blogger, entrepreneur</th>\n",
       "      <td>1856.0</td>\n",
       "      <td>0.193777</td>\n",
       "    </tr>\n",
       "    <tr>\n",
       "      <th>Comedian</th>\n",
       "      <td>1839.0</td>\n",
       "      <td>0.512457</td>\n",
       "    </tr>\n",
       "  </tbody>\n",
       "</table>\n",
       "</div>"
      ],
      "text/plain": [
       "                                                funny_counts  funny_prop\n",
       "speaker_occupation                                                      \n",
       "Author/educator                                       6190.0    0.142086\n",
       "Comedian and writer                                   4970.5    0.602085\n",
       "Blogger                                               3773.0    0.196885\n",
       "Actor, comedian, playwright                           3254.5    0.558107\n",
       "Vulnerability researcher                              3088.0    0.075958\n",
       "Comedian and writer                                   2779.0    0.256887\n",
       "Professor of Economics, University of Waterloo        1960.0    0.152541\n",
       "Gentleman thief                                       1864.0    0.242456\n",
       "Author, blogger, entrepreneur                         1856.0    0.193777\n",
       "Comedian                                              1839.0    0.512457"
      ]
     },
     "execution_count": 78,
     "metadata": {},
     "output_type": "execute_result"
    }
   ],
   "source": [
    "avg_fr_per_occupation.sort_values(by='funny_counts', ascending=False).head(10)"
   ]
  },
  {
   "cell_type": "markdown",
   "metadata": {},
   "source": [
    "Now, do the same, but using average proportion of Funny ratings as the criterion"
   ]
  },
  {
   "cell_type": "code",
   "execution_count": 79,
   "metadata": {},
   "outputs": [
    {
     "data": {
      "text/html": [
       "<div>\n",
       "<style scoped>\n",
       "    .dataframe tbody tr th:only-of-type {\n",
       "        vertical-align: middle;\n",
       "    }\n",
       "\n",
       "    .dataframe tbody tr th {\n",
       "        vertical-align: top;\n",
       "    }\n",
       "\n",
       "    .dataframe thead th {\n",
       "        text-align: right;\n",
       "    }\n",
       "</style>\n",
       "<table border=\"1\" class=\"dataframe\">\n",
       "  <thead>\n",
       "    <tr style=\"text-align: right;\">\n",
       "      <th></th>\n",
       "      <th>funny_counts</th>\n",
       "      <th>funny_prop</th>\n",
       "    </tr>\n",
       "    <tr>\n",
       "      <th>speaker_occupation</th>\n",
       "      <th></th>\n",
       "      <th></th>\n",
       "    </tr>\n",
       "  </thead>\n",
       "  <tbody>\n",
       "    <tr>\n",
       "      <th>Comedian and writer</th>\n",
       "      <td>4970.5</td>\n",
       "      <td>0.602085</td>\n",
       "    </tr>\n",
       "    <tr>\n",
       "      <th>Jugglers</th>\n",
       "      <td>1637.0</td>\n",
       "      <td>0.566828</td>\n",
       "    </tr>\n",
       "    <tr>\n",
       "      <th>Actor, comedian, playwright</th>\n",
       "      <td>3254.5</td>\n",
       "      <td>0.558107</td>\n",
       "    </tr>\n",
       "    <tr>\n",
       "      <th>Actor, writer</th>\n",
       "      <td>374.0</td>\n",
       "      <td>0.515152</td>\n",
       "    </tr>\n",
       "    <tr>\n",
       "      <th>Comedian</th>\n",
       "      <td>1839.0</td>\n",
       "      <td>0.512457</td>\n",
       "    </tr>\n",
       "    <tr>\n",
       "      <th>Satirist</th>\n",
       "      <td>600.0</td>\n",
       "      <td>0.512383</td>\n",
       "    </tr>\n",
       "    <tr>\n",
       "      <th>Cartoon editor</th>\n",
       "      <td>616.0</td>\n",
       "      <td>0.511628</td>\n",
       "    </tr>\n",
       "    <tr>\n",
       "      <th>Comedian, voice artist</th>\n",
       "      <td>782.0</td>\n",
       "      <td>0.503542</td>\n",
       "    </tr>\n",
       "    <tr>\n",
       "      <th>Social energy entrepreneur</th>\n",
       "      <td>1423.0</td>\n",
       "      <td>0.502117</td>\n",
       "    </tr>\n",
       "    <tr>\n",
       "      <th>Science humorist</th>\n",
       "      <td>934.0</td>\n",
       "      <td>0.468405</td>\n",
       "    </tr>\n",
       "  </tbody>\n",
       "</table>\n",
       "</div>"
      ],
      "text/plain": [
       "                             funny_counts  funny_prop\n",
       "speaker_occupation                                   \n",
       "Comedian and writer                4970.5    0.602085\n",
       "Jugglers                           1637.0    0.566828\n",
       "Actor, comedian, playwright        3254.5    0.558107\n",
       "Actor, writer                       374.0    0.515152\n",
       "Comedian                           1839.0    0.512457\n",
       "Satirist                            600.0    0.512383\n",
       "Cartoon editor                      616.0    0.511628\n",
       "Comedian, voice artist              782.0    0.503542\n",
       "Social energy entrepreneur         1423.0    0.502117\n",
       "Science humorist                    934.0    0.468405"
      ]
     },
     "execution_count": 79,
     "metadata": {},
     "output_type": "execute_result"
    }
   ],
   "source": [
    "avg_fr_per_occupation.sort_values(by='funny_prop', ascending=False).head(10)"
   ]
  },
  {
   "cell_type": "markdown",
   "metadata": {},
   "source": [
    "It seems that relative values serve as the better criterion for selecting occupations that delivered the funniest talks. So, we'll continue with the `funny_prop` values.\n",
    "\n",
    "Note that some occupations sound rather exotic and unique (e.g. \"Gentleman thief\", \"Science humorist\"). Let's also consider the frequency of different occupations "
   ]
  },
  {
   "cell_type": "code",
   "execution_count": 80,
   "metadata": {},
   "outputs": [
    {
     "data": {
      "text/html": [
       "<div>\n",
       "<style scoped>\n",
       "    .dataframe tbody tr th:only-of-type {\n",
       "        vertical-align: middle;\n",
       "    }\n",
       "\n",
       "    .dataframe tbody tr th {\n",
       "        vertical-align: top;\n",
       "    }\n",
       "\n",
       "    .dataframe thead th {\n",
       "        text-align: right;\n",
       "    }\n",
       "</style>\n",
       "<table border=\"1\" class=\"dataframe\">\n",
       "  <thead>\n",
       "    <tr style=\"text-align: right;\">\n",
       "      <th></th>\n",
       "      <th>mean</th>\n",
       "      <th>count</th>\n",
       "    </tr>\n",
       "    <tr>\n",
       "      <th>speaker_occupation</th>\n",
       "      <th></th>\n",
       "      <th></th>\n",
       "    </tr>\n",
       "  </thead>\n",
       "  <tbody>\n",
       "    <tr>\n",
       "      <th>Chairman of the Cordoba Initiative</th>\n",
       "      <td>0.000000</td>\n",
       "      <td>1</td>\n",
       "    </tr>\n",
       "    <tr>\n",
       "      <th>Child protection leader, activist, author</th>\n",
       "      <td>0.002421</td>\n",
       "      <td>1</td>\n",
       "    </tr>\n",
       "    <tr>\n",
       "      <th>Robotics engineer</th>\n",
       "      <td>0.007353</td>\n",
       "      <td>1</td>\n",
       "    </tr>\n",
       "    <tr>\n",
       "      <th>Space physicist</th>\n",
       "      <td>0.015447</td>\n",
       "      <td>1</td>\n",
       "    </tr>\n",
       "    <tr>\n",
       "      <th>3D printer</th>\n",
       "      <td>0.007789</td>\n",
       "      <td>1</td>\n",
       "    </tr>\n",
       "    <tr>\n",
       "      <th>3D printing entrepreneur</th>\n",
       "      <td>0.006599</td>\n",
       "      <td>1</td>\n",
       "    </tr>\n",
       "    <tr>\n",
       "      <th>9/11 mothers</th>\n",
       "      <td>0.001733</td>\n",
       "      <td>1</td>\n",
       "    </tr>\n",
       "    <tr>\n",
       "      <th>A capella ensemble</th>\n",
       "      <td>0.035811</td>\n",
       "      <td>1</td>\n",
       "    </tr>\n",
       "    <tr>\n",
       "      <th>AI expert</th>\n",
       "      <td>0.080183</td>\n",
       "      <td>2</td>\n",
       "    </tr>\n",
       "    <tr>\n",
       "      <th>AI pioneer</th>\n",
       "      <td>0.144628</td>\n",
       "      <td>1</td>\n",
       "    </tr>\n",
       "  </tbody>\n",
       "</table>\n",
       "</div>"
      ],
      "text/plain": [
       "                                                 mean  count\n",
       "speaker_occupation                                          \n",
       " Chairman of the Cordoba Initiative          0.000000      1\n",
       " Child protection leader, activist, author   0.002421      1\n",
       " Robotics engineer                           0.007353      1\n",
       " Space physicist                             0.015447      1\n",
       "3D printer                                   0.007789      1\n",
       "3D printing entrepreneur                     0.006599      1\n",
       "9/11 mothers                                 0.001733      1\n",
       "A capella ensemble                           0.035811      1\n",
       "AI expert                                    0.080183      2\n",
       "AI pioneer                                   0.144628      1"
      ]
     },
     "execution_count": 80,
     "metadata": {},
     "output_type": "execute_result"
    }
   ],
   "source": [
    "occupation_funny_ratings = ted.groupby('speaker_occupation').agg(['mean', 'count'])['funny_prop']\n",
    "occupation_funny_ratings.head(10)"
   ]
  },
  {
   "cell_type": "code",
   "execution_count": 81,
   "metadata": {},
   "outputs": [],
   "source": [
    "occupation_funny_ratings.columns = [\"mean_prop_funny_ratings\", \"talk_count\"]"
   ]
  },
  {
   "cell_type": "markdown",
   "metadata": {},
   "source": [
    "Note that many occupations seem to appear only once. To verify this, let's compute the proportion of infrequent occupations"
   ]
  },
  {
   "cell_type": "code",
   "execution_count": 82,
   "metadata": {},
   "outputs": [
    {
     "data": {
      "text/plain": [
       "1     0.771605\n",
       "2     0.126886\n",
       "3     0.039095\n",
       "4     0.015775\n",
       "5     0.013032\n",
       "6     0.007545\n",
       "9     0.005487\n",
       "8     0.003429\n",
       "20    0.002743\n",
       "10    0.002058\n",
       "Name: talk_count, dtype: float64"
      ]
     },
     "execution_count": 82,
     "metadata": {},
     "output_type": "execute_result"
    }
   ],
   "source": [
    "occupation_funny_ratings['talk_count'].value_counts(normalize=True).head(10)"
   ]
  },
  {
   "cell_type": "markdown",
   "metadata": {},
   "source": [
    "We cannot make any conclusion about an occupation based on just one representative. So, let's limit our analysis to those occupations that have at least a few (e.g. five) representatives. To that end, select those with frequency >= 5"
   ]
  },
  {
   "cell_type": "code",
   "execution_count": 83,
   "metadata": {},
   "outputs": [],
   "source": [
    "freq_occupation_funny_ratings = occupation_funny_ratings.loc[occupation_funny_ratings.talk_count >=5]"
   ]
  },
  {
   "cell_type": "code",
   "execution_count": 84,
   "metadata": {},
   "outputs": [
    {
     "data": {
      "text/html": [
       "<div>\n",
       "<style scoped>\n",
       "    .dataframe tbody tr th:only-of-type {\n",
       "        vertical-align: middle;\n",
       "    }\n",
       "\n",
       "    .dataframe tbody tr th {\n",
       "        vertical-align: top;\n",
       "    }\n",
       "\n",
       "    .dataframe thead th {\n",
       "        text-align: right;\n",
       "    }\n",
       "</style>\n",
       "<table border=\"1\" class=\"dataframe\">\n",
       "  <thead>\n",
       "    <tr style=\"text-align: right;\">\n",
       "      <th></th>\n",
       "      <th>mean_prop_funny_ratings</th>\n",
       "      <th>talk_count</th>\n",
       "    </tr>\n",
       "    <tr>\n",
       "      <th>speaker_occupation</th>\n",
       "      <th></th>\n",
       "      <th></th>\n",
       "    </tr>\n",
       "  </thead>\n",
       "  <tbody>\n",
       "    <tr>\n",
       "      <th>Writer</th>\n",
       "      <td>0.060745</td>\n",
       "      <td>45</td>\n",
       "    </tr>\n",
       "    <tr>\n",
       "      <th>Artist</th>\n",
       "      <td>0.078939</td>\n",
       "      <td>34</td>\n",
       "    </tr>\n",
       "    <tr>\n",
       "      <th>Designer</th>\n",
       "      <td>0.059287</td>\n",
       "      <td>34</td>\n",
       "    </tr>\n",
       "    <tr>\n",
       "      <th>Journalist</th>\n",
       "      <td>0.027997</td>\n",
       "      <td>33</td>\n",
       "    </tr>\n",
       "    <tr>\n",
       "      <th>Entrepreneur</th>\n",
       "      <td>0.073295</td>\n",
       "      <td>31</td>\n",
       "    </tr>\n",
       "    <tr>\n",
       "      <th>...</th>\n",
       "      <td>...</td>\n",
       "      <td>...</td>\n",
       "    </tr>\n",
       "    <tr>\n",
       "      <th>Researcher</th>\n",
       "      <td>0.039086</td>\n",
       "      <td>5</td>\n",
       "    </tr>\n",
       "    <tr>\n",
       "      <th>Cartoonist</th>\n",
       "      <td>0.162120</td>\n",
       "      <td>5</td>\n",
       "    </tr>\n",
       "    <tr>\n",
       "      <th>Producer</th>\n",
       "      <td>0.202531</td>\n",
       "      <td>5</td>\n",
       "    </tr>\n",
       "    <tr>\n",
       "      <th>Chef</th>\n",
       "      <td>0.054207</td>\n",
       "      <td>5</td>\n",
       "    </tr>\n",
       "    <tr>\n",
       "      <th>Physician</th>\n",
       "      <td>0.004515</td>\n",
       "      <td>5</td>\n",
       "    </tr>\n",
       "  </tbody>\n",
       "</table>\n",
       "<p>68 rows × 2 columns</p>\n",
       "</div>"
      ],
      "text/plain": [
       "                    mean_prop_funny_ratings  talk_count\n",
       "speaker_occupation                                     \n",
       "Writer                             0.060745          45\n",
       "Artist                             0.078939          34\n",
       "Designer                           0.059287          34\n",
       "Journalist                         0.027997          33\n",
       "Entrepreneur                       0.073295          31\n",
       "...                                     ...         ...\n",
       "Researcher                         0.039086           5\n",
       "Cartoonist                         0.162120           5\n",
       "Producer                           0.202531           5\n",
       "Chef                               0.054207           5\n",
       "Physician                          0.004515           5\n",
       "\n",
       "[68 rows x 2 columns]"
      ]
     },
     "execution_count": 84,
     "metadata": {},
     "output_type": "execute_result"
    }
   ],
   "source": [
    "freq_occupation_funny_ratings.sort_values(by=\"talk_count\", ascending=False)"
   ]
  },
  {
   "cell_type": "markdown",
   "metadata": {},
   "source": [
    "Let's see how many occupations we have selected as \"well represented\""
   ]
  },
  {
   "cell_type": "code",
   "execution_count": 85,
   "metadata": {},
   "outputs": [
    {
     "data": {
      "text/plain": [
       "68"
      ]
     },
     "execution_count": 85,
     "metadata": {},
     "output_type": "execute_result"
    }
   ],
   "source": [
    "freq_occup_cnt = freq_occupation_funny_ratings.shape[0]\n",
    "freq_occup_cnt"
   ]
  },
  {
   "cell_type": "code",
   "execution_count": 86,
   "metadata": {},
   "outputs": [
    {
     "data": {
      "text/plain": [
       "0.04663923182441701"
      ]
     },
     "execution_count": 86,
     "metadata": {},
     "output_type": "execute_result"
    }
   ],
   "source": [
    "freq_occup_cnt/ted.speaker_occupation.nunique()"
   ]
  },
  {
   "cell_type": "markdown",
   "metadata": {},
   "source": [
    "They form only a tiny portion (5%) of all occupations.\n",
    "\n",
    "Finally, let's examine how funny are talks by the representatives of such occupations."
   ]
  },
  {
   "cell_type": "code",
   "execution_count": 87,
   "metadata": {},
   "outputs": [
    {
     "data": {
      "text/html": [
       "<div>\n",
       "<style scoped>\n",
       "    .dataframe tbody tr th:only-of-type {\n",
       "        vertical-align: middle;\n",
       "    }\n",
       "\n",
       "    .dataframe tbody tr th {\n",
       "        vertical-align: top;\n",
       "    }\n",
       "\n",
       "    .dataframe thead th {\n",
       "        text-align: right;\n",
       "    }\n",
       "</style>\n",
       "<table border=\"1\" class=\"dataframe\">\n",
       "  <thead>\n",
       "    <tr style=\"text-align: right;\">\n",
       "      <th></th>\n",
       "      <th>mean_prop_funny_ratings</th>\n",
       "      <th>talk_count</th>\n",
       "    </tr>\n",
       "    <tr>\n",
       "      <th>speaker_occupation</th>\n",
       "      <th></th>\n",
       "      <th></th>\n",
       "    </tr>\n",
       "  </thead>\n",
       "  <tbody>\n",
       "    <tr>\n",
       "      <th>Comedian</th>\n",
       "      <td>0.512457</td>\n",
       "      <td>6</td>\n",
       "    </tr>\n",
       "    <tr>\n",
       "      <th>Performance poet, multimedia artist</th>\n",
       "      <td>0.306468</td>\n",
       "      <td>6</td>\n",
       "    </tr>\n",
       "    <tr>\n",
       "      <th>Singer/songwriter</th>\n",
       "      <td>0.252205</td>\n",
       "      <td>9</td>\n",
       "    </tr>\n",
       "    <tr>\n",
       "      <th>Producer</th>\n",
       "      <td>0.202531</td>\n",
       "      <td>5</td>\n",
       "    </tr>\n",
       "    <tr>\n",
       "      <th>Data scientist</th>\n",
       "      <td>0.184076</td>\n",
       "      <td>5</td>\n",
       "    </tr>\n",
       "    <tr>\n",
       "      <th>...</th>\n",
       "      <td>...</td>\n",
       "      <td>...</td>\n",
       "    </tr>\n",
       "    <tr>\n",
       "      <th>Photographer</th>\n",
       "      <td>0.007152</td>\n",
       "      <td>25</td>\n",
       "    </tr>\n",
       "    <tr>\n",
       "      <th>Investor and advocate for moral leadership</th>\n",
       "      <td>0.005198</td>\n",
       "      <td>5</td>\n",
       "    </tr>\n",
       "    <tr>\n",
       "      <th>Photojournalist</th>\n",
       "      <td>0.004908</td>\n",
       "      <td>6</td>\n",
       "    </tr>\n",
       "    <tr>\n",
       "      <th>Physician</th>\n",
       "      <td>0.004515</td>\n",
       "      <td>5</td>\n",
       "    </tr>\n",
       "    <tr>\n",
       "      <th>Surgeon</th>\n",
       "      <td>0.002465</td>\n",
       "      <td>5</td>\n",
       "    </tr>\n",
       "  </tbody>\n",
       "</table>\n",
       "<p>68 rows × 2 columns</p>\n",
       "</div>"
      ],
      "text/plain": [
       "                                            mean_prop_funny_ratings  \\\n",
       "speaker_occupation                                                    \n",
       "Comedian                                                   0.512457   \n",
       "Performance poet, multimedia artist                        0.306468   \n",
       "Singer/songwriter                                          0.252205   \n",
       "Producer                                                   0.202531   \n",
       "Data scientist                                             0.184076   \n",
       "...                                                             ...   \n",
       "Photographer                                               0.007152   \n",
       "Investor and advocate for moral leadership                 0.005198   \n",
       "Photojournalist                                            0.004908   \n",
       "Physician                                                  0.004515   \n",
       "Surgeon                                                    0.002465   \n",
       "\n",
       "                                            talk_count  \n",
       "speaker_occupation                                      \n",
       "Comedian                                             6  \n",
       "Performance poet, multimedia artist                  6  \n",
       "Singer/songwriter                                    9  \n",
       "Producer                                             5  \n",
       "Data scientist                                       5  \n",
       "...                                                ...  \n",
       "Photographer                                        25  \n",
       "Investor and advocate for moral leadership           5  \n",
       "Photojournalist                                      6  \n",
       "Physician                                            5  \n",
       "Surgeon                                              5  \n",
       "\n",
       "[68 rows x 2 columns]"
      ]
     },
     "execution_count": 87,
     "metadata": {},
     "output_type": "execute_result"
    }
   ],
   "source": [
    "freq_occupation_funny_ratings.sort_values(by=\"mean_prop_funny_ratings\", ascending=False)"
   ]
  },
  {
   "cell_type": "markdown",
   "metadata": {},
   "source": [
    "As expected, comedians gave the funniest talks. On the other hand, talks by physicians and surgeons, again, as expected, are the least funny. <br>\n",
    "Something probably unexpected: data scientists got 5th place (among 68 occupations)"
   ]
  },
  {
   "cell_type": "markdown",
   "metadata": {},
   "source": [
    "### Task 4. Examine the topics of the 100 best 'Inspiring' talks, present them in a tag cloud \n",
    "\n",
    "While talks can be considered the best based on a variety of criteria, we will value and rank them based on the proportion of positive ratings "
   ]
  },
  {
   "cell_type": "markdown",
   "metadata": {},
   "source": [
    "Let's start by creating a subset of talks that have the 'Inspiring' rating among the top 3 ratings"
   ]
  },
  {
   "cell_type": "code",
   "execution_count": 101,
   "metadata": {},
   "outputs": [],
   "source": [
    "inspiring_talks = ted.loc[ted.top3_ratings.apply(lambda top3: 'inspiring' in [r.lower() for r in top3])].copy()"
   ]
  },
  {
   "cell_type": "markdown",
   "metadata": {},
   "source": [
    "Note the call of the copy function at the end of the above line. This will allow us to alter the new dataframe (inspiring_talks) without inadvertently affecting the main (ted) dataframe."
   ]
  },
  {
   "cell_type": "code",
   "execution_count": 97,
   "metadata": {},
   "outputs": [
    {
     "data": {
      "text/plain": [
       "(1752, 27)"
      ]
     },
     "execution_count": 97,
     "metadata": {},
     "output_type": "execute_result"
    }
   ],
   "source": [
    "inspiring_talks.shape"
   ]
  },
  {
   "cell_type": "markdown",
   "metadata": {},
   "source": [
    "Next, order these talks based on the proportion of positive ratings and take top 100"
   ]
  },
  {
   "cell_type": "code",
   "execution_count": 102,
   "metadata": {},
   "outputs": [],
   "source": [
    "inspiring_talks['pos_ratings_prop'] = inspiring_talks.pos_ratings / (inspiring_talks.pos_ratings \\\n",
    "                                                                     + inspiring_talks.neg_ratings \\\n",
    "                                                                     + inspiring_talks.neutral_ratings)\n",
    "\n",
    "top100_inspiring_talks = inspiring_talks.sort_values(by='pos_ratings_prop', ascending=False).head(100)"
   ]
  },
  {
   "cell_type": "markdown",
   "metadata": {},
   "source": [
    "To be able to access rows of this new data frame using regular indices (0,1,2,...), we need to reset its index"
   ]
  },
  {
   "cell_type": "code",
   "execution_count": 103,
   "metadata": {},
   "outputs": [
    {
     "data": {
      "text/plain": [
       "Int64Index([2511, 2485, 2483, 2528, 2497], dtype='int64')"
      ]
     },
     "execution_count": 103,
     "metadata": {},
     "output_type": "execute_result"
    }
   ],
   "source": [
    "top100_inspiring_talks.index[:5]"
   ]
  },
  {
   "cell_type": "code",
   "execution_count": 104,
   "metadata": {},
   "outputs": [
    {
     "data": {
      "text/plain": [
       "RangeIndex(start=0, stop=100, step=1)"
      ]
     },
     "execution_count": 104,
     "metadata": {},
     "output_type": "execute_result"
    }
   ],
   "source": [
    "top100_inspiring_talks.reset_index(drop=True, inplace=True)\n",
    "top100_inspiring_talks.index"
   ]
  },
  {
   "cell_type": "markdown",
   "metadata": {},
   "source": [
    "Next, let's examine tags associated with the inspiring talks"
   ]
  },
  {
   "cell_type": "code",
   "execution_count": 105,
   "metadata": {},
   "outputs": [
    {
     "data": {
      "text/plain": [
       "43                          ['family', 'global issues']\n",
       "41    ['Africa', 'TEDx', 'animals', 'smell', 'techno...\n",
       "62    ['community', 'fear', 'future', 'global issues...\n",
       "58    ['Europe', 'Middle East', 'TEDx', 'activism', ...\n",
       "27    ['animals', 'drones', 'global issues', 'sustai...\n",
       "Name: tags, dtype: object"
      ]
     },
     "execution_count": 105,
     "metadata": {},
     "output_type": "execute_result"
    }
   ],
   "source": [
    "top100_inspiring_talks.tags.sample(5)"
   ]
  },
  {
   "cell_type": "markdown",
   "metadata": {},
   "source": [
    "It seems that tags of a particular talk are stored as a list. But, we should take a closer look..."
   ]
  },
  {
   "cell_type": "code",
   "execution_count": 106,
   "metadata": {},
   "outputs": [
    {
     "data": {
      "text/plain": [
       "\"['Criminal Justice', 'TEDx', 'United States', 'inequality', 'law', 'social change', 'society']\""
      ]
     },
     "execution_count": 106,
     "metadata": {},
     "output_type": "execute_result"
    }
   ],
   "source": [
    "top100_inspiring_talks.tags[0]"
   ]
  },
  {
   "cell_type": "code",
   "execution_count": 107,
   "metadata": {},
   "outputs": [
    {
     "data": {
      "text/plain": [
       "str"
      ]
     },
     "execution_count": 107,
     "metadata": {},
     "output_type": "execute_result"
    }
   ],
   "source": [
    "type(top100_inspiring_talks.tags[0])"
   ]
  },
  {
   "cell_type": "markdown",
   "metadata": {},
   "source": [
    "Ratings are, in fact, encoded as a string... <br>\n",
    "So, we (again) have to use `ast.literal_eval()` function to get a list out of a string (representation of the list)"
   ]
  },
  {
   "cell_type": "code",
   "execution_count": 108,
   "metadata": {},
   "outputs": [],
   "source": [
    "top100_inspiring_talks['tags'] = top100_inspiring_talks.tags.apply(ast.literal_eval)"
   ]
  },
  {
   "cell_type": "code",
   "execution_count": 109,
   "metadata": {},
   "outputs": [
    {
     "data": {
      "text/plain": [
       "['Criminal Justice',\n",
       " 'TEDx',\n",
       " 'United States',\n",
       " 'inequality',\n",
       " 'law',\n",
       " 'social change',\n",
       " 'society']"
      ]
     },
     "execution_count": 109,
     "metadata": {},
     "output_type": "execute_result"
    }
   ],
   "source": [
    "top100_inspiring_talks.tags[0]"
   ]
  },
  {
   "cell_type": "code",
   "execution_count": 110,
   "metadata": {},
   "outputs": [
    {
     "data": {
      "text/plain": [
       "list"
      ]
     },
     "execution_count": 110,
     "metadata": {},
     "output_type": "execute_result"
    }
   ],
   "source": [
    "type(top100_inspiring_talks.tags[0])"
   ]
  },
  {
   "cell_type": "markdown",
   "metadata": {},
   "source": [
    "Next, we will create a dictionary of the tags that were used to describe the inspiring talks. Keys in this dictionary will be individual tags, while values will be frequencies of tags' occurrences in relation to the inspiring talks. We need this type of dictionary for the creation of a tag cloud."
   ]
  },
  {
   "cell_type": "code",
   "execution_count": 111,
   "metadata": {},
   "outputs": [],
   "source": [
    "from collections import defaultdict\n",
    "\n",
    "inspiring_topics_dict = defaultdict(int)\n",
    "\n",
    "for tags_list in top100_inspiring_talks.tags:\n",
    "    for tag in tags_list:\n",
    "        tag = tag.lower().replace(' ', '_') # this is not necessary\n",
    "        inspiring_topics_dict[tag] += 1"
   ]
  },
  {
   "cell_type": "markdown",
   "metadata": {},
   "source": [
    "How many unique tags were identified?"
   ]
  },
  {
   "cell_type": "code",
   "execution_count": 112,
   "metadata": {},
   "outputs": [
    {
     "data": {
      "text/plain": [
       "228"
      ]
     },
     "execution_count": 112,
     "metadata": {},
     "output_type": "execute_result"
    }
   ],
   "source": [
    "len(inspiring_topics_dict.keys())"
   ]
  },
  {
   "cell_type": "markdown",
   "metadata": {},
   "source": [
    "How frequent those tags are? Compute some basic statistics that describe tag frequency distribution <br> \n",
    "This can be done using functions from the statistics module, but let's do it by creating and using pandas Series (for the sake of practicing pandas):"
   ]
  },
  {
   "cell_type": "code",
   "execution_count": 113,
   "metadata": {},
   "outputs": [],
   "source": [
    "tag_freq_series = pd.Series(data=inspiring_topics_dict.values(), index=inspiring_topics_dict.keys())"
   ]
  },
  {
   "cell_type": "code",
   "execution_count": 114,
   "metadata": {},
   "outputs": [
    {
     "data": {
      "text/plain": [
       "criminal_justice     3\n",
       "tedx                22\n",
       "united_states        3\n",
       "inequality           6\n",
       "law                  3\n",
       "social_change       17\n",
       "society             12\n",
       "ted_en_español       1\n",
       "democracy            1\n",
       "government           3\n",
       "dtype: int64"
      ]
     },
     "execution_count": 114,
     "metadata": {},
     "output_type": "execute_result"
    }
   ],
   "source": [
    "tag_freq_series.head(10)"
   ]
  },
  {
   "cell_type": "code",
   "execution_count": 115,
   "metadata": {},
   "outputs": [
    {
     "data": {
      "text/plain": [
       "count    228.000000\n",
       "mean       3.627193\n",
       "std        3.703381\n",
       "min        1.000000\n",
       "25%        1.000000\n",
       "50%        2.000000\n",
       "75%        4.000000\n",
       "max       22.000000\n",
       "dtype: float64"
      ]
     },
     "execution_count": 115,
     "metadata": {},
     "output_type": "execute_result"
    }
   ],
   "source": [
    "tag_freq_series.describe()"
   ]
  },
  {
   "cell_type": "markdown",
   "metadata": {},
   "source": [
    "Keep only tags with above average (median) frequency"
   ]
  },
  {
   "cell_type": "code",
   "execution_count": 116,
   "metadata": {},
   "outputs": [],
   "source": [
    "mdn_freq = tag_freq_series.describe()['50%']\n",
    "\n",
    "freq_inspiring_topics = dict()\n",
    "for tag, freq in inspiring_topics_dict.items():\n",
    "    if freq > mdn_freq: \n",
    "        freq_inspiring_topics[tag] = freq"
   ]
  },
  {
   "cell_type": "code",
   "execution_count": 117,
   "metadata": {},
   "outputs": [
    {
     "data": {
      "text/plain": [
       "105"
      ]
     },
     "execution_count": 117,
     "metadata": {},
     "output_type": "execute_result"
    }
   ],
   "source": [
    "len(freq_inspiring_topics.keys())"
   ]
  },
  {
   "cell_type": "code",
   "execution_count": 118,
   "metadata": {},
   "outputs": [
    {
     "data": {
      "text/plain": [
       "[('tedx', 22),\n",
       " ('humanity', 18),\n",
       " ('health', 18),\n",
       " ('social_change', 17),\n",
       " ('culture', 15),\n",
       " ('global_issues', 15),\n",
       " ('education', 15),\n",
       " ('personal_growth', 15),\n",
       " ('children', 14),\n",
       " ('technology', 13),\n",
       " ('science', 13),\n",
       " ('society', 12),\n",
       " ('community', 12),\n",
       " ('health_care', 11),\n",
       " ('innovation', 10)]"
      ]
     },
     "execution_count": 118,
     "metadata": {},
     "output_type": "execute_result"
    }
   ],
   "source": [
    "sorted_tag_freq = sorted(freq_inspiring_topics.items(), key=lambda item: item[1], reverse=True)\n",
    "sorted_tag_freq[:15]"
   ]
  },
  {
   "cell_type": "markdown",
   "metadata": {},
   "source": [
    "Now, we can create a word cloud\n",
    "\n",
    "Some useful materials for word cloud: <br>\n",
    "https://www.datacamp.com/community/tutorials/wordcloud-python <br>\n",
    "https://gist.github.com/izikeros/fca85e2d7b9eae3e0d9dec6a1f1635b3 <br>\n",
    "\n",
    "Well done cheat sheets and tips for Mathplotlib are available from:https://github.com/matplotlib/cheatsheets"
   ]
  },
  {
   "cell_type": "code",
   "execution_count": 119,
   "metadata": {},
   "outputs": [
    {
     "data": {
      "image/png": "[encoded data removed]",
      "text/plain": [
       "<Figure size 648x432 with 1 Axes>"
      ]
     },
     "metadata": {
      "needs_background": "light"
     },
     "output_type": "display_data"
    }
   ],
   "source": [
    "from wordcloud import WordCloud\n",
    "\n",
    "wordcloud = WordCloud(background_color='white',\n",
    "                      width=1500,\n",
    "                      height=1000\n",
    "                      ).generate_from_frequencies(freq_inspiring_topics)\n",
    "\n",
    "plt.figure(figsize=(9,6))\n",
    "\n",
    "plt.imshow(wordcloud, interpolation='bilinear')\n",
    "# Note: interpolation makes the figure smoother\n",
    "# different interpolation options are given here:\n",
    "# https://matplotlib.org/gallery/images_contours_and_fields/interpolation_methods.html\n",
    "\n",
    "\n",
    "plt.axis('off')\n",
    "plt.show()"
   ]
  }
 ],
 "metadata": {
  "kernelspec": {
   "display_name": "Python 3 (ipykernel)",
   "language": "python",
   "name": "python3"
  },
  "language_info": {
   "codemirror_mode": {
    "name": "ipython",
    "version": 3
   },
   "file_extension": ".py",
   "mimetype": "text/x-python",
   "name": "python",
   "nbconvert_exporter": "python",
   "pygments_lexer": "ipython3",
   "version": "3.9.5"
  }
 },
 "nbformat": 4,
 "nbformat_minor": 4
}
