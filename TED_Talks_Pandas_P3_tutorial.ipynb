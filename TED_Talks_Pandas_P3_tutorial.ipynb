{
 "cells": [
  {
   "cell_type": "markdown",
   "metadata": {},
   "source": [
    "# Exploring Pandas' features throught the TED Talks dataset\n",
    "\n",
    "In this tutorial, we will use the [TED Talks dataset](https://www.kaggle.com/rounakbanik/ted-talks), available from Kaggle Datasets under the [CC BY-NC-SA 4.0 license](https://creativecommons.org/licenses/by-nc-sa/4.0/).\n",
    "\n",
    "This tutorial is partially based on the [Data Science Best Practices with pandas](https://github.com/justmarkham/pycon-2019-tutorial) tutorial presented by Kevin Markham at PyCon2019 on May 2, 2019."
   ]
  },
  {
   "cell_type": "markdown",
   "metadata": {},
   "source": [
    "## Import the required libraries"
   ]
  },
  {
   "cell_type": "code",
   "execution_count": 91,
   "metadata": {},
   "outputs": [],
   "source": [
    "import pandas as pd\n",
    "import matplotlib.pyplot as plt"
   ]
  },
  {
   "cell_type": "markdown",
   "metadata": {},
   "source": [
    "Sometimes you need to know the pandas version you are using, for example, when you need to consult the pandas documentation. You get the pandas version with:"
   ]
  },
  {
   "cell_type": "code",
   "execution_count": 92,
   "metadata": {},
   "outputs": [
    {
     "data": {
      "text/plain": [
       "'1.1.3'"
      ]
     },
     "execution_count": 92,
     "metadata": {},
     "output_type": "execute_result"
    }
   ],
   "source": [
    "pd.__version__"
   ]
  },
  {
   "cell_type": "markdown",
   "metadata": {},
   "source": [
    "## Load and examine the TED talks dataset"
   ]
  },
  {
   "cell_type": "code",
   "execution_count": 93,
   "metadata": {},
   "outputs": [
    {
     "data": {
      "text/html": [
       "<div>\n",
       "<style scoped>\n",
       "    .dataframe tbody tr th:only-of-type {\n",
       "        vertical-align: middle;\n",
       "    }\n",
       "\n",
       "    .dataframe tbody tr th {\n",
       "        vertical-align: top;\n",
       "    }\n",
       "\n",
       "    .dataframe thead th {\n",
       "        text-align: right;\n",
       "    }\n",
       "</style>\n",
       "<table border=\"1\" class=\"dataframe\">\n",
       "  <thead>\n",
       "    <tr style=\"text-align: right;\">\n",
       "      <th></th>\n",
       "      <th>comments</th>\n",
       "      <th>description</th>\n",
       "      <th>duration</th>\n",
       "      <th>event</th>\n",
       "      <th>film_date</th>\n",
       "      <th>languages</th>\n",
       "      <th>main_speaker</th>\n",
       "      <th>name</th>\n",
       "      <th>num_speaker</th>\n",
       "      <th>published_date</th>\n",
       "      <th>ratings</th>\n",
       "      <th>related_talks</th>\n",
       "      <th>speaker_occupation</th>\n",
       "      <th>tags</th>\n",
       "      <th>title</th>\n",
       "      <th>url</th>\n",
       "      <th>views</th>\n",
       "    </tr>\n",
       "  </thead>\n",
       "  <tbody>\n",
       "    <tr>\n",
       "      <th>0</th>\n",
       "      <td>4553</td>\n",
       "      <td>Sir Ken Robinson makes an entertaining and pro...</td>\n",
       "      <td>1164</td>\n",
       "      <td>TED2006</td>\n",
       "      <td>1140825600</td>\n",
       "      <td>60</td>\n",
       "      <td>Ken Robinson</td>\n",
       "      <td>Ken Robinson: Do schools kill creativity?</td>\n",
       "      <td>1</td>\n",
       "      <td>1151367060</td>\n",
       "      <td>[{'id': 7, 'name': 'Funny', 'count': 19645}, {...</td>\n",
       "      <td>[{'id': 865, 'hero': 'https://pe.tedcdn.com/im...</td>\n",
       "      <td>Author/educator</td>\n",
       "      <td>['children', 'creativity', 'culture', 'dance',...</td>\n",
       "      <td>Do schools kill creativity?</td>\n",
       "      <td>https://www.ted.com/talks/ken_robinson_says_sc...</td>\n",
       "      <td>47227110</td>\n",
       "    </tr>\n",
       "    <tr>\n",
       "      <th>1</th>\n",
       "      <td>265</td>\n",
       "      <td>With the same humor and humanity he exuded in ...</td>\n",
       "      <td>977</td>\n",
       "      <td>TED2006</td>\n",
       "      <td>1140825600</td>\n",
       "      <td>43</td>\n",
       "      <td>Al Gore</td>\n",
       "      <td>Al Gore: Averting the climate crisis</td>\n",
       "      <td>1</td>\n",
       "      <td>1151367060</td>\n",
       "      <td>[{'id': 7, 'name': 'Funny', 'count': 544}, {'i...</td>\n",
       "      <td>[{'id': 243, 'hero': 'https://pe.tedcdn.com/im...</td>\n",
       "      <td>Climate advocate</td>\n",
       "      <td>['alternative energy', 'cars', 'climate change...</td>\n",
       "      <td>Averting the climate crisis</td>\n",
       "      <td>https://www.ted.com/talks/al_gore_on_averting_...</td>\n",
       "      <td>3200520</td>\n",
       "    </tr>\n",
       "    <tr>\n",
       "      <th>2</th>\n",
       "      <td>124</td>\n",
       "      <td>New York Times columnist David Pogue takes aim...</td>\n",
       "      <td>1286</td>\n",
       "      <td>TED2006</td>\n",
       "      <td>1140739200</td>\n",
       "      <td>26</td>\n",
       "      <td>David Pogue</td>\n",
       "      <td>David Pogue: Simplicity sells</td>\n",
       "      <td>1</td>\n",
       "      <td>1151367060</td>\n",
       "      <td>[{'id': 7, 'name': 'Funny', 'count': 964}, {'i...</td>\n",
       "      <td>[{'id': 1725, 'hero': 'https://pe.tedcdn.com/i...</td>\n",
       "      <td>Technology columnist</td>\n",
       "      <td>['computers', 'entertainment', 'interface desi...</td>\n",
       "      <td>Simplicity sells</td>\n",
       "      <td>https://www.ted.com/talks/david_pogue_says_sim...</td>\n",
       "      <td>1636292</td>\n",
       "    </tr>\n",
       "    <tr>\n",
       "      <th>3</th>\n",
       "      <td>200</td>\n",
       "      <td>In an emotionally charged talk, MacArthur-winn...</td>\n",
       "      <td>1116</td>\n",
       "      <td>TED2006</td>\n",
       "      <td>1140912000</td>\n",
       "      <td>35</td>\n",
       "      <td>Majora Carter</td>\n",
       "      <td>Majora Carter: Greening the ghetto</td>\n",
       "      <td>1</td>\n",
       "      <td>1151367060</td>\n",
       "      <td>[{'id': 3, 'name': 'Courageous', 'count': 760}...</td>\n",
       "      <td>[{'id': 1041, 'hero': 'https://pe.tedcdn.com/i...</td>\n",
       "      <td>Activist for environmental justice</td>\n",
       "      <td>['MacArthur grant', 'activism', 'business', 'c...</td>\n",
       "      <td>Greening the ghetto</td>\n",
       "      <td>https://www.ted.com/talks/majora_carter_s_tale...</td>\n",
       "      <td>1697550</td>\n",
       "    </tr>\n",
       "    <tr>\n",
       "      <th>4</th>\n",
       "      <td>593</td>\n",
       "      <td>You've never seen data presented like this. Wi...</td>\n",
       "      <td>1190</td>\n",
       "      <td>TED2006</td>\n",
       "      <td>1140566400</td>\n",
       "      <td>48</td>\n",
       "      <td>Hans Rosling</td>\n",
       "      <td>Hans Rosling: The best stats you've ever seen</td>\n",
       "      <td>1</td>\n",
       "      <td>1151440680</td>\n",
       "      <td>[{'id': 9, 'name': 'Ingenious', 'count': 3202}...</td>\n",
       "      <td>[{'id': 2056, 'hero': 'https://pe.tedcdn.com/i...</td>\n",
       "      <td>Global health expert; data visionary</td>\n",
       "      <td>['Africa', 'Asia', 'Google', 'demo', 'economic...</td>\n",
       "      <td>The best stats you've ever seen</td>\n",
       "      <td>https://www.ted.com/talks/hans_rosling_shows_t...</td>\n",
       "      <td>12005869</td>\n",
       "    </tr>\n",
       "  </tbody>\n",
       "</table>\n",
       "</div>"
      ],
      "text/plain": [
       "   comments                                        description  duration  \\\n",
       "0      4553  Sir Ken Robinson makes an entertaining and pro...      1164   \n",
       "1       265  With the same humor and humanity he exuded in ...       977   \n",
       "2       124  New York Times columnist David Pogue takes aim...      1286   \n",
       "3       200  In an emotionally charged talk, MacArthur-winn...      1116   \n",
       "4       593  You've never seen data presented like this. Wi...      1190   \n",
       "\n",
       "     event   film_date  languages   main_speaker  \\\n",
       "0  TED2006  1140825600         60   Ken Robinson   \n",
       "1  TED2006  1140825600         43        Al Gore   \n",
       "2  TED2006  1140739200         26    David Pogue   \n",
       "3  TED2006  1140912000         35  Majora Carter   \n",
       "4  TED2006  1140566400         48   Hans Rosling   \n",
       "\n",
       "                                            name  num_speaker  published_date  \\\n",
       "0      Ken Robinson: Do schools kill creativity?            1      1151367060   \n",
       "1           Al Gore: Averting the climate crisis            1      1151367060   \n",
       "2                  David Pogue: Simplicity sells            1      1151367060   \n",
       "3             Majora Carter: Greening the ghetto            1      1151367060   \n",
       "4  Hans Rosling: The best stats you've ever seen            1      1151440680   \n",
       "\n",
       "                                             ratings  \\\n",
       "0  [{'id': 7, 'name': 'Funny', 'count': 19645}, {...   \n",
       "1  [{'id': 7, 'name': 'Funny', 'count': 544}, {'i...   \n",
       "2  [{'id': 7, 'name': 'Funny', 'count': 964}, {'i...   \n",
       "3  [{'id': 3, 'name': 'Courageous', 'count': 760}...   \n",
       "4  [{'id': 9, 'name': 'Ingenious', 'count': 3202}...   \n",
       "\n",
       "                                       related_talks  \\\n",
       "0  [{'id': 865, 'hero': 'https://pe.tedcdn.com/im...   \n",
       "1  [{'id': 243, 'hero': 'https://pe.tedcdn.com/im...   \n",
       "2  [{'id': 1725, 'hero': 'https://pe.tedcdn.com/i...   \n",
       "3  [{'id': 1041, 'hero': 'https://pe.tedcdn.com/i...   \n",
       "4  [{'id': 2056, 'hero': 'https://pe.tedcdn.com/i...   \n",
       "\n",
       "                     speaker_occupation  \\\n",
       "0                       Author/educator   \n",
       "1                      Climate advocate   \n",
       "2                  Technology columnist   \n",
       "3    Activist for environmental justice   \n",
       "4  Global health expert; data visionary   \n",
       "\n",
       "                                                tags  \\\n",
       "0  ['children', 'creativity', 'culture', 'dance',...   \n",
       "1  ['alternative energy', 'cars', 'climate change...   \n",
       "2  ['computers', 'entertainment', 'interface desi...   \n",
       "3  ['MacArthur grant', 'activism', 'business', 'c...   \n",
       "4  ['Africa', 'Asia', 'Google', 'demo', 'economic...   \n",
       "\n",
       "                             title  \\\n",
       "0      Do schools kill creativity?   \n",
       "1      Averting the climate crisis   \n",
       "2                 Simplicity sells   \n",
       "3              Greening the ghetto   \n",
       "4  The best stats you've ever seen   \n",
       "\n",
       "                                                 url     views  \n",
       "0  https://www.ted.com/talks/ken_robinson_says_sc...  47227110  \n",
       "1  https://www.ted.com/talks/al_gore_on_averting_...   3200520  \n",
       "2  https://www.ted.com/talks/david_pogue_says_sim...   1636292  \n",
       "3  https://www.ted.com/talks/majora_carter_s_tale...   1697550  \n",
       "4  https://www.ted.com/talks/hans_rosling_shows_t...  12005869  "
      ]
     },
     "execution_count": 93,
     "metadata": {},
     "output_type": "execute_result"
    }
   ],
   "source": [
    "ted = pd.read_csv('data/ted.csv')\n",
    "ted.head()"
   ]
  },
  {
   "cell_type": "code",
   "execution_count": 94,
   "metadata": {},
   "outputs": [
    {
     "name": "stdout",
     "output_type": "stream",
     "text": [
      "<class 'pandas.core.frame.DataFrame'>\n",
      "RangeIndex: 2550 entries, 0 to 2549\n",
      "Data columns (total 17 columns):\n",
      " #   Column              Non-Null Count  Dtype \n",
      "---  ------              --------------  ----- \n",
      " 0   comments            2550 non-null   int64 \n",
      " 1   description         2550 non-null   object\n",
      " 2   duration            2550 non-null   int64 \n",
      " 3   event               2550 non-null   object\n",
      " 4   film_date           2550 non-null   int64 \n",
      " 5   languages           2550 non-null   int64 \n",
      " 6   main_speaker        2550 non-null   object\n",
      " 7   name                2550 non-null   object\n",
      " 8   num_speaker         2550 non-null   int64 \n",
      " 9   published_date      2550 non-null   int64 \n",
      " 10  ratings             2550 non-null   object\n",
      " 11  related_talks       2550 non-null   object\n",
      " 12  speaker_occupation  2544 non-null   object\n",
      " 13  tags                2550 non-null   object\n",
      " 14  title               2550 non-null   object\n",
      " 15  url                 2550 non-null   object\n",
      " 16  views               2550 non-null   int64 \n",
      "dtypes: int64(7), object(10)\n",
      "memory usage: 338.8+ KB\n"
     ]
    }
   ],
   "source": [
    "ted.info()"
   ]
  },
  {
   "cell_type": "markdown",
   "metadata": {},
   "source": [
    "### Check for the presence of missing values"
   ]
  },
  {
   "cell_type": "code",
   "execution_count": 95,
   "metadata": {},
   "outputs": [
    {
     "data": {
      "text/plain": [
       "comments              0\n",
       "description           0\n",
       "duration              0\n",
       "event                 0\n",
       "film_date             0\n",
       "languages             0\n",
       "main_speaker          0\n",
       "name                  0\n",
       "num_speaker           0\n",
       "published_date        0\n",
       "ratings               0\n",
       "related_talks         0\n",
       "speaker_occupation    6\n",
       "tags                  0\n",
       "title                 0\n",
       "url                   0\n",
       "views                 0\n",
       "dtype: int64"
      ]
     },
     "execution_count": 95,
     "metadata": {},
     "output_type": "execute_result"
    }
   ],
   "source": [
    "ted.isna().sum()"
   ]
  },
  {
   "cell_type": "markdown",
   "metadata": {},
   "source": [
    "Let's identify who are the speakers with missing occupation and if we can identify their occupation from other records (in case they gave more than one talk)"
   ]
  },
  {
   "cell_type": "code",
   "execution_count": 96,
   "metadata": {},
   "outputs": [
    {
     "data": {
      "text/plain": [
       "1113      Sonaar Luthra\n",
       "1192     Rick Falkvinge\n",
       "1220        Gary Kovacs\n",
       "1656      Ryan Holladay\n",
       "1911      Brian Dettmer\n",
       "1949    Boniface Mwangi\n",
       "Name: main_speaker, dtype: object"
      ]
     },
     "execution_count": 96,
     "metadata": {},
     "output_type": "execute_result"
    }
   ],
   "source": [
    "no_occupation_speakers = ted.loc[ted.speaker_occupation.isna(),'main_speaker']\n",
    "no_occupation_speakers"
   ]
  },
  {
   "cell_type": "markdown",
   "metadata": {},
   "source": [
    "Compute the number of observations (talks) per each speaker"
   ]
  },
  {
   "cell_type": "code",
   "execution_count": 97,
   "metadata": {},
   "outputs": [
    {
     "data": {
      "text/plain": [
       "Hans Rosling       9\n",
       "Juan Enriquez      7\n",
       "Rives              6\n",
       "Marco Tempest      6\n",
       "Julian Treasure    5\n",
       "                  ..\n",
       "Casey Brown        1\n",
       " Sofi Tukker       1\n",
       "Newton Aduaka      1\n",
       "Al Seckel          1\n",
       "Nate Silver        1\n",
       "Name: main_speaker, Length: 2156, dtype: int64"
      ]
     },
     "execution_count": 97,
     "metadata": {},
     "output_type": "execute_result"
    }
   ],
   "source": [
    "ted.main_speaker.value_counts()"
   ]
  },
  {
   "cell_type": "markdown",
   "metadata": {},
   "source": [
    "Among all speakers, select those with the missing occupation"
   ]
  },
  {
   "cell_type": "code",
   "execution_count": 98,
   "metadata": {},
   "outputs": [
    {
     "data": {
      "text/plain": [
       "Sonaar Luthra      1\n",
       "Rick Falkvinge     1\n",
       "Gary Kovacs        1\n",
       "Ryan Holladay      1\n",
       "Brian Dettmer      1\n",
       "Boniface Mwangi    1\n",
       "Name: main_speaker, dtype: int64"
      ]
     },
     "execution_count": 98,
     "metadata": {},
     "output_type": "execute_result"
    }
   ],
   "source": [
    "ted.main_speaker.value_counts()[no_occupation_speakers.values]"
   ]
  },
  {
   "cell_type": "markdown",
   "metadata": {},
   "source": [
    "Unfortunately, there are no additional records that could be used to fill the missing occupation values."
   ]
  },
  {
   "cell_type": "markdown",
   "metadata": {},
   "source": [
    "### Transform filming date and publication date into datetime columns"
   ]
  },
  {
   "cell_type": "markdown",
   "metadata": {},
   "source": [
    "Examine a sample of film_date and published_date values"
   ]
  },
  {
   "cell_type": "code",
   "execution_count": 99,
   "metadata": {},
   "outputs": [
    {
     "data": {
      "text/html": [
       "<div>\n",
       "<style scoped>\n",
       "    .dataframe tbody tr th:only-of-type {\n",
       "        vertical-align: middle;\n",
       "    }\n",
       "\n",
       "    .dataframe tbody tr th {\n",
       "        vertical-align: top;\n",
       "    }\n",
       "\n",
       "    .dataframe thead th {\n",
       "        text-align: right;\n",
       "    }\n",
       "</style>\n",
       "<table border=\"1\" class=\"dataframe\">\n",
       "  <thead>\n",
       "    <tr style=\"text-align: right;\">\n",
       "      <th></th>\n",
       "      <th>film_date</th>\n",
       "      <th>published_date</th>\n",
       "    </tr>\n",
       "  </thead>\n",
       "  <tbody>\n",
       "    <tr>\n",
       "      <th>432</th>\n",
       "      <td>1233878400</td>\n",
       "      <td>1240362000</td>\n",
       "    </tr>\n",
       "    <tr>\n",
       "      <th>1903</th>\n",
       "      <td>1413331200</td>\n",
       "      <td>1422288314</td>\n",
       "    </tr>\n",
       "    <tr>\n",
       "      <th>240</th>\n",
       "      <td>1046649600</td>\n",
       "      <td>1213563480</td>\n",
       "    </tr>\n",
       "    <tr>\n",
       "      <th>1148</th>\n",
       "      <td>1321660800</td>\n",
       "      <td>1329576848</td>\n",
       "    </tr>\n",
       "    <tr>\n",
       "      <th>2342</th>\n",
       "      <td>1466208000</td>\n",
       "      <td>1481299843</td>\n",
       "    </tr>\n",
       "  </tbody>\n",
       "</table>\n",
       "</div>"
      ],
      "text/plain": [
       "       film_date  published_date\n",
       "432   1233878400      1240362000\n",
       "1903  1413331200      1422288314\n",
       "240   1046649600      1213563480\n",
       "1148  1321660800      1329576848\n",
       "2342  1466208000      1481299843"
      ]
     },
     "execution_count": 99,
     "metadata": {},
     "output_type": "execute_result"
    }
   ],
   "source": [
    "ted.loc[:,['film_date', 'published_date']].sample(5)"
   ]
  },
  {
   "cell_type": "markdown",
   "metadata": {},
   "source": [
    "Note that both dates are given as *Unix epoch time*, that is, the number of seconds that have elapsed since January 1, 1970. \n",
    "\n",
    "For more about epoch time, see: https://www.epochconverter.com/"
   ]
  },
  {
   "cell_type": "markdown",
   "metadata": {},
   "source": [
    "Let's start by transforming the film_date into the datetime type"
   ]
  },
  {
   "cell_type": "code",
   "execution_count": 100,
   "metadata": {},
   "outputs": [],
   "source": [
    "ted['filming_date'] = pd.to_datetime(ted['film_date'], unit='s')"
   ]
  },
  {
   "cell_type": "code",
   "execution_count": 101,
   "metadata": {},
   "outputs": [
    {
     "data": {
      "text/plain": [
       "0   2006-02-25\n",
       "1   2006-02-25\n",
       "2   2006-02-24\n",
       "3   2006-02-26\n",
       "4   2006-02-22\n",
       "Name: filming_date, dtype: datetime64[ns]"
      ]
     },
     "execution_count": 101,
     "metadata": {},
     "output_type": "execute_result"
    }
   ],
   "source": [
    "ted.filming_date.head()"
   ]
  },
  {
   "cell_type": "markdown",
   "metadata": {},
   "source": [
    "Then, do the same for the published_date"
   ]
  },
  {
   "cell_type": "code",
   "execution_count": 102,
   "metadata": {},
   "outputs": [],
   "source": [
    "ted['publication_date'] = pd.to_datetime(ted['published_date'], unit='s')"
   ]
  },
  {
   "cell_type": "code",
   "execution_count": 103,
   "metadata": {},
   "outputs": [
    {
     "data": {
      "text/html": [
       "<div>\n",
       "<style scoped>\n",
       "    .dataframe tbody tr th:only-of-type {\n",
       "        vertical-align: middle;\n",
       "    }\n",
       "\n",
       "    .dataframe tbody tr th {\n",
       "        vertical-align: top;\n",
       "    }\n",
       "\n",
       "    .dataframe thead th {\n",
       "        text-align: right;\n",
       "    }\n",
       "</style>\n",
       "<table border=\"1\" class=\"dataframe\">\n",
       "  <thead>\n",
       "    <tr style=\"text-align: right;\">\n",
       "      <th></th>\n",
       "      <th>comments</th>\n",
       "      <th>description</th>\n",
       "      <th>duration</th>\n",
       "      <th>event</th>\n",
       "      <th>film_date</th>\n",
       "      <th>languages</th>\n",
       "      <th>main_speaker</th>\n",
       "      <th>name</th>\n",
       "      <th>num_speaker</th>\n",
       "      <th>published_date</th>\n",
       "      <th>ratings</th>\n",
       "      <th>related_talks</th>\n",
       "      <th>speaker_occupation</th>\n",
       "      <th>tags</th>\n",
       "      <th>title</th>\n",
       "      <th>url</th>\n",
       "      <th>views</th>\n",
       "      <th>filming_date</th>\n",
       "      <th>publication_date</th>\n",
       "    </tr>\n",
       "  </thead>\n",
       "  <tbody>\n",
       "    <tr>\n",
       "      <th>173</th>\n",
       "      <td>71</td>\n",
       "      <td>Investor and prankster Yossi Vardi delivers a ...</td>\n",
       "      <td>375</td>\n",
       "      <td>TED2007</td>\n",
       "      <td>1173225600</td>\n",
       "      <td>28</td>\n",
       "      <td>Yossi Vardi</td>\n",
       "      <td>Yossi Vardi: We're worried about local warming...</td>\n",
       "      <td>1</td>\n",
       "      <td>1199422800</td>\n",
       "      <td>[{'id': 7, 'name': 'Funny', 'count': 1452}, {'...</td>\n",
       "      <td>[{'id': 148, 'hero': 'https://pe.tedcdn.com/im...</td>\n",
       "      <td>Investor</td>\n",
       "      <td>['comedy', 'humor']</td>\n",
       "      <td>We're worried about local warming ... in your lap</td>\n",
       "      <td>https://www.ted.com/talks/yossi_vardi_fights_l...</td>\n",
       "      <td>933311</td>\n",
       "      <td>2007-03-07</td>\n",
       "      <td>2008-01-04 05:00:00</td>\n",
       "    </tr>\n",
       "    <tr>\n",
       "      <th>985</th>\n",
       "      <td>440</td>\n",
       "      <td>Plenty of robots can fly -- but none can fly l...</td>\n",
       "      <td>379</td>\n",
       "      <td>TEDGlobal 2011</td>\n",
       "      <td>1310688000</td>\n",
       "      <td>45</td>\n",
       "      <td>Markus Fischer</td>\n",
       "      <td>Markus Fischer: A robot that flies like a bird</td>\n",
       "      <td>1</td>\n",
       "      <td>1311344765</td>\n",
       "      <td>[{'id': 23, 'name': 'Jaw-dropping', 'count': 1...</td>\n",
       "      <td>[{'id': 195, 'hero': 'https://pe.tedcdn.com/im...</td>\n",
       "      <td>Designer</td>\n",
       "      <td>['animals', 'biomechanics', 'biomimicry', 'des...</td>\n",
       "      <td>A robot that flies like a bird</td>\n",
       "      <td>https://www.ted.com/talks/a_robot_that_flies_l...</td>\n",
       "      <td>6264902</td>\n",
       "      <td>2011-07-15</td>\n",
       "      <td>2011-07-22 14:26:05</td>\n",
       "    </tr>\n",
       "    <tr>\n",
       "      <th>1772</th>\n",
       "      <td>147</td>\n",
       "      <td>In 1991, Shaka Senghor shot and killed a man. ...</td>\n",
       "      <td>720</td>\n",
       "      <td>TED2014</td>\n",
       "      <td>1395273600</td>\n",
       "      <td>26</td>\n",
       "      <td>Shaka Senghor</td>\n",
       "      <td>Shaka Senghor: Why your worst deeds don’t defi...</td>\n",
       "      <td>1</td>\n",
       "      <td>1403535445</td>\n",
       "      <td>[{'id': 3, 'name': 'Courageous', 'count': 635}...</td>\n",
       "      <td>[{'id': 1286, 'hero': 'https://pe.tedcdn.com/i...</td>\n",
       "      <td>Author</td>\n",
       "      <td>['crime', 'culture', 'prison']</td>\n",
       "      <td>Why your worst deeds don’t define you</td>\n",
       "      <td>https://www.ted.com/talks/shaka_senghor_why_yo...</td>\n",
       "      <td>1439616</td>\n",
       "      <td>2014-03-20</td>\n",
       "      <td>2014-06-23 14:57:25</td>\n",
       "    </tr>\n",
       "    <tr>\n",
       "      <th>2262</th>\n",
       "      <td>43</td>\n",
       "      <td>Summer, 2016: amid populist revolts, clashing ...</td>\n",
       "      <td>997</td>\n",
       "      <td>TEDSummit</td>\n",
       "      <td>1467158400</td>\n",
       "      <td>21</td>\n",
       "      <td>Anand Giridharadas</td>\n",
       "      <td>Anand Giridharadas: A letter to all who have l...</td>\n",
       "      <td>1</td>\n",
       "      <td>1471532545</td>\n",
       "      <td>[{'id': 1, 'name': 'Beautiful', 'count': 206},...</td>\n",
       "      <td>[{'id': 2219, 'hero': 'https://pe.tedcdn.com/i...</td>\n",
       "      <td>Writer</td>\n",
       "      <td>['collaboration', 'communication', 'community'...</td>\n",
       "      <td>A letter to all who have lost in this era</td>\n",
       "      <td>https://www.ted.com/talks/anand_giridharadas_a...</td>\n",
       "      <td>961913</td>\n",
       "      <td>2016-06-29</td>\n",
       "      <td>2016-08-18 15:02:25</td>\n",
       "    </tr>\n",
       "    <tr>\n",
       "      <th>1952</th>\n",
       "      <td>98</td>\n",
       "      <td>With humor and charm, mathematician Eduardo Sá...</td>\n",
       "      <td>581</td>\n",
       "      <td>TEDxRiodelaPlata</td>\n",
       "      <td>1412121600</td>\n",
       "      <td>24</td>\n",
       "      <td>Eduardo Sáenz de Cabezón</td>\n",
       "      <td>Eduardo Sáenz de Cabezón: Math is forever</td>\n",
       "      <td>1</td>\n",
       "      <td>1428421985</td>\n",
       "      <td>[{'id': 8, 'name': 'Informative', 'count': 349...</td>\n",
       "      <td>[{'id': 1811, 'hero': 'https://pe.tedcdn.com/i...</td>\n",
       "      <td>Math educator</td>\n",
       "      <td>['TED en Español', 'TEDx', 'humor', 'math', 's...</td>\n",
       "      <td>Math is forever</td>\n",
       "      <td>https://www.ted.com/talks/eduardo_saenz_de_cab...</td>\n",
       "      <td>1610293</td>\n",
       "      <td>2014-10-01</td>\n",
       "      <td>2015-04-07 15:53:05</td>\n",
       "    </tr>\n",
       "  </tbody>\n",
       "</table>\n",
       "</div>"
      ],
      "text/plain": [
       "      comments                                        description  duration  \\\n",
       "173         71  Investor and prankster Yossi Vardi delivers a ...       375   \n",
       "985        440  Plenty of robots can fly -- but none can fly l...       379   \n",
       "1772       147  In 1991, Shaka Senghor shot and killed a man. ...       720   \n",
       "2262        43  Summer, 2016: amid populist revolts, clashing ...       997   \n",
       "1952        98  With humor and charm, mathematician Eduardo Sá...       581   \n",
       "\n",
       "                 event   film_date  languages              main_speaker  \\\n",
       "173            TED2007  1173225600         28               Yossi Vardi   \n",
       "985     TEDGlobal 2011  1310688000         45            Markus Fischer   \n",
       "1772           TED2014  1395273600         26             Shaka Senghor   \n",
       "2262         TEDSummit  1467158400         21        Anand Giridharadas   \n",
       "1952  TEDxRiodelaPlata  1412121600         24  Eduardo Sáenz de Cabezón   \n",
       "\n",
       "                                                   name  num_speaker  \\\n",
       "173   Yossi Vardi: We're worried about local warming...            1   \n",
       "985      Markus Fischer: A robot that flies like a bird            1   \n",
       "1772  Shaka Senghor: Why your worst deeds don’t defi...            1   \n",
       "2262  Anand Giridharadas: A letter to all who have l...            1   \n",
       "1952          Eduardo Sáenz de Cabezón: Math is forever            1   \n",
       "\n",
       "      published_date                                            ratings  \\\n",
       "173       1199422800  [{'id': 7, 'name': 'Funny', 'count': 1452}, {'...   \n",
       "985       1311344765  [{'id': 23, 'name': 'Jaw-dropping', 'count': 1...   \n",
       "1772      1403535445  [{'id': 3, 'name': 'Courageous', 'count': 635}...   \n",
       "2262      1471532545  [{'id': 1, 'name': 'Beautiful', 'count': 206},...   \n",
       "1952      1428421985  [{'id': 8, 'name': 'Informative', 'count': 349...   \n",
       "\n",
       "                                          related_talks speaker_occupation  \\\n",
       "173   [{'id': 148, 'hero': 'https://pe.tedcdn.com/im...           Investor   \n",
       "985   [{'id': 195, 'hero': 'https://pe.tedcdn.com/im...           Designer   \n",
       "1772  [{'id': 1286, 'hero': 'https://pe.tedcdn.com/i...             Author   \n",
       "2262  [{'id': 2219, 'hero': 'https://pe.tedcdn.com/i...             Writer   \n",
       "1952  [{'id': 1811, 'hero': 'https://pe.tedcdn.com/i...      Math educator   \n",
       "\n",
       "                                                   tags  \\\n",
       "173                                 ['comedy', 'humor']   \n",
       "985   ['animals', 'biomechanics', 'biomimicry', 'des...   \n",
       "1772                     ['crime', 'culture', 'prison']   \n",
       "2262  ['collaboration', 'communication', 'community'...   \n",
       "1952  ['TED en Español', 'TEDx', 'humor', 'math', 's...   \n",
       "\n",
       "                                                  title  \\\n",
       "173   We're worried about local warming ... in your lap   \n",
       "985                      A robot that flies like a bird   \n",
       "1772              Why your worst deeds don’t define you   \n",
       "2262          A letter to all who have lost in this era   \n",
       "1952                                    Math is forever   \n",
       "\n",
       "                                                    url    views filming_date  \\\n",
       "173   https://www.ted.com/talks/yossi_vardi_fights_l...   933311   2007-03-07   \n",
       "985   https://www.ted.com/talks/a_robot_that_flies_l...  6264902   2011-07-15   \n",
       "1772  https://www.ted.com/talks/shaka_senghor_why_yo...  1439616   2014-03-20   \n",
       "2262  https://www.ted.com/talks/anand_giridharadas_a...   961913   2016-06-29   \n",
       "1952  https://www.ted.com/talks/eduardo_saenz_de_cab...  1610293   2014-10-01   \n",
       "\n",
       "        publication_date  \n",
       "173  2008-01-04 05:00:00  \n",
       "985  2011-07-22 14:26:05  \n",
       "1772 2014-06-23 14:57:25  \n",
       "2262 2016-08-18 15:02:25  \n",
       "1952 2015-04-07 15:53:05  "
      ]
     },
     "execution_count": 103,
     "metadata": {},
     "output_type": "execute_result"
    }
   ],
   "source": [
    "ted.sample(5)"
   ]
  },
  {
   "cell_type": "markdown",
   "metadata": {},
   "source": [
    "### Drop columns that are no longer needed"
   ]
  },
  {
   "cell_type": "code",
   "execution_count": 104,
   "metadata": {},
   "outputs": [],
   "source": [
    "ted.drop(columns=['film_date', 'published_date'], inplace=True)"
   ]
  },
  {
   "cell_type": "code",
   "execution_count": 105,
   "metadata": {},
   "outputs": [
    {
     "data": {
      "text/plain": [
       "Index(['comments', 'description', 'duration', 'event', 'languages',\n",
       "       'main_speaker', 'name', 'num_speaker', 'ratings', 'related_talks',\n",
       "       'speaker_occupation', 'tags', 'title', 'url', 'views', 'filming_date',\n",
       "       'publication_date'],\n",
       "      dtype='object')"
      ]
     },
     "execution_count": 105,
     "metadata": {},
     "output_type": "execute_result"
    }
   ],
   "source": [
    "ted.columns"
   ]
  },
  {
   "cell_type": "markdown",
   "metadata": {},
   "source": [
    "### How to change columns' names? \n",
    "\n",
    "The most flexible method for renaming columns is the `rename()` method. One should pass it a dictionary in which the keys are the old column names, while the values are the new names, and specify the axis to be 'columns'."
   ]
  },
  {
   "cell_type": "markdown",
   "metadata": {},
   "source": [
    "For example, rename columns 'comments' and 'views' to 'comment_count' and 'view_count', respectively"
   ]
  },
  {
   "cell_type": "code",
   "execution_count": 106,
   "metadata": {},
   "outputs": [],
   "source": [
    "ted = ted.rename({'comments':'comment_count', 'views':'view_count'}, axis='columns')"
   ]
  },
  {
   "cell_type": "code",
   "execution_count": 107,
   "metadata": {},
   "outputs": [
    {
     "data": {
      "text/plain": [
       "Index(['comment_count', 'description', 'duration', 'event', 'languages',\n",
       "       'main_speaker', 'name', 'num_speaker', 'ratings', 'related_talks',\n",
       "       'speaker_occupation', 'tags', 'title', 'url', 'view_count',\n",
       "       'filming_date', 'publication_date'],\n",
       "      dtype='object')"
      ]
     },
     "execution_count": 107,
     "metadata": {},
     "output_type": "execute_result"
    }
   ],
   "source": [
    "ted.columns"
   ]
  },
  {
   "cell_type": "markdown",
   "metadata": {},
   "source": [
    "In case you may need that, you can get column names as a list, as follows:"
   ]
  },
  {
   "cell_type": "code",
   "execution_count": 108,
   "metadata": {},
   "outputs": [
    {
     "data": {
      "text/plain": [
       "['comment_count',\n",
       " 'description',\n",
       " 'duration',\n",
       " 'event',\n",
       " 'languages',\n",
       " 'main_speaker',\n",
       " 'name',\n",
       " 'num_speaker',\n",
       " 'ratings',\n",
       " 'related_talks',\n",
       " 'speaker_occupation',\n",
       " 'tags',\n",
       " 'title',\n",
       " 'url',\n",
       " 'view_count',\n",
       " 'filming_date',\n",
       " 'publication_date']"
      ]
     },
     "execution_count": 108,
     "metadata": {},
     "output_type": "execute_result"
    }
   ],
   "source": [
    "ted.columns.values.tolist()"
   ]
  },
  {
   "cell_type": "markdown",
   "metadata": {},
   "source": [
    "## Task 1: Compute and plot the number of talks that took place each year"
   ]
  },
  {
   "cell_type": "markdown",
   "metadata": {},
   "source": [
    "To do this, we need to extract the year from the filming date, and group talks on the year basis.\n",
    "\n",
    "First, add the event_year column"
   ]
  },
  {
   "cell_type": "code",
   "execution_count": 109,
   "metadata": {},
   "outputs": [
    {
     "data": {
      "text/plain": [
       "0    2006\n",
       "1    2006\n",
       "2    2006\n",
       "3    2006\n",
       "4    2006\n",
       "Name: event_year, dtype: int64"
      ]
     },
     "execution_count": 109,
     "metadata": {},
     "output_type": "execute_result"
    }
   ],
   "source": [
    "ted['event_year'] = ted['filming_date'].dt.year\n",
    "ted.event_year.head()"
   ]
  },
  {
   "cell_type": "markdown",
   "metadata": {},
   "source": [
    "Then, compute the number of talks per year"
   ]
  },
  {
   "cell_type": "code",
   "execution_count": 110,
   "metadata": {},
   "outputs": [
    {
     "data": {
      "text/plain": [
       "2013    270\n",
       "2011    270\n",
       "2010    267\n",
       "2012    267\n",
       "2016    246\n",
       "2015    239\n",
       "2014    237\n",
       "2009    232\n",
       "2007    114\n",
       "2017     98\n",
       "2008     84\n",
       "2005     66\n",
       "2006     50\n",
       "2003     33\n",
       "2004     33\n",
       "2002     27\n",
       "1998      6\n",
       "2001      5\n",
       "1983      1\n",
       "1991      1\n",
       "1994      1\n",
       "1990      1\n",
       "1984      1\n",
       "1972      1\n",
       "Name: event_year, dtype: int64"
      ]
     },
     "execution_count": 110,
     "metadata": {},
     "output_type": "execute_result"
    }
   ],
   "source": [
    "ted.event_year.value_counts()"
   ]
  },
  {
   "cell_type": "markdown",
   "metadata": {},
   "source": [
    "Note that the counts are by default sorted in descending order of count value. This is fine if we are interested in identifying years with the highest / lowest number of talks. <br>\n",
    "However, if we want to plot the number of talks per year, we need the talk counts ordered based on the year. To get that, we can do the sort based on the index:"
   ]
  },
  {
   "cell_type": "code",
   "execution_count": 111,
   "metadata": {},
   "outputs": [],
   "source": [
    "talks_per_year = ted.event_year.value_counts()\n",
    "talks_per_year.sort_index(inplace=True)"
   ]
  },
  {
   "cell_type": "code",
   "execution_count": 112,
   "metadata": {},
   "outputs": [
    {
     "data": {
      "text/plain": [
       "1972      1\n",
       "1983      1\n",
       "1984      1\n",
       "1990      1\n",
       "1991      1\n",
       "1994      1\n",
       "1998      6\n",
       "2001      5\n",
       "2002     27\n",
       "2003     33\n",
       "2004     33\n",
       "2005     66\n",
       "2006     50\n",
       "2007    114\n",
       "2008     84\n",
       "2009    232\n",
       "2010    267\n",
       "2011    270\n",
       "2012    267\n",
       "2013    270\n",
       "2014    237\n",
       "2015    239\n",
       "2016    246\n",
       "2017     98\n",
       "Name: event_year, dtype: int64"
      ]
     },
     "execution_count": 112,
     "metadata": {},
     "output_type": "execute_result"
    }
   ],
   "source": [
    "talks_per_year"
   ]
  },
  {
   "cell_type": "markdown",
   "metadata": {},
   "source": [
    "Now, we can plot talk counts across years"
   ]
  },
  {
   "cell_type": "code",
   "execution_count": 113,
   "metadata": {},
   "outputs": [
    {
     "data": {
      "image/png": "[encoded data removed]",
      "text/plain": [
       "<Figure size 648x360 with 1 Axes>"
      ]
     },
     "metadata": {
      "needs_background": "light"
     },
     "output_type": "display_data"
    }
   ],
   "source": [
    "plt.figure(figsize=(9,5))\n",
    "plt.plot(talks_per_year.index, talks_per_year.values, marker='*')\n",
    "plt.xticks(talks_per_year.index, rotation='vertical', size=8)\n",
    "plt.title(\"Number of TED talks per year\")\n",
    "plt.show()"
   ]
  },
  {
   "cell_type": "markdown",
   "metadata": {},
   "source": [
    "## Task 2: Which TED events attracted the most attention?\n",
    "\n",
    "Consider the number of views as a proxy of an event's attractiveness"
   ]
  },
  {
   "cell_type": "code",
   "execution_count": 114,
   "metadata": {},
   "outputs": [
    {
     "data": {
      "text/html": [
       "<div>\n",
       "<style scoped>\n",
       "    .dataframe tbody tr th:only-of-type {\n",
       "        vertical-align: middle;\n",
       "    }\n",
       "\n",
       "    .dataframe tbody tr th {\n",
       "        vertical-align: top;\n",
       "    }\n",
       "\n",
       "    .dataframe thead th {\n",
       "        text-align: right;\n",
       "    }\n",
       "</style>\n",
       "<table border=\"1\" class=\"dataframe\">\n",
       "  <thead>\n",
       "    <tr style=\"text-align: right;\">\n",
       "      <th></th>\n",
       "      <th>comment_count</th>\n",
       "      <th>description</th>\n",
       "      <th>duration</th>\n",
       "      <th>event</th>\n",
       "      <th>languages</th>\n",
       "      <th>main_speaker</th>\n",
       "      <th>name</th>\n",
       "      <th>num_speaker</th>\n",
       "      <th>ratings</th>\n",
       "      <th>related_talks</th>\n",
       "      <th>speaker_occupation</th>\n",
       "      <th>tags</th>\n",
       "      <th>title</th>\n",
       "      <th>url</th>\n",
       "      <th>view_count</th>\n",
       "      <th>filming_date</th>\n",
       "      <th>publication_date</th>\n",
       "      <th>event_year</th>\n",
       "    </tr>\n",
       "  </thead>\n",
       "  <tbody>\n",
       "    <tr>\n",
       "      <th>0</th>\n",
       "      <td>4553</td>\n",
       "      <td>Sir Ken Robinson makes an entertaining and pro...</td>\n",
       "      <td>1164</td>\n",
       "      <td>TED2006</td>\n",
       "      <td>60</td>\n",
       "      <td>Ken Robinson</td>\n",
       "      <td>Ken Robinson: Do schools kill creativity?</td>\n",
       "      <td>1</td>\n",
       "      <td>[{'id': 7, 'name': 'Funny', 'count': 19645}, {...</td>\n",
       "      <td>[{'id': 865, 'hero': 'https://pe.tedcdn.com/im...</td>\n",
       "      <td>Author/educator</td>\n",
       "      <td>['children', 'creativity', 'culture', 'dance',...</td>\n",
       "      <td>Do schools kill creativity?</td>\n",
       "      <td>https://www.ted.com/talks/ken_robinson_says_sc...</td>\n",
       "      <td>47227110</td>\n",
       "      <td>2006-02-25</td>\n",
       "      <td>2006-06-27 00:11:00</td>\n",
       "      <td>2006</td>\n",
       "    </tr>\n",
       "    <tr>\n",
       "      <th>1</th>\n",
       "      <td>265</td>\n",
       "      <td>With the same humor and humanity he exuded in ...</td>\n",
       "      <td>977</td>\n",
       "      <td>TED2006</td>\n",
       "      <td>43</td>\n",
       "      <td>Al Gore</td>\n",
       "      <td>Al Gore: Averting the climate crisis</td>\n",
       "      <td>1</td>\n",
       "      <td>[{'id': 7, 'name': 'Funny', 'count': 544}, {'i...</td>\n",
       "      <td>[{'id': 243, 'hero': 'https://pe.tedcdn.com/im...</td>\n",
       "      <td>Climate advocate</td>\n",
       "      <td>['alternative energy', 'cars', 'climate change...</td>\n",
       "      <td>Averting the climate crisis</td>\n",
       "      <td>https://www.ted.com/talks/al_gore_on_averting_...</td>\n",
       "      <td>3200520</td>\n",
       "      <td>2006-02-25</td>\n",
       "      <td>2006-06-27 00:11:00</td>\n",
       "      <td>2006</td>\n",
       "    </tr>\n",
       "    <tr>\n",
       "      <th>2</th>\n",
       "      <td>124</td>\n",
       "      <td>New York Times columnist David Pogue takes aim...</td>\n",
       "      <td>1286</td>\n",
       "      <td>TED2006</td>\n",
       "      <td>26</td>\n",
       "      <td>David Pogue</td>\n",
       "      <td>David Pogue: Simplicity sells</td>\n",
       "      <td>1</td>\n",
       "      <td>[{'id': 7, 'name': 'Funny', 'count': 964}, {'i...</td>\n",
       "      <td>[{'id': 1725, 'hero': 'https://pe.tedcdn.com/i...</td>\n",
       "      <td>Technology columnist</td>\n",
       "      <td>['computers', 'entertainment', 'interface desi...</td>\n",
       "      <td>Simplicity sells</td>\n",
       "      <td>https://www.ted.com/talks/david_pogue_says_sim...</td>\n",
       "      <td>1636292</td>\n",
       "      <td>2006-02-24</td>\n",
       "      <td>2006-06-27 00:11:00</td>\n",
       "      <td>2006</td>\n",
       "    </tr>\n",
       "    <tr>\n",
       "      <th>3</th>\n",
       "      <td>200</td>\n",
       "      <td>In an emotionally charged talk, MacArthur-winn...</td>\n",
       "      <td>1116</td>\n",
       "      <td>TED2006</td>\n",
       "      <td>35</td>\n",
       "      <td>Majora Carter</td>\n",
       "      <td>Majora Carter: Greening the ghetto</td>\n",
       "      <td>1</td>\n",
       "      <td>[{'id': 3, 'name': 'Courageous', 'count': 760}...</td>\n",
       "      <td>[{'id': 1041, 'hero': 'https://pe.tedcdn.com/i...</td>\n",
       "      <td>Activist for environmental justice</td>\n",
       "      <td>['MacArthur grant', 'activism', 'business', 'c...</td>\n",
       "      <td>Greening the ghetto</td>\n",
       "      <td>https://www.ted.com/talks/majora_carter_s_tale...</td>\n",
       "      <td>1697550</td>\n",
       "      <td>2006-02-26</td>\n",
       "      <td>2006-06-27 00:11:00</td>\n",
       "      <td>2006</td>\n",
       "    </tr>\n",
       "  </tbody>\n",
       "</table>\n",
       "</div>"
      ],
      "text/plain": [
       "   comment_count                                        description  duration  \\\n",
       "0           4553  Sir Ken Robinson makes an entertaining and pro...      1164   \n",
       "1            265  With the same humor and humanity he exuded in ...       977   \n",
       "2            124  New York Times columnist David Pogue takes aim...      1286   \n",
       "3            200  In an emotionally charged talk, MacArthur-winn...      1116   \n",
       "\n",
       "     event  languages   main_speaker  \\\n",
       "0  TED2006         60   Ken Robinson   \n",
       "1  TED2006         43        Al Gore   \n",
       "2  TED2006         26    David Pogue   \n",
       "3  TED2006         35  Majora Carter   \n",
       "\n",
       "                                        name  num_speaker  \\\n",
       "0  Ken Robinson: Do schools kill creativity?            1   \n",
       "1       Al Gore: Averting the climate crisis            1   \n",
       "2              David Pogue: Simplicity sells            1   \n",
       "3         Majora Carter: Greening the ghetto            1   \n",
       "\n",
       "                                             ratings  \\\n",
       "0  [{'id': 7, 'name': 'Funny', 'count': 19645}, {...   \n",
       "1  [{'id': 7, 'name': 'Funny', 'count': 544}, {'i...   \n",
       "2  [{'id': 7, 'name': 'Funny', 'count': 964}, {'i...   \n",
       "3  [{'id': 3, 'name': 'Courageous', 'count': 760}...   \n",
       "\n",
       "                                       related_talks  \\\n",
       "0  [{'id': 865, 'hero': 'https://pe.tedcdn.com/im...   \n",
       "1  [{'id': 243, 'hero': 'https://pe.tedcdn.com/im...   \n",
       "2  [{'id': 1725, 'hero': 'https://pe.tedcdn.com/i...   \n",
       "3  [{'id': 1041, 'hero': 'https://pe.tedcdn.com/i...   \n",
       "\n",
       "                   speaker_occupation  \\\n",
       "0                     Author/educator   \n",
       "1                    Climate advocate   \n",
       "2                Technology columnist   \n",
       "3  Activist for environmental justice   \n",
       "\n",
       "                                                tags  \\\n",
       "0  ['children', 'creativity', 'culture', 'dance',...   \n",
       "1  ['alternative energy', 'cars', 'climate change...   \n",
       "2  ['computers', 'entertainment', 'interface desi...   \n",
       "3  ['MacArthur grant', 'activism', 'business', 'c...   \n",
       "\n",
       "                         title  \\\n",
       "0  Do schools kill creativity?   \n",
       "1  Averting the climate crisis   \n",
       "2             Simplicity sells   \n",
       "3          Greening the ghetto   \n",
       "\n",
       "                                                 url  view_count filming_date  \\\n",
       "0  https://www.ted.com/talks/ken_robinson_says_sc...    47227110   2006-02-25   \n",
       "1  https://www.ted.com/talks/al_gore_on_averting_...     3200520   2006-02-25   \n",
       "2  https://www.ted.com/talks/david_pogue_says_sim...     1636292   2006-02-24   \n",
       "3  https://www.ted.com/talks/majora_carter_s_tale...     1697550   2006-02-26   \n",
       "\n",
       "     publication_date  event_year  \n",
       "0 2006-06-27 00:11:00        2006  \n",
       "1 2006-06-27 00:11:00        2006  \n",
       "2 2006-06-27 00:11:00        2006  \n",
       "3 2006-06-27 00:11:00        2006  "
      ]
     },
     "execution_count": 114,
     "metadata": {},
     "output_type": "execute_result"
    }
   ],
   "source": [
    "ted.head(4)"
   ]
  },
  {
   "cell_type": "markdown",
   "metadata": {},
   "source": [
    "Compute average number of views per talk during each event"
   ]
  },
  {
   "cell_type": "code",
   "execution_count": 115,
   "metadata": {},
   "outputs": [
    {
     "data": {
      "text/plain": [
       "event\n",
       "TEDxPuget Sound           34309432.0\n",
       "TEDxHouston               16140250.5\n",
       "TEDxBloomington            9484259.5\n",
       "TEDxCreativeCoast          8444981.0\n",
       "TEDxNorrkoping             6569493.0\n",
       "                             ...    \n",
       "TEDxNASA@SiliconValley      155895.0\n",
       "AORN Congress               149818.0\n",
       "TEDxWaterloo                138812.0\n",
       "TEDxIslay                   120274.0\n",
       "The Do Lectures             112321.0\n",
       "Name: view_count, Length: 355, dtype: float64"
      ]
     },
     "execution_count": 115,
     "metadata": {},
     "output_type": "execute_result"
    }
   ],
   "source": [
    "ted.groupby('event').view_count.mean().sort_values(ascending=False)"
   ]
  },
  {
   "cell_type": "markdown",
   "metadata": {},
   "source": [
    "It might be the case that some of these events got high mean views due to having a small number of very popular talks, or even just one very popular talk. So, consider also the number of talks at each event.\n",
    "\n",
    "To aggregate data based on more than one function (e.g., in this case, mean and count), we can follow `groupby()` with the `agg()` function that receives a list of aggregation functions we want to apply to the grouped data."
   ]
  },
  {
   "cell_type": "code",
   "execution_count": 116,
   "metadata": {},
   "outputs": [
    {
     "data": {
      "text/html": [
       "<div>\n",
       "<style scoped>\n",
       "    .dataframe tbody tr th:only-of-type {\n",
       "        vertical-align: middle;\n",
       "    }\n",
       "\n",
       "    .dataframe tbody tr th {\n",
       "        vertical-align: top;\n",
       "    }\n",
       "\n",
       "    .dataframe thead th {\n",
       "        text-align: right;\n",
       "    }\n",
       "</style>\n",
       "<table border=\"1\" class=\"dataframe\">\n",
       "  <thead>\n",
       "    <tr style=\"text-align: right;\">\n",
       "      <th></th>\n",
       "      <th>count</th>\n",
       "      <th>mean</th>\n",
       "    </tr>\n",
       "    <tr>\n",
       "      <th>event</th>\n",
       "      <th></th>\n",
       "      <th></th>\n",
       "    </tr>\n",
       "  </thead>\n",
       "  <tbody>\n",
       "    <tr>\n",
       "      <th>AORN Congress</th>\n",
       "      <td>1</td>\n",
       "      <td>149818.0</td>\n",
       "    </tr>\n",
       "    <tr>\n",
       "      <th>Arbejdsglaede Live</th>\n",
       "      <td>1</td>\n",
       "      <td>971594.0</td>\n",
       "    </tr>\n",
       "    <tr>\n",
       "      <th>BBC TV</th>\n",
       "      <td>1</td>\n",
       "      <td>521974.0</td>\n",
       "    </tr>\n",
       "    <tr>\n",
       "      <th>Bowery Poetry Club</th>\n",
       "      <td>1</td>\n",
       "      <td>676741.0</td>\n",
       "    </tr>\n",
       "    <tr>\n",
       "      <th>Business Innovation Factory</th>\n",
       "      <td>3</td>\n",
       "      <td>304086.0</td>\n",
       "    </tr>\n",
       "  </tbody>\n",
       "</table>\n",
       "</div>"
      ],
      "text/plain": [
       "                             count      mean\n",
       "event                                       \n",
       "AORN Congress                    1  149818.0\n",
       "Arbejdsglaede Live               1  971594.0\n",
       "BBC TV                           1  521974.0\n",
       "Bowery Poetry Club               1  676741.0\n",
       "Business Innovation Factory      3  304086.0"
      ]
     },
     "execution_count": 116,
     "metadata": {},
     "output_type": "execute_result"
    }
   ],
   "source": [
    "ted.groupby('event').view_count.agg(['count', 'mean']).head()"
   ]
  },
  {
   "cell_type": "markdown",
   "metadata": {},
   "source": [
    "Let's store the results in a new data frame"
   ]
  },
  {
   "cell_type": "code",
   "execution_count": 117,
   "metadata": {},
   "outputs": [],
   "source": [
    "events_views = ted.groupby('event').view_count.agg(['count', 'mean'])"
   ]
  },
  {
   "cell_type": "code",
   "execution_count": 118,
   "metadata": {},
   "outputs": [],
   "source": [
    "events_views.columns = ['talk_count', 'mean_views']"
   ]
  },
  {
   "cell_type": "markdown",
   "metadata": {},
   "source": [
    "Now, we can examine, for each event, both the average number of views and number of talks"
   ]
  },
  {
   "cell_type": "code",
   "execution_count": 119,
   "metadata": {},
   "outputs": [
    {
     "data": {
      "text/html": [
       "<div>\n",
       "<style scoped>\n",
       "    .dataframe tbody tr th:only-of-type {\n",
       "        vertical-align: middle;\n",
       "    }\n",
       "\n",
       "    .dataframe tbody tr th {\n",
       "        vertical-align: top;\n",
       "    }\n",
       "\n",
       "    .dataframe thead th {\n",
       "        text-align: right;\n",
       "    }\n",
       "</style>\n",
       "<table border=\"1\" class=\"dataframe\">\n",
       "  <thead>\n",
       "    <tr style=\"text-align: right;\">\n",
       "      <th></th>\n",
       "      <th>talk_count</th>\n",
       "      <th>mean_views</th>\n",
       "    </tr>\n",
       "    <tr>\n",
       "      <th>event</th>\n",
       "      <th></th>\n",
       "      <th></th>\n",
       "    </tr>\n",
       "  </thead>\n",
       "  <tbody>\n",
       "    <tr>\n",
       "      <th>TEDxPuget Sound</th>\n",
       "      <td>1</td>\n",
       "      <td>34309432.0</td>\n",
       "    </tr>\n",
       "    <tr>\n",
       "      <th>TEDxHouston</th>\n",
       "      <td>2</td>\n",
       "      <td>16140250.5</td>\n",
       "    </tr>\n",
       "    <tr>\n",
       "      <th>TEDxBloomington</th>\n",
       "      <td>2</td>\n",
       "      <td>9484259.5</td>\n",
       "    </tr>\n",
       "    <tr>\n",
       "      <th>TEDxCreativeCoast</th>\n",
       "      <td>1</td>\n",
       "      <td>8444981.0</td>\n",
       "    </tr>\n",
       "    <tr>\n",
       "      <th>TEDxNorrkoping</th>\n",
       "      <td>1</td>\n",
       "      <td>6569493.0</td>\n",
       "    </tr>\n",
       "    <tr>\n",
       "      <th>TEDxUW</th>\n",
       "      <td>1</td>\n",
       "      <td>5917201.0</td>\n",
       "    </tr>\n",
       "    <tr>\n",
       "      <th>TEDxLinnaeusUniversity</th>\n",
       "      <td>1</td>\n",
       "      <td>4984884.0</td>\n",
       "    </tr>\n",
       "    <tr>\n",
       "      <th>TEDxGoldenGatePark 2012</th>\n",
       "      <td>1</td>\n",
       "      <td>4811180.0</td>\n",
       "    </tr>\n",
       "    <tr>\n",
       "      <th>TEDxCHUV</th>\n",
       "      <td>1</td>\n",
       "      <td>4682458.0</td>\n",
       "    </tr>\n",
       "    <tr>\n",
       "      <th>Stanford University</th>\n",
       "      <td>2</td>\n",
       "      <td>4658636.5</td>\n",
       "    </tr>\n",
       "  </tbody>\n",
       "</table>\n",
       "</div>"
      ],
      "text/plain": [
       "                         talk_count  mean_views\n",
       "event                                          \n",
       "TEDxPuget Sound                   1  34309432.0\n",
       "TEDxHouston                       2  16140250.5\n",
       "TEDxBloomington                   2   9484259.5\n",
       "TEDxCreativeCoast                 1   8444981.0\n",
       "TEDxNorrkoping                    1   6569493.0\n",
       "TEDxUW                            1   5917201.0\n",
       "TEDxLinnaeusUniversity            1   4984884.0\n",
       "TEDxGoldenGatePark 2012           1   4811180.0\n",
       "TEDxCHUV                          1   4682458.0\n",
       "Stanford University               2   4658636.5"
      ]
     },
     "execution_count": 119,
     "metadata": {},
     "output_type": "execute_result"
    }
   ],
   "source": [
    "events_views.sort_values(by='mean_views', ascending=False).head(10)"
   ]
  },
  {
   "cell_type": "markdown",
   "metadata": {},
   "source": [
    "Note that all top 10 events (based on the average views) had at most 2 talks. <br>\n",
    "Let's check the stats for the number of talks and mean views per event"
   ]
  },
  {
   "cell_type": "code",
   "execution_count": 120,
   "metadata": {},
   "outputs": [
    {
     "data": {
      "text/html": [
       "<div>\n",
       "<style scoped>\n",
       "    .dataframe tbody tr th:only-of-type {\n",
       "        vertical-align: middle;\n",
       "    }\n",
       "\n",
       "    .dataframe tbody tr th {\n",
       "        vertical-align: top;\n",
       "    }\n",
       "\n",
       "    .dataframe thead th {\n",
       "        text-align: right;\n",
       "    }\n",
       "</style>\n",
       "<table border=\"1\" class=\"dataframe\">\n",
       "  <thead>\n",
       "    <tr style=\"text-align: right;\">\n",
       "      <th></th>\n",
       "      <th>talk_count</th>\n",
       "      <th>mean_views</th>\n",
       "    </tr>\n",
       "  </thead>\n",
       "  <tbody>\n",
       "    <tr>\n",
       "      <th>count</th>\n",
       "      <td>355.000000</td>\n",
       "      <td>3.550000e+02</td>\n",
       "    </tr>\n",
       "    <tr>\n",
       "      <th>mean</th>\n",
       "      <td>7.183099</td>\n",
       "      <td>1.527689e+06</td>\n",
       "    </tr>\n",
       "    <tr>\n",
       "      <th>std</th>\n",
       "      <td>15.265735</td>\n",
       "      <td>2.205832e+06</td>\n",
       "    </tr>\n",
       "    <tr>\n",
       "      <th>min</th>\n",
       "      <td>1.000000</td>\n",
       "      <td>1.123210e+05</td>\n",
       "    </tr>\n",
       "    <tr>\n",
       "      <th>25%</th>\n",
       "      <td>1.000000</td>\n",
       "      <td>7.594215e+05</td>\n",
       "    </tr>\n",
       "    <tr>\n",
       "      <th>50%</th>\n",
       "      <td>2.000000</td>\n",
       "      <td>1.187105e+06</td>\n",
       "    </tr>\n",
       "    <tr>\n",
       "      <th>75%</th>\n",
       "      <td>5.000000</td>\n",
       "      <td>1.715774e+06</td>\n",
       "    </tr>\n",
       "    <tr>\n",
       "      <th>max</th>\n",
       "      <td>84.000000</td>\n",
       "      <td>3.430943e+07</td>\n",
       "    </tr>\n",
       "  </tbody>\n",
       "</table>\n",
       "</div>"
      ],
      "text/plain": [
       "       talk_count    mean_views\n",
       "count  355.000000  3.550000e+02\n",
       "mean     7.183099  1.527689e+06\n",
       "std     15.265735  2.205832e+06\n",
       "min      1.000000  1.123210e+05\n",
       "25%      1.000000  7.594215e+05\n",
       "50%      2.000000  1.187105e+06\n",
       "75%      5.000000  1.715774e+06\n",
       "max     84.000000  3.430943e+07"
      ]
     },
     "execution_count": 120,
     "metadata": {},
     "output_type": "execute_result"
    }
   ],
   "source": [
    "events_views.describe()"
   ]
  },
  {
   "cell_type": "markdown",
   "metadata": {},
   "source": [
    "To get some further insights, let's consider only those events with above average number of talks. Considering highly skewed distribution, we'll use median as the average value"
   ]
  },
  {
   "cell_type": "code",
   "execution_count": 121,
   "metadata": {},
   "outputs": [],
   "source": [
    "avg_talk_cnt = events_views.describe().loc['50%', 'talk_count']"
   ]
  },
  {
   "cell_type": "code",
   "execution_count": 122,
   "metadata": {},
   "outputs": [
    {
     "data": {
      "text/html": [
       "<div>\n",
       "<style scoped>\n",
       "    .dataframe tbody tr th:only-of-type {\n",
       "        vertical-align: middle;\n",
       "    }\n",
       "\n",
       "    .dataframe tbody tr th {\n",
       "        vertical-align: top;\n",
       "    }\n",
       "\n",
       "    .dataframe thead th {\n",
       "        text-align: right;\n",
       "    }\n",
       "</style>\n",
       "<table border=\"1\" class=\"dataframe\">\n",
       "  <thead>\n",
       "    <tr style=\"text-align: right;\">\n",
       "      <th></th>\n",
       "      <th>talk_count</th>\n",
       "      <th>mean_views</th>\n",
       "    </tr>\n",
       "    <tr>\n",
       "      <th>event</th>\n",
       "      <th></th>\n",
       "      <th></th>\n",
       "    </tr>\n",
       "  </thead>\n",
       "  <tbody>\n",
       "    <tr>\n",
       "      <th>TED Talks Education</th>\n",
       "      <td>8</td>\n",
       "      <td>4.375104e+06</td>\n",
       "    </tr>\n",
       "    <tr>\n",
       "      <th>TEDGlobal&gt;Geneva</th>\n",
       "      <td>11</td>\n",
       "      <td>3.385408e+06</td>\n",
       "    </tr>\n",
       "    <tr>\n",
       "      <th>TED2006</th>\n",
       "      <td>45</td>\n",
       "      <td>3.274345e+06</td>\n",
       "    </tr>\n",
       "    <tr>\n",
       "      <th>TEDxManhattanBeach</th>\n",
       "      <td>3</td>\n",
       "      <td>3.251704e+06</td>\n",
       "    </tr>\n",
       "    <tr>\n",
       "      <th>TEDSalon NY2013</th>\n",
       "      <td>11</td>\n",
       "      <td>2.861639e+06</td>\n",
       "    </tr>\n",
       "    <tr>\n",
       "      <th>...</th>\n",
       "      <td>...</td>\n",
       "      <td>...</td>\n",
       "    </tr>\n",
       "    <tr>\n",
       "      <th>TEDxYYC</th>\n",
       "      <td>3</td>\n",
       "      <td>3.699607e+05</td>\n",
       "    </tr>\n",
       "    <tr>\n",
       "      <th>Business Innovation Factory</th>\n",
       "      <td>3</td>\n",
       "      <td>3.040860e+05</td>\n",
       "    </tr>\n",
       "    <tr>\n",
       "      <th>TEDxPhoenix</th>\n",
       "      <td>4</td>\n",
       "      <td>2.846855e+05</td>\n",
       "    </tr>\n",
       "    <tr>\n",
       "      <th>TEDSalon 2009 Compassion</th>\n",
       "      <td>3</td>\n",
       "      <td>2.818163e+05</td>\n",
       "    </tr>\n",
       "    <tr>\n",
       "      <th>Chautauqua Institution</th>\n",
       "      <td>3</td>\n",
       "      <td>2.608687e+05</td>\n",
       "    </tr>\n",
       "  </tbody>\n",
       "</table>\n",
       "<p>142 rows × 2 columns</p>\n",
       "</div>"
      ],
      "text/plain": [
       "                             talk_count    mean_views\n",
       "event                                                \n",
       "TED Talks Education                   8  4.375104e+06\n",
       "TEDGlobal>Geneva                     11  3.385408e+06\n",
       "TED2006                              45  3.274345e+06\n",
       "TEDxManhattanBeach                    3  3.251704e+06\n",
       "TEDSalon NY2013                      11  2.861639e+06\n",
       "...                                 ...           ...\n",
       "TEDxYYC                               3  3.699607e+05\n",
       "Business Innovation Factory           3  3.040860e+05\n",
       "TEDxPhoenix                           4  2.846855e+05\n",
       "TEDSalon 2009 Compassion              3  2.818163e+05\n",
       "Chautauqua Institution                3  2.608687e+05\n",
       "\n",
       "[142 rows x 2 columns]"
      ]
     },
     "execution_count": 122,
     "metadata": {},
     "output_type": "execute_result"
    }
   ],
   "source": [
    "events_views.loc[events_views.talk_count > avg_talk_cnt, :].sort_values(by='mean_views', ascending=False)"
   ]
  },
  {
   "cell_type": "markdown",
   "metadata": {},
   "source": [
    "## Task 3: Explore talks based on their ratings"
   ]
  },
  {
   "cell_type": "markdown",
   "metadata": {},
   "source": [
    "Take a closer look at a sample of ratings"
   ]
  },
  {
   "cell_type": "code",
   "execution_count": 123,
   "metadata": {},
   "outputs": [
    {
     "data": {
      "text/plain": [
       "2217    [{'id': 26, 'name': 'Obnoxious', 'count': 23},...\n",
       "1026    [{'id': 1, 'name': 'Beautiful', 'count': 251},...\n",
       "607     [{'id': 26, 'name': 'Obnoxious', 'count': 18},...\n",
       "426     [{'id': 23, 'name': 'Jaw-dropping', 'count': 3...\n",
       "817     [{'id': 21, 'name': 'Unconvincing', 'count': 1...\n",
       "Name: ratings, dtype: object"
      ]
     },
     "execution_count": 123,
     "metadata": {},
     "output_type": "execute_result"
    }
   ],
   "source": [
    "ted.ratings.sample(5)"
   ]
  },
  {
   "cell_type": "code",
   "execution_count": 124,
   "metadata": {},
   "outputs": [
    {
     "data": {
      "text/plain": [
       "\"[{'id': 7, 'name': 'Funny', 'count': 19645}, {'id': 1, 'name': 'Beautiful', 'count': 4573}, {'id': 9, 'name': 'Ingenious', 'count': 6073}, {'id': 3, 'name': 'Courageous', 'count': 3253}, {'id': 11, 'name': 'Longwinded', 'count': 387}, {'id': 2, 'name': 'Confusing', 'count': 242}, {'id': 8, 'name': 'Informative', 'count': 7346}, {'id': 22, 'name': 'Fascinating', 'count': 10581}, {'id': 21, 'name': 'Unconvincing', 'count': 300}, {'id': 24, 'name': 'Persuasive', 'count': 10704}, {'id': 23, 'name': 'Jaw-dropping', 'count': 4439}, {'id': 25, 'name': 'OK', 'count': 1174}, {'id': 26, 'name': 'Obnoxious', 'count': 209}, {'id': 10, 'name': 'Inspiring', 'count': 24924}]\""
      ]
     },
     "execution_count": 124,
     "metadata": {},
     "output_type": "execute_result"
    }
   ],
   "source": [
    "ted.ratings[0]"
   ]
  },
  {
   "cell_type": "markdown",
   "metadata": {},
   "source": [
    "Even though a 'ratings' value looks like a list, it is not"
   ]
  },
  {
   "cell_type": "code",
   "execution_count": 125,
   "metadata": {},
   "outputs": [
    {
     "data": {
      "text/plain": [
       "str"
      ]
     },
     "execution_count": 125,
     "metadata": {},
     "output_type": "execute_result"
    }
   ],
   "source": [
    "type(ted.ratings[0])"
   ]
  },
  {
   "cell_type": "markdown",
   "metadata": {},
   "source": [
    "To convert talk ratings into a list - so that they can be further processed - we will use a function from the Python's `ast` (*Abstract Syntax Tree*) module:\n",
    "\n",
    "`literal_eval()` function allows one to evaluate a string containing a Python literal or container, that is, it can be used to transform a string into a literal value, a list, a tuple or any other container object"
   ]
  },
  {
   "cell_type": "code",
   "execution_count": 126,
   "metadata": {},
   "outputs": [
    {
     "data": {
      "text/plain": [
       "(1, 2, 3, 4)"
      ]
     },
     "execution_count": 126,
     "metadata": {},
     "output_type": "execute_result"
    }
   ],
   "source": [
    "import ast\n",
    "\n",
    "ast.literal_eval('(1,2,3,4)')"
   ]
  },
  {
   "cell_type": "code",
   "execution_count": 127,
   "metadata": {},
   "outputs": [
    {
     "data": {
      "text/plain": [
       "[{'id': 7, 'name': 'Funny', 'count': 19645},\n",
       " {'id': 1, 'name': 'Beautiful', 'count': 4573},\n",
       " {'id': 9, 'name': 'Ingenious', 'count': 6073},\n",
       " {'id': 3, 'name': 'Courageous', 'count': 3253},\n",
       " {'id': 11, 'name': 'Longwinded', 'count': 387},\n",
       " {'id': 2, 'name': 'Confusing', 'count': 242},\n",
       " {'id': 8, 'name': 'Informative', 'count': 7346},\n",
       " {'id': 22, 'name': 'Fascinating', 'count': 10581},\n",
       " {'id': 21, 'name': 'Unconvincing', 'count': 300},\n",
       " {'id': 24, 'name': 'Persuasive', 'count': 10704},\n",
       " {'id': 23, 'name': 'Jaw-dropping', 'count': 4439},\n",
       " {'id': 25, 'name': 'OK', 'count': 1174},\n",
       " {'id': 26, 'name': 'Obnoxious', 'count': 209},\n",
       " {'id': 10, 'name': 'Inspiring', 'count': 24924}]"
      ]
     },
     "execution_count": 127,
     "metadata": {},
     "output_type": "execute_result"
    }
   ],
   "source": [
    "ast.literal_eval(ted.ratings[0])"
   ]
  },
  {
   "cell_type": "code",
   "execution_count": 128,
   "metadata": {},
   "outputs": [
    {
     "data": {
      "text/plain": [
       "list"
      ]
     },
     "execution_count": 128,
     "metadata": {},
     "output_type": "execute_result"
    }
   ],
   "source": [
    "type(ast.literal_eval(ted.ratings[0]))"
   ]
  },
  {
   "cell_type": "markdown",
   "metadata": {},
   "source": [
    "Create a new column for storing ratings as a list, instead of a string.\n",
    "\n",
    "To that end, we will use the `apply()` f. to apply the `ast.literal_eval()` f. to each value of the ratings column"
   ]
  },
  {
   "cell_type": "code",
   "execution_count": 129,
   "metadata": {},
   "outputs": [],
   "source": [
    "ted['ratings_list'] = ted.ratings.apply(ast.literal_eval)"
   ]
  },
  {
   "cell_type": "code",
   "execution_count": 130,
   "metadata": {},
   "outputs": [
    {
     "data": {
      "text/plain": [
       "0    [{'id': 7, 'name': 'Funny', 'count': 19645}, {...\n",
       "1    [{'id': 7, 'name': 'Funny', 'count': 544}, {'i...\n",
       "2    [{'id': 7, 'name': 'Funny', 'count': 964}, {'i...\n",
       "Name: ratings_list, dtype: object"
      ]
     },
     "execution_count": 130,
     "metadata": {},
     "output_type": "execute_result"
    }
   ],
   "source": [
    "ted.ratings_list.head(3)"
   ]
  },
  {
   "cell_type": "markdown",
   "metadata": {},
   "source": [
    "### Task 3.1: For each talk, find the 3 most frequent ratings\n",
    "\n",
    "Add a column with a tuple comprising names of the 3 most frequent ratings for the corresponding talk"
   ]
  },
  {
   "cell_type": "markdown",
   "metadata": {},
   "source": [
    "To do this, we can start from the 'ratings_list' column"
   ]
  },
  {
   "cell_type": "code",
   "execution_count": 131,
   "metadata": {},
   "outputs": [
    {
     "data": {
      "text/plain": [
       "[{'id': 7, 'name': 'Funny', 'count': 19645},\n",
       " {'id': 1, 'name': 'Beautiful', 'count': 4573},\n",
       " {'id': 9, 'name': 'Ingenious', 'count': 6073},\n",
       " {'id': 3, 'name': 'Courageous', 'count': 3253},\n",
       " {'id': 11, 'name': 'Longwinded', 'count': 387},\n",
       " {'id': 2, 'name': 'Confusing', 'count': 242},\n",
       " {'id': 8, 'name': 'Informative', 'count': 7346},\n",
       " {'id': 22, 'name': 'Fascinating', 'count': 10581},\n",
       " {'id': 21, 'name': 'Unconvincing', 'count': 300},\n",
       " {'id': 24, 'name': 'Persuasive', 'count': 10704},\n",
       " {'id': 23, 'name': 'Jaw-dropping', 'count': 4439},\n",
       " {'id': 25, 'name': 'OK', 'count': 1174},\n",
       " {'id': 26, 'name': 'Obnoxious', 'count': 209},\n",
       " {'id': 10, 'name': 'Inspiring', 'count': 24924}]"
      ]
     },
     "execution_count": 131,
     "metadata": {},
     "output_type": "execute_result"
    }
   ],
   "source": [
    "ted.ratings_list[0]"
   ]
  },
  {
   "cell_type": "markdown",
   "metadata": {},
   "source": [
    "One way to approach this task is to create a function that receives a list of ratings for one talk and returns a tuple with the 3 most frequent ratings"
   ]
  },
  {
   "cell_type": "code",
   "execution_count": 132,
   "metadata": {},
   "outputs": [],
   "source": [
    "def most_freq_ratings(ratings):\n",
    "    sorted_ratings = sorted(ratings, key=lambda rating: rating['count'], reverse=True)\n",
    "    return tuple([rating['name'] for rating in sorted_ratings[:3]])"
   ]
  },
  {
   "cell_type": "code",
   "execution_count": 133,
   "metadata": {},
   "outputs": [
    {
     "data": {
      "text/plain": [
       "('Inspiring', 'Funny', 'Persuasive')"
      ]
     },
     "execution_count": 133,
     "metadata": {},
     "output_type": "execute_result"
    }
   ],
   "source": [
    "most_freq_ratings(ted.ratings_list[0])"
   ]
  },
  {
   "cell_type": "markdown",
   "metadata": {},
   "source": [
    "Now, apply the function to the ratings_list of each talk to create a new column (e.g. top3_ratings)"
   ]
  },
  {
   "cell_type": "code",
   "execution_count": 134,
   "metadata": {},
   "outputs": [],
   "source": [
    "ted['top3_ratings'] = ted.ratings_list.apply(most_freq_ratings)"
   ]
  },
  {
   "cell_type": "markdown",
   "metadata": {},
   "source": [
    "Print 'top3_ratings' of the 10 most viewed talks to see what were the primary ways of ratings those talks"
   ]
  },
  {
   "cell_type": "code",
   "execution_count": 135,
   "metadata": {},
   "outputs": [
    {
     "data": {
      "text/plain": [
       "0               (Inspiring, Funny, Persuasive)\n",
       "1346     (Inspiring, Fascinating, Informative)\n",
       "677       (Inspiring, Persuasive, Fascinating)\n",
       "837         (Inspiring, Courageous, Beautiful)\n",
       "452          (Funny, Informative, Fascinating)\n",
       "1776      (Informative, Inspiring, Persuasive)\n",
       "201     (Inspiring, Fascinating, Jaw-dropping)\n",
       "5         (Inspiring, Persuasive, Fascinating)\n",
       "2114           (Funny, Ingenious, Fascinating)\n",
       "1416      (Courageous, Inspiring, Informative)\n",
       "Name: top3_ratings, dtype: object"
      ]
     },
     "execution_count": 135,
     "metadata": {},
     "output_type": "execute_result"
    }
   ],
   "source": [
    "ted.sort_values(by='view_count', ascending=False)['top3_ratings'].head(10)"
   ]
  },
  {
   "cell_type": "markdown",
   "metadata": {},
   "source": [
    "### Task 3.2 Which TED events had the most 'Jaw-dropping' talks?"
   ]
  },
  {
   "cell_type": "markdown",
   "metadata": {},
   "source": [
    "This task can be interpreted in different ways. One way is that we qualify a talk as *jaw-dropping* if 'Jaw dropping' ratings were among the top 3 most frequent kind of ratings for that talk.\n",
    "\n",
    "Let's start by taking a subset of talks that are *jaw-dropping*, as qualified above"
   ]
  },
  {
   "cell_type": "code",
   "execution_count": 136,
   "metadata": {},
   "outputs": [],
   "source": [
    "is_jaw_dropping = lambda ratings: 'Jaw-dropping' in ratings\n",
    "\n",
    "jaw_dropping_talks = ted.loc[ted.top3_ratings.apply(is_jaw_dropping)]"
   ]
  },
  {
   "cell_type": "markdown",
   "metadata": {},
   "source": [
    "Note the selection based on a condition expressed as a function of column (top3_ratings) values"
   ]
  },
  {
   "cell_type": "markdown",
   "metadata": {},
   "source": [
    "Take a sample of jaw dropping talks and check that 'Jaw-dropping' is really among the top 3 ratings"
   ]
  },
  {
   "cell_type": "code",
   "execution_count": 137,
   "metadata": {},
   "outputs": [
    {
     "data": {
      "text/plain": [
       "401       (Jaw-dropping, Fascinating, Ingenious)\n",
       "539       (Fascinating, Ingenious, Jaw-dropping)\n",
       "15          (Jaw-dropping, Beautiful, Inspiring)\n",
       "341     (Fascinating, Informative, Jaw-dropping)\n",
       "2068     (Courageous, Informative, Jaw-dropping)\n",
       "Name: top3_ratings, dtype: object"
      ]
     },
     "execution_count": 137,
     "metadata": {},
     "output_type": "execute_result"
    }
   ],
   "source": [
    "jaw_dropping_talks.top3_ratings.sample(5)"
   ]
  },
  {
   "cell_type": "markdown",
   "metadata": {},
   "source": [
    "To answer the posed question, we can now simply compute the number of talks per event in the newly created data frame with jaw dropping talks"
   ]
  },
  {
   "cell_type": "code",
   "execution_count": 138,
   "metadata": {},
   "outputs": [
    {
     "data": {
      "text/plain": [
       "TED2007                   17\n",
       "TED2009                   16\n",
       "TED2013                   14\n",
       "TED2008                   11\n",
       "TED2011                   10\n",
       "                          ..\n",
       "TEDWomen 2016              1\n",
       "TEDGlobal>London           1\n",
       "TEDxAustin                 1\n",
       "TEDxHousesOfParliament     1\n",
       "TEDxUMKC                   1\n",
       "Name: event, Length: 67, dtype: int64"
      ]
     },
     "execution_count": 138,
     "metadata": {},
     "output_type": "execute_result"
    }
   ],
   "source": [
    "jaw_dropping_talks.event.value_counts()"
   ]
  },
  {
   "cell_type": "markdown",
   "metadata": {},
   "source": [
    "### Task 3.3 Compute the number of positive, negative, and neutral ratings, then add one column for each of these counts\n",
    "\n",
    "This practically means that we should add 3 columns - pos_ratings, neg_ratings, neutral_ratings - with the corresponding rating counts."
   ]
  },
  {
   "cell_type": "markdown",
   "metadata": {},
   "source": [
    "We will achieve this through a multistep process:\n",
    "\n",
    "1) Identify different kinds of rating categories that have been used to characterise talks and classify them as positive, negative, or neutral\n",
    "\n",
    "2) Create a function for computing the number of ratings in each of the 3 classes (positive, negative, neutral)\n",
    "\n",
    "3) Add a column - ratings_counts - storing the computed values as tuples of the form (pos_ratings, neg_ratings, neutral_ratings)\n",
    "\n",
    "4) Transform the ratings_counts column into 3 columns: pos_ratings, neg_ratings, neutral_ratings "
   ]
  },
  {
   "cell_type": "markdown",
   "metadata": {},
   "source": [
    "**Step 1.1**: Identify different kinds of rating categories for each talk and store them as a list in a new, auxiliary column (e.g. rating_categories)"
   ]
  },
  {
   "cell_type": "code",
   "execution_count": 139,
   "metadata": {},
   "outputs": [
    {
     "data": {
      "text/plain": [
       "0    [Funny, Beautiful, Ingenious, Courageous, Long...\n",
       "1    [Funny, Courageous, Confusing, Beautiful, Unco...\n",
       "2    [Funny, Courageous, Ingenious, Beautiful, Unco...\n",
       "3    [Courageous, Beautiful, Confusing, Funny, Inge...\n",
       "4    [Ingenious, Funny, Beautiful, Courageous, Long...\n",
       "Name: rating_categories, dtype: object"
      ]
     },
     "execution_count": 139,
     "metadata": {},
     "output_type": "execute_result"
    }
   ],
   "source": [
    "get_rating_categories = lambda ratings: [r['name'] for r in ratings]\n",
    "\n",
    "ted['rating_categories'] = ted.ratings_list.apply(get_rating_categories)\n",
    "ted.rating_categories.head()"
   ]
  },
  {
   "cell_type": "markdown",
   "metadata": {},
   "source": [
    "Next, we need to identify unique rating categories across the categories lists of all the talks"
   ]
  },
  {
   "cell_type": "code",
   "execution_count": 140,
   "metadata": {},
   "outputs": [
    {
     "data": {
      "text/plain": [
       "{'Beautiful',\n",
       " 'Confusing',\n",
       " 'Courageous',\n",
       " 'Fascinating',\n",
       " 'Funny',\n",
       " 'Informative',\n",
       " 'Ingenious',\n",
       " 'Inspiring',\n",
       " 'Jaw-dropping',\n",
       " 'Longwinded',\n",
       " 'OK',\n",
       " 'Obnoxious',\n",
       " 'Persuasive',\n",
       " 'Unconvincing'}"
      ]
     },
     "execution_count": 140,
     "metadata": {},
     "output_type": "execute_result"
    }
   ],
   "source": [
    "rating_categories_set = set()\n",
    "for rcategoires in ted.rating_categories:\n",
    "    rating_categories_set.update(rcategoires) # update allows for adding multiple elements to a set at once\n",
    "\n",
    "rating_categories_set"
   ]
  },
  {
   "cell_type": "markdown",
   "metadata": {},
   "source": [
    "**Step 1.2**: Classify rating categories as positive, negative, or neutral"
   ]
  },
  {
   "cell_type": "code",
   "execution_count": 141,
   "metadata": {},
   "outputs": [],
   "source": [
    "negative = {'Confusing','Longwinded', 'Obnoxious', 'Unconvincing'}\n",
    "neutral = {'OK'}\n",
    "positive = rating_categories_set - (negative | neutral)"
   ]
  },
  {
   "cell_type": "code",
   "execution_count": 142,
   "metadata": {},
   "outputs": [
    {
     "data": {
      "text/plain": [
       "{'Beautiful',\n",
       " 'Courageous',\n",
       " 'Fascinating',\n",
       " 'Funny',\n",
       " 'Informative',\n",
       " 'Ingenious',\n",
       " 'Inspiring',\n",
       " 'Jaw-dropping',\n",
       " 'Persuasive'}"
      ]
     },
     "execution_count": 142,
     "metadata": {},
     "output_type": "execute_result"
    }
   ],
   "source": [
    "positive"
   ]
  },
  {
   "cell_type": "markdown",
   "metadata": {},
   "source": [
    "**Step 2**: Create a function that computes the number of ratings in each of the 3 classes (positive, negative, neutral)"
   ]
  },
  {
   "cell_type": "code",
   "execution_count": 143,
   "metadata": {},
   "outputs": [],
   "source": [
    "def pos_neg_neutral_ratings_count(ratings):\n",
    "    pos_cnt = neg_cnt = neutral_cnt = 0\n",
    "    for rating in ratings:\n",
    "        if rating['name'] in negative:\n",
    "            neg_cnt += rating['count']\n",
    "        elif rating['name'] in neutral:\n",
    "            neutral_cnt += rating['count']\n",
    "        else:\n",
    "            pos_cnt += rating['count']\n",
    "    return pos_cnt, neg_cnt, neutral_cnt"
   ]
  },
  {
   "cell_type": "code",
   "execution_count": 144,
   "metadata": {},
   "outputs": [
    {
     "data": {
      "text/plain": [
       "(91538, 1138, 1174)"
      ]
     },
     "execution_count": 144,
     "metadata": {},
     "output_type": "execute_result"
    }
   ],
   "source": [
    "pos_neg_neutral_ratings_count(ted.ratings_list[0])"
   ]
  },
  {
   "cell_type": "markdown",
   "metadata": {},
   "source": [
    "**Step 3**: Add a column - *ratings_counts* - storing the output of the `pos_neg_neutral_ratings_count()` function applied to the *ratings_list* column"
   ]
  },
  {
   "cell_type": "code",
   "execution_count": 145,
   "metadata": {},
   "outputs": [],
   "source": [
    "ted['ratings_counts'] = ted.ratings_list.apply(pos_neg_neutral_ratings_count)"
   ]
  },
  {
   "cell_type": "code",
   "execution_count": 146,
   "metadata": {},
   "outputs": [
    {
     "data": {
      "text/html": [
       "<div>\n",
       "<style scoped>\n",
       "    .dataframe tbody tr th:only-of-type {\n",
       "        vertical-align: middle;\n",
       "    }\n",
       "\n",
       "    .dataframe tbody tr th {\n",
       "        vertical-align: top;\n",
       "    }\n",
       "\n",
       "    .dataframe thead th {\n",
       "        text-align: right;\n",
       "    }\n",
       "</style>\n",
       "<table border=\"1\" class=\"dataframe\">\n",
       "  <thead>\n",
       "    <tr style=\"text-align: right;\">\n",
       "      <th></th>\n",
       "      <th>comment_count</th>\n",
       "      <th>description</th>\n",
       "      <th>duration</th>\n",
       "      <th>event</th>\n",
       "      <th>languages</th>\n",
       "      <th>main_speaker</th>\n",
       "      <th>name</th>\n",
       "      <th>num_speaker</th>\n",
       "      <th>ratings</th>\n",
       "      <th>related_talks</th>\n",
       "      <th>...</th>\n",
       "      <th>title</th>\n",
       "      <th>url</th>\n",
       "      <th>view_count</th>\n",
       "      <th>filming_date</th>\n",
       "      <th>publication_date</th>\n",
       "      <th>event_year</th>\n",
       "      <th>ratings_list</th>\n",
       "      <th>top3_ratings</th>\n",
       "      <th>rating_categories</th>\n",
       "      <th>ratings_counts</th>\n",
       "    </tr>\n",
       "  </thead>\n",
       "  <tbody>\n",
       "    <tr>\n",
       "      <th>0</th>\n",
       "      <td>4553</td>\n",
       "      <td>Sir Ken Robinson makes an entertaining and pro...</td>\n",
       "      <td>1164</td>\n",
       "      <td>TED2006</td>\n",
       "      <td>60</td>\n",
       "      <td>Ken Robinson</td>\n",
       "      <td>Ken Robinson: Do schools kill creativity?</td>\n",
       "      <td>1</td>\n",
       "      <td>[{'id': 7, 'name': 'Funny', 'count': 19645}, {...</td>\n",
       "      <td>[{'id': 865, 'hero': 'https://pe.tedcdn.com/im...</td>\n",
       "      <td>...</td>\n",
       "      <td>Do schools kill creativity?</td>\n",
       "      <td>https://www.ted.com/talks/ken_robinson_says_sc...</td>\n",
       "      <td>47227110</td>\n",
       "      <td>2006-02-25</td>\n",
       "      <td>2006-06-27 00:11:00</td>\n",
       "      <td>2006</td>\n",
       "      <td>[{'id': 7, 'name': 'Funny', 'count': 19645}, {...</td>\n",
       "      <td>(Inspiring, Funny, Persuasive)</td>\n",
       "      <td>[Funny, Beautiful, Ingenious, Courageous, Long...</td>\n",
       "      <td>(91538, 1138, 1174)</td>\n",
       "    </tr>\n",
       "    <tr>\n",
       "      <th>1</th>\n",
       "      <td>265</td>\n",
       "      <td>With the same humor and humanity he exuded in ...</td>\n",
       "      <td>977</td>\n",
       "      <td>TED2006</td>\n",
       "      <td>43</td>\n",
       "      <td>Al Gore</td>\n",
       "      <td>Al Gore: Averting the climate crisis</td>\n",
       "      <td>1</td>\n",
       "      <td>[{'id': 7, 'name': 'Funny', 'count': 544}, {'i...</td>\n",
       "      <td>[{'id': 243, 'hero': 'https://pe.tedcdn.com/im...</td>\n",
       "      <td>...</td>\n",
       "      <td>Averting the climate crisis</td>\n",
       "      <td>https://www.ted.com/talks/al_gore_on_averting_...</td>\n",
       "      <td>3200520</td>\n",
       "      <td>2006-02-25</td>\n",
       "      <td>2006-06-27 00:11:00</td>\n",
       "      <td>2006</td>\n",
       "      <td>[{'id': 7, 'name': 'Funny', 'count': 544}, {'i...</td>\n",
       "      <td>(Funny, Informative, Inspiring)</td>\n",
       "      <td>[Funny, Courageous, Confusing, Beautiful, Unco...</td>\n",
       "      <td>(2169, 564, 203)</td>\n",
       "    </tr>\n",
       "    <tr>\n",
       "      <th>2</th>\n",
       "      <td>124</td>\n",
       "      <td>New York Times columnist David Pogue takes aim...</td>\n",
       "      <td>1286</td>\n",
       "      <td>TED2006</td>\n",
       "      <td>26</td>\n",
       "      <td>David Pogue</td>\n",
       "      <td>David Pogue: Simplicity sells</td>\n",
       "      <td>1</td>\n",
       "      <td>[{'id': 7, 'name': 'Funny', 'count': 964}, {'i...</td>\n",
       "      <td>[{'id': 1725, 'hero': 'https://pe.tedcdn.com/i...</td>\n",
       "      <td>...</td>\n",
       "      <td>Simplicity sells</td>\n",
       "      <td>https://www.ted.com/talks/david_pogue_says_sim...</td>\n",
       "      <td>1636292</td>\n",
       "      <td>2006-02-24</td>\n",
       "      <td>2006-06-27 00:11:00</td>\n",
       "      <td>2006</td>\n",
       "      <td>[{'id': 7, 'name': 'Funny', 'count': 964}, {'i...</td>\n",
       "      <td>(Funny, Informative, Inspiring)</td>\n",
       "      <td>[Funny, Courageous, Ingenious, Beautiful, Unco...</td>\n",
       "      <td>(2327, 351, 146)</td>\n",
       "    </tr>\n",
       "  </tbody>\n",
       "</table>\n",
       "<p>3 rows × 22 columns</p>\n",
       "</div>"
      ],
      "text/plain": [
       "   comment_count                                        description  duration  \\\n",
       "0           4553  Sir Ken Robinson makes an entertaining and pro...      1164   \n",
       "1            265  With the same humor and humanity he exuded in ...       977   \n",
       "2            124  New York Times columnist David Pogue takes aim...      1286   \n",
       "\n",
       "     event  languages  main_speaker  \\\n",
       "0  TED2006         60  Ken Robinson   \n",
       "1  TED2006         43       Al Gore   \n",
       "2  TED2006         26   David Pogue   \n",
       "\n",
       "                                        name  num_speaker  \\\n",
       "0  Ken Robinson: Do schools kill creativity?            1   \n",
       "1       Al Gore: Averting the climate crisis            1   \n",
       "2              David Pogue: Simplicity sells            1   \n",
       "\n",
       "                                             ratings  \\\n",
       "0  [{'id': 7, 'name': 'Funny', 'count': 19645}, {...   \n",
       "1  [{'id': 7, 'name': 'Funny', 'count': 544}, {'i...   \n",
       "2  [{'id': 7, 'name': 'Funny', 'count': 964}, {'i...   \n",
       "\n",
       "                                       related_talks  ...  \\\n",
       "0  [{'id': 865, 'hero': 'https://pe.tedcdn.com/im...  ...   \n",
       "1  [{'id': 243, 'hero': 'https://pe.tedcdn.com/im...  ...   \n",
       "2  [{'id': 1725, 'hero': 'https://pe.tedcdn.com/i...  ...   \n",
       "\n",
       "                         title  \\\n",
       "0  Do schools kill creativity?   \n",
       "1  Averting the climate crisis   \n",
       "2             Simplicity sells   \n",
       "\n",
       "                                                 url view_count filming_date  \\\n",
       "0  https://www.ted.com/talks/ken_robinson_says_sc...   47227110   2006-02-25   \n",
       "1  https://www.ted.com/talks/al_gore_on_averting_...    3200520   2006-02-25   \n",
       "2  https://www.ted.com/talks/david_pogue_says_sim...    1636292   2006-02-24   \n",
       "\n",
       "     publication_date event_year  \\\n",
       "0 2006-06-27 00:11:00       2006   \n",
       "1 2006-06-27 00:11:00       2006   \n",
       "2 2006-06-27 00:11:00       2006   \n",
       "\n",
       "                                        ratings_list  \\\n",
       "0  [{'id': 7, 'name': 'Funny', 'count': 19645}, {...   \n",
       "1  [{'id': 7, 'name': 'Funny', 'count': 544}, {'i...   \n",
       "2  [{'id': 7, 'name': 'Funny', 'count': 964}, {'i...   \n",
       "\n",
       "                      top3_ratings  \\\n",
       "0   (Inspiring, Funny, Persuasive)   \n",
       "1  (Funny, Informative, Inspiring)   \n",
       "2  (Funny, Informative, Inspiring)   \n",
       "\n",
       "                                   rating_categories       ratings_counts  \n",
       "0  [Funny, Beautiful, Ingenious, Courageous, Long...  (91538, 1138, 1174)  \n",
       "1  [Funny, Courageous, Confusing, Beautiful, Unco...     (2169, 564, 203)  \n",
       "2  [Funny, Courageous, Ingenious, Beautiful, Unco...     (2327, 351, 146)  \n",
       "\n",
       "[3 rows x 22 columns]"
      ]
     },
     "execution_count": 146,
     "metadata": {},
     "output_type": "execute_result"
    }
   ],
   "source": [
    "ted.head(3)"
   ]
  },
  {
   "cell_type": "markdown",
   "metadata": {},
   "source": [
    "**Step 4.1**: Transform the *ratings_counts* column into a data frame with 3 columns: pos_ratings, neg_ratings, neutral_ratings\n",
    "\n",
    "To that end, we can `apply()` the Series constructor on the *ratings_counts* column"
   ]
  },
  {
   "cell_type": "code",
   "execution_count": 147,
   "metadata": {},
   "outputs": [
    {
     "data": {
      "text/html": [
       "<div>\n",
       "<style scoped>\n",
       "    .dataframe tbody tr th:only-of-type {\n",
       "        vertical-align: middle;\n",
       "    }\n",
       "\n",
       "    .dataframe tbody tr th {\n",
       "        vertical-align: top;\n",
       "    }\n",
       "\n",
       "    .dataframe thead th {\n",
       "        text-align: right;\n",
       "    }\n",
       "</style>\n",
       "<table border=\"1\" class=\"dataframe\">\n",
       "  <thead>\n",
       "    <tr style=\"text-align: right;\">\n",
       "      <th></th>\n",
       "      <th>0</th>\n",
       "      <th>1</th>\n",
       "      <th>2</th>\n",
       "    </tr>\n",
       "  </thead>\n",
       "  <tbody>\n",
       "    <tr>\n",
       "      <th>0</th>\n",
       "      <td>91538</td>\n",
       "      <td>1138</td>\n",
       "      <td>1174</td>\n",
       "    </tr>\n",
       "    <tr>\n",
       "      <th>1</th>\n",
       "      <td>2169</td>\n",
       "      <td>564</td>\n",
       "      <td>203</td>\n",
       "    </tr>\n",
       "    <tr>\n",
       "      <th>2</th>\n",
       "      <td>2327</td>\n",
       "      <td>351</td>\n",
       "      <td>146</td>\n",
       "    </tr>\n",
       "    <tr>\n",
       "      <th>3</th>\n",
       "      <td>3487</td>\n",
       "      <td>156</td>\n",
       "      <td>85</td>\n",
       "    </tr>\n",
       "    <tr>\n",
       "      <th>4</th>\n",
       "      <td>25062</td>\n",
       "      <td>310</td>\n",
       "      <td>248</td>\n",
       "    </tr>\n",
       "  </tbody>\n",
       "</table>\n",
       "</div>"
      ],
      "text/plain": [
       "       0     1     2\n",
       "0  91538  1138  1174\n",
       "1   2169   564   203\n",
       "2   2327   351   146\n",
       "3   3487   156    85\n",
       "4  25062   310   248"
      ]
     },
     "execution_count": 147,
     "metadata": {},
     "output_type": "execute_result"
    }
   ],
   "source": [
    "ted_ratings = ted.ratings_counts.apply(pd.Series)\n",
    "ted_ratings.head()"
   ]
  },
  {
   "cell_type": "code",
   "execution_count": 148,
   "metadata": {},
   "outputs": [
    {
     "data": {
      "text/html": [
       "<div>\n",
       "<style scoped>\n",
       "    .dataframe tbody tr th:only-of-type {\n",
       "        vertical-align: middle;\n",
       "    }\n",
       "\n",
       "    .dataframe tbody tr th {\n",
       "        vertical-align: top;\n",
       "    }\n",
       "\n",
       "    .dataframe thead th {\n",
       "        text-align: right;\n",
       "    }\n",
       "</style>\n",
       "<table border=\"1\" class=\"dataframe\">\n",
       "  <thead>\n",
       "    <tr style=\"text-align: right;\">\n",
       "      <th></th>\n",
       "      <th>pos_ratings</th>\n",
       "      <th>neg_ratings</th>\n",
       "      <th>neutral_ratings</th>\n",
       "    </tr>\n",
       "  </thead>\n",
       "  <tbody>\n",
       "    <tr>\n",
       "      <th>0</th>\n",
       "      <td>91538</td>\n",
       "      <td>1138</td>\n",
       "      <td>1174</td>\n",
       "    </tr>\n",
       "    <tr>\n",
       "      <th>1</th>\n",
       "      <td>2169</td>\n",
       "      <td>564</td>\n",
       "      <td>203</td>\n",
       "    </tr>\n",
       "    <tr>\n",
       "      <th>2</th>\n",
       "      <td>2327</td>\n",
       "      <td>351</td>\n",
       "      <td>146</td>\n",
       "    </tr>\n",
       "    <tr>\n",
       "      <th>3</th>\n",
       "      <td>3487</td>\n",
       "      <td>156</td>\n",
       "      <td>85</td>\n",
       "    </tr>\n",
       "    <tr>\n",
       "      <th>4</th>\n",
       "      <td>25062</td>\n",
       "      <td>310</td>\n",
       "      <td>248</td>\n",
       "    </tr>\n",
       "  </tbody>\n",
       "</table>\n",
       "</div>"
      ],
      "text/plain": [
       "   pos_ratings  neg_ratings  neutral_ratings\n",
       "0        91538         1138             1174\n",
       "1         2169          564              203\n",
       "2         2327          351              146\n",
       "3         3487          156               85\n",
       "4        25062          310              248"
      ]
     },
     "execution_count": 148,
     "metadata": {},
     "output_type": "execute_result"
    }
   ],
   "source": [
    "ted_ratings.columns = ['pos_ratings', 'neg_ratings', 'neutral_ratings']\n",
    "ted_ratings.head()"
   ]
  },
  {
   "cell_type": "markdown",
   "metadata": {},
   "source": [
    "**Step 4.2**: Merge this new data frame with the original one (ted); this can be done using the `concat()` function. The auxiliary column - ratings_counts - can be dropped as it is no longer needed"
   ]
  },
  {
   "cell_type": "code",
   "execution_count": 149,
   "metadata": {},
   "outputs": [],
   "source": [
    "ted.drop(columns='ratings_counts', inplace=True)"
   ]
  },
  {
   "cell_type": "code",
   "execution_count": 150,
   "metadata": {},
   "outputs": [],
   "source": [
    "ted = pd.concat([ted, ted_ratings], axis=1)"
   ]
  },
  {
   "cell_type": "code",
   "execution_count": 151,
   "metadata": {},
   "outputs": [
    {
     "data": {
      "text/html": [
       "<div>\n",
       "<style scoped>\n",
       "    .dataframe tbody tr th:only-of-type {\n",
       "        vertical-align: middle;\n",
       "    }\n",
       "\n",
       "    .dataframe tbody tr th {\n",
       "        vertical-align: top;\n",
       "    }\n",
       "\n",
       "    .dataframe thead th {\n",
       "        text-align: right;\n",
       "    }\n",
       "</style>\n",
       "<table border=\"1\" class=\"dataframe\">\n",
       "  <thead>\n",
       "    <tr style=\"text-align: right;\">\n",
       "      <th></th>\n",
       "      <th>comment_count</th>\n",
       "      <th>description</th>\n",
       "      <th>duration</th>\n",
       "      <th>event</th>\n",
       "      <th>languages</th>\n",
       "      <th>main_speaker</th>\n",
       "      <th>name</th>\n",
       "      <th>num_speaker</th>\n",
       "      <th>ratings</th>\n",
       "      <th>related_talks</th>\n",
       "      <th>...</th>\n",
       "      <th>view_count</th>\n",
       "      <th>filming_date</th>\n",
       "      <th>publication_date</th>\n",
       "      <th>event_year</th>\n",
       "      <th>ratings_list</th>\n",
       "      <th>top3_ratings</th>\n",
       "      <th>rating_categories</th>\n",
       "      <th>pos_ratings</th>\n",
       "      <th>neg_ratings</th>\n",
       "      <th>neutral_ratings</th>\n",
       "    </tr>\n",
       "  </thead>\n",
       "  <tbody>\n",
       "    <tr>\n",
       "      <th>0</th>\n",
       "      <td>4553</td>\n",
       "      <td>Sir Ken Robinson makes an entertaining and pro...</td>\n",
       "      <td>1164</td>\n",
       "      <td>TED2006</td>\n",
       "      <td>60</td>\n",
       "      <td>Ken Robinson</td>\n",
       "      <td>Ken Robinson: Do schools kill creativity?</td>\n",
       "      <td>1</td>\n",
       "      <td>[{'id': 7, 'name': 'Funny', 'count': 19645}, {...</td>\n",
       "      <td>[{'id': 865, 'hero': 'https://pe.tedcdn.com/im...</td>\n",
       "      <td>...</td>\n",
       "      <td>47227110</td>\n",
       "      <td>2006-02-25</td>\n",
       "      <td>2006-06-27 00:11:00</td>\n",
       "      <td>2006</td>\n",
       "      <td>[{'id': 7, 'name': 'Funny', 'count': 19645}, {...</td>\n",
       "      <td>(Inspiring, Funny, Persuasive)</td>\n",
       "      <td>[Funny, Beautiful, Ingenious, Courageous, Long...</td>\n",
       "      <td>91538</td>\n",
       "      <td>1138</td>\n",
       "      <td>1174</td>\n",
       "    </tr>\n",
       "    <tr>\n",
       "      <th>1</th>\n",
       "      <td>265</td>\n",
       "      <td>With the same humor and humanity he exuded in ...</td>\n",
       "      <td>977</td>\n",
       "      <td>TED2006</td>\n",
       "      <td>43</td>\n",
       "      <td>Al Gore</td>\n",
       "      <td>Al Gore: Averting the climate crisis</td>\n",
       "      <td>1</td>\n",
       "      <td>[{'id': 7, 'name': 'Funny', 'count': 544}, {'i...</td>\n",
       "      <td>[{'id': 243, 'hero': 'https://pe.tedcdn.com/im...</td>\n",
       "      <td>...</td>\n",
       "      <td>3200520</td>\n",
       "      <td>2006-02-25</td>\n",
       "      <td>2006-06-27 00:11:00</td>\n",
       "      <td>2006</td>\n",
       "      <td>[{'id': 7, 'name': 'Funny', 'count': 544}, {'i...</td>\n",
       "      <td>(Funny, Informative, Inspiring)</td>\n",
       "      <td>[Funny, Courageous, Confusing, Beautiful, Unco...</td>\n",
       "      <td>2169</td>\n",
       "      <td>564</td>\n",
       "      <td>203</td>\n",
       "    </tr>\n",
       "    <tr>\n",
       "      <th>2</th>\n",
       "      <td>124</td>\n",
       "      <td>New York Times columnist David Pogue takes aim...</td>\n",
       "      <td>1286</td>\n",
       "      <td>TED2006</td>\n",
       "      <td>26</td>\n",
       "      <td>David Pogue</td>\n",
       "      <td>David Pogue: Simplicity sells</td>\n",
       "      <td>1</td>\n",
       "      <td>[{'id': 7, 'name': 'Funny', 'count': 964}, {'i...</td>\n",
       "      <td>[{'id': 1725, 'hero': 'https://pe.tedcdn.com/i...</td>\n",
       "      <td>...</td>\n",
       "      <td>1636292</td>\n",
       "      <td>2006-02-24</td>\n",
       "      <td>2006-06-27 00:11:00</td>\n",
       "      <td>2006</td>\n",
       "      <td>[{'id': 7, 'name': 'Funny', 'count': 964}, {'i...</td>\n",
       "      <td>(Funny, Informative, Inspiring)</td>\n",
       "      <td>[Funny, Courageous, Ingenious, Beautiful, Unco...</td>\n",
       "      <td>2327</td>\n",
       "      <td>351</td>\n",
       "      <td>146</td>\n",
       "    </tr>\n",
       "    <tr>\n",
       "      <th>3</th>\n",
       "      <td>200</td>\n",
       "      <td>In an emotionally charged talk, MacArthur-winn...</td>\n",
       "      <td>1116</td>\n",
       "      <td>TED2006</td>\n",
       "      <td>35</td>\n",
       "      <td>Majora Carter</td>\n",
       "      <td>Majora Carter: Greening the ghetto</td>\n",
       "      <td>1</td>\n",
       "      <td>[{'id': 3, 'name': 'Courageous', 'count': 760}...</td>\n",
       "      <td>[{'id': 1041, 'hero': 'https://pe.tedcdn.com/i...</td>\n",
       "      <td>...</td>\n",
       "      <td>1697550</td>\n",
       "      <td>2006-02-26</td>\n",
       "      <td>2006-06-27 00:11:00</td>\n",
       "      <td>2006</td>\n",
       "      <td>[{'id': 3, 'name': 'Courageous', 'count': 760}...</td>\n",
       "      <td>(Inspiring, Courageous, Persuasive)</td>\n",
       "      <td>[Courageous, Beautiful, Confusing, Funny, Inge...</td>\n",
       "      <td>3487</td>\n",
       "      <td>156</td>\n",
       "      <td>85</td>\n",
       "    </tr>\n",
       "    <tr>\n",
       "      <th>4</th>\n",
       "      <td>593</td>\n",
       "      <td>You've never seen data presented like this. Wi...</td>\n",
       "      <td>1190</td>\n",
       "      <td>TED2006</td>\n",
       "      <td>48</td>\n",
       "      <td>Hans Rosling</td>\n",
       "      <td>Hans Rosling: The best stats you've ever seen</td>\n",
       "      <td>1</td>\n",
       "      <td>[{'id': 9, 'name': 'Ingenious', 'count': 3202}...</td>\n",
       "      <td>[{'id': 2056, 'hero': 'https://pe.tedcdn.com/i...</td>\n",
       "      <td>...</td>\n",
       "      <td>12005869</td>\n",
       "      <td>2006-02-22</td>\n",
       "      <td>2006-06-27 20:38:00</td>\n",
       "      <td>2006</td>\n",
       "      <td>[{'id': 9, 'name': 'Ingenious', 'count': 3202}...</td>\n",
       "      <td>(Informative, Fascinating, Jaw-dropping)</td>\n",
       "      <td>[Ingenious, Funny, Beautiful, Courageous, Long...</td>\n",
       "      <td>25062</td>\n",
       "      <td>310</td>\n",
       "      <td>248</td>\n",
       "    </tr>\n",
       "  </tbody>\n",
       "</table>\n",
       "<p>5 rows × 24 columns</p>\n",
       "</div>"
      ],
      "text/plain": [
       "   comment_count                                        description  duration  \\\n",
       "0           4553  Sir Ken Robinson makes an entertaining and pro...      1164   \n",
       "1            265  With the same humor and humanity he exuded in ...       977   \n",
       "2            124  New York Times columnist David Pogue takes aim...      1286   \n",
       "3            200  In an emotionally charged talk, MacArthur-winn...      1116   \n",
       "4            593  You've never seen data presented like this. Wi...      1190   \n",
       "\n",
       "     event  languages   main_speaker  \\\n",
       "0  TED2006         60   Ken Robinson   \n",
       "1  TED2006         43        Al Gore   \n",
       "2  TED2006         26    David Pogue   \n",
       "3  TED2006         35  Majora Carter   \n",
       "4  TED2006         48   Hans Rosling   \n",
       "\n",
       "                                            name  num_speaker  \\\n",
       "0      Ken Robinson: Do schools kill creativity?            1   \n",
       "1           Al Gore: Averting the climate crisis            1   \n",
       "2                  David Pogue: Simplicity sells            1   \n",
       "3             Majora Carter: Greening the ghetto            1   \n",
       "4  Hans Rosling: The best stats you've ever seen            1   \n",
       "\n",
       "                                             ratings  \\\n",
       "0  [{'id': 7, 'name': 'Funny', 'count': 19645}, {...   \n",
       "1  [{'id': 7, 'name': 'Funny', 'count': 544}, {'i...   \n",
       "2  [{'id': 7, 'name': 'Funny', 'count': 964}, {'i...   \n",
       "3  [{'id': 3, 'name': 'Courageous', 'count': 760}...   \n",
       "4  [{'id': 9, 'name': 'Ingenious', 'count': 3202}...   \n",
       "\n",
       "                                       related_talks  ... view_count  \\\n",
       "0  [{'id': 865, 'hero': 'https://pe.tedcdn.com/im...  ...   47227110   \n",
       "1  [{'id': 243, 'hero': 'https://pe.tedcdn.com/im...  ...    3200520   \n",
       "2  [{'id': 1725, 'hero': 'https://pe.tedcdn.com/i...  ...    1636292   \n",
       "3  [{'id': 1041, 'hero': 'https://pe.tedcdn.com/i...  ...    1697550   \n",
       "4  [{'id': 2056, 'hero': 'https://pe.tedcdn.com/i...  ...   12005869   \n",
       "\n",
       "  filming_date    publication_date event_year  \\\n",
       "0   2006-02-25 2006-06-27 00:11:00       2006   \n",
       "1   2006-02-25 2006-06-27 00:11:00       2006   \n",
       "2   2006-02-24 2006-06-27 00:11:00       2006   \n",
       "3   2006-02-26 2006-06-27 00:11:00       2006   \n",
       "4   2006-02-22 2006-06-27 20:38:00       2006   \n",
       "\n",
       "                                        ratings_list  \\\n",
       "0  [{'id': 7, 'name': 'Funny', 'count': 19645}, {...   \n",
       "1  [{'id': 7, 'name': 'Funny', 'count': 544}, {'i...   \n",
       "2  [{'id': 7, 'name': 'Funny', 'count': 964}, {'i...   \n",
       "3  [{'id': 3, 'name': 'Courageous', 'count': 760}...   \n",
       "4  [{'id': 9, 'name': 'Ingenious', 'count': 3202}...   \n",
       "\n",
       "                               top3_ratings  \\\n",
       "0            (Inspiring, Funny, Persuasive)   \n",
       "1           (Funny, Informative, Inspiring)   \n",
       "2           (Funny, Informative, Inspiring)   \n",
       "3       (Inspiring, Courageous, Persuasive)   \n",
       "4  (Informative, Fascinating, Jaw-dropping)   \n",
       "\n",
       "                                   rating_categories  pos_ratings neg_ratings  \\\n",
       "0  [Funny, Beautiful, Ingenious, Courageous, Long...        91538        1138   \n",
       "1  [Funny, Courageous, Confusing, Beautiful, Unco...         2169         564   \n",
       "2  [Funny, Courageous, Ingenious, Beautiful, Unco...         2327         351   \n",
       "3  [Courageous, Beautiful, Confusing, Funny, Inge...         3487         156   \n",
       "4  [Ingenious, Funny, Beautiful, Courageous, Long...        25062         310   \n",
       "\n",
       "  neutral_ratings  \n",
       "0            1174  \n",
       "1             203  \n",
       "2             146  \n",
       "3              85  \n",
       "4             248  \n",
       "\n",
       "[5 rows x 24 columns]"
      ]
     },
     "execution_count": 151,
     "metadata": {},
     "output_type": "execute_result"
    }
   ],
   "source": [
    "ted.head()"
   ]
  },
  {
   "cell_type": "markdown",
   "metadata": {},
   "source": [
    "### Task 3.4 Find speakers with the highest average number of positive ratings per talk"
   ]
  },
  {
   "cell_type": "markdown",
   "metadata": {},
   "source": [
    "We need to group talks based on the 'main_speaker' column and, for each group, compute mean value of the pos_ratings column"
   ]
  },
  {
   "cell_type": "code",
   "execution_count": 152,
   "metadata": {},
   "outputs": [],
   "source": [
    "avg_pos_rating_per_speaker = ted.groupby('main_speaker').pos_ratings.mean()"
   ]
  },
  {
   "cell_type": "code",
   "execution_count": 153,
   "metadata": {},
   "outputs": [
    {
     "data": {
      "text/plain": [
       "main_speaker\n",
       "Jill Bolte Taylor    68436.00\n",
       "Amy Cuddy            63814.00\n",
       "Steve Jobs           36664.00\n",
       "Brené Brown          36572.00\n",
       "Simon Sinek          34960.00\n",
       "Ken Robinson         32784.25\n",
       "Shawn Achor          31692.00\n",
       "Susan Cain           29095.00\n",
       "Pranav Mistry        26292.00\n",
       "Guy Winch            24204.00\n",
       "Name: pos_ratings, dtype: float64"
      ]
     },
     "execution_count": 153,
     "metadata": {},
     "output_type": "execute_result"
    }
   ],
   "source": [
    "avg_pos_rating_per_speaker.sort_values(ascending=False).head(10)"
   ]
  },
  {
   "cell_type": "markdown",
   "metadata": {},
   "source": [
    "To answer this more thoroughly, we'll consider also the number of talks that a speaker gave"
   ]
  },
  {
   "cell_type": "code",
   "execution_count": 154,
   "metadata": {},
   "outputs": [
    {
     "data": {
      "text/html": [
       "<div>\n",
       "<style scoped>\n",
       "    .dataframe tbody tr th:only-of-type {\n",
       "        vertical-align: middle;\n",
       "    }\n",
       "\n",
       "    .dataframe tbody tr th {\n",
       "        vertical-align: top;\n",
       "    }\n",
       "\n",
       "    .dataframe thead th {\n",
       "        text-align: right;\n",
       "    }\n",
       "</style>\n",
       "<table border=\"1\" class=\"dataframe\">\n",
       "  <thead>\n",
       "    <tr style=\"text-align: right;\">\n",
       "      <th></th>\n",
       "      <th>mean</th>\n",
       "      <th>count</th>\n",
       "    </tr>\n",
       "    <tr>\n",
       "      <th>main_speaker</th>\n",
       "      <th></th>\n",
       "      <th></th>\n",
       "    </tr>\n",
       "  </thead>\n",
       "  <tbody>\n",
       "    <tr>\n",
       "      <th>OK Go</th>\n",
       "      <td>1361.0</td>\n",
       "      <td>1</td>\n",
       "    </tr>\n",
       "    <tr>\n",
       "      <th>Rodrigo y Gabriela</th>\n",
       "      <td>1103.0</td>\n",
       "      <td>1</td>\n",
       "    </tr>\n",
       "    <tr>\n",
       "      <th>Silk Road Ensemble</th>\n",
       "      <td>149.0</td>\n",
       "      <td>1</td>\n",
       "    </tr>\n",
       "    <tr>\n",
       "      <th>Sofi Tukker</th>\n",
       "      <td>135.0</td>\n",
       "      <td>1</td>\n",
       "    </tr>\n",
       "    <tr>\n",
       "      <th>AJ Jacobs</th>\n",
       "      <td>1705.0</td>\n",
       "      <td>3</td>\n",
       "    </tr>\n",
       "    <tr>\n",
       "      <th>Aakash Odedra</th>\n",
       "      <td>752.0</td>\n",
       "      <td>1</td>\n",
       "    </tr>\n",
       "    <tr>\n",
       "      <th>Aala El-Khani</th>\n",
       "      <td>690.0</td>\n",
       "      <td>1</td>\n",
       "    </tr>\n",
       "  </tbody>\n",
       "</table>\n",
       "</div>"
      ],
      "text/plain": [
       "                       mean  count\n",
       "main_speaker                      \n",
       " OK Go               1361.0      1\n",
       " Rodrigo y Gabriela  1103.0      1\n",
       " Silk Road Ensemble   149.0      1\n",
       " Sofi Tukker          135.0      1\n",
       "AJ Jacobs            1705.0      3\n",
       "Aakash Odedra         752.0      1\n",
       "Aala El-Khani         690.0      1"
      ]
     },
     "execution_count": 154,
     "metadata": {},
     "output_type": "execute_result"
    }
   ],
   "source": [
    "avg_pos_rating_per_speaker = ted.groupby('main_speaker').pos_ratings.agg(['mean', 'count'])\n",
    "avg_pos_rating_per_speaker.head(7)"
   ]
  },
  {
   "cell_type": "code",
   "execution_count": 155,
   "metadata": {},
   "outputs": [
    {
     "data": {
      "text/html": [
       "<div>\n",
       "<style scoped>\n",
       "    .dataframe tbody tr th:only-of-type {\n",
       "        vertical-align: middle;\n",
       "    }\n",
       "\n",
       "    .dataframe tbody tr th {\n",
       "        vertical-align: top;\n",
       "    }\n",
       "\n",
       "    .dataframe thead th {\n",
       "        text-align: right;\n",
       "    }\n",
       "</style>\n",
       "<table border=\"1\" class=\"dataframe\">\n",
       "  <thead>\n",
       "    <tr style=\"text-align: right;\">\n",
       "      <th></th>\n",
       "      <th>avg_pos_rating</th>\n",
       "      <th>talk_count</th>\n",
       "    </tr>\n",
       "    <tr>\n",
       "      <th>main_speaker</th>\n",
       "      <th></th>\n",
       "      <th></th>\n",
       "    </tr>\n",
       "  </thead>\n",
       "  <tbody>\n",
       "    <tr>\n",
       "      <th>Jill Bolte Taylor</th>\n",
       "      <td>68436.00</td>\n",
       "      <td>1</td>\n",
       "    </tr>\n",
       "    <tr>\n",
       "      <th>Amy Cuddy</th>\n",
       "      <td>63814.00</td>\n",
       "      <td>1</td>\n",
       "    </tr>\n",
       "    <tr>\n",
       "      <th>Steve Jobs</th>\n",
       "      <td>36664.00</td>\n",
       "      <td>1</td>\n",
       "    </tr>\n",
       "    <tr>\n",
       "      <th>Brené Brown</th>\n",
       "      <td>36572.00</td>\n",
       "      <td>2</td>\n",
       "    </tr>\n",
       "    <tr>\n",
       "      <th>Simon Sinek</th>\n",
       "      <td>34960.00</td>\n",
       "      <td>2</td>\n",
       "    </tr>\n",
       "    <tr>\n",
       "      <th>Ken Robinson</th>\n",
       "      <td>32784.25</td>\n",
       "      <td>4</td>\n",
       "    </tr>\n",
       "    <tr>\n",
       "      <th>Shawn Achor</th>\n",
       "      <td>31692.00</td>\n",
       "      <td>1</td>\n",
       "    </tr>\n",
       "  </tbody>\n",
       "</table>\n",
       "</div>"
      ],
      "text/plain": [
       "                   avg_pos_rating  talk_count\n",
       "main_speaker                                 \n",
       "Jill Bolte Taylor        68436.00           1\n",
       "Amy Cuddy                63814.00           1\n",
       "Steve Jobs               36664.00           1\n",
       "Brené Brown              36572.00           2\n",
       "Simon Sinek              34960.00           2\n",
       "Ken Robinson             32784.25           4\n",
       "Shawn Achor              31692.00           1"
      ]
     },
     "execution_count": 155,
     "metadata": {},
     "output_type": "execute_result"
    }
   ],
   "source": [
    "avg_pos_rating_per_speaker.columns = ['avg_pos_rating', 'talk_count']\n",
    "avg_pos_rating_per_speaker.sort_values(by='avg_pos_rating', ascending=False).head(7)"
   ]
  },
  {
   "cell_type": "markdown",
   "metadata": {},
   "source": [
    "Identify the top 10 speakers among those who gave more than 1 talk"
   ]
  },
  {
   "cell_type": "code",
   "execution_count": 156,
   "metadata": {},
   "outputs": [
    {
     "data": {
      "text/html": [
       "<div>\n",
       "<style scoped>\n",
       "    .dataframe tbody tr th:only-of-type {\n",
       "        vertical-align: middle;\n",
       "    }\n",
       "\n",
       "    .dataframe tbody tr th {\n",
       "        vertical-align: top;\n",
       "    }\n",
       "\n",
       "    .dataframe thead th {\n",
       "        text-align: right;\n",
       "    }\n",
       "</style>\n",
       "<table border=\"1\" class=\"dataframe\">\n",
       "  <thead>\n",
       "    <tr style=\"text-align: right;\">\n",
       "      <th></th>\n",
       "      <th>avg_pos_rating</th>\n",
       "      <th>talk_count</th>\n",
       "    </tr>\n",
       "    <tr>\n",
       "      <th>main_speaker</th>\n",
       "      <th></th>\n",
       "      <th></th>\n",
       "    </tr>\n",
       "  </thead>\n",
       "  <tbody>\n",
       "    <tr>\n",
       "      <th>Brené Brown</th>\n",
       "      <td>36572.000000</td>\n",
       "      <td>2</td>\n",
       "    </tr>\n",
       "    <tr>\n",
       "      <th>Simon Sinek</th>\n",
       "      <td>34960.000000</td>\n",
       "      <td>2</td>\n",
       "    </tr>\n",
       "    <tr>\n",
       "      <th>Ken Robinson</th>\n",
       "      <td>32784.250000</td>\n",
       "      <td>4</td>\n",
       "    </tr>\n",
       "    <tr>\n",
       "      <th>Chimamanda Ngozi Adichie</th>\n",
       "      <td>15429.000000</td>\n",
       "      <td>2</td>\n",
       "    </tr>\n",
       "    <tr>\n",
       "      <th>Elizabeth Gilbert</th>\n",
       "      <td>14049.500000</td>\n",
       "      <td>2</td>\n",
       "    </tr>\n",
       "    <tr>\n",
       "      <th>David Gallo</th>\n",
       "      <td>10895.333333</td>\n",
       "      <td>3</td>\n",
       "    </tr>\n",
       "    <tr>\n",
       "      <th>Esther Perel</th>\n",
       "      <td>9948.500000</td>\n",
       "      <td>2</td>\n",
       "    </tr>\n",
       "    <tr>\n",
       "      <th>Dan Gilbert</th>\n",
       "      <td>9529.000000</td>\n",
       "      <td>3</td>\n",
       "    </tr>\n",
       "    <tr>\n",
       "      <th>Andrew Solomon</th>\n",
       "      <td>9261.666667</td>\n",
       "      <td>3</td>\n",
       "    </tr>\n",
       "    <tr>\n",
       "      <th>Sarah Kay</th>\n",
       "      <td>8997.500000</td>\n",
       "      <td>2</td>\n",
       "    </tr>\n",
       "  </tbody>\n",
       "</table>\n",
       "</div>"
      ],
      "text/plain": [
       "                          avg_pos_rating  talk_count\n",
       "main_speaker                                        \n",
       "Brené Brown                 36572.000000           2\n",
       "Simon Sinek                 34960.000000           2\n",
       "Ken Robinson                32784.250000           4\n",
       "Chimamanda Ngozi Adichie    15429.000000           2\n",
       "Elizabeth Gilbert           14049.500000           2\n",
       "David Gallo                 10895.333333           3\n",
       "Esther Perel                 9948.500000           2\n",
       "Dan Gilbert                  9529.000000           3\n",
       "Andrew Solomon               9261.666667           3\n",
       "Sarah Kay                    8997.500000           2"
      ]
     },
     "execution_count": 156,
     "metadata": {},
     "output_type": "execute_result"
    }
   ],
   "source": [
    "freq_speakers = avg_pos_rating_per_speaker.loc[avg_pos_rating_per_speaker.talk_count > 1]\n",
    "freq_speakers.sort_values(by='avg_pos_rating', ascending=False).head(10)"
   ]
  },
  {
   "cell_type": "markdown",
   "metadata": {},
   "source": [
    "### Task 3.5 Identify 10 speakers with the largest proportion of negative ratings "
   ]
  },
  {
   "cell_type": "markdown",
   "metadata": {},
   "source": [
    "Start by computing the proportion of negative ratings for all the talks"
   ]
  },
  {
   "cell_type": "code",
   "execution_count": 157,
   "metadata": {},
   "outputs": [],
   "source": [
    "ted['prop_neg_ratings'] = ted.neg_ratings / (ted.neg_ratings + ted.pos_ratings + ted.neutral_ratings)"
   ]
  },
  {
   "cell_type": "markdown",
   "metadata": {},
   "source": [
    "Group talks by the main_speaker and, for each group (that is, speaker), compute the average proportion of negative ratings and number of talks"
   ]
  },
  {
   "cell_type": "code",
   "execution_count": 158,
   "metadata": {},
   "outputs": [
    {
     "data": {
      "text/html": [
       "<div>\n",
       "<style scoped>\n",
       "    .dataframe tbody tr th:only-of-type {\n",
       "        vertical-align: middle;\n",
       "    }\n",
       "\n",
       "    .dataframe tbody tr th {\n",
       "        vertical-align: top;\n",
       "    }\n",
       "\n",
       "    .dataframe thead th {\n",
       "        text-align: right;\n",
       "    }\n",
       "</style>\n",
       "<table border=\"1\" class=\"dataframe\">\n",
       "  <thead>\n",
       "    <tr style=\"text-align: right;\">\n",
       "      <th></th>\n",
       "      <th>mean</th>\n",
       "      <th>count</th>\n",
       "    </tr>\n",
       "    <tr>\n",
       "      <th>main_speaker</th>\n",
       "      <th></th>\n",
       "      <th></th>\n",
       "    </tr>\n",
       "  </thead>\n",
       "  <tbody>\n",
       "    <tr>\n",
       "      <th>Anab Jain</th>\n",
       "      <td>0.024390</td>\n",
       "      <td>1</td>\n",
       "    </tr>\n",
       "    <tr>\n",
       "      <th>Pamelia Kurstin</th>\n",
       "      <td>0.026536</td>\n",
       "      <td>1</td>\n",
       "    </tr>\n",
       "    <tr>\n",
       "      <th>Kate Stafford</th>\n",
       "      <td>0.046875</td>\n",
       "      <td>1</td>\n",
       "    </tr>\n",
       "    <tr>\n",
       "      <th>Tony Robbins</th>\n",
       "      <td>0.084527</td>\n",
       "      <td>1</td>\n",
       "    </tr>\n",
       "    <tr>\n",
       "      <th>Amy Purdy</th>\n",
       "      <td>0.012705</td>\n",
       "      <td>1</td>\n",
       "    </tr>\n",
       "    <tr>\n",
       "      <th>Shimon Steinberg</th>\n",
       "      <td>0.043250</td>\n",
       "      <td>1</td>\n",
       "    </tr>\n",
       "    <tr>\n",
       "      <th>Jon Ronson</th>\n",
       "      <td>0.051911</td>\n",
       "      <td>2</td>\n",
       "    </tr>\n",
       "    <tr>\n",
       "      <th>Angela Lee Duckworth</th>\n",
       "      <td>0.031486</td>\n",
       "      <td>1</td>\n",
       "    </tr>\n",
       "    <tr>\n",
       "      <th>Gary Lauder's new traffic sign</th>\n",
       "      <td>0.082278</td>\n",
       "      <td>1</td>\n",
       "    </tr>\n",
       "    <tr>\n",
       "      <th>Oren Yakobovich</th>\n",
       "      <td>0.073059</td>\n",
       "      <td>1</td>\n",
       "    </tr>\n",
       "  </tbody>\n",
       "</table>\n",
       "</div>"
      ],
      "text/plain": [
       "                                    mean  count\n",
       "main_speaker                                   \n",
       "Anab Jain                       0.024390      1\n",
       "Pamelia Kurstin                 0.026536      1\n",
       "Kate Stafford                   0.046875      1\n",
       "Tony Robbins                    0.084527      1\n",
       "Amy Purdy                       0.012705      1\n",
       "Shimon Steinberg                0.043250      1\n",
       "Jon Ronson                      0.051911      2\n",
       "Angela Lee Duckworth            0.031486      1\n",
       "Gary Lauder's new traffic sign  0.082278      1\n",
       "Oren Yakobovich                 0.073059      1"
      ]
     },
     "execution_count": 158,
     "metadata": {},
     "output_type": "execute_result"
    }
   ],
   "source": [
    "prop_neg_rating_per_speaker = ted.groupby('main_speaker').prop_neg_ratings.agg(['mean', 'count'])\n",
    "prop_neg_rating_per_speaker.sample(10)"
   ]
  },
  {
   "cell_type": "code",
   "execution_count": 159,
   "metadata": {},
   "outputs": [
    {
     "data": {
      "text/html": [
       "<div>\n",
       "<style scoped>\n",
       "    .dataframe tbody tr th:only-of-type {\n",
       "        vertical-align: middle;\n",
       "    }\n",
       "\n",
       "    .dataframe tbody tr th {\n",
       "        vertical-align: top;\n",
       "    }\n",
       "\n",
       "    .dataframe thead th {\n",
       "        text-align: right;\n",
       "    }\n",
       "</style>\n",
       "<table border=\"1\" class=\"dataframe\">\n",
       "  <thead>\n",
       "    <tr style=\"text-align: right;\">\n",
       "      <th></th>\n",
       "      <th>avg_prop_neg_ratings</th>\n",
       "      <th>talk_count</th>\n",
       "    </tr>\n",
       "    <tr>\n",
       "      <th>main_speaker</th>\n",
       "      <th></th>\n",
       "      <th></th>\n",
       "    </tr>\n",
       "  </thead>\n",
       "  <tbody>\n",
       "    <tr>\n",
       "      <th>Daniel Libeskind</th>\n",
       "      <td>0.777190</td>\n",
       "      <td>1</td>\n",
       "    </tr>\n",
       "    <tr>\n",
       "      <th>Richard Ledgett</th>\n",
       "      <td>0.617466</td>\n",
       "      <td>1</td>\n",
       "    </tr>\n",
       "    <tr>\n",
       "      <th>Elaine Morgan</th>\n",
       "      <td>0.565419</td>\n",
       "      <td>1</td>\n",
       "    </tr>\n",
       "    <tr>\n",
       "      <th>Kelli Jean Drinkwater</th>\n",
       "      <td>0.528774</td>\n",
       "      <td>1</td>\n",
       "    </tr>\n",
       "    <tr>\n",
       "      <th>Romina Libster</th>\n",
       "      <td>0.514821</td>\n",
       "      <td>1</td>\n",
       "    </tr>\n",
       "    <tr>\n",
       "      <th>David Rockwell</th>\n",
       "      <td>0.481481</td>\n",
       "      <td>1</td>\n",
       "    </tr>\n",
       "    <tr>\n",
       "      <th>Kwame Anthony Appiah</th>\n",
       "      <td>0.475742</td>\n",
       "      <td>1</td>\n",
       "    </tr>\n",
       "    <tr>\n",
       "      <th>Kim Gorgens</th>\n",
       "      <td>0.474153</td>\n",
       "      <td>1</td>\n",
       "    </tr>\n",
       "    <tr>\n",
       "      <th>David Camarillo</th>\n",
       "      <td>0.466254</td>\n",
       "      <td>1</td>\n",
       "    </tr>\n",
       "    <tr>\n",
       "      <th>Patrícia Medici</th>\n",
       "      <td>0.465974</td>\n",
       "      <td>1</td>\n",
       "    </tr>\n",
       "  </tbody>\n",
       "</table>\n",
       "</div>"
      ],
      "text/plain": [
       "                       avg_prop_neg_ratings  talk_count\n",
       "main_speaker                                           \n",
       "Daniel Libeskind                   0.777190           1\n",
       "Richard Ledgett                    0.617466           1\n",
       "Elaine Morgan                      0.565419           1\n",
       "Kelli Jean Drinkwater              0.528774           1\n",
       "Romina Libster                     0.514821           1\n",
       "David Rockwell                     0.481481           1\n",
       "Kwame Anthony Appiah               0.475742           1\n",
       "Kim Gorgens                        0.474153           1\n",
       "David Camarillo                    0.466254           1\n",
       "Patrícia Medici                    0.465974           1"
      ]
     },
     "execution_count": 159,
     "metadata": {},
     "output_type": "execute_result"
    }
   ],
   "source": [
    "prop_neg_rating_per_speaker.columns = ['avg_prop_neg_ratings', 'talk_count']\n",
    "prop_neg_rating_per_speaker.sort_values(by='avg_prop_neg_ratings', ascending=False).head(10)"
   ]
  },
  {
   "cell_type": "markdown",
   "metadata": {},
   "source": [
    "Maybe those with one talk just had a bad day or were not experienced enough... \n",
    "So, let's focus on speakers with 3+ talks"
   ]
  },
  {
   "cell_type": "code",
   "execution_count": 160,
   "metadata": {},
   "outputs": [
    {
     "data": {
      "text/html": [
       "<div>\n",
       "<style scoped>\n",
       "    .dataframe tbody tr th:only-of-type {\n",
       "        vertical-align: middle;\n",
       "    }\n",
       "\n",
       "    .dataframe tbody tr th {\n",
       "        vertical-align: top;\n",
       "    }\n",
       "\n",
       "    .dataframe thead th {\n",
       "        text-align: right;\n",
       "    }\n",
       "</style>\n",
       "<table border=\"1\" class=\"dataframe\">\n",
       "  <thead>\n",
       "    <tr style=\"text-align: right;\">\n",
       "      <th></th>\n",
       "      <th>avg_prop_neg_ratings</th>\n",
       "      <th>talk_count</th>\n",
       "    </tr>\n",
       "    <tr>\n",
       "      <th>main_speaker</th>\n",
       "      <th></th>\n",
       "      <th></th>\n",
       "    </tr>\n",
       "  </thead>\n",
       "  <tbody>\n",
       "    <tr>\n",
       "      <th>Stewart Brand</th>\n",
       "      <td>0.246676</td>\n",
       "      <td>4</td>\n",
       "    </tr>\n",
       "    <tr>\n",
       "      <th>David Pogue</th>\n",
       "      <td>0.159982</td>\n",
       "      <td>4</td>\n",
       "    </tr>\n",
       "    <tr>\n",
       "      <th>Dan Dennett</th>\n",
       "      <td>0.137846</td>\n",
       "      <td>4</td>\n",
       "    </tr>\n",
       "    <tr>\n",
       "      <th>Kevin Kelly</th>\n",
       "      <td>0.136803</td>\n",
       "      <td>4</td>\n",
       "    </tr>\n",
       "    <tr>\n",
       "      <th>Stefan Sagmeister</th>\n",
       "      <td>0.134185</td>\n",
       "      <td>4</td>\n",
       "    </tr>\n",
       "    <tr>\n",
       "      <th>Al Gore</th>\n",
       "      <td>0.127600</td>\n",
       "      <td>4</td>\n",
       "    </tr>\n",
       "    <tr>\n",
       "      <th>Jonathan Haidt</th>\n",
       "      <td>0.114306</td>\n",
       "      <td>4</td>\n",
       "    </tr>\n",
       "    <tr>\n",
       "      <th>Eve Ensler</th>\n",
       "      <td>0.099071</td>\n",
       "      <td>4</td>\n",
       "    </tr>\n",
       "    <tr>\n",
       "      <th>Lawrence Lessig</th>\n",
       "      <td>0.090681</td>\n",
       "      <td>4</td>\n",
       "    </tr>\n",
       "    <tr>\n",
       "      <th>Bill Gates</th>\n",
       "      <td>0.084608</td>\n",
       "      <td>5</td>\n",
       "    </tr>\n",
       "  </tbody>\n",
       "</table>\n",
       "</div>"
      ],
      "text/plain": [
       "                   avg_prop_neg_ratings  talk_count\n",
       "main_speaker                                       \n",
       "Stewart Brand                  0.246676           4\n",
       "David Pogue                    0.159982           4\n",
       "Dan Dennett                    0.137846           4\n",
       "Kevin Kelly                    0.136803           4\n",
       "Stefan Sagmeister              0.134185           4\n",
       "Al Gore                        0.127600           4\n",
       "Jonathan Haidt                 0.114306           4\n",
       "Eve Ensler                     0.099071           4\n",
       "Lawrence Lessig                0.090681           4\n",
       "Bill Gates                     0.084608           5"
      ]
     },
     "execution_count": 160,
     "metadata": {},
     "output_type": "execute_result"
    }
   ],
   "source": [
    "neg_rating_freq_speaker = prop_neg_rating_per_speaker[prop_neg_rating_per_speaker.talk_count > 3]\n",
    "neg_rating_freq_speaker.sort_values(by='avg_prop_neg_ratings', ascending=False).head(10)"
   ]
  },
  {
   "cell_type": "markdown",
   "metadata": {},
   "source": [
    "It seems that those who gave more talks have lower proportion of negative ratings "
   ]
  },
  {
   "cell_type": "markdown",
   "metadata": {},
   "source": [
    "### Task 3.6 Which occupations deliver the funniest TED talks on average?\n",
    "\n",
    "(Consider also how well represented occupations are)"
   ]
  },
  {
   "cell_type": "markdown",
   "metadata": {},
   "source": [
    "We'll start by computing the number of Funny ratings per talk and storing the results in the (new) column 'funny_ratings'"
   ]
  },
  {
   "cell_type": "code",
   "execution_count": 161,
   "metadata": {},
   "outputs": [],
   "source": [
    "def funny_counts(ratings):\n",
    "    for r in ratings:\n",
    "        if r['name'] == 'Funny':\n",
    "            return r['count']\n",
    "    return 0\n",
    "    \n",
    "ted['funny_ratings'] = ted.ratings_list.apply(funny_counts)"
   ]
  },
  {
   "cell_type": "code",
   "execution_count": 162,
   "metadata": {},
   "outputs": [
    {
     "data": {
      "text/html": [
       "<div>\n",
       "<style scoped>\n",
       "    .dataframe tbody tr th:only-of-type {\n",
       "        vertical-align: middle;\n",
       "    }\n",
       "\n",
       "    .dataframe tbody tr th {\n",
       "        vertical-align: top;\n",
       "    }\n",
       "\n",
       "    .dataframe thead th {\n",
       "        text-align: right;\n",
       "    }\n",
       "</style>\n",
       "<table border=\"1\" class=\"dataframe\">\n",
       "  <thead>\n",
       "    <tr style=\"text-align: right;\">\n",
       "      <th></th>\n",
       "      <th>ratings_list</th>\n",
       "      <th>funny_ratings</th>\n",
       "    </tr>\n",
       "  </thead>\n",
       "  <tbody>\n",
       "    <tr>\n",
       "      <th>0</th>\n",
       "      <td>[{'id': 7, 'name': 'Funny', 'count': 19645}, {...</td>\n",
       "      <td>19645</td>\n",
       "    </tr>\n",
       "    <tr>\n",
       "      <th>1</th>\n",
       "      <td>[{'id': 7, 'name': 'Funny', 'count': 544}, {'i...</td>\n",
       "      <td>544</td>\n",
       "    </tr>\n",
       "    <tr>\n",
       "      <th>2</th>\n",
       "      <td>[{'id': 7, 'name': 'Funny', 'count': 964}, {'i...</td>\n",
       "      <td>964</td>\n",
       "    </tr>\n",
       "    <tr>\n",
       "      <th>3</th>\n",
       "      <td>[{'id': 3, 'name': 'Courageous', 'count': 760}...</td>\n",
       "      <td>59</td>\n",
       "    </tr>\n",
       "  </tbody>\n",
       "</table>\n",
       "</div>"
      ],
      "text/plain": [
       "                                        ratings_list  funny_ratings\n",
       "0  [{'id': 7, 'name': 'Funny', 'count': 19645}, {...          19645\n",
       "1  [{'id': 7, 'name': 'Funny', 'count': 544}, {'i...            544\n",
       "2  [{'id': 7, 'name': 'Funny', 'count': 964}, {'i...            964\n",
       "3  [{'id': 3, 'name': 'Courageous', 'count': 760}...             59"
      ]
     },
     "execution_count": 162,
     "metadata": {},
     "output_type": "execute_result"
    }
   ],
   "source": [
    "ted.loc[:,['ratings_list', 'funny_ratings']].head(4)"
   ]
  },
  {
   "cell_type": "markdown",
   "metadata": {},
   "source": [
    "This may be fine, but absolute values tend to be misleading - it is often better to take relative values, that is, proportions. <br>\n",
    "Therefore, instead of considering the funniest those talk with the highest absolute values of Funny ratings, better choose talks with the highest proportion of Funny ratings.  "
   ]
  },
  {
   "cell_type": "code",
   "execution_count": 163,
   "metadata": {},
   "outputs": [],
   "source": [
    "def funny_ratings_prop(ratings_list):\n",
    "    funny_ratings_cnt = 0\n",
    "    ratings_total = 0\n",
    "    for rating_dict in ratings_list:\n",
    "        ratings_total += rating_dict['count']\n",
    "        if rating_dict['name'] == 'Funny': funny_ratings_cnt += rating_dict['count']\n",
    "    return funny_ratings_cnt/ratings_total"
   ]
  },
  {
   "cell_type": "code",
   "execution_count": 164,
   "metadata": {},
   "outputs": [
    {
     "data": {
      "text/plain": [
       "0    0.209323\n",
       "1    0.185286\n",
       "2    0.341360\n",
       "3    0.015826\n",
       "4    0.054254\n",
       "Name: funny_ratings_prop, dtype: float64"
      ]
     },
     "execution_count": 164,
     "metadata": {},
     "output_type": "execute_result"
    }
   ],
   "source": [
    "ted['funny_ratings_prop'] = ted.ratings_list.apply(funny_ratings_prop)\n",
    "ted['funny_ratings_prop'].head()"
   ]
  },
  {
   "cell_type": "markdown",
   "metadata": {},
   "source": [
    "Let's examine absolute and relative counts of the top 10 fanniest talks based on the absolute counts. <br>(the idea is to see the difference of absolute vs relative counts)"
   ]
  },
  {
   "cell_type": "code",
   "execution_count": 165,
   "metadata": {},
   "outputs": [
    {
     "data": {
      "text/html": [
       "<div>\n",
       "<style scoped>\n",
       "    .dataframe tbody tr th:only-of-type {\n",
       "        vertical-align: middle;\n",
       "    }\n",
       "\n",
       "    .dataframe tbody tr th {\n",
       "        vertical-align: top;\n",
       "    }\n",
       "\n",
       "    .dataframe thead th {\n",
       "        text-align: right;\n",
       "    }\n",
       "</style>\n",
       "<table border=\"1\" class=\"dataframe\">\n",
       "  <thead>\n",
       "    <tr style=\"text-align: right;\">\n",
       "      <th></th>\n",
       "      <th>funny_ratings</th>\n",
       "      <th>funny_ratings_prop</th>\n",
       "    </tr>\n",
       "  </thead>\n",
       "  <tbody>\n",
       "    <tr>\n",
       "      <th>0</th>\n",
       "      <td>19645</td>\n",
       "      <td>0.209323</td>\n",
       "    </tr>\n",
       "    <tr>\n",
       "      <th>2114</th>\n",
       "      <td>7731</td>\n",
       "      <td>0.625182</td>\n",
       "    </tr>\n",
       "    <tr>\n",
       "      <th>2161</th>\n",
       "      <td>7445</td>\n",
       "      <td>0.333722</td>\n",
       "    </tr>\n",
       "    <tr>\n",
       "      <th>1129</th>\n",
       "      <td>7315</td>\n",
       "      <td>0.227315</td>\n",
       "    </tr>\n",
       "    <tr>\n",
       "      <th>675</th>\n",
       "      <td>5552</td>\n",
       "      <td>0.527406</td>\n",
       "    </tr>\n",
       "    <tr>\n",
       "      <th>837</th>\n",
       "      <td>5225</td>\n",
       "      <td>0.086970</td>\n",
       "    </tr>\n",
       "    <tr>\n",
       "      <th>452</th>\n",
       "      <td>4166</td>\n",
       "      <td>0.369556</td>\n",
       "    </tr>\n",
       "    <tr>\n",
       "      <th>685</th>\n",
       "      <td>4025</td>\n",
       "      <td>0.702076</td>\n",
       "    </tr>\n",
       "    <tr>\n",
       "      <th>747</th>\n",
       "      <td>4013</td>\n",
       "      <td>0.630677</td>\n",
       "    </tr>\n",
       "    <tr>\n",
       "      <th>692</th>\n",
       "      <td>3000</td>\n",
       "      <td>0.139593</td>\n",
       "    </tr>\n",
       "  </tbody>\n",
       "</table>\n",
       "</div>"
      ],
      "text/plain": [
       "      funny_ratings  funny_ratings_prop\n",
       "0             19645            0.209323\n",
       "2114           7731            0.625182\n",
       "2161           7445            0.333722\n",
       "1129           7315            0.227315\n",
       "675            5552            0.527406\n",
       "837            5225            0.086970\n",
       "452            4166            0.369556\n",
       "685            4025            0.702076\n",
       "747            4013            0.630677\n",
       "692            3000            0.139593"
      ]
     },
     "execution_count": 165,
     "metadata": {},
     "output_type": "execute_result"
    }
   ],
   "source": [
    "ted.loc[:, ['funny_ratings', 'funny_ratings_prop']].sort_values(by='funny_ratings', ascending=False).head(10)"
   ]
  },
  {
   "cell_type": "markdown",
   "metadata": {},
   "source": [
    "Next, do the grouping based on the speaker_occupation and compute, for each group (i.e., each occupation), average counts and proportions of Funny ratings"
   ]
  },
  {
   "cell_type": "code",
   "execution_count": 166,
   "metadata": {},
   "outputs": [
    {
     "data": {
      "text/html": [
       "<div>\n",
       "<style scoped>\n",
       "    .dataframe tbody tr th:only-of-type {\n",
       "        vertical-align: middle;\n",
       "    }\n",
       "\n",
       "    .dataframe tbody tr th {\n",
       "        vertical-align: top;\n",
       "    }\n",
       "\n",
       "    .dataframe thead th {\n",
       "        text-align: right;\n",
       "    }\n",
       "</style>\n",
       "<table border=\"1\" class=\"dataframe\">\n",
       "  <thead>\n",
       "    <tr style=\"text-align: right;\">\n",
       "      <th></th>\n",
       "      <th>funny_ratings</th>\n",
       "      <th>funny_ratings_prop</th>\n",
       "    </tr>\n",
       "    <tr>\n",
       "      <th>speaker_occupation</th>\n",
       "      <th></th>\n",
       "      <th></th>\n",
       "    </tr>\n",
       "  </thead>\n",
       "  <tbody>\n",
       "    <tr>\n",
       "      <th>Chairman of the Cordoba Initiative</th>\n",
       "      <td>0.0</td>\n",
       "      <td>0.000000</td>\n",
       "    </tr>\n",
       "    <tr>\n",
       "      <th>Child protection leader, activist, author</th>\n",
       "      <td>1.0</td>\n",
       "      <td>0.002421</td>\n",
       "    </tr>\n",
       "    <tr>\n",
       "      <th>Robotics engineer</th>\n",
       "      <td>1.0</td>\n",
       "      <td>0.007353</td>\n",
       "    </tr>\n",
       "    <tr>\n",
       "      <th>Space physicist</th>\n",
       "      <td>19.0</td>\n",
       "      <td>0.015447</td>\n",
       "    </tr>\n",
       "    <tr>\n",
       "      <th>3D printer</th>\n",
       "      <td>18.0</td>\n",
       "      <td>0.007789</td>\n",
       "    </tr>\n",
       "    <tr>\n",
       "      <th>...</th>\n",
       "      <td>...</td>\n",
       "      <td>...</td>\n",
       "    </tr>\n",
       "    <tr>\n",
       "      <th>e-Patient</th>\n",
       "      <td>21.0</td>\n",
       "      <td>0.014374</td>\n",
       "    </tr>\n",
       "    <tr>\n",
       "      <th>inventor, engineer</th>\n",
       "      <td>21.0</td>\n",
       "      <td>0.011745</td>\n",
       "    </tr>\n",
       "    <tr>\n",
       "      <th>medical inventor</th>\n",
       "      <td>8.0</td>\n",
       "      <td>0.002993</td>\n",
       "    </tr>\n",
       "    <tr>\n",
       "      <th>photographer + visual artist</th>\n",
       "      <td>310.0</td>\n",
       "      <td>0.236461</td>\n",
       "    </tr>\n",
       "    <tr>\n",
       "      <th>physicist</th>\n",
       "      <td>13.0</td>\n",
       "      <td>0.017105</td>\n",
       "    </tr>\n",
       "  </tbody>\n",
       "</table>\n",
       "<p>1458 rows × 2 columns</p>\n",
       "</div>"
      ],
      "text/plain": [
       "                                             funny_ratings  funny_ratings_prop\n",
       "speaker_occupation                                                            \n",
       " Chairman of the Cordoba Initiative                    0.0            0.000000\n",
       " Child protection leader, activist, author             1.0            0.002421\n",
       " Robotics engineer                                     1.0            0.007353\n",
       " Space physicist                                      19.0            0.015447\n",
       "3D printer                                            18.0            0.007789\n",
       "...                                                    ...                 ...\n",
       "e-Patient                                             21.0            0.014374\n",
       "inventor, engineer                                    21.0            0.011745\n",
       "medical inventor                                       8.0            0.002993\n",
       "photographer + visual artist                         310.0            0.236461\n",
       "physicist                                             13.0            0.017105\n",
       "\n",
       "[1458 rows x 2 columns]"
      ]
     },
     "execution_count": 166,
     "metadata": {},
     "output_type": "execute_result"
    }
   ],
   "source": [
    "avg_fr_per_occupation = ted.groupby('speaker_occupation')[['funny_ratings', 'funny_ratings_prop']].mean()\n",
    "avg_fr_per_occupation"
   ]
  },
  {
   "cell_type": "markdown",
   "metadata": {},
   "source": [
    "Take the top 10 occupations based on the average count of Funny ratings"
   ]
  },
  {
   "cell_type": "code",
   "execution_count": 167,
   "metadata": {},
   "outputs": [
    {
     "data": {
      "text/html": [
       "<div>\n",
       "<style scoped>\n",
       "    .dataframe tbody tr th:only-of-type {\n",
       "        vertical-align: middle;\n",
       "    }\n",
       "\n",
       "    .dataframe tbody tr th {\n",
       "        vertical-align: top;\n",
       "    }\n",
       "\n",
       "    .dataframe thead th {\n",
       "        text-align: right;\n",
       "    }\n",
       "</style>\n",
       "<table border=\"1\" class=\"dataframe\">\n",
       "  <thead>\n",
       "    <tr style=\"text-align: right;\">\n",
       "      <th></th>\n",
       "      <th>funny_ratings</th>\n",
       "      <th>funny_ratings_prop</th>\n",
       "    </tr>\n",
       "    <tr>\n",
       "      <th>speaker_occupation</th>\n",
       "      <th></th>\n",
       "      <th></th>\n",
       "    </tr>\n",
       "  </thead>\n",
       "  <tbody>\n",
       "    <tr>\n",
       "      <th>Author/educator</th>\n",
       "      <td>6190.0</td>\n",
       "      <td>0.142086</td>\n",
       "    </tr>\n",
       "    <tr>\n",
       "      <th>Comedian and writer</th>\n",
       "      <td>4970.5</td>\n",
       "      <td>0.602085</td>\n",
       "    </tr>\n",
       "    <tr>\n",
       "      <th>Blogger</th>\n",
       "      <td>3773.0</td>\n",
       "      <td>0.196885</td>\n",
       "    </tr>\n",
       "    <tr>\n",
       "      <th>Actor, comedian, playwright</th>\n",
       "      <td>3254.5</td>\n",
       "      <td>0.558107</td>\n",
       "    </tr>\n",
       "    <tr>\n",
       "      <th>Vulnerability researcher</th>\n",
       "      <td>3088.0</td>\n",
       "      <td>0.075958</td>\n",
       "    </tr>\n",
       "    <tr>\n",
       "      <th>Comedian and writer</th>\n",
       "      <td>2779.0</td>\n",
       "      <td>0.256887</td>\n",
       "    </tr>\n",
       "    <tr>\n",
       "      <th>Professor of Economics, University of Waterloo</th>\n",
       "      <td>1960.0</td>\n",
       "      <td>0.152541</td>\n",
       "    </tr>\n",
       "    <tr>\n",
       "      <th>Gentleman thief</th>\n",
       "      <td>1864.0</td>\n",
       "      <td>0.242456</td>\n",
       "    </tr>\n",
       "    <tr>\n",
       "      <th>Author, blogger, entrepreneur</th>\n",
       "      <td>1856.0</td>\n",
       "      <td>0.193777</td>\n",
       "    </tr>\n",
       "    <tr>\n",
       "      <th>Comedian</th>\n",
       "      <td>1839.0</td>\n",
       "      <td>0.512457</td>\n",
       "    </tr>\n",
       "  </tbody>\n",
       "</table>\n",
       "</div>"
      ],
      "text/plain": [
       "                                                funny_ratings  \\\n",
       "speaker_occupation                                              \n",
       "Author/educator                                        6190.0   \n",
       "Comedian and writer                                    4970.5   \n",
       "Blogger                                                3773.0   \n",
       "Actor, comedian, playwright                            3254.5   \n",
       "Vulnerability researcher                               3088.0   \n",
       "Comedian and writer                                    2779.0   \n",
       "Professor of Economics, University of Waterloo         1960.0   \n",
       "Gentleman thief                                        1864.0   \n",
       "Author, blogger, entrepreneur                          1856.0   \n",
       "Comedian                                               1839.0   \n",
       "\n",
       "                                                funny_ratings_prop  \n",
       "speaker_occupation                                                  \n",
       "Author/educator                                           0.142086  \n",
       "Comedian and writer                                       0.602085  \n",
       "Blogger                                                   0.196885  \n",
       "Actor, comedian, playwright                               0.558107  \n",
       "Vulnerability researcher                                  0.075958  \n",
       "Comedian and writer                                       0.256887  \n",
       "Professor of Economics, University of Waterloo            0.152541  \n",
       "Gentleman thief                                           0.242456  \n",
       "Author, blogger, entrepreneur                             0.193777  \n",
       "Comedian                                                  0.512457  "
      ]
     },
     "execution_count": 167,
     "metadata": {},
     "output_type": "execute_result"
    }
   ],
   "source": [
    "avg_fr_per_occupation.sort_values(by='funny_ratings', ascending=False).head(10)"
   ]
  },
  {
   "cell_type": "markdown",
   "metadata": {},
   "source": [
    "Now, do the same, but using average proportion of Funny ratings as the criterion"
   ]
  },
  {
   "cell_type": "code",
   "execution_count": 168,
   "metadata": {},
   "outputs": [
    {
     "data": {
      "text/html": [
       "<div>\n",
       "<style scoped>\n",
       "    .dataframe tbody tr th:only-of-type {\n",
       "        vertical-align: middle;\n",
       "    }\n",
       "\n",
       "    .dataframe tbody tr th {\n",
       "        vertical-align: top;\n",
       "    }\n",
       "\n",
       "    .dataframe thead th {\n",
       "        text-align: right;\n",
       "    }\n",
       "</style>\n",
       "<table border=\"1\" class=\"dataframe\">\n",
       "  <thead>\n",
       "    <tr style=\"text-align: right;\">\n",
       "      <th></th>\n",
       "      <th>funny_ratings</th>\n",
       "      <th>funny_ratings_prop</th>\n",
       "    </tr>\n",
       "    <tr>\n",
       "      <th>speaker_occupation</th>\n",
       "      <th></th>\n",
       "      <th></th>\n",
       "    </tr>\n",
       "  </thead>\n",
       "  <tbody>\n",
       "    <tr>\n",
       "      <th>Comedian and writer</th>\n",
       "      <td>4970.5</td>\n",
       "      <td>0.602085</td>\n",
       "    </tr>\n",
       "    <tr>\n",
       "      <th>Jugglers</th>\n",
       "      <td>1637.0</td>\n",
       "      <td>0.566828</td>\n",
       "    </tr>\n",
       "    <tr>\n",
       "      <th>Actor, comedian, playwright</th>\n",
       "      <td>3254.5</td>\n",
       "      <td>0.558107</td>\n",
       "    </tr>\n",
       "    <tr>\n",
       "      <th>Actor, writer</th>\n",
       "      <td>374.0</td>\n",
       "      <td>0.515152</td>\n",
       "    </tr>\n",
       "    <tr>\n",
       "      <th>Comedian</th>\n",
       "      <td>1839.0</td>\n",
       "      <td>0.512457</td>\n",
       "    </tr>\n",
       "    <tr>\n",
       "      <th>Satirist</th>\n",
       "      <td>600.0</td>\n",
       "      <td>0.512383</td>\n",
       "    </tr>\n",
       "    <tr>\n",
       "      <th>Cartoon editor</th>\n",
       "      <td>616.0</td>\n",
       "      <td>0.511628</td>\n",
       "    </tr>\n",
       "    <tr>\n",
       "      <th>Comedian, voice artist</th>\n",
       "      <td>782.0</td>\n",
       "      <td>0.503542</td>\n",
       "    </tr>\n",
       "    <tr>\n",
       "      <th>Social energy entrepreneur</th>\n",
       "      <td>1423.0</td>\n",
       "      <td>0.502117</td>\n",
       "    </tr>\n",
       "    <tr>\n",
       "      <th>Science humorist</th>\n",
       "      <td>934.0</td>\n",
       "      <td>0.468405</td>\n",
       "    </tr>\n",
       "  </tbody>\n",
       "</table>\n",
       "</div>"
      ],
      "text/plain": [
       "                             funny_ratings  funny_ratings_prop\n",
       "speaker_occupation                                            \n",
       "Comedian and writer                 4970.5            0.602085\n",
       "Jugglers                            1637.0            0.566828\n",
       "Actor, comedian, playwright         3254.5            0.558107\n",
       "Actor, writer                        374.0            0.515152\n",
       "Comedian                            1839.0            0.512457\n",
       "Satirist                             600.0            0.512383\n",
       "Cartoon editor                       616.0            0.511628\n",
       "Comedian, voice artist               782.0            0.503542\n",
       "Social energy entrepreneur          1423.0            0.502117\n",
       "Science humorist                     934.0            0.468405"
      ]
     },
     "execution_count": 168,
     "metadata": {},
     "output_type": "execute_result"
    }
   ],
   "source": [
    "avg_fr_per_occupation.sort_values(by='funny_ratings_prop', ascending=False).head(10)"
   ]
  },
  {
   "cell_type": "markdown",
   "metadata": {},
   "source": [
    "It seems that relative values serve as the better criterion for selecting occupations that delivered the funniest talks. So, we'll continue with the `funny_ratings_prop` values.\n",
    "\n",
    "Note that some occupations sound rather exotic and unique (e.g. \"Gentleman thief\", \"Science humorist\"). Let's also consider the frequency of different occupations "
   ]
  },
  {
   "cell_type": "code",
   "execution_count": 169,
   "metadata": {},
   "outputs": [
    {
     "data": {
      "text/html": [
       "<div>\n",
       "<style scoped>\n",
       "    .dataframe tbody tr th:only-of-type {\n",
       "        vertical-align: middle;\n",
       "    }\n",
       "\n",
       "    .dataframe tbody tr th {\n",
       "        vertical-align: top;\n",
       "    }\n",
       "\n",
       "    .dataframe thead th {\n",
       "        text-align: right;\n",
       "    }\n",
       "</style>\n",
       "<table border=\"1\" class=\"dataframe\">\n",
       "  <thead>\n",
       "    <tr style=\"text-align: right;\">\n",
       "      <th></th>\n",
       "      <th>mean</th>\n",
       "      <th>count</th>\n",
       "    </tr>\n",
       "    <tr>\n",
       "      <th>speaker_occupation</th>\n",
       "      <th></th>\n",
       "      <th></th>\n",
       "    </tr>\n",
       "  </thead>\n",
       "  <tbody>\n",
       "    <tr>\n",
       "      <th>Chairman of the Cordoba Initiative</th>\n",
       "      <td>0.000000</td>\n",
       "      <td>1</td>\n",
       "    </tr>\n",
       "    <tr>\n",
       "      <th>Child protection leader, activist, author</th>\n",
       "      <td>0.002421</td>\n",
       "      <td>1</td>\n",
       "    </tr>\n",
       "    <tr>\n",
       "      <th>Robotics engineer</th>\n",
       "      <td>0.007353</td>\n",
       "      <td>1</td>\n",
       "    </tr>\n",
       "    <tr>\n",
       "      <th>Space physicist</th>\n",
       "      <td>0.015447</td>\n",
       "      <td>1</td>\n",
       "    </tr>\n",
       "    <tr>\n",
       "      <th>3D printer</th>\n",
       "      <td>0.007789</td>\n",
       "      <td>1</td>\n",
       "    </tr>\n",
       "    <tr>\n",
       "      <th>3D printing entrepreneur</th>\n",
       "      <td>0.006599</td>\n",
       "      <td>1</td>\n",
       "    </tr>\n",
       "    <tr>\n",
       "      <th>9/11 mothers</th>\n",
       "      <td>0.001733</td>\n",
       "      <td>1</td>\n",
       "    </tr>\n",
       "    <tr>\n",
       "      <th>A capella ensemble</th>\n",
       "      <td>0.035811</td>\n",
       "      <td>1</td>\n",
       "    </tr>\n",
       "    <tr>\n",
       "      <th>AI expert</th>\n",
       "      <td>0.080183</td>\n",
       "      <td>2</td>\n",
       "    </tr>\n",
       "    <tr>\n",
       "      <th>AI pioneer</th>\n",
       "      <td>0.144628</td>\n",
       "      <td>1</td>\n",
       "    </tr>\n",
       "  </tbody>\n",
       "</table>\n",
       "</div>"
      ],
      "text/plain": [
       "                                                 mean  count\n",
       "speaker_occupation                                          \n",
       " Chairman of the Cordoba Initiative          0.000000      1\n",
       " Child protection leader, activist, author   0.002421      1\n",
       " Robotics engineer                           0.007353      1\n",
       " Space physicist                             0.015447      1\n",
       "3D printer                                   0.007789      1\n",
       "3D printing entrepreneur                     0.006599      1\n",
       "9/11 mothers                                 0.001733      1\n",
       "A capella ensemble                           0.035811      1\n",
       "AI expert                                    0.080183      2\n",
       "AI pioneer                                   0.144628      1"
      ]
     },
     "execution_count": 169,
     "metadata": {},
     "output_type": "execute_result"
    }
   ],
   "source": [
    "occupation_funny_ratings = ted.groupby('speaker_occupation').agg(['mean', 'count'])['funny_ratings_prop']\n",
    "occupation_funny_ratings.head(10)"
   ]
  },
  {
   "cell_type": "code",
   "execution_count": 170,
   "metadata": {},
   "outputs": [],
   "source": [
    "occupation_funny_ratings.columns = [\"mean_prop_funny_ratings\", \"talk_count\"]"
   ]
  },
  {
   "cell_type": "markdown",
   "metadata": {},
   "source": [
    "Note that many occupations seem to appear only once. To verify this, let's compute the proportion of infrequent occupations"
   ]
  },
  {
   "cell_type": "code",
   "execution_count": 171,
   "metadata": {},
   "outputs": [
    {
     "data": {
      "text/plain": [
       "1    0.771605\n",
       "2    0.126886\n",
       "3    0.039095\n",
       "4    0.015775\n",
       "5    0.013032\n",
       "Name: talk_count, dtype: float64"
      ]
     },
     "execution_count": 171,
     "metadata": {},
     "output_type": "execute_result"
    }
   ],
   "source": [
    "occupation_funny_ratings['talk_count'].value_counts(normalize=True).head()"
   ]
  },
  {
   "cell_type": "markdown",
   "metadata": {},
   "source": [
    "We cannot make any conclusion about an occupation based on just one representative. So, let's limit our analysis to those occupations that have at least a few (e.g. five) representatives. To that end, select those with frequency >= 5"
   ]
  },
  {
   "cell_type": "code",
   "execution_count": 172,
   "metadata": {},
   "outputs": [],
   "source": [
    "freq_occupation_funny_ratings = occupation_funny_ratings.loc[occupation_funny_ratings.talk_count >=5]"
   ]
  },
  {
   "cell_type": "code",
   "execution_count": 173,
   "metadata": {},
   "outputs": [
    {
     "data": {
      "text/html": [
       "<div>\n",
       "<style scoped>\n",
       "    .dataframe tbody tr th:only-of-type {\n",
       "        vertical-align: middle;\n",
       "    }\n",
       "\n",
       "    .dataframe tbody tr th {\n",
       "        vertical-align: top;\n",
       "    }\n",
       "\n",
       "    .dataframe thead th {\n",
       "        text-align: right;\n",
       "    }\n",
       "</style>\n",
       "<table border=\"1\" class=\"dataframe\">\n",
       "  <thead>\n",
       "    <tr style=\"text-align: right;\">\n",
       "      <th></th>\n",
       "      <th>mean_prop_funny_ratings</th>\n",
       "      <th>talk_count</th>\n",
       "    </tr>\n",
       "    <tr>\n",
       "      <th>speaker_occupation</th>\n",
       "      <th></th>\n",
       "      <th></th>\n",
       "    </tr>\n",
       "  </thead>\n",
       "  <tbody>\n",
       "    <tr>\n",
       "      <th>Writer</th>\n",
       "      <td>0.060745</td>\n",
       "      <td>45</td>\n",
       "    </tr>\n",
       "    <tr>\n",
       "      <th>Artist</th>\n",
       "      <td>0.078939</td>\n",
       "      <td>34</td>\n",
       "    </tr>\n",
       "    <tr>\n",
       "      <th>Designer</th>\n",
       "      <td>0.059287</td>\n",
       "      <td>34</td>\n",
       "    </tr>\n",
       "    <tr>\n",
       "      <th>Journalist</th>\n",
       "      <td>0.027997</td>\n",
       "      <td>33</td>\n",
       "    </tr>\n",
       "    <tr>\n",
       "      <th>Entrepreneur</th>\n",
       "      <td>0.073295</td>\n",
       "      <td>31</td>\n",
       "    </tr>\n",
       "    <tr>\n",
       "      <th>...</th>\n",
       "      <td>...</td>\n",
       "      <td>...</td>\n",
       "    </tr>\n",
       "    <tr>\n",
       "      <th>Researcher</th>\n",
       "      <td>0.039086</td>\n",
       "      <td>5</td>\n",
       "    </tr>\n",
       "    <tr>\n",
       "      <th>Cartoonist</th>\n",
       "      <td>0.162120</td>\n",
       "      <td>5</td>\n",
       "    </tr>\n",
       "    <tr>\n",
       "      <th>Producer</th>\n",
       "      <td>0.202531</td>\n",
       "      <td>5</td>\n",
       "    </tr>\n",
       "    <tr>\n",
       "      <th>Chef</th>\n",
       "      <td>0.054207</td>\n",
       "      <td>5</td>\n",
       "    </tr>\n",
       "    <tr>\n",
       "      <th>Physician</th>\n",
       "      <td>0.004515</td>\n",
       "      <td>5</td>\n",
       "    </tr>\n",
       "  </tbody>\n",
       "</table>\n",
       "<p>68 rows × 2 columns</p>\n",
       "</div>"
      ],
      "text/plain": [
       "                    mean_prop_funny_ratings  talk_count\n",
       "speaker_occupation                                     \n",
       "Writer                             0.060745          45\n",
       "Artist                             0.078939          34\n",
       "Designer                           0.059287          34\n",
       "Journalist                         0.027997          33\n",
       "Entrepreneur                       0.073295          31\n",
       "...                                     ...         ...\n",
       "Researcher                         0.039086           5\n",
       "Cartoonist                         0.162120           5\n",
       "Producer                           0.202531           5\n",
       "Chef                               0.054207           5\n",
       "Physician                          0.004515           5\n",
       "\n",
       "[68 rows x 2 columns]"
      ]
     },
     "execution_count": 173,
     "metadata": {},
     "output_type": "execute_result"
    }
   ],
   "source": [
    "freq_occupation_funny_ratings.sort_values(by=\"talk_count\", ascending=False)"
   ]
  },
  {
   "cell_type": "markdown",
   "metadata": {},
   "source": [
    "Let's see how many occupations we have selected as \"well represented\""
   ]
  },
  {
   "cell_type": "code",
   "execution_count": 174,
   "metadata": {},
   "outputs": [
    {
     "data": {
      "text/plain": [
       "68"
      ]
     },
     "execution_count": 174,
     "metadata": {},
     "output_type": "execute_result"
    }
   ],
   "source": [
    "freq_occup_cnt = freq_occupation_funny_ratings.shape[0]\n",
    "freq_occup_cnt"
   ]
  },
  {
   "cell_type": "code",
   "execution_count": 175,
   "metadata": {},
   "outputs": [
    {
     "data": {
      "text/plain": [
       "0.04663923182441701"
      ]
     },
     "execution_count": 175,
     "metadata": {},
     "output_type": "execute_result"
    }
   ],
   "source": [
    "freq_occup_cnt/ted.speaker_occupation.nunique()"
   ]
  },
  {
   "cell_type": "markdown",
   "metadata": {},
   "source": [
    "They form only a tiny portion (5%) of all occupations.\n",
    "\n",
    "Finally, let's examine how funny are talks by the representatives of such occupations."
   ]
  },
  {
   "cell_type": "code",
   "execution_count": 176,
   "metadata": {},
   "outputs": [
    {
     "data": {
      "text/html": [
       "<div>\n",
       "<style scoped>\n",
       "    .dataframe tbody tr th:only-of-type {\n",
       "        vertical-align: middle;\n",
       "    }\n",
       "\n",
       "    .dataframe tbody tr th {\n",
       "        vertical-align: top;\n",
       "    }\n",
       "\n",
       "    .dataframe thead th {\n",
       "        text-align: right;\n",
       "    }\n",
       "</style>\n",
       "<table border=\"1\" class=\"dataframe\">\n",
       "  <thead>\n",
       "    <tr style=\"text-align: right;\">\n",
       "      <th></th>\n",
       "      <th>mean_prop_funny_ratings</th>\n",
       "      <th>talk_count</th>\n",
       "    </tr>\n",
       "    <tr>\n",
       "      <th>speaker_occupation</th>\n",
       "      <th></th>\n",
       "      <th></th>\n",
       "    </tr>\n",
       "  </thead>\n",
       "  <tbody>\n",
       "    <tr>\n",
       "      <th>Comedian</th>\n",
       "      <td>0.512457</td>\n",
       "      <td>6</td>\n",
       "    </tr>\n",
       "    <tr>\n",
       "      <th>Performance poet, multimedia artist</th>\n",
       "      <td>0.306468</td>\n",
       "      <td>6</td>\n",
       "    </tr>\n",
       "    <tr>\n",
       "      <th>Singer/songwriter</th>\n",
       "      <td>0.252205</td>\n",
       "      <td>9</td>\n",
       "    </tr>\n",
       "    <tr>\n",
       "      <th>Producer</th>\n",
       "      <td>0.202531</td>\n",
       "      <td>5</td>\n",
       "    </tr>\n",
       "    <tr>\n",
       "      <th>Data scientist</th>\n",
       "      <td>0.184076</td>\n",
       "      <td>5</td>\n",
       "    </tr>\n",
       "    <tr>\n",
       "      <th>...</th>\n",
       "      <td>...</td>\n",
       "      <td>...</td>\n",
       "    </tr>\n",
       "    <tr>\n",
       "      <th>Photographer</th>\n",
       "      <td>0.007152</td>\n",
       "      <td>25</td>\n",
       "    </tr>\n",
       "    <tr>\n",
       "      <th>Investor and advocate for moral leadership</th>\n",
       "      <td>0.005198</td>\n",
       "      <td>5</td>\n",
       "    </tr>\n",
       "    <tr>\n",
       "      <th>Photojournalist</th>\n",
       "      <td>0.004908</td>\n",
       "      <td>6</td>\n",
       "    </tr>\n",
       "    <tr>\n",
       "      <th>Physician</th>\n",
       "      <td>0.004515</td>\n",
       "      <td>5</td>\n",
       "    </tr>\n",
       "    <tr>\n",
       "      <th>Surgeon</th>\n",
       "      <td>0.002465</td>\n",
       "      <td>5</td>\n",
       "    </tr>\n",
       "  </tbody>\n",
       "</table>\n",
       "<p>68 rows × 2 columns</p>\n",
       "</div>"
      ],
      "text/plain": [
       "                                            mean_prop_funny_ratings  \\\n",
       "speaker_occupation                                                    \n",
       "Comedian                                                   0.512457   \n",
       "Performance poet, multimedia artist                        0.306468   \n",
       "Singer/songwriter                                          0.252205   \n",
       "Producer                                                   0.202531   \n",
       "Data scientist                                             0.184076   \n",
       "...                                                             ...   \n",
       "Photographer                                               0.007152   \n",
       "Investor and advocate for moral leadership                 0.005198   \n",
       "Photojournalist                                            0.004908   \n",
       "Physician                                                  0.004515   \n",
       "Surgeon                                                    0.002465   \n",
       "\n",
       "                                            talk_count  \n",
       "speaker_occupation                                      \n",
       "Comedian                                             6  \n",
       "Performance poet, multimedia artist                  6  \n",
       "Singer/songwriter                                    9  \n",
       "Producer                                             5  \n",
       "Data scientist                                       5  \n",
       "...                                                ...  \n",
       "Photographer                                        25  \n",
       "Investor and advocate for moral leadership           5  \n",
       "Photojournalist                                      6  \n",
       "Physician                                            5  \n",
       "Surgeon                                              5  \n",
       "\n",
       "[68 rows x 2 columns]"
      ]
     },
     "execution_count": 176,
     "metadata": {},
     "output_type": "execute_result"
    }
   ],
   "source": [
    "freq_occupation_funny_ratings.sort_values(by=\"mean_prop_funny_ratings\", ascending=False)"
   ]
  },
  {
   "cell_type": "markdown",
   "metadata": {},
   "source": [
    "As expected, comedians gave the funniest talks. On the other hand, talks by physicians and surgeons, again, as expected, are the least funny. <br>\n",
    "Something probably unexpected: data scientists got 5th place (among 68 occupations)"
   ]
  },
  {
   "cell_type": "markdown",
   "metadata": {},
   "source": [
    "### Task 4. Examine the topics of the top 100 'Inspiring' talks, present them in a tag cloud \n",
    "\n",
    "While talks can be considered the best based on a variety of criteria, we will value and rank them based on the proportion of positive ratings "
   ]
  },
  {
   "cell_type": "markdown",
   "metadata": {},
   "source": [
    "Let's start by creating a subset of talks that were rated as 'Inspiring' "
   ]
  },
  {
   "cell_type": "code",
   "execution_count": 177,
   "metadata": {},
   "outputs": [],
   "source": [
    "inspiring_talks = ted.loc[ted.rating_categories.apply(lambda categories: 'Inspiring' in categories)]"
   ]
  },
  {
   "cell_type": "code",
   "execution_count": 178,
   "metadata": {},
   "outputs": [
    {
     "data": {
      "text/plain": [
       "(2550, 27)"
      ]
     },
     "execution_count": 178,
     "metadata": {},
     "output_type": "execute_result"
    }
   ],
   "source": [
    "inspiring_talks.shape"
   ]
  },
  {
   "cell_type": "markdown",
   "metadata": {},
   "source": [
    "Next, order these talks based on the proportion of positive ratings and take top 100"
   ]
  },
  {
   "cell_type": "code",
   "execution_count": 179,
   "metadata": {},
   "outputs": [],
   "source": [
    "inspiring_talks['pos_ratings_prop'] = \\\n",
    "inspiring_talks.pos_ratings / (inspiring_talks.pos_ratings + inspiring_talks.neg_ratings + inspiring_talks.neutral_ratings)\n",
    "\n",
    "top100_inspiring_talks = inspiring_talks.sort_values(by='pos_ratings_prop', ascending=False).head(100)"
   ]
  },
  {
   "cell_type": "markdown",
   "metadata": {},
   "source": [
    "To be able to access rows of this new data frame using regular indices (0,1,2,...), we need to reset its index"
   ]
  },
  {
   "cell_type": "code",
   "execution_count": 180,
   "metadata": {},
   "outputs": [
    {
     "data": {
      "text/plain": [
       "Int64Index([2485, 2511, 2497, 2483, 2528], dtype='int64')"
      ]
     },
     "execution_count": 180,
     "metadata": {},
     "output_type": "execute_result"
    }
   ],
   "source": [
    "top100_inspiring_talks.index[:5]"
   ]
  },
  {
   "cell_type": "code",
   "execution_count": 181,
   "metadata": {},
   "outputs": [
    {
     "data": {
      "text/plain": [
       "RangeIndex(start=0, stop=5, step=1)"
      ]
     },
     "execution_count": 181,
     "metadata": {},
     "output_type": "execute_result"
    }
   ],
   "source": [
    "top100_inspiring_talks.reset_index(drop=True, inplace=True)\n",
    "top100_inspiring_talks.index[:5]"
   ]
  },
  {
   "cell_type": "markdown",
   "metadata": {},
   "source": [
    "Next, let's examine tags associated with the inspiring talks"
   ]
  },
  {
   "cell_type": "code",
   "execution_count": 182,
   "metadata": {},
   "outputs": [
    {
     "data": {
      "text/plain": [
       "87    ['aging', 'communication', 'compassion', 'deat...\n",
       "53    ['Africa', 'agriculture', 'farming', 'food', '...\n",
       "62            ['brain', 'mind', 'music', 'performance']\n",
       "16    ['children', 'community', 'death', 'family', '...\n",
       "0     ['TED en Español', 'democracy', 'government', ...\n",
       "Name: tags, dtype: object"
      ]
     },
     "execution_count": 182,
     "metadata": {},
     "output_type": "execute_result"
    }
   ],
   "source": [
    "top100_inspiring_talks.tags.sample(5)"
   ]
  },
  {
   "cell_type": "markdown",
   "metadata": {},
   "source": [
    "It seems that tags of a particular talk are stored as a list. But, we should take a closer look..."
   ]
  },
  {
   "cell_type": "code",
   "execution_count": 183,
   "metadata": {},
   "outputs": [
    {
     "data": {
      "text/plain": [
       "\"['TED en Español', 'democracy', 'government', 'immigration', 'journalism', 'politics', 'social change', 'writing']\""
      ]
     },
     "execution_count": 183,
     "metadata": {},
     "output_type": "execute_result"
    }
   ],
   "source": [
    "top100_inspiring_talks.tags[0]"
   ]
  },
  {
   "cell_type": "code",
   "execution_count": 184,
   "metadata": {},
   "outputs": [
    {
     "data": {
      "text/plain": [
       "str"
      ]
     },
     "execution_count": 184,
     "metadata": {},
     "output_type": "execute_result"
    }
   ],
   "source": [
    "type(top100_inspiring_talks.tags[0])"
   ]
  },
  {
   "cell_type": "markdown",
   "metadata": {},
   "source": [
    "Ratings are, in fact, encoded as a string... <br>\n",
    "So, we (again) have to use `ast.literal_eval()` function to get a list out of a string (representation of the list)"
   ]
  },
  {
   "cell_type": "code",
   "execution_count": 185,
   "metadata": {},
   "outputs": [],
   "source": [
    "top100_inspiring_talks['tags'] = top100_inspiring_talks.tags.apply(ast.literal_eval)"
   ]
  },
  {
   "cell_type": "code",
   "execution_count": 186,
   "metadata": {},
   "outputs": [
    {
     "data": {
      "text/plain": [
       "['TED en Español',\n",
       " 'democracy',\n",
       " 'government',\n",
       " 'immigration',\n",
       " 'journalism',\n",
       " 'politics',\n",
       " 'social change',\n",
       " 'writing']"
      ]
     },
     "execution_count": 186,
     "metadata": {},
     "output_type": "execute_result"
    }
   ],
   "source": [
    "top100_inspiring_talks.tags[0]"
   ]
  },
  {
   "cell_type": "code",
   "execution_count": 187,
   "metadata": {},
   "outputs": [
    {
     "data": {
      "text/plain": [
       "list"
      ]
     },
     "execution_count": 187,
     "metadata": {},
     "output_type": "execute_result"
    }
   ],
   "source": [
    "type(top100_inspiring_talks.tags[0])"
   ]
  },
  {
   "cell_type": "markdown",
   "metadata": {},
   "source": [
    "Next, we will create a dictionary of the tags that were used to describe the inspiring talks. Keys in this dictionary will be individual tags, while values will be frequencies of tags' occurrences in relation to the inspiring talks. We need this type of dictionary for the creation of a tag cloud."
   ]
  },
  {
   "cell_type": "code",
   "execution_count": 188,
   "metadata": {},
   "outputs": [],
   "source": [
    "from collections import defaultdict\n",
    "\n",
    "inspiring_topics_dict = defaultdict(int)\n",
    "\n",
    "for tags_list in top100_inspiring_talks.tags:\n",
    "    for tag in tags_list:\n",
    "        tag = tag.lower().replace(' ', '_')\n",
    "        inspiring_topics_dict[tag] += 1"
   ]
  },
  {
   "cell_type": "markdown",
   "metadata": {},
   "source": [
    "How many unique tags were identified?"
   ]
  },
  {
   "cell_type": "code",
   "execution_count": 189,
   "metadata": {},
   "outputs": [
    {
     "data": {
      "text/plain": [
       "232"
      ]
     },
     "execution_count": 189,
     "metadata": {},
     "output_type": "execute_result"
    }
   ],
   "source": [
    "len(inspiring_topics_dict.keys())"
   ]
  },
  {
   "cell_type": "markdown",
   "metadata": {},
   "source": [
    "How frequent those tags are? Compute some basic statistics that describe tag frequency distribution "
   ]
  },
  {
   "cell_type": "code",
   "execution_count": 190,
   "metadata": {},
   "outputs": [
    {
     "name": "stdout",
     "output_type": "stream",
     "text": [
      "Tag frequency stats: mean=3.46, Mdn=2.0, quartiles=(1.0, 4.0), max=19\n"
     ]
    }
   ],
   "source": [
    "from statistics import quantiles, mean\n",
    "\n",
    "q1, q2, q3 = quantiles(inspiring_topics_dict.values())\n",
    "m = mean(inspiring_topics_dict.values()) \n",
    "\n",
    "print(f\"Tag frequency stats: mean={round(m, 2)}, Mdn={q2}, quartiles=({q1}, {q3}), max={max(inspiring_topics_dict.values())}\")"
   ]
  },
  {
   "cell_type": "markdown",
   "metadata": {},
   "source": [
    "Keep only tags with above average (median) frequency"
   ]
  },
  {
   "cell_type": "code",
   "execution_count": 191,
   "metadata": {},
   "outputs": [],
   "source": [
    "freq_inspiring_topics = dict()\n",
    "for tag, freq in inspiring_topics_dict.items():\n",
    "    if freq > q2: freq_inspiring_topics[tag] = freq"
   ]
  },
  {
   "cell_type": "code",
   "execution_count": 192,
   "metadata": {},
   "outputs": [
    {
     "data": {
      "text/plain": [
       "100"
      ]
     },
     "execution_count": 192,
     "metadata": {},
     "output_type": "execute_result"
    }
   ],
   "source": [
    "len(freq_inspiring_topics.keys())"
   ]
  },
  {
   "cell_type": "code",
   "execution_count": 193,
   "metadata": {},
   "outputs": [
    {
     "data": {
      "text/plain": [
       "[('tedx', 19),\n",
       " ('technology', 19),\n",
       " ('humanity', 17),\n",
       " ('health', 17),\n",
       " ('social_change', 16),\n",
       " ('science', 15),\n",
       " ('culture', 14),\n",
       " ('children', 14),\n",
       " ('education', 14),\n",
       " ('global_issues', 13),\n",
       " ('personal_growth', 13),\n",
       " ('society', 12),\n",
       " ('health_care', 12),\n",
       " ('design', 12),\n",
       " ('community', 12)]"
      ]
     },
     "execution_count": 193,
     "metadata": {},
     "output_type": "execute_result"
    }
   ],
   "source": [
    "sorted_tag_freq = sorted(freq_inspiring_topics.items(), key=lambda item: item[1], reverse=True)\n",
    "sorted_tag_freq[:15]"
   ]
  },
  {
   "cell_type": "markdown",
   "metadata": {},
   "source": [
    "Now, we can create a word cloud\n",
    "\n",
    "Some useful materials for word cloud: <br>\n",
    "https://www.datacamp.com/community/tutorials/wordcloud-python <br>\n",
    "https://gist.github.com/izikeros/fca85e2d7b9eae3e0d9dec6a1f1635b3"
   ]
  },
  {
   "cell_type": "code",
   "execution_count": 194,
   "metadata": {},
   "outputs": [
    {
     "data": {
      "image/png": "[encoded data removed]",
      "text/plain": [
       "<Figure size 648x432 with 1 Axes>"
      ]
     },
     "metadata": {
      "needs_background": "light"
     },
     "output_type": "display_data"
    }
   ],
   "source": [
    "from wordcloud import WordCloud\n",
    "\n",
    "wordcloud = WordCloud(background_color='white',\n",
    "                      width=1500,\n",
    "                      height=1000\n",
    "                      ).generate_from_frequencies(freq_inspiring_topics)\n",
    "\n",
    "plt.figure(figsize=(9,6))\n",
    "\n",
    "plt.imshow(wordcloud, interpolation='bilinear')\n",
    "# Note: interpolation makes the figure smoother\n",
    "# different interpolation options are given here:\n",
    "# https://matplotlib.org/gallery/images_contours_and_fields/interpolation_methods.html\n",
    "\n",
    "\n",
    "plt.axis('off')\n",
    "plt.show()"
   ]
  }
 ],
 "metadata": {
  "kernelspec": {
   "display_name": "Python 3",
   "language": "python",
   "name": "python3"
  },
  "language_info": {
   "codemirror_mode": {
    "name": "ipython",
    "version": 3
   },
   "file_extension": ".py",
   "mimetype": "text/x-python",
   "name": "python",
   "nbconvert_exporter": "python",
   "pygments_lexer": "ipython3",
   "version": "3.8.6"
  }
 },
 "nbformat": 4,
 "nbformat_minor": 4
}
